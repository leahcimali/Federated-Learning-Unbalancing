{
 "cells": [
  {
   "cell_type": "markdown",
   "id": "973f5e6d-a8ea-4178-afcb-c0dca451f609",
   "metadata": {},
   "source": [
    "# MNIST DATASET \n",
    "# Test on classes imbalance"
   ]
  },
  {
   "cell_type": "code",
   "execution_count": 1,
   "id": "b3f43b91-d778-4357-a798-381d027de110",
   "metadata": {},
   "outputs": [],
   "source": [
    "import tensorflow.keras as keras\n",
    "from tensorflow.keras.datasets import mnist\n",
    "import pandas as pd\n",
    "import numpy as np\n",
    "import matplotlib.pyplot as plt\n",
    "import seaborn as sns"
   ]
  },
  {
   "cell_type": "code",
   "execution_count": 2,
   "id": "1b589fb4-46cb-4418-b2b2-f1c3fb3283c1",
   "metadata": {},
   "outputs": [
    {
     "name": "stdout",
     "output_type": "stream",
     "text": [
      "Loaded pretrained model lenet5 from disk\n"
     ]
    }
   ],
   "source": [
    "from keras.models import model_from_json\n",
    "json_file = open('./LeNet-5-master/model.json', 'r')\n",
    "lenet5 = json_file.read()\n",
    "json_file.close()\n",
    "lenet5 = model_from_json(lenet5)\n",
    "lenet5.load_weights(\"./LeNet-5-master/model.h5\")\n",
    "print(\"Loaded pretrained model lenet5 from disk\")"
   ]
  },
  {
   "cell_type": "code",
   "execution_count": 3,
   "id": "ca81bb3b-1d56-4d00-887b-b72de2dd4aa4",
   "metadata": {},
   "outputs": [],
   "source": [
    "# the data, split between train and validation sets\n",
    "(x_train, y_train), (x_valid, y_valid) = mnist.load_data()"
   ]
  },
  {
   "cell_type": "code",
   "execution_count": 4,
   "id": "50354c75-30f0-417c-9ab5-5dbd4f138484",
   "metadata": {},
   "outputs": [
    {
     "data": {
      "text/plain": [
       "(60000, 28, 28)"
      ]
     },
     "execution_count": 4,
     "metadata": {},
     "output_type": "execute_result"
    }
   ],
   "source": [
    "x_train.shape"
   ]
  },
  {
   "cell_type": "code",
   "execution_count": 5,
   "id": "6135585f-98a4-4ac1-bdcf-219d3176b57f",
   "metadata": {},
   "outputs": [
    {
     "data": {
      "text/plain": [
       "(10000, 28, 28)"
      ]
     },
     "execution_count": 5,
     "metadata": {},
     "output_type": "execute_result"
    }
   ],
   "source": [
    "x_valid.shape"
   ]
  },
  {
   "cell_type": "code",
   "execution_count": 6,
   "id": "ea5dc314-4bba-413a-adfb-41de5c97c02e",
   "metadata": {},
   "outputs": [
    {
     "data": {
      "text/plain": [
       "dtype('uint8')"
      ]
     },
     "execution_count": 6,
     "metadata": {},
     "output_type": "execute_result"
    }
   ],
   "source": [
    "x_train.dtype"
   ]
  },
  {
   "cell_type": "code",
   "execution_count": 7,
   "id": "30a90107-9e54-49b9-b076-92adba1e2c21",
   "metadata": {},
   "outputs": [
    {
     "data": {
      "text/plain": [
       "0"
      ]
     },
     "execution_count": 7,
     "metadata": {},
     "output_type": "execute_result"
    }
   ],
   "source": [
    "x_train.min()"
   ]
  },
  {
   "cell_type": "code",
   "execution_count": 8,
   "id": "db60e990-88ac-409d-aeea-dc98044b1950",
   "metadata": {},
   "outputs": [
    {
     "data": {
      "text/plain": [
       "255"
      ]
     },
     "execution_count": 8,
     "metadata": {},
     "output_type": "execute_result"
    }
   ],
   "source": [
    "x_train.max()"
   ]
  },
  {
   "cell_type": "code",
   "execution_count": 9,
   "id": "48c49ac9-e0a8-4607-89b0-24f646a3767f",
   "metadata": {},
   "outputs": [
    {
     "data": {
      "text/plain": [
       "{0, 1, 2, 3, 4, 5, 6, 7, 8, 9}"
      ]
     },
     "execution_count": 9,
     "metadata": {},
     "output_type": "execute_result"
    }
   ],
   "source": [
    "set(y_train)"
   ]
  },
  {
   "cell_type": "code",
   "execution_count": 10,
   "id": "b5396596-e802-4243-9d48-6807e2465006",
   "metadata": {},
   "outputs": [
    {
     "data": {
      "text/plain": [
       "<matplotlib.image.AxesImage at 0x226a749fa30>"
      ]
     },
     "execution_count": 10,
     "metadata": {},
     "output_type": "execute_result"
    },
    {
     "data": {
      "image/png": "[encoded data removed]",
      "text/plain": [
       "<Figure size 432x288 with 1 Axes>"
      ]
     },
     "metadata": {
      "needs_background": "light"
     },
     "output_type": "display_data"
    }
   ],
   "source": [
    "import matplotlib.pyplot as plt\n",
    "\n",
    "image = x_train[0]\n",
    "plt.imshow(image, cmap='gray')"
   ]
  },
  {
   "cell_type": "markdown",
   "id": "a43e5a3e-ee07-4251-a948-694437f77f4d",
   "metadata": {},
   "source": [
    "Here were are interested to study classes imbalance, so we are focusing our work on binary classes 0 and 1 "
   ]
  },
  {
   "cell_type": "code",
   "execution_count": 11,
   "id": "f601f0ea-adf6-4b54-9f0e-43d8cd84dea6",
   "metadata": {},
   "outputs": [],
   "source": [
    "train_index= y_train[:] <= 1"
   ]
  },
  {
   "cell_type": "code",
   "execution_count": 12,
   "id": "56214cf7-cce8-48e3-ae96-7124fdc7103a",
   "metadata": {},
   "outputs": [],
   "source": [
    "x_train= x_train[train_index]"
   ]
  },
  {
   "cell_type": "code",
   "execution_count": 13,
   "id": "a3782604-a441-4481-b1af-498f3ebdd8ad",
   "metadata": {},
   "outputs": [],
   "source": [
    "y_train = y_train[train_index]"
   ]
  },
  {
   "cell_type": "code",
   "execution_count": 14,
   "id": "e59955c1-5d8a-427f-a5bc-8f5541164645",
   "metadata": {},
   "outputs": [
    {
     "data": {
      "text/plain": [
       "(12665, 28, 28)"
      ]
     },
     "execution_count": 14,
     "metadata": {},
     "output_type": "execute_result"
    }
   ],
   "source": [
    "x_train.shape"
   ]
  },
  {
   "cell_type": "code",
   "execution_count": 15,
   "id": "ad503f9d-17c8-4358-855b-0d6b00ecea05",
   "metadata": {},
   "outputs": [
    {
     "data": {
      "text/plain": [
       "(12665,)"
      ]
     },
     "execution_count": 15,
     "metadata": {},
     "output_type": "execute_result"
    }
   ],
   "source": [
    "y_train.shape"
   ]
  },
  {
   "cell_type": "code",
   "execution_count": 16,
   "id": "896e207a-b972-4bce-b579-a637420e0dd1",
   "metadata": {},
   "outputs": [],
   "source": [
    "valid_index = y_valid[:] <= 1"
   ]
  },
  {
   "cell_type": "code",
   "execution_count": 17,
   "id": "8cd405aa-6140-4919-81e9-e30d5db0dd7b",
   "metadata": {},
   "outputs": [],
   "source": [
    "x_valid = x_valid[valid_index]\n",
    "y_valid = y_valid[valid_index]"
   ]
  },
  {
   "cell_type": "code",
   "execution_count": 18,
   "id": "ac9dd562-5f51-4904-b0ff-41340ef7dcfe",
   "metadata": {},
   "outputs": [
    {
     "data": {
      "text/plain": [
       "(2115, 28, 28)"
      ]
     },
     "execution_count": 18,
     "metadata": {},
     "output_type": "execute_result"
    }
   ],
   "source": [
    "x_valid.shape"
   ]
  },
  {
   "cell_type": "code",
   "execution_count": 19,
   "id": "29fe0755-8a06-44a9-a134-5135950a8ca4",
   "metadata": {},
   "outputs": [
    {
     "data": {
      "text/plain": [
       "(2115,)"
      ]
     },
     "execution_count": 19,
     "metadata": {},
     "output_type": "execute_result"
    }
   ],
   "source": [
    "y_valid.shape"
   ]
  },
  {
   "cell_type": "code",
   "execution_count": 20,
   "id": "79da1f21-8278-4436-a0da-bd45b444c257",
   "metadata": {},
   "outputs": [],
   "source": [
    "#normalize data \n",
    "x_train = x_train/255\n",
    "x_valid = x_valid/255"
   ]
  },
  {
   "cell_type": "code",
   "execution_count": 21,
   "id": "e6930249-8b38-4c4c-9054-f02c64c1cc6e",
   "metadata": {},
   "outputs": [
    {
     "data": {
      "text/plain": [
       "<matplotlib.image.AxesImage at 0x1e23d918e20>"
      ]
     },
     "execution_count": 21,
     "metadata": {},
     "output_type": "execute_result"
    },
    {
     "data": {
      "image/png": "[encoded data removed]",
      "text/plain": [
       "<Figure size 432x288 with 1 Axes>"
      ]
     },
     "metadata": {
      "needs_background": "light"
     },
     "output_type": "display_data"
    }
   ],
   "source": [
    "import matplotlib.pyplot as plt\n",
    "\n",
    "image = x_train[0]\n",
    "plt.imshow(image, cmap='gray')"
   ]
  },
  {
   "cell_type": "code",
   "execution_count": 22,
   "id": "c86b0443-6c5e-4560-9e77-a351d2484c4a",
   "metadata": {},
   "outputs": [
    {
     "data": {
      "text/plain": [
       "<matplotlib.image.AxesImage at 0x1e239d7d1f0>"
      ]
     },
     "execution_count": 22,
     "metadata": {},
     "output_type": "execute_result"
    },
    {
     "data": {
      "image/png": "[encoded data removed]",
      "text/plain": [
       "<Figure size 432x288 with 1 Axes>"
      ]
     },
     "metadata": {
      "needs_background": "light"
     },
     "output_type": "display_data"
    }
   ],
   "source": [
    "import matplotlib.pyplot as plt\n",
    "\n",
    "image = x_train[1]\n",
    "plt.imshow(image, cmap='gray')"
   ]
  },
  {
   "cell_type": "code",
   "execution_count": 23,
   "id": "94e2ce8c-b58f-423d-90cd-36bc0bc3cb88",
   "metadata": {},
   "outputs": [
    {
     "data": {
      "text/plain": [
       "<function matplotlib.pyplot.show(close=None, block=None)>"
      ]
     },
     "execution_count": 23,
     "metadata": {},
     "output_type": "execute_result"
    },
    {
     "data": {
      "image/png": "[encoded data removed]",
      "text/plain": [
       "<Figure size 432x288 with 1 Axes>"
      ]
     },
     "metadata": {
      "needs_background": "light"
     },
     "output_type": "display_data"
    }
   ],
   "source": [
    "sns.histplot(y_train)\n",
    "plt.show"
   ]
  },
  {
   "cell_type": "markdown",
   "id": "96032fa8-db25-4f7f-b448-26e66581d43b",
   "metadata": {},
   "source": [
    "Unbalancing :\n",
    "https://imbalanced-learn.org/stable/auto_examples/datasets/plot_make_imbalance.html"
   ]
  },
  {
   "cell_type": "code",
   "execution_count": 25,
   "id": "0e7d0091-92ac-4faf-8b2a-a0403d37c64c",
   "metadata": {},
   "outputs": [],
   "source": [
    "# !pip install imbalanced-learn"
   ]
  },
  {
   "cell_type": "code",
   "execution_count": 26,
   "id": "7c8dcc61-bcd6-4bf5-b5d7-0196d823f839",
   "metadata": {},
   "outputs": [],
   "source": [
    "from imblearn.datasets import make_imbalance"
   ]
  },
  {
   "cell_type": "code",
   "execution_count": 27,
   "id": "d5270d8e-bdef-4521-b82e-1951a0d81bc7",
   "metadata": {},
   "outputs": [],
   "source": [
    "x_unbal = x_train.reshape(12665, 784)\n"
   ]
  },
  {
   "cell_type": "code",
   "execution_count": 28,
   "id": "1c57c86c-c43f-418d-b4aa-e0f94b55cd9d",
   "metadata": {},
   "outputs": [],
   "source": [
    "X = pd.DataFrame(x_unbal)"
   ]
  },
  {
   "cell_type": "code",
   "execution_count": 29,
   "id": "4a842ebb-9fa9-4a80-8783-dfa506c89857",
   "metadata": {},
   "outputs": [],
   "source": [
    "from collections import Counter\n",
    "def ratio_func(y, multiplier, minority_class):\n",
    "    target_stats = Counter(y)\n",
    "    return {minority_class: int(multiplier * target_stats[minority_class])}"
   ]
  },
  {
   "cell_type": "code",
   "execution_count": 30,
   "id": "ad5e88d7-a8fd-41ee-98e1-a7d4d892182f",
   "metadata": {},
   "outputs": [
    {
     "data": {
      "image/png": "[encoded data removed]",
      "text/plain": [
       "<Figure size 432x288 with 1 Axes>"
      ]
     },
     "metadata": {
      "needs_background": "light"
     },
     "output_type": "display_data"
    }
   ],
   "source": [
    "X_resampled_10, y_resampled_10 = make_imbalance(X,\n",
    "        y_train,\n",
    "        sampling_strategy=ratio_func,\n",
    "        **{\"multiplier\": 1/10, \"minority_class\": 0},\n",
    "    )\n",
    "plt.hist(y_resampled_10)\n",
    "plt.title(\"Ratio 1:10\")\n",
    "plt.show()"
   ]
  },
  {
   "cell_type": "code",
   "execution_count": 31,
   "id": "c52a11cb-de79-4942-be84-945a8e8a09e1",
   "metadata": {},
   "outputs": [
    {
     "data": {
      "image/png": "[encoded data removed]",
      "text/plain": [
       "<Figure size 432x288 with 1 Axes>"
      ]
     },
     "metadata": {
      "needs_background": "light"
     },
     "output_type": "display_data"
    }
   ],
   "source": [
    "X_resampled_20, y_resampled_20 = make_imbalance(X,\n",
    "        y_train,\n",
    "        sampling_strategy=ratio_func,\n",
    "        **{\"multiplier\": 1/20, \"minority_class\": 0},\n",
    "    )\n",
    "plt.hist(y_resampled_20)\n",
    "plt.title(\"Ratio 1:20\")\n",
    "plt.show()"
   ]
  },
  {
   "cell_type": "code",
   "execution_count": 32,
   "id": "f10767a9-aed4-47e8-9a9c-f09fc670124c",
   "metadata": {},
   "outputs": [
    {
     "data": {
      "image/png": "[encoded data removed]",
      "text/plain": [
       "<Figure size 432x288 with 1 Axes>"
      ]
     },
     "metadata": {
      "needs_background": "light"
     },
     "output_type": "display_data"
    }
   ],
   "source": [
    "X_resampled_50, y_resampled_50 = make_imbalance(X,\n",
    "        y_train,\n",
    "        sampling_strategy=ratio_func,\n",
    "        **{\"multiplier\": 1/50, \"minority_class\": 0},\n",
    "    )\n",
    "plt.hist(y_resampled_50)\n",
    "plt.title(\"Ratio 1:50\")\n",
    "plt.show()"
   ]
  },
  {
   "cell_type": "code",
   "execution_count": 33,
   "id": "40f20c58-2ec2-460e-9065-cd395dc7a8d8",
   "metadata": {},
   "outputs": [
    {
     "data": {
      "image/png": "[encoded data removed]",
      "text/plain": [
       "<Figure size 432x288 with 1 Axes>"
      ]
     },
     "metadata": {
      "needs_background": "light"
     },
     "output_type": "display_data"
    }
   ],
   "source": [
    "X_resampled_100, y_resampled_100 = make_imbalance(X,\n",
    "        y_train,\n",
    "        sampling_strategy=ratio_func,\n",
    "        **{\"multiplier\": 1/100, \"minority_class\": 0},\n",
    "    )\n",
    "plt.hist(y_resampled_100)\n",
    "plt.title(\"Ratio 1:100\")\n",
    "plt.show()"
   ]
  },
  {
   "cell_type": "code",
   "execution_count": null,
   "id": "239f0e1e-a8c3-447c-a0ae-0487b7ec64fd",
   "metadata": {},
   "outputs": [],
   "source": []
  },
  {
   "cell_type": "code",
   "execution_count": null,
   "id": "30a5f8d7-ddf8-4731-b55e-d77043cfd690",
   "metadata": {},
   "outputs": [],
   "source": []
  },
  {
   "cell_type": "code",
   "execution_count": null,
   "id": "95b7e654-dc16-4c17-a2d7-fbb54ec7f772",
   "metadata": {},
   "outputs": [],
   "source": []
  },
  {
   "cell_type": "code",
   "execution_count": null,
   "id": "c228b048-be24-4367-99a0-6aeaab161f05",
   "metadata": {},
   "outputs": [],
   "source": []
  },
  {
   "cell_type": "markdown",
   "id": "8abdff4e-e98a-41e8-89a8-5c675e6dbe0c",
   "metadata": {},
   "source": [
    "## Unbalancing : Choose unbalancing Ratio"
   ]
  },
  {
   "cell_type": "code",
   "execution_count": 37,
   "id": "e4e372fb-7f8f-439f-8675-c43e5b2634dc",
   "metadata": {},
   "outputs": [],
   "source": [
    "### RATIO 10:1\n",
    "x_train = X_resampled_10.to_numpy().reshape(-1,28,28,1)\n",
    "y_train = y_resampled_10"
   ]
  },
  {
   "cell_type": "code",
   "execution_count": 55,
   "id": "655ec1cf-d782-44d9-b1fb-862ff5714ca2",
   "metadata": {},
   "outputs": [],
   "source": [
    "### RATIO 20:1\n",
    "x_train = X_resampled_20.to_numpy().reshape(-1,28,28,1)\n",
    "y_train = y_resampled_20"
   ]
  },
  {
   "cell_type": "code",
   "execution_count": 56,
   "id": "d75c83e3-dac6-4981-a401-59d634ca5130",
   "metadata": {},
   "outputs": [],
   "source": [
    "### RATIO 50:1\n",
    "x_train = X_resampled_50.to_numpy().reshape(-1,28,28,1)\n",
    "y_train = y_resampled_50"
   ]
  },
  {
   "cell_type": "code",
   "execution_count": 57,
   "id": "a0f648a2-17ac-4b1c-b0ac-932492d62059",
   "metadata": {},
   "outputs": [],
   "source": [
    "### RATIO 100:1\n",
    "x_train = X_resampled_100.to_numpy().reshape(-1,28,28,1)\n",
    "y_train = y_resampled_100"
   ]
  },
  {
   "cell_type": "code",
   "execution_count": null,
   "id": "2b302e98-325e-4de6-b98c-392e8dc5ac7a",
   "metadata": {},
   "outputs": [],
   "source": []
  },
  {
   "cell_type": "code",
   "execution_count": null,
   "id": "22668a2d-d285-4d0c-99f7-1fbf6072796e",
   "metadata": {},
   "outputs": [],
   "source": []
  },
  {
   "cell_type": "code",
   "execution_count": null,
   "id": "7a5b598f-5306-4f73-a4a3-842dcbd061cf",
   "metadata": {},
   "outputs": [],
   "source": []
  },
  {
   "cell_type": "code",
   "execution_count": null,
   "id": "0bdf9640-c544-4da1-b374-52f7ac6e6e03",
   "metadata": {},
   "outputs": [],
   "source": []
  },
  {
   "cell_type": "markdown",
   "id": "a5866b2b-daa9-44e9-85d9-65ee25b63dde",
   "metadata": {},
   "source": [
    "# Data preprocessing"
   ]
  },
  {
   "cell_type": "code",
   "execution_count": 21,
   "id": "d8a9e7aa-2def-4c0b-8b51-703eaf4fd417",
   "metadata": {},
   "outputs": [],
   "source": [
    "from sklearn.model_selection import train_test_split\n",
    "train_split, test_split, train_labels_split, test_labels_split = train_test_split(x_train, y_train, random_state=0)\n"
   ]
  },
  {
   "cell_type": "code",
   "execution_count": 22,
   "id": "7d147572-885e-4624-8b2b-b650da4148b8",
   "metadata": {},
   "outputs": [],
   "source": [
    "validation_split = x_valid\n",
    "validation_labels_split = y_valid"
   ]
  },
  {
   "cell_type": "code",
   "execution_count": 23,
   "id": "083a4a54-0690-4cc5-a3f9-13019e8a87b7",
   "metadata": {},
   "outputs": [],
   "source": [
    "from __future__ import print_function, division\n",
    "\n",
    "import torch\n",
    "import torch.nn as nn\n",
    "import torch.optim as optim\n",
    "from torch.optim import lr_scheduler\n",
    "from torchvision import models, transforms\n",
    "import time\n",
    "import copy\n",
    "from torch.utils.data import DataLoader, Dataset"
   ]
  },
  {
   "cell_type": "code",
   "execution_count": 24,
   "id": "26a0e797-023c-4cf4-8d5f-1d13852ea834",
   "metadata": {},
   "outputs": [],
   "source": [
    "# define custom dataset\n",
    "class MyDataset(Dataset):\n",
    "    def __init__(self, feature, target=None, transform=None):\n",
    "\n",
    "        self.X = feature\n",
    "        self.Y = target\n",
    "        self.transform = transform\n",
    "\n",
    "    def __len__(self):\n",
    "        return len(self.X)\n",
    "\n",
    "    def __getitem__(self, idx):\n",
    "        if self.transform is not None:\n",
    "            return self.transform(self.X[idx]), self.Y[idx]\n",
    "        elif self.Y is None:\n",
    "            return [self.X[idx]]\n",
    "        return self.X[idx], self.Y[idx]"
   ]
  },
  {
   "cell_type": "code",
   "execution_count": 25,
   "id": "8ce36dbe-a30c-4f1f-a98b-812511045d7f",
   "metadata": {},
   "outputs": [],
   "source": [
    "# data reshape\n",
    "test_data = torch.from_numpy(test_split.reshape((-1,1,28,28)))\n",
    "train_data = torch.from_numpy(train_split.reshape((-1,1,28,28)))\n",
    "train_labels_data =  torch.from_numpy(train_labels_split)\n",
    "validation_data = torch.from_numpy(validation_split.reshape((-1,1,28,28)))\n",
    "validation_labels_data =  torch.from_numpy(validation_labels_split)"
   ]
  },
  {
   "cell_type": "code",
   "execution_count": 26,
   "id": "8a57fda8-44ad-42b2-80c4-9121b1cbd2d7",
   "metadata": {},
   "outputs": [],
   "source": [
    "train_set = MyDataset(train_data.float(), train_labels_data)\n",
    "valid_set = MyDataset(validation_data.float(), validation_labels_data)\n",
    "test_set = MyDataset(test_data.float())\n",
    "batch_size = 128\n",
    "train_loader = torch.utils.data.DataLoader(train_set, batch_size = batch_size, shuffle = True)\n",
    "valid_loader = torch.utils.data.DataLoader(valid_set, batch_size = batch_size, shuffle = False)\n",
    "test_loader = torch.utils.data.DataLoader(test_set, batch_size = batch_size, shuffle = False)"
   ]
  },
  {
   "cell_type": "code",
   "execution_count": 27,
   "id": "6c1b1d8c-ed3a-4b68-8259-03452e249461",
   "metadata": {},
   "outputs": [],
   "source": [
    "# calculate mean and std of train_set for normalize\n",
    "data = next(iter(train_loader))\n",
    "mean = data[0].mean()\n",
    "std = data[0].std()\n",
    "\n",
    "# set transformation option\n",
    "transform = transforms.Compose([\n",
    "        transforms.ToPILImage(),\n",
    "        transforms.RandomAffine(degrees = 30),\n",
    "        transforms.RandomPerspective(),\n",
    "        transforms.ToTensor(),\n",
    "        transforms.Normalize(mean, std)])\n",
    "\n",
    "# augmented train_set\n",
    "augmented_train_set = MyDataset(train_data.float(), train_labels_data, transform=transform)\n",
    "\n",
    "# combine original set with augmented set\n",
    "datasets = []\n",
    "datasets.append(train_set)\n",
    "datasets.append(augmented_train_set)\n",
    "train_set = torch.utils.data.ConcatDataset(datasets)\n",
    "\n",
    "# redefine train_loader\n",
    "train_loader = torch.utils.data.DataLoader(train_set, batch_size = batch_size, shuffle = True)"
   ]
  },
  {
   "cell_type": "code",
   "execution_count": 45,
   "id": "d8a6dc33-e501-4ab9-a52b-183108123a18",
   "metadata": {},
   "outputs": [],
   "source": [
    "from tqdm import tqdm\n",
    "from time import sleep\n",
    "from tqdm import trange\n",
    "\n",
    "device = torch.device(\"cuda:0\" if torch.cuda.is_available() else \"cpu\")\n",
    "dataloaders = {'train': train_loader, 'val': valid_loader}\n",
    "dataset_sizes= {'train': len(train_set), 'val': len(valid_set)}\n",
    "\n",
    "def train_model(model, criterion, optimizer, scheduler, dataloaders, dataset_sizes, num_epochs=25):\n",
    "    since = time.time()\n",
    "\n",
    "    best_model_wts = copy.deepcopy(model.state_dict())\n",
    "    best_acc = 0.0\n",
    "    pbar = trange(num_epochs, unit=\"carrots\")\n",
    "    for epoch in pbar:\n",
    "        sleep(0.5)\n",
    "        #print('Epoch {}/{}'.format(epoch, num_epochs - 1))\n",
    "        #print('-' * 10)\n",
    "\n",
    "        # Each epoch has a training and validation phase\n",
    "        pbar.set_description(f\"Epoch {epoch}\")\n",
    "        for phase in ['train', 'val']:\n",
    "            if phase == 'train':\n",
    "                model.train()  # Set model to training mode\n",
    "            else:\n",
    "                model.eval()   # Set model to evaluate mode\n",
    "\n",
    "            running_loss = 0.0\n",
    "            running_corrects = 0\n",
    "\n",
    "            # Iterate over data.\n",
    "            for inputs, labels in dataloaders[phase]:\n",
    "                inputs = inputs.to(device)\n",
    "                labels = labels.to(device)\n",
    "\n",
    "                # zero the parameter gradients\n",
    "                optimizer.zero_grad()\n",
    "\n",
    "                # forward\n",
    "                # track history if only in train\n",
    "                with torch.set_grad_enabled(phase == 'train'):\n",
    "                    outputs = model(inputs)\n",
    "                    _, preds = torch.max(outputs, 1)\n",
    "                    loss = criterion(outputs, labels)\n",
    "\n",
    "                    # backward + optimize only if in training phase\n",
    "                    if phase == 'train':\n",
    "                        loss.backward()\n",
    "                        optimizer.step()\n",
    "\n",
    "                # statistics\n",
    "                running_loss += loss.item() * inputs.size(0)\n",
    "                running_corrects += torch.sum(preds == labels.data)\n",
    "            if phase == 'train':\n",
    "                scheduler.step()\n",
    "\n",
    "            epoch_loss = running_loss / dataset_sizes[phase]\n",
    "            epoch_acc = running_corrects.double() / dataset_sizes[phase]\n",
    "\n",
    "            #print('{} Loss: {:.4f} Acc: {:.4f}'.format(\n",
    "            #    phase, epoch_loss, epoch_acc))\n",
    "\n",
    "            # deep copy the model\n",
    "            if phase == 'val' and epoch_acc > best_acc:\n",
    "                best_acc = epoch_acc\n",
    "                best_model_wts = copy.deepcopy(model.state_dict())\n",
    "\n",
    "        #print()\n",
    "\n",
    "    time_elapsed = time.time() - since\n",
    "    print('Training complete in {:.0f}m {:.0f}s'.format(\n",
    "        time_elapsed // 60, time_elapsed % 60))\n",
    "    print('Best val Acc: {:4f}'.format(best_acc))\n",
    "\n",
    "    # load best model weights\n",
    "    model.load_state_dict(best_model_wts)\n",
    "    pbar.close()\n",
    "    return model"
   ]
  },
  {
   "cell_type": "code",
   "execution_count": 46,
   "id": "90f0209d-aa48-4e4c-a0bf-ab72734bdae6",
   "metadata": {},
   "outputs": [
    {
     "name": "stderr",
     "output_type": "stream",
     "text": [
      "Epoch 4: 100%|██████████| 5/5 [06:46<00:00, 81.28s/carrots]"
     ]
    },
    {
     "name": "stdout",
     "output_type": "stream",
     "text": [
      "Training complete in 6m 46s\n",
      "Best val Acc: 0.999527\n"
     ]
    },
    {
     "name": "stderr",
     "output_type": "stream",
     "text": [
      "\n"
     ]
    }
   ],
   "source": [
    "epochs = 5\n",
    "\n",
    "# make resnet 18 model\n",
    "model_ft = models.resnet18(weights='DEFAULT')\n",
    "\n",
    "# change input layer\n",
    "# the default number of input channel in the resnet is 3, but our images are 1 channel. So we have to change 3 to 1.\n",
    "# nn.Conv2d(3, 64, kernel_size=(7, 7), stride=(2, 2), padding=(3, 3), bias=False) <- default\n",
    "model_ft.conv1 = nn.Conv2d(1, 64, kernel_size=(7, 7), stride=(2, 2), padding=(3, 3), bias=False) \n",
    "\n",
    "# change fc layer\n",
    "# the number of classes in our dataset is 10. default is 1000.\n",
    "num_ftrs = model_ft.fc.in_features\n",
    "model_ft.fc = nn.Linear(num_ftrs, 2)\n",
    "\n",
    "model_ft = model_ft.to(device)\n",
    "\n",
    "criterion = nn.CrossEntropyLoss()\n",
    "\n",
    "optimizer_ft = optim.Adam(model_ft.parameters(), lr=0.001)\n",
    "\n",
    "# decay LR by a factor of 0.1 every 5 epochs\n",
    "exp_lr_scheduler = lr_scheduler.StepLR(optimizer_ft, step_size=5, gamma=0.1)\n",
    "\n",
    "# train model\n",
    "model_ft = train_model(model_ft, criterion, optimizer_ft, exp_lr_scheduler, dataloaders, dataset_sizes,\n",
    "                       num_epochs=epochs)"
   ]
  },
  {
   "cell_type": "code",
   "execution_count": 47,
   "id": "d4e96f14-0e0d-45ff-b4b3-7e7c2456d477",
   "metadata": {},
   "outputs": [],
   "source": [
    "test_pred = torch.LongTensor()\n",
    "\n",
    "with torch.no_grad():\n",
    "    for images in test_loader:\n",
    "        images = torch.autograd.Variable(images[0])\n",
    "        if torch.cuda.is_available():\n",
    "            images = images.to(device)\n",
    "\n",
    "        outputs = model_ft(images)\n",
    "        predicted = outputs.cpu().data.max(1, keepdim=True)[1]\n",
    "        test_pred = torch.cat((test_pred, predicted), dim=0)"
   ]
  },
  {
   "cell_type": "code",
   "execution_count": 48,
   "id": "f602ec1b-5899-4fee-89ed-d0cf8fefc546",
   "metadata": {},
   "outputs": [],
   "source": [
    "from sklearn.metrics import accuracy_score"
   ]
  },
  {
   "cell_type": "code",
   "execution_count": 49,
   "id": "c763e7b2-9da4-44f5-a0b3-784040684871",
   "metadata": {},
   "outputs": [
    {
     "data": {
      "text/plain": [
       "1834"
      ]
     },
     "execution_count": 49,
     "metadata": {},
     "output_type": "execute_result"
    }
   ],
   "source": [
    "len(test_pred)"
   ]
  },
  {
   "cell_type": "code",
   "execution_count": 50,
   "id": "16c8059d-2679-4036-b6c7-494c036a6ea4",
   "metadata": {},
   "outputs": [
    {
     "data": {
      "text/plain": [
       "1834"
      ]
     },
     "execution_count": 50,
     "metadata": {},
     "output_type": "execute_result"
    }
   ],
   "source": [
    "len(test_labels_split)"
   ]
  },
  {
   "cell_type": "code",
   "execution_count": 51,
   "id": "3cb1883d-ec84-46b5-bada-c71b719eac39",
   "metadata": {},
   "outputs": [
    {
     "data": {
      "text/plain": [
       "1.0"
      ]
     },
     "execution_count": 51,
     "metadata": {},
     "output_type": "execute_result"
    }
   ],
   "source": [
    "accuracy_score(test_pred,test_labels_split)"
   ]
  },
  {
   "cell_type": "code",
   "execution_count": 52,
   "id": "f3ebb402-77e0-4415-bd25-ac2830a16517",
   "metadata": {},
   "outputs": [],
   "source": [
    "score = 0.9996842437638144\n",
    "score_10 = 0\n",
    "score_20 = 0\n",
    "score_50 = 0\n",
    "score_10 = 0"
   ]
  },
  {
   "cell_type": "code",
   "execution_count": null,
   "id": "ec1bba08-913a-4109-a0b5-b88f8ca7c820",
   "metadata": {},
   "outputs": [],
   "source": []
  },
  {
   "cell_type": "code",
   "execution_count": null,
   "id": "6fbf2882-297f-4dab-9140-51559ee5f21d",
   "metadata": {},
   "outputs": [],
   "source": []
  }
 ],
 "metadata": {
  "kernelspec": {
   "display_name": "Python 3 (ipykernel)",
   "language": "python",
   "name": "python3"
  },
  "language_info": {
   "codemirror_mode": {
    "name": "ipython",
    "version": 3
   },
   "file_extension": ".py",
   "mimetype": "text/x-python",
   "name": "python",
   "nbconvert_exporter": "python",
   "pygments_lexer": "ipython3",
   "version": "3.9.12"
  }
 },
 "nbformat": 4,
 "nbformat_minor": 5
}
