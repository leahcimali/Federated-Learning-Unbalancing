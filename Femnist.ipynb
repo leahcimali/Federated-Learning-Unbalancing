{
 "cells": [
  {
   "cell_type": "code",
   "execution_count": 3,
   "id": "c63b4879-91fe-4a55-a1ed-05d2abf2f347",
   "metadata": {},
   "outputs": [],
   "source": [
    "import subprocess"
   ]
  },
  {
   "cell_type": "code",
   "execution_count": 3,
   "id": "3adc1878-071e-4489-913d-85b9dadf390f",
   "metadata": {},
   "outputs": [],
   "source": [
    "! cd  ./leaf-master/data/femnist/\n"
   ]
  },
  {
   "cell_type": "code",
   "execution_count": 4,
   "id": "cdbd0d7c-e4e7-4180-be96-25d9f2966fe0",
   "metadata": {},
   "outputs": [
    {
     "name": "stdout",
     "output_type": "stream",
     "text": [
      "/mnt/c/Users/coteste/Documents\n"
     ]
    }
   ],
   "source": [
    "! pwd"
   ]
  },
  {
   "cell_type": "code",
   "execution_count": 5,
   "id": "e14673b7-3eb4-46ad-a2ab-57b34537f105",
   "metadata": {},
   "outputs": [
    {
     "name": "stderr",
     "output_type": "stream",
     "text": [
      "./leaf-master/data/femnist/preprocess.sh: line 6: cd: preprocess: No such file or directory\n",
      "./leaf-master/data/femnist/preprocess.sh: line 7: ./data_to_json.sh: No such file or directory\n",
      "./leaf-master/data/femnist/preprocess.sh: line 13: cd: ../utils: No such file or directory\n",
      "./leaf-master/data/femnist/preprocess.sh: line 15: ./preprocess.sh: No such file or directory\n",
      "./leaf-master/data/femnist/preprocess.sh: line 17: cd: ../femnist: No such file or directory\n"
     ]
    },
    {
     "data": {
      "text/plain": [
       "1"
      ]
     },
     "execution_count": 5,
     "metadata": {},
     "output_type": "execute_result"
    }
   ],
   "source": [
    "import subprocess\n",
    "subprocess.call(['./leaf-master/data/femnist/preprocess.sh'])"
   ]
  },
  {
   "cell_type": "code",
   "execution_count": null,
   "id": "6f377582-05e7-4303-a611-296d58c33905",
   "metadata": {},
   "outputs": [],
   "source": []
  },
  {
   "cell_type": "code",
   "execution_count": null,
   "id": "61df1420-65e5-497d-beb8-06dd446e5ef7",
   "metadata": {},
   "outputs": [],
   "source": []
  }
 ],
 "metadata": {
  "kernelspec": {
   "display_name": "Python 3 (ipykernel)",
   "language": "python",
   "name": "python3"
  },
  "language_info": {
   "codemirror_mode": {
    "name": "ipython",
    "version": 3
   },
   "file_extension": ".py",
   "mimetype": "text/x-python",
   "name": "python",
   "nbconvert_exporter": "python",
   "pygments_lexer": "ipython3",
   "version": "3.9.12"
  }
 },
 "nbformat": 4,
 "nbformat_minor": 5
}
