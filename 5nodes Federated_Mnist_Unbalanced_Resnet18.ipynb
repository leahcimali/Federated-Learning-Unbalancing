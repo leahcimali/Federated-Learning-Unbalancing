{
 "cells": [
  {
   "cell_type": "markdown",
   "id": "973f5e6d-a8ea-4178-afcb-c0dca451f609",
   "metadata": {
    "id": "973f5e6d-a8ea-4178-afcb-c0dca451f609"
   },
   "source": [
    "# MNIST DATASET \n",
    "# Test on classes imbalance"
   ]
  },
  {
   "cell_type": "code",
   "execution_count": 1,
   "id": "8dfcfb05-6e0c-4a71-9401-4bf1d2198235",
   "metadata": {
    "id": "8dfcfb05-6e0c-4a71-9401-4bf1d2198235"
   },
   "outputs": [],
   "source": [
    "#!pip install seaborn\n",
    "#!pip install keras\n",
    "#!pip install tensorflow"
   ]
  },
  {
   "cell_type": "code",
   "execution_count": 2,
   "id": "33c3f4e3",
   "metadata": {},
   "outputs": [],
   "source": [
    "#import warnings\n",
    "#warnings.filterwarnings('ignore')"
   ]
  },
  {
   "cell_type": "code",
   "execution_count": 3,
   "id": "b3f43b91-d778-4357-a798-381d027de110",
   "metadata": {
    "id": "b3f43b91-d778-4357-a798-381d027de110"
   },
   "outputs": [],
   "source": [
    "import tensorflow.keras as keras\n",
    "from tensorflow.keras.datasets import mnist\n",
    "import pandas as pd\n",
    "import numpy as np\n",
    "import matplotlib.pyplot as plt\n",
    "import seaborn as sns\n",
    "from sklearn import tree\n",
    "from sklearn.metrics import accuracy_score\n",
    "from sklearn.ensemble import RandomForestClassifier\n",
    "import random\n",
    "import math\n",
    "from torch.utils.tensorboard import SummaryWriter\n",
    "from matplotlib import pyplot\n",
    "\n",
    "\n",
    "from pathlib import Path\n",
    "import requests\n",
    "import pickle\n",
    "import gzip\n",
    "\n",
    "import torch\n",
    "import math\n",
    "import torch.nn.functional as F\n",
    "from torch import nn\n",
    "from torch import optim\n",
    "import torchvision\n",
    "import torchvision.transforms as transforms\n",
    "from torch.utils.data import TensorDataset\n",
    "from torch.utils.data import DataLoader\n",
    "\n",
    "pd.options.display.float_format = \"{:,.4f}\".format"
   ]
  },
  {
   "cell_type": "code",
   "execution_count": 4,
   "id": "ca81bb3b-1d56-4d00-887b-b72de2dd4aa4",
   "metadata": {
    "id": "ca81bb3b-1d56-4d00-887b-b72de2dd4aa4"
   },
   "outputs": [],
   "source": [
    "# the data, split between train and validation sets\n",
    "(x_train, y_train), (x_test, y_test) = mnist.load_data()"
   ]
  },
  {
   "cell_type": "markdown",
   "id": "1afe52dc-277c-4549-a51c-c95c3c9bd46b",
   "metadata": {
    "tags": []
   },
   "source": [
    "# Data"
   ]
  },
  {
   "cell_type": "code",
   "execution_count": 5,
   "id": "50354c75-30f0-417c-9ab5-5dbd4f138484",
   "metadata": {
    "colab": {
     "base_uri": "https://localhost:8080/"
    },
    "id": "50354c75-30f0-417c-9ab5-5dbd4f138484",
    "outputId": "8b5e392c-ee35-40c0-8ab7-2c554e575b03"
   },
   "outputs": [
    {
     "data": {
      "text/plain": [
       "(60000, 28, 28)"
      ]
     },
     "execution_count": 5,
     "metadata": {},
     "output_type": "execute_result"
    }
   ],
   "source": [
    "x_train.shape"
   ]
  },
  {
   "cell_type": "code",
   "execution_count": 6,
   "id": "6135585f-98a4-4ac1-bdcf-219d3176b57f",
   "metadata": {
    "colab": {
     "base_uri": "https://localhost:8080/"
    },
    "id": "6135585f-98a4-4ac1-bdcf-219d3176b57f",
    "outputId": "a89cca4d-e212-4645-8154-6dd9be19d86b"
   },
   "outputs": [
    {
     "data": {
      "text/plain": [
       "(10000, 28, 28)"
      ]
     },
     "execution_count": 6,
     "metadata": {},
     "output_type": "execute_result"
    }
   ],
   "source": [
    "x_test.shape"
   ]
  },
  {
   "cell_type": "code",
   "execution_count": 7,
   "id": "ea5dc314-4bba-413a-adfb-41de5c97c02e",
   "metadata": {
    "colab": {
     "base_uri": "https://localhost:8080/"
    },
    "id": "ea5dc314-4bba-413a-adfb-41de5c97c02e",
    "outputId": "a342e736-09ce-47c1-bee8-3a41e9679009"
   },
   "outputs": [
    {
     "data": {
      "text/plain": [
       "dtype('uint8')"
      ]
     },
     "execution_count": 7,
     "metadata": {},
     "output_type": "execute_result"
    }
   ],
   "source": [
    "x_train.dtype"
   ]
  },
  {
   "cell_type": "code",
   "execution_count": 8,
   "id": "30a90107-9e54-49b9-b076-92adba1e2c21",
   "metadata": {
    "colab": {
     "base_uri": "https://localhost:8080/"
    },
    "id": "30a90107-9e54-49b9-b076-92adba1e2c21",
    "outputId": "2936ca2f-9a65-4ec7-b78e-8c4e0c82aad3"
   },
   "outputs": [
    {
     "data": {
      "text/plain": [
       "0"
      ]
     },
     "execution_count": 8,
     "metadata": {},
     "output_type": "execute_result"
    }
   ],
   "source": [
    "x_train.min()"
   ]
  },
  {
   "cell_type": "code",
   "execution_count": 9,
   "id": "db60e990-88ac-409d-aeea-dc98044b1950",
   "metadata": {
    "colab": {
     "base_uri": "https://localhost:8080/"
    },
    "id": "db60e990-88ac-409d-aeea-dc98044b1950",
    "outputId": "72417cfc-ade1-4871-f1f5-0ce59030e623"
   },
   "outputs": [
    {
     "data": {
      "text/plain": [
       "255"
      ]
     },
     "execution_count": 9,
     "metadata": {},
     "output_type": "execute_result"
    }
   ],
   "source": [
    "x_train.max()"
   ]
  },
  {
   "cell_type": "code",
   "execution_count": 10,
   "id": "48c49ac9-e0a8-4607-89b0-24f646a3767f",
   "metadata": {
    "colab": {
     "base_uri": "https://localhost:8080/"
    },
    "id": "48c49ac9-e0a8-4607-89b0-24f646a3767f",
    "outputId": "4aeabadf-0000-4a58-9fc3-8825819e5e79"
   },
   "outputs": [
    {
     "data": {
      "text/plain": [
       "{0, 1, 2, 3, 4, 5, 6, 7, 8, 9}"
      ]
     },
     "execution_count": 10,
     "metadata": {},
     "output_type": "execute_result"
    }
   ],
   "source": [
    "set(y_train)"
   ]
  },
  {
   "cell_type": "code",
   "execution_count": 11,
   "id": "b5396596-e802-4243-9d48-6807e2465006",
   "metadata": {
    "colab": {
     "base_uri": "https://localhost:8080/",
     "height": 283
    },
    "id": "b5396596-e802-4243-9d48-6807e2465006",
    "outputId": "aed92728-60b1-478a-bb36-b74aac1a42ff"
   },
   "outputs": [
    {
     "data": {
      "text/plain": [
       "<matplotlib.image.AxesImage at 0x1a9532362e0>"
      ]
     },
     "execution_count": 11,
     "metadata": {},
     "output_type": "execute_result"
    },
    {
     "data": {
      "image/png": "[encoded data removed]",
      "text/plain": [
       "<Figure size 432x288 with 1 Axes>"
      ]
     },
     "metadata": {
      "needs_background": "light"
     },
     "output_type": "display_data"
    }
   ],
   "source": [
    "import matplotlib.pyplot as plt\n",
    "\n",
    "image = x_train[0]\n",
    "plt.imshow(image, cmap='gray')"
   ]
  },
  {
   "cell_type": "markdown",
   "id": "a43e5a3e-ee07-4251-a948-694437f77f4d",
   "metadata": {
    "id": "a43e5a3e-ee07-4251-a948-694437f77f4d"
   },
   "source": [
    "Here were are interested to study classes imbalance, so we are focusing our work on 4 classes from 0 to 3"
   ]
  },
  {
   "cell_type": "code",
   "execution_count": 12,
   "id": "f601f0ea-adf6-4b54-9f0e-43d8cd84dea6",
   "metadata": {
    "id": "f601f0ea-adf6-4b54-9f0e-43d8cd84dea6"
   },
   "outputs": [],
   "source": [
    "train_index= y_train[:] <= 3"
   ]
  },
  {
   "cell_type": "code",
   "execution_count": 13,
   "id": "56214cf7-cce8-48e3-ae96-7124fdc7103a",
   "metadata": {
    "id": "56214cf7-cce8-48e3-ae96-7124fdc7103a"
   },
   "outputs": [],
   "source": [
    "x_train= x_train[train_index]"
   ]
  },
  {
   "cell_type": "code",
   "execution_count": 14,
   "id": "a3782604-a441-4481-b1af-498f3ebdd8ad",
   "metadata": {
    "id": "a3782604-a441-4481-b1af-498f3ebdd8ad"
   },
   "outputs": [],
   "source": [
    "y_train = y_train[train_index]"
   ]
  },
  {
   "cell_type": "code",
   "execution_count": 15,
   "id": "e59955c1-5d8a-427f-a5bc-8f5541164645",
   "metadata": {
    "colab": {
     "base_uri": "https://localhost:8080/"
    },
    "id": "e59955c1-5d8a-427f-a5bc-8f5541164645",
    "outputId": "acff1060-40f4-4fa8-a060-3b991d259509"
   },
   "outputs": [
    {
     "data": {
      "text/plain": [
       "(24754, 28, 28)"
      ]
     },
     "execution_count": 15,
     "metadata": {},
     "output_type": "execute_result"
    }
   ],
   "source": [
    "x_train.shape"
   ]
  },
  {
   "cell_type": "code",
   "execution_count": 16,
   "id": "ad503f9d-17c8-4358-855b-0d6b00ecea05",
   "metadata": {
    "colab": {
     "base_uri": "https://localhost:8080/"
    },
    "id": "ad503f9d-17c8-4358-855b-0d6b00ecea05",
    "outputId": "2ef370ec-e4ac-4f98-f11f-3c6d48982d37"
   },
   "outputs": [
    {
     "data": {
      "text/plain": [
       "(24754,)"
      ]
     },
     "execution_count": 16,
     "metadata": {},
     "output_type": "execute_result"
    }
   ],
   "source": [
    "y_train.shape"
   ]
  },
  {
   "cell_type": "code",
   "execution_count": 17,
   "id": "896e207a-b972-4bce-b579-a637420e0dd1",
   "metadata": {
    "id": "896e207a-b972-4bce-b579-a637420e0dd1"
   },
   "outputs": [],
   "source": [
    "test_index = y_test[:] <= 3"
   ]
  },
  {
   "cell_type": "code",
   "execution_count": 18,
   "id": "8cd405aa-6140-4919-81e9-e30d5db0dd7b",
   "metadata": {
    "id": "8cd405aa-6140-4919-81e9-e30d5db0dd7b"
   },
   "outputs": [],
   "source": [
    "x_test = x_test[test_index]\n",
    "y_test = y_test[test_index]"
   ]
  },
  {
   "cell_type": "code",
   "execution_count": 19,
   "id": "ac9dd562-5f51-4904-b0ff-41340ef7dcfe",
   "metadata": {
    "colab": {
     "base_uri": "https://localhost:8080/"
    },
    "id": "ac9dd562-5f51-4904-b0ff-41340ef7dcfe",
    "outputId": "7753ad6f-ce24-452c-e8ca-ab51fb4f5f19"
   },
   "outputs": [
    {
     "data": {
      "text/plain": [
       "(4157, 28, 28)"
      ]
     },
     "execution_count": 19,
     "metadata": {},
     "output_type": "execute_result"
    }
   ],
   "source": [
    "x_test.shape"
   ]
  },
  {
   "cell_type": "code",
   "execution_count": 20,
   "id": "29fe0755-8a06-44a9-a134-5135950a8ca4",
   "metadata": {
    "colab": {
     "base_uri": "https://localhost:8080/"
    },
    "id": "29fe0755-8a06-44a9-a134-5135950a8ca4",
    "outputId": "1fbc2203-ade0-4686-fd14-0f6d73be4143"
   },
   "outputs": [
    {
     "data": {
      "text/plain": [
       "(4157,)"
      ]
     },
     "execution_count": 20,
     "metadata": {},
     "output_type": "execute_result"
    }
   ],
   "source": [
    "y_test.shape"
   ]
  },
  {
   "cell_type": "code",
   "execution_count": 21,
   "id": "79da1f21-8278-4436-a0da-bd45b444c257",
   "metadata": {
    "id": "79da1f21-8278-4436-a0da-bd45b444c257"
   },
   "outputs": [],
   "source": [
    "#normalize data \n",
    "x_train = x_train/255\n",
    "x_test = x_test/255"
   ]
  },
  {
   "cell_type": "markdown",
   "id": "h_ifNyLOKFs1",
   "metadata": {
    "id": "h_ifNyLOKFs1",
    "tags": []
   },
   "source": [
    "# Ploting"
   ]
  },
  {
   "cell_type": "code",
   "execution_count": 22,
   "id": "e6930249-8b38-4c4c-9054-f02c64c1cc6e",
   "metadata": {
    "colab": {
     "base_uri": "https://localhost:8080/",
     "height": 283
    },
    "id": "e6930249-8b38-4c4c-9054-f02c64c1cc6e",
    "outputId": "c9dc8b3d-6229-4f92-8d02-b44eb79e33dc"
   },
   "outputs": [
    {
     "data": {
      "text/plain": [
       "<matplotlib.image.AxesImage at 0x1a953321fd0>"
      ]
     },
     "execution_count": 22,
     "metadata": {},
     "output_type": "execute_result"
    },
    {
     "data": {
      "image/png": "[encoded data removed]",
      "text/plain": [
       "<Figure size 432x288 with 1 Axes>"
      ]
     },
     "metadata": {
      "needs_background": "light"
     },
     "output_type": "display_data"
    }
   ],
   "source": [
    "import matplotlib.pyplot as plt\n",
    "\n",
    "image = x_train[4]\n",
    "plt.imshow(image, cmap='gray')"
   ]
  },
  {
   "cell_type": "code",
   "execution_count": 23,
   "id": "c86b0443-6c5e-4560-9e77-a351d2484c4a",
   "metadata": {
    "colab": {
     "base_uri": "https://localhost:8080/",
     "height": 283
    },
    "id": "c86b0443-6c5e-4560-9e77-a351d2484c4a",
    "outputId": "4dcd687b-1f84-498e-a8e8-dc76dc366010"
   },
   "outputs": [
    {
     "data": {
      "text/plain": [
       "<matplotlib.image.AxesImage at 0x1a94ee0ba60>"
      ]
     },
     "execution_count": 23,
     "metadata": {},
     "output_type": "execute_result"
    },
    {
     "data": {
      "image/png": "[encoded data removed]",
      "text/plain": [
       "<Figure size 432x288 with 1 Axes>"
      ]
     },
     "metadata": {
      "needs_background": "light"
     },
     "output_type": "display_data"
    }
   ],
   "source": [
    "import matplotlib.pyplot as plt\n",
    "\n",
    "image = x_train[9]\n",
    "plt.imshow(image, cmap='gray')"
   ]
  },
  {
   "cell_type": "code",
   "execution_count": 24,
   "id": "94e2ce8c-b58f-423d-90cd-36bc0bc3cb88",
   "metadata": {
    "colab": {
     "base_uri": "https://localhost:8080/",
     "height": 285
    },
    "id": "94e2ce8c-b58f-423d-90cd-36bc0bc3cb88",
    "outputId": "78be5433-d649-4be7-f148-556822e99bb9"
   },
   "outputs": [
    {
     "data": {
      "text/plain": [
       "<function matplotlib.pyplot.show(close=None, block=None)>"
      ]
     },
     "execution_count": 24,
     "metadata": {},
     "output_type": "execute_result"
    },
    {
     "data": {
      "image/png": "[encoded data removed]",
      "text/plain": [
       "<Figure size 432x288 with 1 Axes>"
      ]
     },
     "metadata": {
      "needs_background": "light"
     },
     "output_type": "display_data"
    }
   ],
   "source": [
    "sns.histplot(y_train)\n",
    "plt.show"
   ]
  },
  {
   "cell_type": "markdown",
   "id": "a6ab92fb",
   "metadata": {},
   "source": [
    "# Imbalance learn"
   ]
  },
  {
   "cell_type": "code",
   "execution_count": 25,
   "id": "7c8dcc61-bcd6-4bf5-b5d7-0196d823f839",
   "metadata": {
    "id": "7c8dcc61-bcd6-4bf5-b5d7-0196d823f839"
   },
   "outputs": [],
   "source": [
    "from imblearn.datasets import make_imbalance"
   ]
  },
  {
   "cell_type": "code",
   "execution_count": 26,
   "id": "4a842ebb-9fa9-4a80-8783-dfa506c89857",
   "metadata": {
    "id": "4a842ebb-9fa9-4a80-8783-dfa506c89857"
   },
   "outputs": [],
   "source": [
    "from collections import Counter\n",
    "def ratio_func(y, multiplier, minority_class):\n",
    "    target_stats = Counter(y)\n",
    "    return {minority_class: int(multiplier * target_stats[minority_class])}"
   ]
  },
  {
   "cell_type": "code",
   "execution_count": 27,
   "id": "G71ZpJtzLaD3",
   "metadata": {
    "id": "G71ZpJtzLaD3"
   },
   "outputs": [],
   "source": [
    "def unbalancing(x_train, y_train, M ,ratio):\n",
    "  x_unbal = x_train.reshape(-1, 784)\n",
    "  X = pd.DataFrame(x_unbal)\n",
    "  X_resampled, y_resampled = make_imbalance(X,\n",
    "        y_train,\n",
    "        sampling_strategy=ratio_func,\n",
    "        **{\"multiplier\": ratio, \"minority_class\": M},\n",
    "    )\n",
    "  plt.hist(y_resampled)\n",
    "  plt.title(\"Ratio \")\n",
    "  plt.show()\n",
    "  ### RATIO \n",
    "  x_train = X_resampled.to_numpy().reshape(-1,28,28)\n",
    "  y_train = y_resampled\n",
    "  return x_train, y_train"
   ]
  },
  {
   "cell_type": "markdown",
   "id": "cb71fdc9-2217-4f88-a3af-b406f01817ee",
   "metadata": {},
   "source": [
    "# Spliting N Nodes "
   ]
  },
  {
   "cell_type": "code",
   "execution_count": 28,
   "id": "850664c6-7809-41ac-be5c-a07270f3f6ab",
   "metadata": {},
   "outputs": [],
   "source": [
    "def label_index(y_train) : \n",
    "    label = {}\n",
    "    for i in range(len(y_train)) : \n",
    "        if y_train[i] in label.keys():\n",
    "            label[y_train[i]].append(i)\n",
    "        else : \n",
    "            label[y_train[i]] = [i]\n",
    "                            \n",
    "    return label"
   ]
  },
  {
   "cell_type": "code",
   "execution_count": 29,
   "id": "76c635c8-be72-4dbb-a9f5-b0b3c48e5c84",
   "metadata": {},
   "outputs": [],
   "source": [
    "import random\n",
    "def iid_split(nodes, label_dict) :\n",
    "    node_dict= {}\n",
    "    for node in range(nodes):\n",
    "        node_dict[node] ={}\n",
    "        number_of_label_per_nodes = {}\n",
    "        for label in label_dict.keys():\n",
    "            number_of_label_per_nodes[label] = len(label_dict[label])//nodes\n",
    "        for label in label_dict.keys():\n",
    "            for n in range(number_of_label_per_nodes[label]):\n",
    "                k = random.choice(range(len(label_dict[label])))\n",
    "                j = label_dict[label].pop(k)\n",
    "                node_dict[node].append(j)      \n",
    "    return node_dict, number_of_label_per_nodes, label_dict\n",
    "            \n",
    "        "
   ]
  },
  {
   "cell_type": "code",
   "execution_count": 30,
   "id": "1664d0ad-13cc-4840-b0c8-6b8fd9616f3f",
   "metadata": {},
   "outputs": [],
   "source": [
    "def number_of_labels_by_nodes(nodes, label_dict):\n",
    "    num_by_node = {}\n",
    "    for key in label_dict.keys():\n",
    "        num_by_node[key] = len(label_dict[key])//nodes\n",
    "    return num_by_node"
   ]
  },
  {
   "cell_type": "code",
   "execution_count": 31,
   "id": "49758c66-72ad-4107-b241-0cc663304406",
   "metadata": {},
   "outputs": [],
   "source": [
    "label_dict = label_index(y_train)"
   ]
  },
  {
   "cell_type": "code",
   "execution_count": 32,
   "id": "80fc70be-31c6-4e1c-b264-4f122fb29c74",
   "metadata": {},
   "outputs": [],
   "source": [
    "num_by_node= number_of_labels_by_nodes(100,label_dict)"
   ]
  },
  {
   "cell_type": "code",
   "execution_count": 33,
   "id": "a2d98802-2407-4e2b-8e49-d0565520c52e",
   "metadata": {},
   "outputs": [],
   "source": [
    "def iid_split(nodes, label_dict, num_by_node) :\n",
    "    node_dict= {}\n",
    "    for node in range(nodes):\n",
    "        node_dict[node] =[]\n",
    "        for label in label_dict.keys():\n",
    "            for n in range(num_by_node[label]):\n",
    "                k = random.choice(range(len(label_dict[label])))\n",
    "                j = label_dict[label].pop(k)\n",
    "                node_dict[node].append(j)      \n",
    "    return node_dict\n",
    "        "
   ]
  },
  {
   "cell_type": "code",
   "execution_count": 34,
   "id": "4737e087-6b9d-4335-9a6e-3a9ee73b308b",
   "metadata": {},
   "outputs": [],
   "source": [
    "z = iid_split(100,label_dict,num_by_node)"
   ]
  },
  {
   "cell_type": "code",
   "execution_count": 35,
   "id": "0bfaa54e-0ea5-44c7-930d-45f8eb48d86c",
   "metadata": {},
   "outputs": [],
   "source": [
    "def node_split (x_train, y_train, node_dict):\n",
    "    x_train_dict = {}\n",
    "    y_train_dict = {}\n",
    "    for key in node_dict.keys():\n",
    "        x_train_dict[key] = np.array([x_train[i-1] for i in z[key]])\n",
    "        y_train_dict[key] = [y_train[i-1] for i in z[key]]\n",
    "    return x_train_dict, y_train_dict"
   ]
  },
  {
   "cell_type": "code",
   "execution_count": 36,
   "id": "a82032b0-79c5-43ce-a8d6-f3015dc47dbd",
   "metadata": {},
   "outputs": [],
   "source": [
    "x,y = node_split(x_train,y_train,z)"
   ]
  },
  {
   "cell_type": "code",
   "execution_count": 37,
   "id": "a60a2c2e",
   "metadata": {},
   "outputs": [],
   "source": [
    "for i in y.keys():\n",
    "    y[i] = np.array(y[i])"
   ]
  },
  {
   "cell_type": "code",
   "execution_count": 38,
   "id": "9290694b-2a9d-4702-9185-a58bc07d7d2d",
   "metadata": {},
   "outputs": [
    {
     "data": {
      "image/png": "[encoded data removed]",
      "text/plain": [
       "<Figure size 432x288 with 1 Axes>"
      ]
     },
     "metadata": {
      "needs_background": "light"
     },
     "output_type": "display_data"
    },
    {
     "data": {
      "image/png": "[encoded data removed]",
      "text/plain": [
       "<Figure size 432x288 with 1 Axes>"
      ]
     },
     "metadata": {
      "needs_background": "light"
     },
     "output_type": "display_data"
    },
    {
     "data": {
      "image/png": "[encoded data removed]",
      "text/plain": [
       "<Figure size 432x288 with 1 Axes>"
      ]
     },
     "metadata": {
      "needs_background": "light"
     },
     "output_type": "display_data"
    },
    {
     "data": {
      "image/png": "[encoded data removed]",
      "text/plain": [
       "<Figure size 432x288 with 1 Axes>"
      ]
     },
     "metadata": {
      "needs_background": "light"
     },
     "output_type": "display_data"
    }
   ],
   "source": [
    "for i in range(4):\n",
    "    plt.hist(y[i])\n",
    "    plt.show()"
   ]
  },
  {
   "cell_type": "code",
   "execution_count": 39,
   "id": "6e5b3a3d",
   "metadata": {},
   "outputs": [
    {
     "data": {
      "text/plain": [
       "dict_keys([0, 1, 2, 3, 4, 5, 6, 7, 8, 9, 10, 11, 12, 13, 14, 15, 16, 17, 18, 19, 20, 21, 22, 23, 24, 25, 26, 27, 28, 29, 30, 31, 32, 33, 34, 35, 36, 37, 38, 39, 40, 41, 42, 43, 44, 45, 46, 47, 48, 49, 50, 51, 52, 53, 54, 55, 56, 57, 58, 59, 60, 61, 62, 63, 64, 65, 66, 67, 68, 69, 70, 71, 72, 73, 74, 75, 76, 77, 78, 79, 80, 81, 82, 83, 84, 85, 86, 87, 88, 89, 90, 91, 92, 93, 94, 95, 96, 97, 98, 99])"
      ]
     },
     "execution_count": 39,
     "metadata": {},
     "output_type": "execute_result"
    }
   ],
   "source": [
    "x.keys()"
   ]
  },
  {
   "cell_type": "markdown",
   "id": "0a9cff6d-47f7-4f16-aaea-f0999b7f9437",
   "metadata": {
    "tags": []
   },
   "source": [
    "# Spliting Data in validation and nodes"
   ]
  },
  {
   "cell_type": "code",
   "execution_count": 40,
   "id": "4412b06e",
   "metadata": {},
   "outputs": [],
   "source": [
    "x_train_dict,x_valid_dict, y_train_dict,  y_valid_dict = {},{},{},{}"
   ]
  },
  {
   "cell_type": "code",
   "execution_count": 41,
   "id": "719e560a",
   "metadata": {},
   "outputs": [],
   "source": [
    "from sklearn.model_selection import train_test_split\n",
    "for i in x.keys():\n",
    "    x_train_dict['node'+str(i)], x_valid_dict['node'+str(i)], y_train_dict['node'+str(i)],  y_valid_dict['node'+str(i)] = train_test_split(x[i], y[i], random_state=42,stratify= y[i], test_size=0.20)"
   ]
  },
  {
   "cell_type": "code",
   "execution_count": 42,
   "id": "40031084-3069-4474-ad6b-018f2139667b",
   "metadata": {},
   "outputs": [
    {
     "data": {
      "text/plain": [
       "numpy.ndarray"
      ]
     },
     "execution_count": 42,
     "metadata": {},
     "output_type": "execute_result"
    }
   ],
   "source": [
    "type(y_train_dict['node0'])"
   ]
  },
  {
   "cell_type": "code",
   "execution_count": 43,
   "id": "c2b8c09b-a217-4e0f-9ec9-51209eecbf4e",
   "metadata": {},
   "outputs": [
    {
     "data": {
      "image/png": "[encoded data removed]",
      "text/plain": [
       "<Figure size 432x288 with 1 Axes>"
      ]
     },
     "metadata": {
      "needs_background": "light"
     },
     "output_type": "display_data"
    }
   ],
   "source": [
    "import matplotlib.pyplot as plt\n",
    "\n",
    "image = x_train_dict['node0'][55]\n",
    "plt.title('Label {}'.format(y_train_dict['node0'][55]))\n",
    "plt.imshow(image, cmap='gray')\n",
    "plt.show()"
   ]
  },
  {
   "cell_type": "code",
   "execution_count": 44,
   "id": "a5a63c99-1153-40fe-85fc-54f9d336985c",
   "metadata": {},
   "outputs": [
    {
     "data": {
      "image/png": "[encoded data removed]",
      "text/plain": [
       "<Figure size 432x288 with 1 Axes>"
      ]
     },
     "metadata": {
      "needs_background": "light"
     },
     "output_type": "display_data"
    }
   ],
   "source": [
    "import matplotlib.pyplot as plt\n",
    "\n",
    "image = x_train_dict['node0'][16]\n",
    "plt.title('Label {}'.format(y_train_dict['node0'][16]))\n",
    "plt.imshow(image, cmap='gray')\n",
    "plt.show()"
   ]
  },
  {
   "cell_type": "code",
   "execution_count": 45,
   "id": "bc83ce59-e62f-4b06-8416-8af883b5c242",
   "metadata": {},
   "outputs": [
    {
     "data": {
      "text/plain": [
       "(array([50.,  0.,  0., 48.,  0.,  0., 55.,  0.,  0., 43.]),\n",
       " array([0. , 0.3, 0.6, 0.9, 1.2, 1.5, 1.8, 2.1, 2.4, 2.7, 3. ]),\n",
       " <BarContainer object of 10 artists>)"
      ]
     },
     "execution_count": 45,
     "metadata": {},
     "output_type": "execute_result"
    },
    {
     "data": {
      "image/png": "[encoded data removed]",
      "text/plain": [
       "<Figure size 432x288 with 1 Axes>"
      ]
     },
     "metadata": {
      "needs_background": "light"
     },
     "output_type": "display_data"
    }
   ],
   "source": [
    "import seaborn as sns\n",
    "plt.hist(y_train_dict['node0'])"
   ]
  },
  {
   "cell_type": "code",
   "execution_count": 46,
   "id": "ed9cc57d-bb59-403f-9a8a-fba5d282da68",
   "metadata": {},
   "outputs": [
    {
     "data": {
      "text/plain": [
       "(array([42.,  0.,  0., 54.,  0.,  0., 50.,  0.,  0., 50.]),\n",
       " array([0. , 0.3, 0.6, 0.9, 1.2, 1.5, 1.8, 2.1, 2.4, 2.7, 3. ]),\n",
       " <BarContainer object of 10 artists>)"
      ]
     },
     "execution_count": 46,
     "metadata": {},
     "output_type": "execute_result"
    },
    {
     "data": {
      "image/png": "[encoded data removed]",
      "text/plain": [
       "<Figure size 432x288 with 1 Axes>"
      ]
     },
     "metadata": {
      "needs_background": "light"
     },
     "output_type": "display_data"
    }
   ],
   "source": [
    "import seaborn as sns\n",
    "plt.hist(y_train_dict['node1'])"
   ]
  },
  {
   "cell_type": "markdown",
   "id": "2902f698-0018-4bfa-adf3-5e6046d87f3c",
   "metadata": {},
   "source": [
    "# Model "
   ]
  },
  {
   "cell_type": "code",
   "execution_count": 47,
   "id": "c4d94660-2181-4b5a-82e2-96094a7e3ff3",
   "metadata": {},
   "outputs": [],
   "source": [
    "from __future__ import print_function, division\n",
    "\n",
    "import torch\n",
    "import torch.nn as nn\n",
    "import torch.optim as optim\n",
    "from torch.optim import lr_scheduler\n",
    "from torchvision import models, transforms\n",
    "import time\n",
    "import copy\n",
    "from torch.utils.data import DataLoader, Dataset"
   ]
  },
  {
   "cell_type": "code",
   "execution_count": 48,
   "id": "0648413c-5e6c-45ec-9f56-147d3f46b1b4",
   "metadata": {},
   "outputs": [],
   "source": [
    "class Mymodel(nn.Module):\n",
    "    def __init__(self):\n",
    "        super(Mymodel, self).__init__()\n",
    "        self.resnet = models.resnet18(weights='DEFAULT')\n",
    "        # change input layer\n",
    "        # the default number of input channel in the resnet is 3, but our images are 1 channel. So we have to change 3 to 1.\n",
    "        # nn.Conv2d(3, 64, kernel_size=(7, 7), stride=(2, 2), padding=(3, 3), bias=False) <- default\n",
    "        self.resnet.conv1 = nn.Conv2d(1, 64, kernel_size=(7, 7), stride=(2, 2), padding=(3, 3), bias=False)\n",
    "        # change fc layer\n",
    "        # the number of classes in our dataset is 4. default is 1000.\n",
    "        self.resnet.num_ftrs = self.resnet.fc.in_features\n",
    "        self.resnet.fc = nn.Linear(self.resnet.num_ftrs, 4)"
   ]
  },
  {
   "cell_type": "code",
   "execution_count": 49,
   "id": "dd003434-0896-4a17-a879-d83fe735e519",
   "metadata": {},
   "outputs": [],
   "source": [
    "from tqdm import tqdm\n",
    "from time import sleep\n",
    "from tqdm import trange"
   ]
  },
  {
   "cell_type": "code",
   "execution_count": 50,
   "id": "4b8951d5-03fd-4d5d-9481-2f21a0d8ba72",
   "metadata": {},
   "outputs": [],
   "source": [
    "X=Mymodel() # Model de depart"
   ]
  },
  {
   "cell_type": "code",
   "execution_count": 51,
   "id": "a043f3a1-a9f2-4c68-bfc5-475bfd12724e",
   "metadata": {},
   "outputs": [
    {
     "data": {
      "text/plain": [
       "Linear(in_features=512, out_features=4, bias=True)"
      ]
     },
     "execution_count": 51,
     "metadata": {},
     "output_type": "execute_result"
    }
   ],
   "source": [
    "X.resnet.fc"
   ]
  },
  {
   "cell_type": "code",
   "execution_count": 52,
   "id": "c15e04c2-7cbd-4669-ab51-02a1275632e8",
   "metadata": {},
   "outputs": [],
   "source": [
    "#To fit the model \n",
    "device = torch.device(\"cuda:0\" if torch.cuda.is_available() else \"cpu\")\n",
    "model_ft = X.resnet.to(device)"
   ]
  },
  {
   "cell_type": "code",
   "execution_count": 94,
   "id": "4d0647d9-f427-4dc0-81cd-47f5fcbab239",
   "metadata": {},
   "outputs": [],
   "source": [
    "main_model = model_ft\n",
    "learning_rate = 0.001\n",
    "numEpoch = 5"
   ]
  },
  {
   "cell_type": "code",
   "execution_count": 54,
   "id": "4698dcc4-9602-478c-aaaf-db3a46efa2cf",
   "metadata": {},
   "outputs": [
    {
     "data": {
      "text/plain": [
       "Linear(in_features=512, out_features=4, bias=True)"
      ]
     },
     "execution_count": 54,
     "metadata": {},
     "output_type": "execute_result"
    }
   ],
   "source": [
    "model_ft.fc"
   ]
  },
  {
   "cell_type": "code",
   "execution_count": 55,
   "id": "fb00a0aa-a649-494d-b216-bbde9ba9b1f1",
   "metadata": {},
   "outputs": [],
   "source": [
    "def create_model_dict(number_of_nodes):\n",
    "    model_dict = dict()\n",
    "    \n",
    "    for i in range(number_of_nodes):\n",
    "        model_name=\"node\"+str(i)\n",
    "        model_info= Mymodel().resnet\n",
    "        model_dict.update({model_name : model_info })\n",
    "        \n",
    "        \n",
    "    return model_dict"
   ]
  },
  {
   "cell_type": "code",
   "execution_count": 56,
   "id": "8e9a28ce-f686-47b1-8733-b8e3c2bf6115",
   "metadata": {},
   "outputs": [],
   "source": [
    "model_dict = create_model_dict(100)"
   ]
  },
  {
   "cell_type": "code",
   "execution_count": 57,
   "id": "74f857ae-2645-4efb-a9ee-72633c585e0a",
   "metadata": {},
   "outputs": [],
   "source": [
    "name_of_x_train_sets=list(x_train_dict.keys())\n",
    "name_of_y_train_sets=list(y_train_dict.keys())\n",
    "name_of_x_valid_sets=list(x_valid_dict.keys())\n",
    "name_of_y_valid_sets=list(y_valid_dict.keys())\n",
    "#name_of_x_test_sets=list(x_test_dict.keys())\n",
    "#name_of_y_test_sets=list(y_test_dict.keys())\n",
    "\n",
    "name_of_models=list(model_dict.keys())\n",
    "# print(name_of_x_train_sets)\n",
    "# print(name_of_y_train_sets)\n",
    "# print(name_of_x_valid_sets)\n",
    "# print(name_of_y_valid_sets)\n",
    "# print(name_of_x_test_sets)\n",
    "# print(name_of_y_test_sets)\n",
    "# print(\"\\n ------------\")\n",
    "# print(name_of_models)\n",
    "# print(name_of_optimizers)\n",
    "# print(name_of_criterions)"
   ]
  },
  {
   "cell_type": "code",
   "execution_count": 58,
   "id": "7fb28997-4975-412a-8611-2d36d0058a10",
   "metadata": {},
   "outputs": [
    {
     "name": "stdout",
     "output_type": "stream",
     "text": [
      "tensor([[ 0.0331, -0.0289,  0.0314,  0.0043, -0.0364]],\n",
      "       grad_fn=<SliceBackward0>)\n",
      "tensor([[-0.0438, -0.0175, -0.0273,  0.0197, -0.0218]],\n",
      "       grad_fn=<SliceBackward0>)\n",
      "tensor([[ 0.0304, -0.0440,  0.0034,  0.0174,  0.0241]],\n",
      "       grad_fn=<SliceBackward0>)\n"
     ]
    }
   ],
   "source": [
    "#before sending main model to nodes\n",
    "print(main_model.fc.weight[0:1,0:5])\n",
    "print(model_dict[\"node1\"].fc.weight[0:1,0:5])\n",
    "print(model_dict[\"node0\"].fc.weight[0:1,0:5])"
   ]
  },
  {
   "cell_type": "code",
   "execution_count": 59,
   "id": "b6c6f4c5-9507-42ae-9811-62a6e25a335b",
   "metadata": {},
   "outputs": [],
   "source": [
    "number_of_nodes =100"
   ]
  },
  {
   "cell_type": "code",
   "execution_count": 61,
   "id": "48af35de-1ab7-45f8-8b4d-ffeb4fe7cbc8",
   "metadata": {},
   "outputs": [
    {
     "data": {
      "text/plain": [
       "ResNet(\n",
       "  (conv1): Conv2d(1, 64, kernel_size=(7, 7), stride=(2, 2), padding=(3, 3), bias=False)\n",
       "  (bn1): BatchNorm2d(64, eps=1e-05, momentum=0.1, affine=True, track_running_stats=True)\n",
       "  (relu): ReLU(inplace=True)\n",
       "  (maxpool): MaxPool2d(kernel_size=3, stride=2, padding=1, dilation=1, ceil_mode=False)\n",
       "  (layer1): Sequential(\n",
       "    (0): BasicBlock(\n",
       "      (conv1): Conv2d(64, 64, kernel_size=(3, 3), stride=(1, 1), padding=(1, 1), bias=False)\n",
       "      (bn1): BatchNorm2d(64, eps=1e-05, momentum=0.1, affine=True, track_running_stats=True)\n",
       "      (relu): ReLU(inplace=True)\n",
       "      (conv2): Conv2d(64, 64, kernel_size=(3, 3), stride=(1, 1), padding=(1, 1), bias=False)\n",
       "      (bn2): BatchNorm2d(64, eps=1e-05, momentum=0.1, affine=True, track_running_stats=True)\n",
       "    )\n",
       "    (1): BasicBlock(\n",
       "      (conv1): Conv2d(64, 64, kernel_size=(3, 3), stride=(1, 1), padding=(1, 1), bias=False)\n",
       "      (bn1): BatchNorm2d(64, eps=1e-05, momentum=0.1, affine=True, track_running_stats=True)\n",
       "      (relu): ReLU(inplace=True)\n",
       "      (conv2): Conv2d(64, 64, kernel_size=(3, 3), stride=(1, 1), padding=(1, 1), bias=False)\n",
       "      (bn2): BatchNorm2d(64, eps=1e-05, momentum=0.1, affine=True, track_running_stats=True)\n",
       "    )\n",
       "  )\n",
       "  (layer2): Sequential(\n",
       "    (0): BasicBlock(\n",
       "      (conv1): Conv2d(64, 128, kernel_size=(3, 3), stride=(2, 2), padding=(1, 1), bias=False)\n",
       "      (bn1): BatchNorm2d(128, eps=1e-05, momentum=0.1, affine=True, track_running_stats=True)\n",
       "      (relu): ReLU(inplace=True)\n",
       "      (conv2): Conv2d(128, 128, kernel_size=(3, 3), stride=(1, 1), padding=(1, 1), bias=False)\n",
       "      (bn2): BatchNorm2d(128, eps=1e-05, momentum=0.1, affine=True, track_running_stats=True)\n",
       "      (downsample): Sequential(\n",
       "        (0): Conv2d(64, 128, kernel_size=(1, 1), stride=(2, 2), bias=False)\n",
       "        (1): BatchNorm2d(128, eps=1e-05, momentum=0.1, affine=True, track_running_stats=True)\n",
       "      )\n",
       "    )\n",
       "    (1): BasicBlock(\n",
       "      (conv1): Conv2d(128, 128, kernel_size=(3, 3), stride=(1, 1), padding=(1, 1), bias=False)\n",
       "      (bn1): BatchNorm2d(128, eps=1e-05, momentum=0.1, affine=True, track_running_stats=True)\n",
       "      (relu): ReLU(inplace=True)\n",
       "      (conv2): Conv2d(128, 128, kernel_size=(3, 3), stride=(1, 1), padding=(1, 1), bias=False)\n",
       "      (bn2): BatchNorm2d(128, eps=1e-05, momentum=0.1, affine=True, track_running_stats=True)\n",
       "    )\n",
       "  )\n",
       "  (layer3): Sequential(\n",
       "    (0): BasicBlock(\n",
       "      (conv1): Conv2d(128, 256, kernel_size=(3, 3), stride=(2, 2), padding=(1, 1), bias=False)\n",
       "      (bn1): BatchNorm2d(256, eps=1e-05, momentum=0.1, affine=True, track_running_stats=True)\n",
       "      (relu): ReLU(inplace=True)\n",
       "      (conv2): Conv2d(256, 256, kernel_size=(3, 3), stride=(1, 1), padding=(1, 1), bias=False)\n",
       "      (bn2): BatchNorm2d(256, eps=1e-05, momentum=0.1, affine=True, track_running_stats=True)\n",
       "      (downsample): Sequential(\n",
       "        (0): Conv2d(128, 256, kernel_size=(1, 1), stride=(2, 2), bias=False)\n",
       "        (1): BatchNorm2d(256, eps=1e-05, momentum=0.1, affine=True, track_running_stats=True)\n",
       "      )\n",
       "    )\n",
       "    (1): BasicBlock(\n",
       "      (conv1): Conv2d(256, 256, kernel_size=(3, 3), stride=(1, 1), padding=(1, 1), bias=False)\n",
       "      (bn1): BatchNorm2d(256, eps=1e-05, momentum=0.1, affine=True, track_running_stats=True)\n",
       "      (relu): ReLU(inplace=True)\n",
       "      (conv2): Conv2d(256, 256, kernel_size=(3, 3), stride=(1, 1), padding=(1, 1), bias=False)\n",
       "      (bn2): BatchNorm2d(256, eps=1e-05, momentum=0.1, affine=True, track_running_stats=True)\n",
       "    )\n",
       "  )\n",
       "  (layer4): Sequential(\n",
       "    (0): BasicBlock(\n",
       "      (conv1): Conv2d(256, 512, kernel_size=(3, 3), stride=(2, 2), padding=(1, 1), bias=False)\n",
       "      (bn1): BatchNorm2d(512, eps=1e-05, momentum=0.1, affine=True, track_running_stats=True)\n",
       "      (relu): ReLU(inplace=True)\n",
       "      (conv2): Conv2d(512, 512, kernel_size=(3, 3), stride=(1, 1), padding=(1, 1), bias=False)\n",
       "      (bn2): BatchNorm2d(512, eps=1e-05, momentum=0.1, affine=True, track_running_stats=True)\n",
       "      (downsample): Sequential(\n",
       "        (0): Conv2d(256, 512, kernel_size=(1, 1), stride=(2, 2), bias=False)\n",
       "        (1): BatchNorm2d(512, eps=1e-05, momentum=0.1, affine=True, track_running_stats=True)\n",
       "      )\n",
       "    )\n",
       "    (1): BasicBlock(\n",
       "      (conv1): Conv2d(512, 512, kernel_size=(3, 3), stride=(1, 1), padding=(1, 1), bias=False)\n",
       "      (bn1): BatchNorm2d(512, eps=1e-05, momentum=0.1, affine=True, track_running_stats=True)\n",
       "      (relu): ReLU(inplace=True)\n",
       "      (conv2): Conv2d(512, 512, kernel_size=(3, 3), stride=(1, 1), padding=(1, 1), bias=False)\n",
       "      (bn2): BatchNorm2d(512, eps=1e-05, momentum=0.1, affine=True, track_running_stats=True)\n",
       "    )\n",
       "  )\n",
       "  (avgpool): AdaptiveAvgPool2d(output_size=(1, 1))\n",
       "  (fc): Linear(in_features=512, out_features=4, bias=True)\n",
       ")"
      ]
     },
     "execution_count": 61,
     "metadata": {},
     "output_type": "execute_result"
    }
   ],
   "source": [
    "model_dict['node0']"
   ]
  },
  {
   "cell_type": "code",
   "execution_count": 62,
   "id": "4a06194d-bcec-4d0d-8b3c-11ce5d537a3e",
   "metadata": {},
   "outputs": [
    {
     "name": "stdout",
     "output_type": "stream",
     "text": [
      "conv1.weight\n",
      "bn1.weight\n",
      "bn1.bias\n",
      "layer1.0.conv1.weight\n",
      "layer1.0.bn1.weight\n",
      "layer1.0.bn1.bias\n",
      "layer1.0.conv2.weight\n",
      "layer1.0.bn2.weight\n",
      "layer1.0.bn2.bias\n",
      "layer1.1.conv1.weight\n",
      "layer1.1.bn1.weight\n",
      "layer1.1.bn1.bias\n",
      "layer1.1.conv2.weight\n",
      "layer1.1.bn2.weight\n",
      "layer1.1.bn2.bias\n",
      "layer2.0.conv1.weight\n",
      "layer2.0.bn1.weight\n",
      "layer2.0.bn1.bias\n",
      "layer2.0.conv2.weight\n",
      "layer2.0.bn2.weight\n",
      "layer2.0.bn2.bias\n",
      "layer2.0.downsample.0.weight\n",
      "layer2.0.downsample.1.weight\n",
      "layer2.0.downsample.1.bias\n",
      "layer2.1.conv1.weight\n",
      "layer2.1.bn1.weight\n",
      "layer2.1.bn1.bias\n",
      "layer2.1.conv2.weight\n",
      "layer2.1.bn2.weight\n",
      "layer2.1.bn2.bias\n",
      "layer3.0.conv1.weight\n",
      "layer3.0.bn1.weight\n",
      "layer3.0.bn1.bias\n",
      "layer3.0.conv2.weight\n",
      "layer3.0.bn2.weight\n",
      "layer3.0.bn2.bias\n",
      "layer3.0.downsample.0.weight\n",
      "layer3.0.downsample.1.weight\n",
      "layer3.0.downsample.1.bias\n",
      "layer3.1.conv1.weight\n",
      "layer3.1.bn1.weight\n",
      "layer3.1.bn1.bias\n",
      "layer3.1.conv2.weight\n",
      "layer3.1.bn2.weight\n",
      "layer3.1.bn2.bias\n",
      "layer4.0.conv1.weight\n",
      "layer4.0.bn1.weight\n",
      "layer4.0.bn1.bias\n",
      "layer4.0.conv2.weight\n",
      "layer4.0.bn2.weight\n",
      "layer4.0.bn2.bias\n",
      "layer4.0.downsample.0.weight\n",
      "layer4.0.downsample.1.weight\n",
      "layer4.0.downsample.1.bias\n",
      "layer4.1.conv1.weight\n",
      "layer4.1.bn1.weight\n",
      "layer4.1.bn1.bias\n",
      "layer4.1.conv2.weight\n",
      "layer4.1.bn2.weight\n",
      "layer4.1.bn2.bias\n",
      "fc.weight\n",
      "fc.bias\n"
     ]
    }
   ],
   "source": [
    "for name, param  in main_model.named_parameters():\n",
    "    print(name)"
   ]
  },
  {
   "cell_type": "code",
   "execution_count": 63,
   "id": "351a308a-dd8d-49eb-9576-833a0e5065aa",
   "metadata": {},
   "outputs": [
    {
     "data": {
      "text/plain": [
       "['node0',\n",
       " 'node1',\n",
       " 'node2',\n",
       " 'node3',\n",
       " 'node4',\n",
       " 'node5',\n",
       " 'node6',\n",
       " 'node7',\n",
       " 'node8',\n",
       " 'node9',\n",
       " 'node10',\n",
       " 'node11',\n",
       " 'node12',\n",
       " 'node13',\n",
       " 'node14',\n",
       " 'node15',\n",
       " 'node16',\n",
       " 'node17',\n",
       " 'node18',\n",
       " 'node19',\n",
       " 'node20',\n",
       " 'node21',\n",
       " 'node22',\n",
       " 'node23',\n",
       " 'node24',\n",
       " 'node25',\n",
       " 'node26',\n",
       " 'node27',\n",
       " 'node28',\n",
       " 'node29',\n",
       " 'node30',\n",
       " 'node31',\n",
       " 'node32',\n",
       " 'node33',\n",
       " 'node34',\n",
       " 'node35',\n",
       " 'node36',\n",
       " 'node37',\n",
       " 'node38',\n",
       " 'node39',\n",
       " 'node40',\n",
       " 'node41',\n",
       " 'node42',\n",
       " 'node43',\n",
       " 'node44',\n",
       " 'node45',\n",
       " 'node46',\n",
       " 'node47',\n",
       " 'node48',\n",
       " 'node49',\n",
       " 'node50',\n",
       " 'node51',\n",
       " 'node52',\n",
       " 'node53',\n",
       " 'node54',\n",
       " 'node55',\n",
       " 'node56',\n",
       " 'node57',\n",
       " 'node58',\n",
       " 'node59',\n",
       " 'node60',\n",
       " 'node61',\n",
       " 'node62',\n",
       " 'node63',\n",
       " 'node64',\n",
       " 'node65',\n",
       " 'node66',\n",
       " 'node67',\n",
       " 'node68',\n",
       " 'node69',\n",
       " 'node70',\n",
       " 'node71',\n",
       " 'node72',\n",
       " 'node73',\n",
       " 'node74',\n",
       " 'node75',\n",
       " 'node76',\n",
       " 'node77',\n",
       " 'node78',\n",
       " 'node79',\n",
       " 'node80',\n",
       " 'node81',\n",
       " 'node82',\n",
       " 'node83',\n",
       " 'node84',\n",
       " 'node85',\n",
       " 'node86',\n",
       " 'node87',\n",
       " 'node88',\n",
       " 'node89',\n",
       " 'node90',\n",
       " 'node91',\n",
       " 'node92',\n",
       " 'node93',\n",
       " 'node94',\n",
       " 'node95',\n",
       " 'node96',\n",
       " 'node97',\n",
       " 'node98',\n",
       " 'node99']"
      ]
     },
     "execution_count": 63,
     "metadata": {},
     "output_type": "execute_result"
    }
   ],
   "source": [
    "name_of_models"
   ]
  },
  {
   "cell_type": "code",
   "execution_count": 64,
   "id": "4a39e738-edf5-4906-94a4-81fc62eb089b",
   "metadata": {},
   "outputs": [],
   "source": [
    "def send_main_model_to_nodes_and_update_model_dict(main_model, model_dict, number_of_nodes): \n",
    "    with torch.no_grad():\n",
    "        for i in range(number_of_nodes):\n",
    "            state_dict= copy.deepcopy(main_model.state_dict())\n",
    "            model_dict[name_of_models[i]].load_state_dict(state_dict)\n",
    "    return model_dict"
   ]
  },
  {
   "cell_type": "code",
   "execution_count": 65,
   "id": "30e2b70e-41b7-4ca5-a35f-8aa79faf22a1",
   "metadata": {},
   "outputs": [],
   "source": [
    "# We send the main model to the nodes. \n",
    "model_dict=send_main_model_to_nodes_and_update_model_dict(main_model, model_dict, number_of_nodes)"
   ]
  },
  {
   "cell_type": "code",
   "execution_count": 66,
   "id": "14f63533-da40-4902-95e3-c1db8731b16d",
   "metadata": {},
   "outputs": [
    {
     "name": "stdout",
     "output_type": "stream",
     "text": [
      "tensor([[ 0.0331, -0.0289,  0.0314,  0.0043, -0.0364]],\n",
      "       grad_fn=<SliceBackward0>)\n",
      "tensor([[ 0.0331, -0.0289,  0.0314,  0.0043, -0.0364]],\n",
      "       grad_fn=<SliceBackward0>)\n",
      "tensor([[ 0.0331, -0.0289,  0.0314,  0.0043, -0.0364]],\n",
      "       grad_fn=<SliceBackward0>)\n"
     ]
    }
   ],
   "source": [
    "# We see here they have the same parameter on the randomly initialize layer. \n",
    "print(main_model.fc.weight[0:1,0:5])\n",
    "print(model_dict[\"node0\"].fc.weight[0:1,0:5])\n",
    "print(model_dict[\"node1\"].fc.weight[0:1,0:5])"
   ]
  },
  {
   "cell_type": "code",
   "execution_count": 67,
   "id": "915eb88b-999e-41ab-ae29-ab8d1f3838cb",
   "metadata": {},
   "outputs": [
    {
     "data": {
      "text/plain": [
       "1827593974976"
      ]
     },
     "execution_count": 67,
     "metadata": {},
     "output_type": "execute_result"
    }
   ],
   "source": [
    "id(main_model)"
   ]
  },
  {
   "cell_type": "code",
   "execution_count": 68,
   "id": "6bd215fc-7aff-43ef-a2e7-06b1146aff1a",
   "metadata": {},
   "outputs": [
    {
     "name": "stdout",
     "output_type": "stream",
     "text": [
      "1827602922272\n",
      "1827602951952\n"
     ]
    }
   ],
   "source": [
    "print(id(model_dict[\"node0\"]))\n",
    "print(id(model_dict[\"node1\"]))"
   ]
  },
  {
   "cell_type": "code",
   "execution_count": 69,
   "id": "f1ae1a3c-c524-4760-a172-77c3d2ba7444",
   "metadata": {},
   "outputs": [],
   "source": [
    "def fedavg(main_model, model_dict, number_of_nodes, y_train_dict):  #with equality splited data\n",
    "    samples_by_nodes = [len(y_train_dict[i]) for i in y_train_dict.keys()]\n",
    "    total_samples = sum(samples_by_nodes)\n",
    "    state_dict = model_dict[name_of_models[0]].state_dict()\n",
    "    for name, param in model_dict[name_of_models[0]].named_parameters():\n",
    "        for i in range(0, number_of_nodes):\n",
    "            if i ==0 :\n",
    "                state_dict[name] = state_dict[name]*samples_by_nodes[i]/total_samples\n",
    "            else :\n",
    "                state_dict[name]+=   model_dict[name_of_models[i]].state_dict()[name]*samples_by_nodes[i]/total_samples\n",
    "    new_model = Mymodel().resnet    \n",
    "    new_model.load_state_dict(state_dict)\n",
    "    return new_model"
   ]
  },
  {
   "cell_type": "code",
   "execution_count": 70,
   "id": "25d50dd7",
   "metadata": {},
   "outputs": [],
   "source": [
    "samples_by_nodes = [len(y_train_dict[i]) for i in y_train_dict.keys()]\n"
   ]
  },
  {
   "cell_type": "markdown",
   "id": "d6abf4f3",
   "metadata": {},
   "source": [
    "# Putting missing values in nodes"
   ]
  },
  {
   "cell_type": "code",
   "execution_count": 71,
   "id": "bb6c3912",
   "metadata": {},
   "outputs": [],
   "source": [
    "# put missing values in nodes\n",
    "for i in range(100):\n",
    "    train_index= y_train_dict[name_of_models[i]][:] != i//25\n",
    "    y_train_dict[name_of_models[i]] = y_train_dict[name_of_models[i]][train_index]\n",
    "    x_train_dict[name_of_models[i]] = x_train_dict[name_of_models[i]][train_index]"
   ]
  },
  {
   "cell_type": "code",
   "execution_count": null,
   "id": "10fc8d8e",
   "metadata": {},
   "outputs": [],
   "source": []
  },
  {
   "cell_type": "code",
   "execution_count": 72,
   "id": "2457a584",
   "metadata": {},
   "outputs": [
    {
     "data": {
      "image/png": "[encoded data removed]",
      "text/plain": [
       "<Figure size 432x288 with 1 Axes>"
      ]
     },
     "metadata": {
      "needs_background": "light"
     },
     "output_type": "display_data"
    },
    {
     "data": {
      "image/png": "[encoded data removed]",
      "text/plain": [
       "<Figure size 432x288 with 1 Axes>"
      ]
     },
     "metadata": {
      "needs_background": "light"
     },
     "output_type": "display_data"
    },
    {
     "data": {
      "image/png": "[encoded data removed]",
      "text/plain": [
       "<Figure size 432x288 with 1 Axes>"
      ]
     },
     "metadata": {
      "needs_background": "light"
     },
     "output_type": "display_data"
    },
    {
     "data": {
      "image/png": "[encoded data removed]",
      "text/plain": [
       "<Figure size 432x288 with 1 Axes>"
      ]
     },
     "metadata": {
      "needs_background": "light"
     },
     "output_type": "display_data"
    }
   ],
   "source": [
    "for i in range(4):\n",
    "    plt.hist(y_train_dict[name_of_models[i]])\n",
    "    plt.show()"
   ]
  },
  {
   "cell_type": "code",
   "execution_count": 73,
   "id": "345be044-05da-4c5d-b2df-652fa44080ab",
   "metadata": {},
   "outputs": [
    {
     "name": "stdout",
     "output_type": "stream",
     "text": [
      "tensor([[ 0.0331, -0.0289,  0.0314,  0.0043, -0.0364]],\n",
      "       grad_fn=<SliceBackward0>)\n",
      "tensor([[ 0.0331, -0.0289,  0.0314,  0.0043, -0.0364]],\n",
      "       grad_fn=<SliceBackward0>)\n",
      "tensor([[ 0.0331, -0.0289,  0.0314,  0.0043, -0.0364]],\n",
      "       grad_fn=<SliceBackward0>)\n",
      "tensor([[ 0.0331, -0.0289,  0.0314,  0.0043, -0.0364]],\n",
      "       grad_fn=<SliceBackward0>)\n",
      "tensor([[ 0.0331, -0.0289,  0.0314,  0.0043, -0.0364]],\n",
      "       grad_fn=<SliceBackward0>)\n"
     ]
    }
   ],
   "source": [
    "# We see here they have the same parameter\n",
    "number_of_nodes = 100\n",
    "print(main_model.fc.weight[0:1,0:5])\n",
    "print(model_dict[\"node0\"].fc.weight[0:1,0:5])\n",
    "print(model_dict[\"node1\"].fc.weight[0:1,0:5])\n",
    "print(model_dict[\"node2\"].fc.weight[0:1,0:5])\n",
    "print(model_dict[\"node3\"].fc.weight[0:1,0:5])\n",
    "#print(model_dict[\"node4\"].fc.weight[0:1,0:5])\n",
    "new = fedavg(main_model, model_dict, number_of_nodes, y_train_dict)"
   ]
  },
  {
   "cell_type": "code",
   "execution_count": 74,
   "id": "32684220-7330-42e1-a9e4-c1defc80f79d",
   "metadata": {},
   "outputs": [
    {
     "name": "stdout",
     "output_type": "stream",
     "text": [
      "tensor([[ 0.0331, -0.0289,  0.0314,  0.0043, -0.0364]],\n",
      "       grad_fn=<SliceBackward0>)\n"
     ]
    }
   ],
   "source": [
    "print(new.fc.weight[0:1,0:5])"
   ]
  },
  {
   "cell_type": "code",
   "execution_count": 75,
   "id": "3f6d595e-d56e-4df7-88a3-8ddc8e9099fe",
   "metadata": {},
   "outputs": [
    {
     "name": "stdout",
     "output_type": "stream",
     "text": [
      "tensor([[-0.0049,  0.0208, -0.0136, -0.0141, -0.0226]],\n",
      "       grad_fn=<SliceBackward0>)\n",
      "tensor([[ 0.0128, -0.0013, -0.0295,  0.0312, -0.0366]],\n",
      "       grad_fn=<SliceBackward0>)\n"
     ]
    }
   ],
   "source": [
    "modelA = Mymodel().resnet\n",
    "modelB = Mymodel().resnet\n",
    "model_dict[\"node0\"] =modelA\n",
    "model_dict[\"node1\"] = modelB\n",
    "print(modelA.fc.weight[0:1,0:5])\n",
    "print(modelB.fc.weight[0:1,0:5])"
   ]
  },
  {
   "cell_type": "code",
   "execution_count": 76,
   "id": "f8a98405-bec0-4695-9c5b-4f7bb19d87c0",
   "metadata": {},
   "outputs": [
    {
     "name": "stdout",
     "output_type": "stream",
     "text": [
      "tensor([[ 0.0331, -0.0289,  0.0314,  0.0043, -0.0364]],\n",
      "       grad_fn=<SliceBackward0>)\n",
      "tensor([[ 0.0325, -0.0281,  0.0303,  0.0044, -0.0363]],\n",
      "       grad_fn=<SliceBackward0>)\n"
     ]
    }
   ],
   "source": [
    "new = fedavg(main_model, model_dict, number_of_nodes,y_train_dict)\n",
    "print(main_model.fc.weight[0:1,0:5])\n",
    "print(new.fc.weight[0:1,0:5])"
   ]
  },
  {
   "cell_type": "code",
   "execution_count": null,
   "id": "3daae4c1-eacc-4719-9ede-94ad829cbb95",
   "metadata": {},
   "outputs": [],
   "source": []
  },
  {
   "cell_type": "code",
   "execution_count": null,
   "id": "c1ce1c40-eb83-4d80-9b32-30148d7c07fa",
   "metadata": {},
   "outputs": [],
   "source": []
  },
  {
   "cell_type": "markdown",
   "id": "f4aa3834-498d-45a7-b15b-90d03eedda37",
   "metadata": {
    "tags": []
   },
   "source": [
    "# Preprocessing"
   ]
  },
  {
   "cell_type": "code",
   "execution_count": 78,
   "id": "-TWqCRvH-j6k",
   "metadata": {
    "id": "-TWqCRvH-j6k"
   },
   "outputs": [
    {
     "data": {
      "image/png": "[encoded data removed]",
      "text/plain": [
       "<Figure size 432x288 with 1 Axes>"
      ]
     },
     "metadata": {
      "needs_background": "light"
     },
     "output_type": "display_data"
    }
   ],
   "source": [
    "import matplotlib.pyplot as plt\n",
    "i= 10\n",
    "image = x_valid_dict['node1'][i]\n",
    "plt.title('{}'.format( y_valid_dict['node1'][i]))\n",
    "plt.imshow(image, cmap='gray')\n",
    "plt.show()"
   ]
  },
  {
   "cell_type": "code",
   "execution_count": 79,
   "id": "408ffb01-f5fc-45ff-9f25-99fca500a904",
   "metadata": {},
   "outputs": [],
   "source": [
    "# define custom dataset\n",
    "class MyDataset(Dataset):\n",
    "    def __init__(self, feature, target=None, transform=None):\n",
    "\n",
    "        self.X = feature\n",
    "        self.Y = target\n",
    "        self.transform = transform\n",
    "\n",
    "    def __len__(self):\n",
    "        return len(self.X)\n",
    "\n",
    "    def __getitem__(self, idx):\n",
    "        if self.transform is not None:\n",
    "            return self.transform(self.X[idx]), self.Y[idx]\n",
    "        elif self.Y is None:\n",
    "            return [self.X[idx]]\n",
    "        return self.X[idx], self.Y[idx]"
   ]
  },
  {
   "cell_type": "code",
   "execution_count": 80,
   "id": "85de7f22-2cb0-4693-9c2f-cba7e4e24b2c",
   "metadata": {},
   "outputs": [],
   "source": [
    "# data reshape\n",
    "def data_reshape(train_split,train_labels_split,validation_split,validation_labels_split) :\n",
    "    # test_data = torch.from_numpy(test_split.reshape((-1,1,28,28)))\n",
    "    train_data = torch.from_numpy(train_split.reshape((-1,1,28,28)))\n",
    "    train_labels_data =  torch.from_numpy(train_labels_split)\n",
    "    validation_data = torch.from_numpy(validation_split.reshape((-1,1,28,28)))\n",
    "    validation_labels_data =  torch.from_numpy(validation_labels_split)\n",
    "    return train_data, validation_data, train_labels_data,  validation_labels_data"
   ]
  },
  {
   "cell_type": "code",
   "execution_count": 81,
   "id": "9423e17b-b00b-493a-aabc-84f754841ddc",
   "metadata": {},
   "outputs": [],
   "source": [
    "def data_loader(train_data, validation_data, train_labels_data,  validation_labels_data):\n",
    "    train_set = MyDataset(train_data.float(), train_labels_data)\n",
    "    valid_set = MyDataset(validation_data.float(), validation_labels_data)\n",
    "    # test_set = MyDataset(test_data.float())\n",
    "    batch_size = 32\n",
    "    train_loader = torch.utils.data.DataLoader(train_set, batch_size = batch_size, shuffle = True)\n",
    "    valid_loader = torch.utils.data.DataLoader(valid_set, batch_size = batch_size, shuffle = False)\n",
    "    # test_loader = torch.utils.data.DataLoader(test_set, batch_size = batch_size, shuffle = False)\n",
    "    return train_set, valid_set, train_loader, valid_loader"
   ]
  },
  {
   "cell_type": "code",
   "execution_count": 82,
   "id": "ab22c7cb-dfdc-416c-b692-f89ddc10599a",
   "metadata": {},
   "outputs": [],
   "source": [
    "def transform_load(train_data, train_labels_data, train_set, train_loader): # calculate mean and std of train_set for normalize\n",
    "    data = next(iter(train_loader))\n",
    "    mean = data[0].mean()\n",
    "    std = data[0].std()\n",
    "\n",
    "    # set transformation option\n",
    "    transform = transforms.Compose([\n",
    "            transforms.ToPILImage(),\n",
    "            transforms.RandomAffine(degrees = 30),\n",
    "            transforms.RandomPerspective(),\n",
    "            transforms.ToTensor(),\n",
    "            transforms.Normalize(mean, std)])\n",
    "\n",
    "    # augmented train_set\n",
    "    augmented_train_set = MyDataset(train_data.float(), train_labels_data, transform=transform)\n",
    "\n",
    "    # combine original set with augmented set\n",
    "    datasets = []\n",
    "    datasets.append(train_set)\n",
    "    datasets.append(augmented_train_set)\n",
    "    train_set = torch.utils.data.ConcatDataset(datasets)\n",
    "\n",
    "    # redefine train_loader\n",
    "    train_loader = torch.utils.data.DataLoader(train_set, batch_size = 32, shuffle = True)\n",
    "    return train_loader"
   ]
  },
  {
   "cell_type": "code",
   "execution_count": 83,
   "id": "8e672a86-4a94-48b9-a90f-819b1b5579b4",
   "metadata": {},
   "outputs": [],
   "source": [
    "def preprocessing(x_train_dict , y_train_dict, x_valid_dict , y_valid_dict):\n",
    "    data_resh, data_load,trans = {},{},{}\n",
    "    for i in x_train_dict.keys() :\n",
    "        data_resh[i]= data_reshape(x_train_dict[i] , y_train_dict[i], x_valid_dict[i] , y_valid_dict[i])\n",
    "        data_load[i]= data_loader(data_resh[i][0], data_resh[i][1],data_resh[i][2], data_resh[i][3])\n",
    "        trans[i] = transform_load(data_resh[i][0], data_resh[i][2], data_load[i][0], data_load[i][2])\n",
    "    return data_load , trans"
   ]
  },
  {
   "cell_type": "code",
   "execution_count": 84,
   "id": "6d7688b4-3065-43f6-855a-467fb0c08234",
   "metadata": {},
   "outputs": [],
   "source": [
    "data_load, trans = preprocessing(x_train_dict , y_train_dict, x_valid_dict , y_valid_dict)\n"
   ]
  },
  {
   "cell_type": "code",
   "execution_count": 98,
   "id": "1defa285-98bb-4a89-a6d0-5b8ff629caaf",
   "metadata": {},
   "outputs": [],
   "source": [
    "from tqdm import tqdm\n",
    "from time import sleep\n",
    "from tqdm import trange\n",
    "from __future__ import print_function, division\n",
    "\n",
    "import torch\n",
    "import torch.nn as nn\n",
    "import torch.optim as optim\n",
    "from torch.optim import lr_scheduler\n",
    "from torchvision import models, transforms\n",
    "import time\n",
    "import copy\n",
    "from torch.utils.data import DataLoader, Dataset\n",
    "\n",
    "def train_model(model, criterion, optimizer, scheduler,  train_loader, valid_loader, train_set, valid_set,num_epochs= 5 ):\n",
    "    dataloaders = {'train': train_loader, 'val': valid_loader} \n",
    "    dataset_sizes= {'train': len(train_set), 'val': len(valid_set)} \n",
    "    since = time.time()\n",
    "    best_model_wts = copy.deepcopy(model.state_dict())\n",
    "    best_acc = 0.0\n",
    "    pbar = trange(num_epochs, unit=\"Epoch\")\n",
    "    for epoch in pbar:\n",
    "        sleep(0.5)\n",
    "        #print('Epoch {}/{}'.format(epoch +1 , num_epochs))\n",
    "        #print('-' * 5)\n",
    "\n",
    "        # Each epoch has a training and validation phase\n",
    "        pbar.set_description(f\"Epoch {epoch}\")\n",
    "        for phase in ['train', 'val']:\n",
    "            if phase == 'train':\n",
    "                model.train()  # Set model to training mode\n",
    "            else:\n",
    "                model.eval()   # Set model to evaluate mode\n",
    "\n",
    "            running_loss = 0.0\n",
    "            running_corrects = 0\n",
    "\n",
    "            # Iterate over data.\n",
    "            for inputs, labels in dataloaders[phase]:\n",
    "                inputs = inputs.to(device)\n",
    "                labels = labels.to(device)\n",
    "\n",
    "                # zero the parameter gradients\n",
    "                optimizer.zero_grad()\n",
    "\n",
    "                # forward\n",
    "                # track history if only in train\n",
    "                with torch.set_grad_enabled(phase == 'train'):\n",
    "                    outputs = model(inputs)\n",
    "                    _, preds = torch.max(outputs, 1)\n",
    "                    loss = criterion(outputs, labels)\n",
    "\n",
    "                    # backward + optimize only if in training phase\n",
    "                    if phase == 'train':\n",
    "                        loss.backward()\n",
    "                        optimizer.step()\n",
    "\n",
    "                # statistics\n",
    "                running_loss += loss.item() * inputs.size(0)\n",
    "                running_corrects += torch.sum(preds == labels.data)\n",
    "            if phase == 'train':\n",
    "                scheduler.step()\n",
    "\n",
    "            epoch_loss = running_loss / dataset_sizes[phase]\n",
    "            epoch_acc = running_corrects.double() / dataset_sizes[phase]\n",
    "\n",
    "            #print('{} Loss: {:.4f} Acc: {:.4f}'.format(\n",
    "            #    phase, epoch_loss, epoch_acc))\n",
    "\n",
    "            # deep copy the model\n",
    "            if phase == 'val' and epoch_acc > best_acc:\n",
    "                best_acc = epoch_acc\n",
    "                best_model_wts = copy.deepcopy(model.state_dict())\n",
    "\n",
    "        #print()\n",
    "\n",
    "    time_elapsed = time.time() - since\n",
    "    print('Training complete in {:.0f}m {:.0f}s'.format(\n",
    "        time_elapsed // 60, time_elapsed % 60))\n",
    "    print('Best val Acc: {:4f}'.format(best_acc))\n",
    "\n",
    "    # load best model weights\n",
    "    model.load_state_dict(best_model_wts)\n",
    "    pbar.close()\n",
    "    return model"
   ]
  },
  {
   "cell_type": "code",
   "execution_count": 86,
   "id": "c85a81bf-7d14-43a2-9159-5db192aa9f33",
   "metadata": {},
   "outputs": [
    {
     "data": {
      "text/plain": [
       "(<__main__.MyDataset at 0x1a9519f1ca0>,\n",
       " <__main__.MyDataset at 0x1a98516f5b0>,\n",
       " <torch.utils.data.dataloader.DataLoader at 0x1a965f3d610>,\n",
       " <torch.utils.data.dataloader.DataLoader at 0x1a965f3d700>)"
      ]
     },
     "execution_count": 86,
     "metadata": {},
     "output_type": "execute_result"
    }
   ],
   "source": [
    "data_load['node0']"
   ]
  },
  {
   "cell_type": "code",
   "execution_count": 87,
   "id": "0c585003-cd7b-4b22-bb60-5478dc8b325d",
   "metadata": {},
   "outputs": [],
   "source": [
    "def format_test_data(test_data):\n",
    "    test_data = torch.from_numpy(test_data.reshape((-1,1,28,28)))\n",
    "    test_set = MyDataset(test_data.float())\n",
    "    test_loader = torch.utils.data.DataLoader(test_set, batch_size = 32, shuffle = False)\n",
    "    return test_loader\n"
   ]
  },
  {
   "cell_type": "code",
   "execution_count": 88,
   "id": "361fc8a2-baac-48b6-bf3c-16687871cc9b",
   "metadata": {},
   "outputs": [],
   "source": [
    "def predict(test_loader, model_ft):\n",
    "    test_pred = torch.LongTensor()\n",
    "    with torch.no_grad():\n",
    "        for images in test_loader:\n",
    "            images = torch.autograd.Variable(images[0])\n",
    "            if torch.cuda.is_available():\n",
    "                images = images.to(device)\n",
    "\n",
    "            outputs = model_ft(images)\n",
    "            predicted = outputs.cpu().data.max(1, keepdim=True)[1]\n",
    "            test_pred = torch.cat((test_pred, predicted), dim=0)\n",
    "    return test_pred"
   ]
  },
  {
   "cell_type": "code",
   "execution_count": 89,
   "id": "f1b6efdd-9562-4884-bd42-81f9e54324ff",
   "metadata": {},
   "outputs": [],
   "source": [
    "from sklearn.metrics import accuracy_score\n",
    "from sklearn import metrics\n",
    "def evaluation_met(test_pred, test_label_split, ratio = 'Balanced data'):  \n",
    "    filt0 = test_label_split == 0\n",
    "    filt1 = test_label_split == 1\n",
    "    filt2 = test_label_split == 2\n",
    "    filt3 = test_label_split == 3\n",
    "    acc = accuracy_score(test_pred,test_label_split)   \n",
    "    acc0 = accuracy_score(test_pred[filt0],test_label_split[filt0])\n",
    "    acc1 = accuracy_score(test_pred[filt1],test_label_split[filt1])\n",
    "    acc2 = accuracy_score(test_pred[filt2],test_label_split[filt2])\n",
    "    acc3 = accuracy_score(test_pred[filt3],test_label_split[filt3])\n",
    "    print('For {} :, acc : {}, acc0 : {} , acc1:{} , acc2:{}, acc3 :{} '.format(ratio,acc, acc0,acc1, acc2,acc3))\n",
    "    return {'ratio' : ratio, 'acc' :acc,'acc0':acc0, 'acc1':acc1,'acc2':acc2, 'acc3':acc3}"
   ]
  },
  {
   "cell_type": "code",
   "execution_count": 106,
   "id": "e554c4cd-f68a-425f-9c1c-16d805fbba1f",
   "metadata": {},
   "outputs": [],
   "source": [
    "\n",
    "def training_plan(main_model,model_dict,data_load, Round=15, number_of_nodes=100):\n",
    "    device = torch.device(\"cuda:0\" if torch.cuda.is_available() else \"cpu\")\n",
    "    criterion = nn.CrossEntropyLoss()\n",
    "   \n",
    "    for i in range(Round):\n",
    "        print('Round '+ str(i+1))\n",
    "        print('Sending main model to nodes in round '+ str(i+1))\n",
    "        model_dict = send_main_model_to_nodes_and_update_model_dict(main_model, model_dict, number_of_nodes)\n",
    "        for j in model_dict.keys():\n",
    "            print('training {} for Round {} :'.format(j,i+1))\n",
    "            model = model_dict[j].to(device)\n",
    "            optimizer = optim.SGD(model.parameters(), lr=0.001)\n",
    "            scheduler = lr_scheduler.StepLR(optimizer, step_size=5, gamma=0.1)\n",
    "            train_loader = trans[j]\n",
    "            valid_loader =  data_load[j][3]\n",
    "            train_set =  data_load[j][0]\n",
    "            valid_set =  data_load[j][1]\n",
    "            model_dict[j] = train_model(model, criterion, optimizer, scheduler,  train_loader, valid_loader, train_set, valid_set)\n",
    "        print('Fedavg of main model in round '+ str(i+1))\n",
    "        main_model = fedavg(main_model, model_dict, number_of_nodes,y_train_dict)\n",
    "        test_loader = format_test_data(x_test)\n",
    "        pred = predict(test_loader, main_model)\n",
    "        evaluation_met(pred, y_test,ratio = 'Round '+str(i))\n",
    "        \n",
    "    return model_dict, main_model"
   ]
  },
  {
   "cell_type": "markdown",
   "id": "7c4eceb1",
   "metadata": {},
   "source": [
    "# Balanced"
   ]
  },
  {
   "cell_type": "code",
   "execution_count": 112,
   "id": "7b8272ed",
   "metadata": {},
   "outputs": [
    {
     "name": "stdout",
     "output_type": "stream",
     "text": [
      "Round 1\n",
      "Sending main model to nodes in round 0\n",
      "training node0 for Round 0 :\n"
     ]
    },
    {
     "name": "stderr",
     "output_type": "stream",
     "text": [
      "Epoch 4: 100%|██████████| 5/5 [07:05<00:00, 85.10s/Epoch]\n"
     ]
    },
    {
     "name": "stdout",
     "output_type": "stream",
     "text": [
      "Training complete in 7m 6s\n",
      "Best val Acc: 0.983838\n",
      "training node1 for Round 0 :\n"
     ]
    },
    {
     "name": "stderr",
     "output_type": "stream",
     "text": [
      "Epoch 4: 100%|██████████| 5/5 [07:01<00:00, 84.26s/Epoch]\n"
     ]
    },
    {
     "name": "stdout",
     "output_type": "stream",
     "text": [
      "Training complete in 7m 1s\n",
      "Best val Acc: 0.982828\n",
      "training node2 for Round 0 :\n"
     ]
    },
    {
     "name": "stderr",
     "output_type": "stream",
     "text": [
      "Epoch 4: 100%|██████████| 5/5 [07:10<00:00, 86.14s/Epoch]\n"
     ]
    },
    {
     "name": "stdout",
     "output_type": "stream",
     "text": [
      "Training complete in 7m 11s\n",
      "Best val Acc: 0.980808\n",
      "training node3 for Round 0 :\n"
     ]
    },
    {
     "name": "stderr",
     "output_type": "stream",
     "text": [
      "Epoch 4: 100%|██████████| 5/5 [07:03<00:00, 84.62s/Epoch]\n"
     ]
    },
    {
     "name": "stdout",
     "output_type": "stream",
     "text": [
      "Training complete in 7m 3s\n",
      "Best val Acc: 0.984848\n",
      "training node4 for Round 0 :\n"
     ]
    },
    {
     "name": "stderr",
     "output_type": "stream",
     "text": [
      "Epoch 4: 100%|██████████| 5/5 [07:07<00:00, 85.52s/Epoch]\n"
     ]
    },
    {
     "name": "stdout",
     "output_type": "stream",
     "text": [
      "Training complete in 7m 8s\n",
      "Best val Acc: 0.990909\n",
      "Fedavg of main model in round 1\n",
      "For Round 0 :, acc : 0.9574212172239596, acc0 : 0.9806122448979592 , acc1:0.9691629955947136 , AUC : 0.329545849880448 \n",
      "Round 2\n",
      "Sending main model to nodes in round 1\n",
      "training node0 for Round 1 :\n"
     ]
    },
    {
     "name": "stderr",
     "output_type": "stream",
     "text": [
      "Epoch 4: 100%|██████████| 5/5 [07:09<00:00, 85.89s/Epoch]\n"
     ]
    },
    {
     "name": "stdout",
     "output_type": "stream",
     "text": [
      "Training complete in 7m 9s\n",
      "Best val Acc: 0.989899\n",
      "training node1 for Round 1 :\n"
     ]
    },
    {
     "name": "stderr",
     "output_type": "stream",
     "text": [
      "Epoch 4: 100%|██████████| 5/5 [06:56<00:00, 83.39s/Epoch]\n"
     ]
    },
    {
     "name": "stdout",
     "output_type": "stream",
     "text": [
      "Training complete in 6m 57s\n",
      "Best val Acc: 0.987879\n",
      "training node2 for Round 1 :\n"
     ]
    },
    {
     "name": "stderr",
     "output_type": "stream",
     "text": [
      "Epoch 4: 100%|██████████| 5/5 [07:04<00:00, 84.94s/Epoch]\n"
     ]
    },
    {
     "name": "stdout",
     "output_type": "stream",
     "text": [
      "Training complete in 7m 5s\n",
      "Best val Acc: 0.988889\n",
      "training node3 for Round 1 :\n"
     ]
    },
    {
     "name": "stderr",
     "output_type": "stream",
     "text": [
      "Epoch 4: 100%|██████████| 5/5 [07:09<00:00, 86.00s/Epoch]\n"
     ]
    },
    {
     "name": "stdout",
     "output_type": "stream",
     "text": [
      "Training complete in 7m 10s\n",
      "Best val Acc: 0.989899\n",
      "training node4 for Round 1 :\n"
     ]
    },
    {
     "name": "stderr",
     "output_type": "stream",
     "text": [
      "Epoch 4: 100%|██████████| 5/5 [07:00<00:00, 84.10s/Epoch]\n"
     ]
    },
    {
     "name": "stdout",
     "output_type": "stream",
     "text": [
      "Training complete in 7m 1s\n",
      "Best val Acc: 0.991919\n",
      "Fedavg of main model in round 2\n",
      "For Round 1 :, acc : 0.9713735867211931, acc0 : 0.9887755102040816 , acc1:0.9744493392070485 , AUC : 0.3273973701894627 \n",
      "Round 3\n",
      "Sending main model to nodes in round 2\n",
      "training node0 for Round 2 :\n"
     ]
    },
    {
     "name": "stderr",
     "output_type": "stream",
     "text": [
      "Epoch 4: 100%|██████████| 5/5 [07:06<00:00, 85.24s/Epoch]\n"
     ]
    },
    {
     "name": "stdout",
     "output_type": "stream",
     "text": [
      "Training complete in 7m 6s\n",
      "Best val Acc: 0.992929\n",
      "training node1 for Round 2 :\n"
     ]
    },
    {
     "name": "stderr",
     "output_type": "stream",
     "text": [
      "Epoch 4: 100%|██████████| 5/5 [07:09<00:00, 85.83s/Epoch]\n"
     ]
    },
    {
     "name": "stdout",
     "output_type": "stream",
     "text": [
      "Training complete in 7m 9s\n",
      "Best val Acc: 0.993939\n",
      "training node2 for Round 2 :\n"
     ]
    },
    {
     "name": "stderr",
     "output_type": "stream",
     "text": [
      "Epoch 4: 100%|██████████| 5/5 [06:57<00:00, 83.57s/Epoch]\n"
     ]
    },
    {
     "name": "stdout",
     "output_type": "stream",
     "text": [
      "Training complete in 6m 58s\n",
      "Best val Acc: 0.989899\n",
      "training node3 for Round 2 :\n"
     ]
    },
    {
     "name": "stderr",
     "output_type": "stream",
     "text": [
      "Epoch 4: 100%|██████████| 5/5 [07:09<00:00, 85.95s/Epoch]\n"
     ]
    },
    {
     "name": "stdout",
     "output_type": "stream",
     "text": [
      "Training complete in 7m 10s\n",
      "Best val Acc: 0.991919\n",
      "training node4 for Round 2 :\n"
     ]
    },
    {
     "name": "stderr",
     "output_type": "stream",
     "text": [
      "Epoch 4: 100%|██████████| 5/5 [07:20<00:00, 88.13s/Epoch]\n"
     ]
    },
    {
     "name": "stdout",
     "output_type": "stream",
     "text": [
      "Training complete in 7m 21s\n",
      "Best val Acc: 0.994949\n",
      "Fedavg of main model in round 3\n",
      "For Round 2 :, acc : 0.9771469809959105, acc0 : 0.9897959183673469 , acc1:0.9797356828193833 , AUC : 0.32678608933844233 \n",
      "Round 4\n",
      "Sending main model to nodes in round 3\n",
      "training node0 for Round 3 :\n"
     ]
    },
    {
     "name": "stderr",
     "output_type": "stream",
     "text": [
      "Epoch 4: 100%|██████████| 5/5 [06:56<00:00, 83.25s/Epoch]\n"
     ]
    },
    {
     "name": "stdout",
     "output_type": "stream",
     "text": [
      "Training complete in 6m 56s\n",
      "Best val Acc: 0.994949\n",
      "training node1 for Round 3 :\n"
     ]
    },
    {
     "name": "stderr",
     "output_type": "stream",
     "text": [
      "Epoch 4: 100%|██████████| 5/5 [07:07<00:00, 85.43s/Epoch]\n"
     ]
    },
    {
     "name": "stdout",
     "output_type": "stream",
     "text": [
      "Training complete in 7m 7s\n",
      "Best val Acc: 0.990909\n",
      "training node2 for Round 3 :\n"
     ]
    },
    {
     "name": "stderr",
     "output_type": "stream",
     "text": [
      "Epoch 4: 100%|██████████| 5/5 [07:10<00:00, 86.14s/Epoch]\n"
     ]
    },
    {
     "name": "stdout",
     "output_type": "stream",
     "text": [
      "Training complete in 7m 11s\n",
      "Best val Acc: 0.994949\n",
      "training node3 for Round 3 :\n"
     ]
    },
    {
     "name": "stderr",
     "output_type": "stream",
     "text": [
      "Epoch 4: 100%|██████████| 5/5 [07:02<00:00, 84.42s/Epoch]\n"
     ]
    },
    {
     "name": "stdout",
     "output_type": "stream",
     "text": [
      "Training complete in 7m 2s\n",
      "Best val Acc: 0.993939\n",
      "training node4 for Round 3 :\n"
     ]
    },
    {
     "name": "stderr",
     "output_type": "stream",
     "text": [
      "Epoch 4: 100%|██████████| 5/5 [07:16<00:00, 87.26s/Epoch]\n"
     ]
    },
    {
     "name": "stdout",
     "output_type": "stream",
     "text": [
      "Training complete in 7m 16s\n",
      "Best val Acc: 0.995960\n",
      "Fedavg of main model in round 4\n",
      "For Round 3 :, acc : 0.9817175847967284, acc0 : 0.9918367346938776 , acc1:0.9841409691629956 , AUC : 0.3262341137045218 \n",
      "Round 5\n",
      "Sending main model to nodes in round 4\n",
      "training node0 for Round 4 :\n"
     ]
    },
    {
     "name": "stderr",
     "output_type": "stream",
     "text": [
      "Epoch 4: 100%|██████████| 5/5 [07:05<00:00, 85.05s/Epoch]\n"
     ]
    },
    {
     "name": "stdout",
     "output_type": "stream",
     "text": [
      "Training complete in 7m 5s\n",
      "Best val Acc: 0.996970\n",
      "training node1 for Round 4 :\n"
     ]
    },
    {
     "name": "stderr",
     "output_type": "stream",
     "text": [
      "Epoch 4: 100%|██████████| 5/5 [06:57<00:00, 83.57s/Epoch]\n"
     ]
    },
    {
     "name": "stdout",
     "output_type": "stream",
     "text": [
      "Training complete in 6m 58s\n",
      "Best val Acc: 0.992929\n",
      "training node2 for Round 4 :\n"
     ]
    },
    {
     "name": "stderr",
     "output_type": "stream",
     "text": [
      "Epoch 4: 100%|██████████| 5/5 [07:14<00:00, 86.94s/Epoch]\n"
     ]
    },
    {
     "name": "stdout",
     "output_type": "stream",
     "text": [
      "Training complete in 7m 15s\n",
      "Best val Acc: 0.994949\n",
      "training node3 for Round 4 :\n"
     ]
    },
    {
     "name": "stderr",
     "output_type": "stream",
     "text": [
      "Epoch 4: 100%|██████████| 5/5 [07:13<00:00, 86.63s/Epoch]\n"
     ]
    },
    {
     "name": "stdout",
     "output_type": "stream",
     "text": [
      "Training complete in 7m 13s\n",
      "Best val Acc: 0.991919\n",
      "training node4 for Round 4 :\n"
     ]
    },
    {
     "name": "stderr",
     "output_type": "stream",
     "text": [
      "Epoch 4: 100%|██████████| 5/5 [06:59<00:00, 83.97s/Epoch]\n"
     ]
    },
    {
     "name": "stdout",
     "output_type": "stream",
     "text": [
      "Training complete in 6m 60s\n",
      "Best val Acc: 0.996970\n",
      "Fedavg of main model in round 5\n",
      "For Round 4 :, acc : 0.9824392590810681, acc0 : 0.9918367346938776 , acc1:0.9823788546255506 , AUC : 0.3260905675243427 \n"
     ]
    }
   ],
   "source": [
    "model_dict_B, model_B = training_plan(main_model,model_dict,data_load)"
   ]
  },
  {
   "cell_type": "code",
   "execution_count": 123,
   "id": "1c9bbc19",
   "metadata": {},
   "outputs": [
    {
     "name": "stdout",
     "output_type": "stream",
     "text": [
      "For Balanced data  :, acc : 0.9824392590810681, acc0 : 0.9918367346938776 , acc1:0.9823788546255506 , acc2:0.9806201550387597, acc3 :0.9752475247524752 \n"
     ]
    },
    {
     "data": {
      "text/plain": [
       "{'ratio': 'Balanced data ',\n",
       " 'acc': 0.9824392590810681,\n",
       " 'acc0': 0.9918367346938776,\n",
       " 'acc1': 0.9823788546255506,\n",
       " 'acc2': 0.9806201550387597,\n",
       " 'acc3': 0.9752475247524752}"
      ]
     },
     "execution_count": 123,
     "metadata": {},
     "output_type": "execute_result"
    }
   ],
   "source": [
    "test_loader = format_test_data(x_test)\n",
    "pred = predict(test_loader, model_B)\n",
    "evaluation_met(pred, y_test,ratio = 'Balanced data ')"
   ]
  },
  {
   "cell_type": "code",
   "execution_count": 124,
   "id": "1f976de4",
   "metadata": {},
   "outputs": [
    {
     "name": "stdout",
     "output_type": "stream",
     "text": [
      "For Balanced data node0 :, acc : 0.9944671638200625, acc0 : 0.996938775510204 , acc1:0.9973568281938326 , acc2:0.9912790697674418, acc3 :0.9920792079207921 \n",
      "For Balanced data node1 :, acc : 0.9947077219148425, acc0 : 0.9948979591836735 , acc1:0.9973568281938326 , acc2:0.9903100775193798, acc3 :0.996039603960396 \n",
      "For Balanced data node2 :, acc : 0.9937454895357228, acc0 : 0.9979591836734694 , acc1:0.9964757709251101 , acc2:0.9883720930232558, acc3 :0.9920792079207921 \n",
      "For Balanced data node3 :, acc : 0.9942266057252827, acc0 : 0.9959183673469387 , acc1:0.9973568281938326 , acc2:0.9874031007751938, acc3 :0.996039603960396 \n",
      "For Balanced data node4 :, acc : 0.993504931440943, acc0 : 0.9948979591836735 , acc1:0.9964757709251101 , acc2:0.9874031007751938, acc3 :0.995049504950495 \n"
     ]
    }
   ],
   "source": [
    "for i in range(number_of_nodes): \n",
    "    test_loader = format_test_data(x_test)\n",
    "    pred = predict(test_loader, model_dict_B[name_of_models[i]])\n",
    "    evaluation_met(pred, y_test,ratio = 'Balanced data ' + name_of_models[i])"
   ]
  },
  {
   "cell_type": "markdown",
   "id": "505c0247",
   "metadata": {},
   "source": [
    "# Missing values in nodes 0,1,2,3"
   ]
  },
  {
   "cell_type": "code",
   "execution_count": 89,
   "id": "cdec4137",
   "metadata": {},
   "outputs": [
    {
     "name": "stdout",
     "output_type": "stream",
     "text": [
      "Round 1\n",
      "Sending main model to nodes in round 0\n",
      "training node0 for Round 0 :\n"
     ]
    },
    {
     "name": "stderr",
     "output_type": "stream",
     "text": [
      "Epoch 4: 100%|██████████| 5/5 [05:33<00:00, 66.70s/Epoch]\n"
     ]
    },
    {
     "name": "stdout",
     "output_type": "stream",
     "text": [
      "Training complete in 5m 34s\n",
      "Best val Acc: 0.739394\n",
      "training node1 for Round 0 :\n"
     ]
    },
    {
     "name": "stderr",
     "output_type": "stream",
     "text": [
      "Epoch 4: 100%|██████████| 5/5 [05:48<00:00, 69.68s/Epoch]\n"
     ]
    },
    {
     "name": "stdout",
     "output_type": "stream",
     "text": [
      "Training complete in 5m 48s\n",
      "Best val Acc: 0.719192\n",
      "training node2 for Round 0 :\n"
     ]
    },
    {
     "name": "stderr",
     "output_type": "stream",
     "text": [
      "Epoch 4: 100%|██████████| 5/5 [06:03<00:00, 72.77s/Epoch]\n"
     ]
    },
    {
     "name": "stdout",
     "output_type": "stream",
     "text": [
      "Training complete in 6m 4s\n",
      "Best val Acc: 0.755556\n",
      "training node3 for Round 0 :\n"
     ]
    },
    {
     "name": "stderr",
     "output_type": "stream",
     "text": [
      "Epoch 4: 100%|██████████| 5/5 [05:44<00:00, 68.95s/Epoch]\n"
     ]
    },
    {
     "name": "stdout",
     "output_type": "stream",
     "text": [
      "Training complete in 5m 45s\n",
      "Best val Acc: 0.746465\n",
      "training node4 for Round 0 :\n"
     ]
    },
    {
     "name": "stderr",
     "output_type": "stream",
     "text": [
      "Epoch 4: 100%|██████████| 5/5 [07:34<00:00, 90.99s/Epoch]\n"
     ]
    },
    {
     "name": "stdout",
     "output_type": "stream",
     "text": [
      "Training complete in 7m 35s\n",
      "Best val Acc: 0.976768\n",
      "Fedavg of main model in round 1\n",
      "For Round 0 :, acc : 0.9146018763531393, acc0 : 0.9438775510204082 , acc1:0.9806167400881057 , acc2:0.8449612403100775, acc3 :0.8831683168316832 \n",
      "Round 2\n",
      "Sending main model to nodes in round 1\n",
      "training node0 for Round 1 :\n"
     ]
    },
    {
     "name": "stderr",
     "output_type": "stream",
     "text": [
      "Epoch 4: 100%|██████████| 5/5 [05:26<00:00, 65.23s/Epoch]\n"
     ]
    },
    {
     "name": "stdout",
     "output_type": "stream",
     "text": [
      "Training complete in 5m 26s\n",
      "Best val Acc: 0.821212\n",
      "training node1 for Round 1 :\n"
     ]
    },
    {
     "name": "stderr",
     "output_type": "stream",
     "text": [
      "Epoch 4: 100%|██████████| 5/5 [05:45<00:00, 69.04s/Epoch]\n"
     ]
    },
    {
     "name": "stdout",
     "output_type": "stream",
     "text": [
      "Training complete in 5m 45s\n",
      "Best val Acc: 0.773737\n",
      "training node2 for Round 1 :\n"
     ]
    },
    {
     "name": "stderr",
     "output_type": "stream",
     "text": [
      "Epoch 4: 100%|██████████| 5/5 [05:58<00:00, 71.63s/Epoch]\n"
     ]
    },
    {
     "name": "stdout",
     "output_type": "stream",
     "text": [
      "Training complete in 5m 58s\n",
      "Best val Acc: 0.797980\n",
      "training node3 for Round 1 :\n"
     ]
    },
    {
     "name": "stderr",
     "output_type": "stream",
     "text": [
      "Epoch 4: 100%|██████████| 5/5 [05:37<00:00, 67.54s/Epoch]\n"
     ]
    },
    {
     "name": "stdout",
     "output_type": "stream",
     "text": [
      "Training complete in 5m 38s\n",
      "Best val Acc: 0.756566\n",
      "training node4 for Round 1 :\n"
     ]
    },
    {
     "name": "stderr",
     "output_type": "stream",
     "text": [
      "Epoch 4: 100%|██████████| 5/5 [07:04<00:00, 84.82s/Epoch]\n"
     ]
    },
    {
     "name": "stdout",
     "output_type": "stream",
     "text": [
      "Training complete in 7m 4s\n",
      "Best val Acc: 0.988889\n",
      "Fedavg of main model in round 2\n",
      "For Round 1 :, acc : 0.9550156362761607, acc0 : 0.9683673469387755 , acc1:0.9823788546255506 , acc2:0.9234496124031008, acc3 :0.9435643564356435 \n",
      "Round 3\n",
      "Sending main model to nodes in round 2\n",
      "training node0 for Round 2 :\n"
     ]
    },
    {
     "name": "stderr",
     "output_type": "stream",
     "text": [
      "Epoch 4: 100%|██████████| 5/5 [05:23<00:00, 64.64s/Epoch]\n"
     ]
    },
    {
     "name": "stdout",
     "output_type": "stream",
     "text": [
      "Training complete in 5m 23s\n",
      "Best val Acc: 0.894949\n",
      "training node1 for Round 2 :\n"
     ]
    },
    {
     "name": "stderr",
     "output_type": "stream",
     "text": [
      "Epoch 4: 100%|██████████| 5/5 [05:43<00:00, 68.79s/Epoch]\n"
     ]
    },
    {
     "name": "stdout",
     "output_type": "stream",
     "text": [
      "Training complete in 5m 44s\n",
      "Best val Acc: 0.804040\n",
      "training node2 for Round 2 :\n"
     ]
    },
    {
     "name": "stderr",
     "output_type": "stream",
     "text": [
      "Epoch 4: 100%|██████████| 5/5 [05:55<00:00, 71.19s/Epoch]\n"
     ]
    },
    {
     "name": "stdout",
     "output_type": "stream",
     "text": [
      "Training complete in 5m 56s\n",
      "Best val Acc: 0.851515\n",
      "training node3 for Round 2 :\n"
     ]
    },
    {
     "name": "stderr",
     "output_type": "stream",
     "text": [
      "Epoch 4: 100%|██████████| 5/5 [05:41<00:00, 68.20s/Epoch]\n"
     ]
    },
    {
     "name": "stdout",
     "output_type": "stream",
     "text": [
      "Training complete in 5m 41s\n",
      "Best val Acc: 0.790909\n",
      "training node4 for Round 2 :\n"
     ]
    },
    {
     "name": "stderr",
     "output_type": "stream",
     "text": [
      "Epoch 4: 100%|██████████| 5/5 [07:08<00:00, 85.78s/Epoch]\n"
     ]
    },
    {
     "name": "stdout",
     "output_type": "stream",
     "text": [
      "Training complete in 7m 9s\n",
      "Best val Acc: 0.987879\n",
      "Fedavg of main model in round 3\n",
      "For Round 2 :, acc : 0.9677652152994948, acc0 : 0.9836734693877551 , acc1:0.9814977973568282 , acc2:0.9467054263565892, acc3 :0.9584158415841584 \n",
      "Round 4\n",
      "Sending main model to nodes in round 3\n",
      "training node0 for Round 3 :\n"
     ]
    },
    {
     "name": "stderr",
     "output_type": "stream",
     "text": [
      "Epoch 4: 100%|██████████| 5/5 [05:47<00:00, 69.42s/Epoch]\n"
     ]
    },
    {
     "name": "stdout",
     "output_type": "stream",
     "text": [
      "Training complete in 5m 47s\n",
      "Best val Acc: 0.893939\n",
      "training node1 for Round 3 :\n"
     ]
    },
    {
     "name": "stderr",
     "output_type": "stream",
     "text": [
      "Epoch 4: 100%|██████████| 5/5 [05:40<00:00, 68.07s/Epoch]\n"
     ]
    },
    {
     "name": "stdout",
     "output_type": "stream",
     "text": [
      "Training complete in 5m 40s\n",
      "Best val Acc: 0.851515\n",
      "training node2 for Round 3 :\n"
     ]
    },
    {
     "name": "stderr",
     "output_type": "stream",
     "text": [
      "Epoch 4: 100%|██████████| 5/5 [05:30<00:00, 66.06s/Epoch]\n"
     ]
    },
    {
     "name": "stdout",
     "output_type": "stream",
     "text": [
      "Training complete in 5m 30s\n",
      "Best val Acc: 0.864646\n",
      "training node3 for Round 3 :\n"
     ]
    },
    {
     "name": "stderr",
     "output_type": "stream",
     "text": [
      "Epoch 4: 100%|██████████| 5/5 [05:29<00:00, 65.99s/Epoch]\n"
     ]
    },
    {
     "name": "stdout",
     "output_type": "stream",
     "text": [
      "Training complete in 5m 30s\n",
      "Best val Acc: 0.830303\n",
      "training node4 for Round 3 :\n"
     ]
    },
    {
     "name": "stderr",
     "output_type": "stream",
     "text": [
      "Epoch 4: 100%|██████████| 5/5 [07:34<00:00, 90.90s/Epoch]\n"
     ]
    },
    {
     "name": "stdout",
     "output_type": "stream",
     "text": [
      "Training complete in 7m 35s\n",
      "Best val Acc: 0.988889\n",
      "Fedavg of main model in round 4\n",
      "For Round 3 :, acc : 0.9776280971854703, acc0 : 0.9857142857142858 , acc1:0.9850220264317181 , acc2:0.9660852713178295, acc3 :0.9732673267326732 \n",
      "Round 5\n",
      "Sending main model to nodes in round 4\n",
      "training node0 for Round 4 :\n"
     ]
    },
    {
     "name": "stderr",
     "output_type": "stream",
     "text": [
      "Epoch 4: 100%|██████████| 5/5 [05:41<00:00, 68.36s/Epoch]\n"
     ]
    },
    {
     "name": "stdout",
     "output_type": "stream",
     "text": [
      "Training complete in 5m 42s\n",
      "Best val Acc: 0.938384\n",
      "training node1 for Round 4 :\n"
     ]
    },
    {
     "name": "stderr",
     "output_type": "stream",
     "text": [
      "Epoch 4: 100%|██████████| 5/5 [05:15<00:00, 63.04s/Epoch]\n"
     ]
    },
    {
     "name": "stdout",
     "output_type": "stream",
     "text": [
      "Training complete in 5m 15s\n",
      "Best val Acc: 0.904040\n",
      "training node2 for Round 4 :\n"
     ]
    },
    {
     "name": "stderr",
     "output_type": "stream",
     "text": [
      "Epoch 4: 100%|██████████| 5/5 [05:42<00:00, 68.45s/Epoch]\n"
     ]
    },
    {
     "name": "stdout",
     "output_type": "stream",
     "text": [
      "Training complete in 5m 42s\n",
      "Best val Acc: 0.879798\n",
      "training node3 for Round 4 :\n"
     ]
    },
    {
     "name": "stderr",
     "output_type": "stream",
     "text": [
      "Epoch 4: 100%|██████████| 5/5 [05:47<00:00, 69.42s/Epoch]\n"
     ]
    },
    {
     "name": "stdout",
     "output_type": "stream",
     "text": [
      "Training complete in 5m 47s\n",
      "Best val Acc: 0.834343\n",
      "training node4 for Round 4 :\n"
     ]
    },
    {
     "name": "stderr",
     "output_type": "stream",
     "text": [
      "Epoch 4: 100%|██████████| 5/5 [07:17<00:00, 87.59s/Epoch]\n"
     ]
    },
    {
     "name": "stdout",
     "output_type": "stream",
     "text": [
      "Training complete in 7m 18s\n",
      "Best val Acc: 0.993939\n",
      "Fedavg of main model in round 5\n",
      "For Round 4 :, acc : 0.9793120038489295, acc0 : 0.986734693877551 , acc1:0.9841409691629956 , acc2:0.9680232558139535, acc3 :0.9782178217821782 \n"
     ]
    }
   ],
   "source": [
    "model_dict_miss, model_miss = training_plan(main_model,model_dict,data_load)"
   ]
  },
  {
   "cell_type": "code",
   "execution_count": 90,
   "id": "8e7b011d",
   "metadata": {},
   "outputs": [
    {
     "name": "stdout",
     "output_type": "stream",
     "text": [
      "For Nodes with missing values :, acc : 0.9793120038489295, acc0 : 0.986734693877551 , acc1:0.9841409691629956 , acc2:0.9680232558139535, acc3 :0.9782178217821782 \n"
     ]
    },
    {
     "data": {
      "text/plain": [
       "{'ratio': 'Nodes with missing values',\n",
       " 'acc': 0.9793120038489295,\n",
       " 'acc0': 0.986734693877551,\n",
       " 'acc1': 0.9841409691629956,\n",
       " 'acc2': 0.9680232558139535,\n",
       " 'acc3': 0.9782178217821782}"
      ]
     },
     "execution_count": 90,
     "metadata": {},
     "output_type": "execute_result"
    }
   ],
   "source": [
    "test_loader = format_test_data(x_test)\n",
    "pred = predict(test_loader, model_miss)\n",
    "evaluation_met(pred, y_test,ratio = 'Nodes with missing values')"
   ]
  },
  {
   "cell_type": "code",
   "execution_count": 91,
   "id": "8a9cb897",
   "metadata": {},
   "outputs": [
    {
     "name": "stdout",
     "output_type": "stream",
     "text": [
      "For Balanced data node0 :, acc : 0.9533317296127015, acc0 : 0.8377551020408164 , acc1:0.9903083700440528 , acc2:0.9864341085271318, acc3 :0.9900990099009901 \n",
      "For Balanced data node1 :, acc : 0.9004089487611258, acc0 : 0.9948979591836735 , acc1:0.6625550660792952 , acc2:0.9835271317829457, acc3 :0.9910891089108911 \n",
      "For Balanced data node2 :, acc : 0.8821265335578542, acc0 : 0.996938775510204 , acc1:0.9973568281938326 , acc2:0.5358527131782945, acc3 :0.995049504950495 \n",
      "For Balanced data node3 :, acc : 0.8407505412557132, acc0 : 0.9979591836734694 , acc1:0.9903083700440528 , acc2:0.9941860465116279, acc3 :0.36336633663366336 \n",
      "For Balanced data node4 :, acc : 0.991339908587924, acc0 : 0.9897959183673469 , acc1:0.9920704845814978 , acc2:0.9893410852713178, acc3 :0.994059405940594 \n"
     ]
    }
   ],
   "source": [
    "for i in range(number_of_nodes): \n",
    "    test_loader = format_test_data(x_test)\n",
    "    pred = predict(test_loader, model_dict_miss[name_of_models[i]])\n",
    "    evaluation_met(pred, y_test,ratio = 'Balanced data ' + name_of_models[i])"
   ]
  },
  {
   "cell_type": "markdown",
   "id": "441204d3",
   "metadata": {},
   "source": [
    "# No nodes with all values 4 nodes"
   ]
  },
  {
   "cell_type": "code",
   "execution_count": 102,
   "id": "4e789d29",
   "metadata": {},
   "outputs": [
    {
     "name": "stdout",
     "output_type": "stream",
     "text": [
      "Round 1\n",
      "Sending main model to nodes in round 0\n",
      "training node0 for Round 0 :\n"
     ]
    },
    {
     "name": "stderr",
     "output_type": "stream",
     "text": [
      "Epoch 4: 100%|██████████| 5/5 [06:25<00:00, 77.04s/Epoch]\n"
     ]
    },
    {
     "name": "stdout",
     "output_type": "stream",
     "text": [
      "Training complete in 6m 25s\n",
      "Best val Acc: 0.738288\n",
      "training node1 for Round 0 :\n"
     ]
    },
    {
     "name": "stderr",
     "output_type": "stream",
     "text": [
      "Epoch 4: 100%|██████████| 5/5 [06:26<00:00, 77.22s/Epoch]\n"
     ]
    },
    {
     "name": "stdout",
     "output_type": "stream",
     "text": [
      "Training complete in 6m 26s\n",
      "Best val Acc: 0.714863\n",
      "training node2 for Round 0 :\n"
     ]
    },
    {
     "name": "stderr",
     "output_type": "stream",
     "text": [
      "Epoch 4: 100%|██████████| 5/5 [06:50<00:00, 82.17s/Epoch]\n"
     ]
    },
    {
     "name": "stdout",
     "output_type": "stream",
     "text": [
      "Training complete in 6m 51s\n",
      "Best val Acc: 0.762520\n",
      "training node3 for Round 0 :\n"
     ]
    },
    {
     "name": "stderr",
     "output_type": "stream",
     "text": [
      "Epoch 4: 100%|██████████| 5/5 [06:37<00:00, 79.49s/Epoch]\n"
     ]
    },
    {
     "name": "stdout",
     "output_type": "stream",
     "text": [
      "Training complete in 6m 37s\n",
      "Best val Acc: 0.747173\n",
      "Fedavg of main model in round 1\n",
      "For Round 0 :, acc : 0.8638441183545826, acc0 : 0.9571428571428572 , acc1:0.9718061674008811 , acc2:0.624031007751938, acc3 :0.897029702970297 \n",
      "Round 2\n",
      "Sending main model to nodes in round 1\n",
      "training node0 for Round 1 :\n"
     ]
    },
    {
     "name": "stderr",
     "output_type": "stream",
     "text": [
      "Epoch 4: 100%|██████████| 5/5 [07:12<00:00, 86.44s/Epoch]\n"
     ]
    },
    {
     "name": "stdout",
     "output_type": "stream",
     "text": [
      "Training complete in 7m 12s\n",
      "Best val Acc: 0.769790\n",
      "training node1 for Round 1 :\n"
     ]
    },
    {
     "name": "stderr",
     "output_type": "stream",
     "text": [
      "Epoch 4: 100%|██████████| 5/5 [06:54<00:00, 82.84s/Epoch]\n"
     ]
    },
    {
     "name": "stdout",
     "output_type": "stream",
     "text": [
      "Training complete in 6m 54s\n",
      "Best val Acc: 0.774637\n",
      "training node2 for Round 1 :\n"
     ]
    },
    {
     "name": "stderr",
     "output_type": "stream",
     "text": [
      "Epoch 4: 100%|██████████| 5/5 [06:53<00:00, 82.73s/Epoch]\n"
     ]
    },
    {
     "name": "stdout",
     "output_type": "stream",
     "text": [
      "Training complete in 6m 54s\n",
      "Best val Acc: 0.765751\n",
      "training node3 for Round 1 :\n"
     ]
    },
    {
     "name": "stderr",
     "output_type": "stream",
     "text": [
      "Epoch 4: 100%|██████████| 5/5 [06:37<00:00, 79.41s/Epoch]\n"
     ]
    },
    {
     "name": "stdout",
     "output_type": "stream",
     "text": [
      "Training complete in 6m 37s\n",
      "Best val Acc: 0.752827\n",
      "Fedavg of main model in round 2\n",
      "For Round 1 :, acc : 0.9131585277844599, acc0 : 0.9887755102040816 , acc1:0.9841409691629956 , acc2:0.7761627906976745, acc3 :0.9 \n",
      "Round 3\n",
      "Sending main model to nodes in round 2\n",
      "training node0 for Round 2 :\n"
     ]
    },
    {
     "name": "stderr",
     "output_type": "stream",
     "text": [
      "Epoch 4: 100%|██████████| 5/5 [06:59<00:00, 83.88s/Epoch]\n"
     ]
    },
    {
     "name": "stdout",
     "output_type": "stream",
     "text": [
      "Training complete in 6m 59s\n",
      "Best val Acc: 0.790792\n",
      "training node1 for Round 2 :\n"
     ]
    },
    {
     "name": "stderr",
     "output_type": "stream",
     "text": [
      "Epoch 4: 100%|██████████| 5/5 [06:54<00:00, 82.95s/Epoch]\n"
     ]
    },
    {
     "name": "stdout",
     "output_type": "stream",
     "text": [
      "Training complete in 6m 55s\n",
      "Best val Acc: 0.886107\n",
      "training node2 for Round 2 :\n"
     ]
    },
    {
     "name": "stderr",
     "output_type": "stream",
     "text": [
      "Epoch 4: 100%|██████████| 5/5 [06:48<00:00, 81.61s/Epoch]\n"
     ]
    },
    {
     "name": "stdout",
     "output_type": "stream",
     "text": [
      "Training complete in 6m 48s\n",
      "Best val Acc: 0.772213\n",
      "training node3 for Round 2 :\n"
     ]
    },
    {
     "name": "stderr",
     "output_type": "stream",
     "text": [
      "Epoch 4: 100%|██████████| 5/5 [07:03<00:00, 84.67s/Epoch]\n"
     ]
    },
    {
     "name": "stdout",
     "output_type": "stream",
     "text": [
      "Training complete in 7m 3s\n",
      "Best val Acc: 0.754443\n",
      "Fedavg of main model in round 3\n",
      "For Round 2 :, acc : 0.9343276401250902, acc0 : 0.9908163265306122 , acc1:0.9814977973568282 , acc2:0.8662790697674418, acc3 :0.8960396039603961 \n",
      "Round 4\n",
      "Sending main model to nodes in round 3\n",
      "training node0 for Round 3 :\n"
     ]
    },
    {
     "name": "stderr",
     "output_type": "stream",
     "text": [
      "Epoch 4: 100%|██████████| 5/5 [07:22<00:00, 88.42s/Epoch]\n"
     ]
    },
    {
     "name": "stdout",
     "output_type": "stream",
     "text": [
      "Training complete in 7m 22s\n",
      "Best val Acc: 0.840872\n",
      "training node1 for Round 3 :\n"
     ]
    },
    {
     "name": "stderr",
     "output_type": "stream",
     "text": [
      "Epoch 4: 100%|██████████| 5/5 [07:59<00:00, 95.95s/Epoch] \n"
     ]
    },
    {
     "name": "stdout",
     "output_type": "stream",
     "text": [
      "Training complete in 7m 60s\n",
      "Best val Acc: 0.916801\n",
      "training node2 for Round 3 :\n"
     ]
    },
    {
     "name": "stderr",
     "output_type": "stream",
     "text": [
      "Epoch 4: 100%|██████████| 5/5 [10:05<00:00, 121.19s/Epoch]\n"
     ]
    },
    {
     "name": "stdout",
     "output_type": "stream",
     "text": [
      "Training complete in 10m 6s\n",
      "Best val Acc: 0.798869\n",
      "training node3 for Round 3 :\n"
     ]
    },
    {
     "name": "stderr",
     "output_type": "stream",
     "text": [
      "Epoch 4: 100%|██████████| 5/5 [10:09<00:00, 121.99s/Epoch]\n"
     ]
    },
    {
     "name": "stdout",
     "output_type": "stream",
     "text": [
      "Training complete in 10m 10s\n",
      "Best val Acc: 0.752019\n",
      "Fedavg of main model in round 4\n",
      "For Round 3 :, acc : 0.9446716382006255, acc0 : 0.9897959183673469 , acc1:0.9779735682819384 , acc2:0.875, acc3 :0.9346534653465347 \n",
      "Round 5\n",
      "Sending main model to nodes in round 4\n",
      "training node0 for Round 4 :\n"
     ]
    },
    {
     "name": "stderr",
     "output_type": "stream",
     "text": [
      "Epoch 4: 100%|██████████| 5/5 [10:13<00:00, 122.65s/Epoch]\n"
     ]
    },
    {
     "name": "stdout",
     "output_type": "stream",
     "text": [
      "Training complete in 10m 13s\n",
      "Best val Acc: 0.877221\n",
      "training node1 for Round 4 :\n"
     ]
    },
    {
     "name": "stderr",
     "output_type": "stream",
     "text": [
      "Epoch 4: 100%|██████████| 5/5 [07:22<00:00, 88.56s/Epoch]\n"
     ]
    },
    {
     "name": "stdout",
     "output_type": "stream",
     "text": [
      "Training complete in 7m 23s\n",
      "Best val Acc: 0.912763\n",
      "training node2 for Round 4 :\n"
     ]
    },
    {
     "name": "stderr",
     "output_type": "stream",
     "text": [
      "Epoch 4: 100%|██████████| 5/5 [07:59<00:00, 95.96s/Epoch]\n"
     ]
    },
    {
     "name": "stdout",
     "output_type": "stream",
     "text": [
      "Training complete in 7m 60s\n",
      "Best val Acc: 0.818255\n",
      "training node3 for Round 4 :\n"
     ]
    },
    {
     "name": "stderr",
     "output_type": "stream",
     "text": [
      "Epoch 4: 100%|██████████| 5/5 [07:32<00:00, 90.46s/Epoch] \n"
     ]
    },
    {
     "name": "stdout",
     "output_type": "stream",
     "text": [
      "Training complete in 7m 32s\n",
      "Best val Acc: 0.753635\n",
      "Fedavg of main model in round 5\n",
      "For Round 4 :, acc : 0.9518883810440222, acc0 : 0.9897959183673469 , acc1:0.9797356828193833 , acc2:0.9137596899224806, acc3 :0.9227722772277228 \n"
     ]
    }
   ],
   "source": [
    "model_dict_allmiss, model_allmiss = training_plan(main_model,model_dict,data_load)"
   ]
  },
  {
   "cell_type": "code",
   "execution_count": 104,
   "id": "0ce390ca",
   "metadata": {},
   "outputs": [
    {
     "name": "stdout",
     "output_type": "stream",
     "text": [
      "For Nodes with missing values :, acc : 0.9518883810440222, acc0 : 0.9897959183673469 , acc1:0.9797356828193833 , acc2:0.9137596899224806, acc3 :0.9227722772277228 \n"
     ]
    },
    {
     "data": {
      "text/plain": [
       "{'ratio': 'Nodes with missing values',\n",
       " 'acc': 0.9518883810440222,\n",
       " 'acc0': 0.9897959183673469,\n",
       " 'acc1': 0.9797356828193833,\n",
       " 'acc2': 0.9137596899224806,\n",
       " 'acc3': 0.9227722772277228}"
      ]
     },
     "execution_count": 104,
     "metadata": {},
     "output_type": "execute_result"
    }
   ],
   "source": [
    "test_loader = format_test_data(x_test)\n",
    "pred = predict(test_loader, model_allmiss)\n",
    "evaluation_met(pred, y_test,ratio = 'Nodes with missing values')"
   ]
  },
  {
   "cell_type": "code",
   "execution_count": 105,
   "id": "23247594",
   "metadata": {},
   "outputs": [
    {
     "name": "stdout",
     "output_type": "stream",
     "text": [
      "For Balanced data node0 :, acc : 0.8864565792638922, acc0 : 0.5663265306122449 , acc1:0.9911894273127754 , acc2:0.9874031007751938, acc3 :0.9762376237623762 \n",
      "For Balanced data node1 :, acc : 0.9191724801539571, acc0 : 0.9928571428571429 , acc1:0.760352422907489 , acc2:0.9660852713178295, acc3 :0.9782178217821782 \n",
      "For Balanced data node2 :, acc : 0.8053885013230695, acc0 : 0.9928571428571429 , acc1:0.9964757709251101 , acc2:0.23062015503875968, acc3 :0.996039603960396 \n",
      "For Balanced data node3 :, acc : 0.7490979071445755, acc0 : 0.9959183673469387 , acc1:0.9947136563876652 , acc2:0.9777131782945736, acc3 :0.0 \n"
     ]
    }
   ],
   "source": [
    "for i in range(number_of_nodes): \n",
    "    test_loader = format_test_data(x_test)\n",
    "    pred = predict(test_loader, model_dict_allmiss[name_of_models[i]])\n",
    "    evaluation_met(pred, y_test,ratio = 'Balanced data ' + name_of_models[i])"
   ]
  },
  {
   "cell_type": "markdown",
   "id": "5307b908",
   "metadata": {},
   "source": [
    "# 100 nodes "
   ]
  },
  {
   "cell_type": "code",
   "execution_count": 91,
   "id": "6ca50b5d",
   "metadata": {},
   "outputs": [
    {
     "name": "stdout",
     "output_type": "stream",
     "text": [
      "Round 1\n",
      "Sending main model to nodes in round 0\n",
      "training node0 for Round 0 :\n"
     ]
    },
    {
     "name": "stderr",
     "output_type": "stream",
     "text": [
      "Epoch 4: 100%|██████████| 5/5 [00:18<00:00,  3.67s/Epoch]\n"
     ]
    },
    {
     "name": "stdout",
     "output_type": "stream",
     "text": [
      "Training complete in 0m 18s\n",
      "Best val Acc: 0.560000\n",
      "training node1 for Round 0 :\n"
     ]
    },
    {
     "name": "stderr",
     "output_type": "stream",
     "text": [
      "Epoch 4: 100%|██████████| 5/5 [00:18<00:00,  3.74s/Epoch]\n"
     ]
    },
    {
     "name": "stdout",
     "output_type": "stream",
     "text": [
      "Training complete in 0m 19s\n",
      "Best val Acc: 0.580000\n",
      "training node2 for Round 0 :\n"
     ]
    },
    {
     "name": "stderr",
     "output_type": "stream",
     "text": [
      "Epoch 4: 100%|██████████| 5/5 [00:18<00:00,  3.70s/Epoch]\n"
     ]
    },
    {
     "name": "stdout",
     "output_type": "stream",
     "text": [
      "Training complete in 0m 19s\n",
      "Best val Acc: 0.560000\n",
      "training node3 for Round 0 :\n"
     ]
    },
    {
     "name": "stderr",
     "output_type": "stream",
     "text": [
      "Epoch 4: 100%|██████████| 5/5 [00:18<00:00,  3.68s/Epoch]\n"
     ]
    },
    {
     "name": "stdout",
     "output_type": "stream",
     "text": [
      "Training complete in 0m 18s\n",
      "Best val Acc: 0.600000\n",
      "training node4 for Round 0 :\n"
     ]
    },
    {
     "name": "stderr",
     "output_type": "stream",
     "text": [
      "Epoch 4: 100%|██████████| 5/5 [00:18<00:00,  3.73s/Epoch]\n"
     ]
    },
    {
     "name": "stdout",
     "output_type": "stream",
     "text": [
      "Training complete in 0m 19s\n",
      "Best val Acc: 0.620000\n",
      "training node5 for Round 0 :\n"
     ]
    },
    {
     "name": "stderr",
     "output_type": "stream",
     "text": [
      "Epoch 4: 100%|██████████| 5/5 [00:18<00:00,  3.79s/Epoch]\n"
     ]
    },
    {
     "name": "stdout",
     "output_type": "stream",
     "text": [
      "Training complete in 0m 19s\n",
      "Best val Acc: 0.500000\n",
      "training node6 for Round 0 :\n"
     ]
    },
    {
     "name": "stderr",
     "output_type": "stream",
     "text": [
      "Epoch 4: 100%|██████████| 5/5 [00:18<00:00,  3.78s/Epoch]\n"
     ]
    },
    {
     "name": "stdout",
     "output_type": "stream",
     "text": [
      "Training complete in 0m 19s\n",
      "Best val Acc: 0.600000\n",
      "training node7 for Round 0 :\n"
     ]
    },
    {
     "name": "stderr",
     "output_type": "stream",
     "text": [
      "Epoch 4: 100%|██████████| 5/5 [00:19<00:00,  3.81s/Epoch]\n"
     ]
    },
    {
     "name": "stdout",
     "output_type": "stream",
     "text": [
      "Training complete in 0m 19s\n",
      "Best val Acc: 0.440000\n",
      "training node8 for Round 0 :\n"
     ]
    },
    {
     "name": "stderr",
     "output_type": "stream",
     "text": [
      "Epoch 4: 100%|██████████| 5/5 [00:17<00:00,  3.57s/Epoch]\n"
     ]
    },
    {
     "name": "stdout",
     "output_type": "stream",
     "text": [
      "Training complete in 0m 18s\n",
      "Best val Acc: 0.560000\n",
      "training node9 for Round 0 :\n"
     ]
    },
    {
     "name": "stderr",
     "output_type": "stream",
     "text": [
      "Epoch 4: 100%|██████████| 5/5 [00:19<00:00,  3.93s/Epoch]\n"
     ]
    },
    {
     "name": "stdout",
     "output_type": "stream",
     "text": [
      "Training complete in 0m 20s\n",
      "Best val Acc: 0.560000\n",
      "training node10 for Round 0 :\n"
     ]
    },
    {
     "name": "stderr",
     "output_type": "stream",
     "text": [
      "Epoch 4: 100%|██████████| 5/5 [00:17<00:00,  3.57s/Epoch]\n"
     ]
    },
    {
     "name": "stdout",
     "output_type": "stream",
     "text": [
      "Training complete in 0m 18s\n",
      "Best val Acc: 0.620000\n",
      "training node11 for Round 0 :\n"
     ]
    },
    {
     "name": "stderr",
     "output_type": "stream",
     "text": [
      "Epoch 4: 100%|██████████| 5/5 [00:19<00:00,  3.86s/Epoch]\n"
     ]
    },
    {
     "name": "stdout",
     "output_type": "stream",
     "text": [
      "Training complete in 0m 19s\n",
      "Best val Acc: 0.560000\n",
      "training node12 for Round 0 :\n"
     ]
    },
    {
     "name": "stderr",
     "output_type": "stream",
     "text": [
      "Epoch 4: 100%|██████████| 5/5 [00:18<00:00,  3.62s/Epoch]\n"
     ]
    },
    {
     "name": "stdout",
     "output_type": "stream",
     "text": [
      "Training complete in 0m 18s\n",
      "Best val Acc: 0.520000\n",
      "training node13 for Round 0 :\n"
     ]
    },
    {
     "name": "stderr",
     "output_type": "stream",
     "text": [
      "Epoch 4: 100%|██████████| 5/5 [00:17<00:00,  3.58s/Epoch]\n"
     ]
    },
    {
     "name": "stdout",
     "output_type": "stream",
     "text": [
      "Training complete in 0m 18s\n",
      "Best val Acc: 0.480000\n",
      "training node14 for Round 0 :\n"
     ]
    },
    {
     "name": "stderr",
     "output_type": "stream",
     "text": [
      "Epoch 4: 100%|██████████| 5/5 [00:19<00:00,  3.87s/Epoch]\n"
     ]
    },
    {
     "name": "stdout",
     "output_type": "stream",
     "text": [
      "Training complete in 0m 19s\n",
      "Best val Acc: 0.640000\n",
      "training node15 for Round 0 :\n"
     ]
    },
    {
     "name": "stderr",
     "output_type": "stream",
     "text": [
      "Epoch 4: 100%|██████████| 5/5 [00:19<00:00,  3.86s/Epoch]\n"
     ]
    },
    {
     "name": "stdout",
     "output_type": "stream",
     "text": [
      "Training complete in 0m 19s\n",
      "Best val Acc: 0.540000\n",
      "training node16 for Round 0 :\n"
     ]
    },
    {
     "name": "stderr",
     "output_type": "stream",
     "text": [
      "Epoch 4: 100%|██████████| 5/5 [00:18<00:00,  3.63s/Epoch]\n"
     ]
    },
    {
     "name": "stdout",
     "output_type": "stream",
     "text": [
      "Training complete in 0m 18s\n",
      "Best val Acc: 0.500000\n",
      "training node17 for Round 0 :\n"
     ]
    },
    {
     "name": "stderr",
     "output_type": "stream",
     "text": [
      "Epoch 4: 100%|██████████| 5/5 [00:18<00:00,  3.68s/Epoch]\n"
     ]
    },
    {
     "name": "stdout",
     "output_type": "stream",
     "text": [
      "Training complete in 0m 18s\n",
      "Best val Acc: 0.640000\n",
      "training node18 for Round 0 :\n"
     ]
    },
    {
     "name": "stderr",
     "output_type": "stream",
     "text": [
      "Epoch 4: 100%|██████████| 5/5 [00:19<00:00,  3.81s/Epoch]\n"
     ]
    },
    {
     "name": "stdout",
     "output_type": "stream",
     "text": [
      "Training complete in 0m 19s\n",
      "Best val Acc: 0.620000\n",
      "training node19 for Round 0 :\n"
     ]
    },
    {
     "name": "stderr",
     "output_type": "stream",
     "text": [
      "Epoch 4: 100%|██████████| 5/5 [00:18<00:00,  3.75s/Epoch]\n"
     ]
    },
    {
     "name": "stdout",
     "output_type": "stream",
     "text": [
      "Training complete in 0m 19s\n",
      "Best val Acc: 0.280000\n",
      "training node20 for Round 0 :\n"
     ]
    },
    {
     "name": "stderr",
     "output_type": "stream",
     "text": [
      "Epoch 4: 100%|██████████| 5/5 [00:19<00:00,  3.91s/Epoch]\n"
     ]
    },
    {
     "name": "stdout",
     "output_type": "stream",
     "text": [
      "Training complete in 0m 20s\n",
      "Best val Acc: 0.540000\n",
      "training node21 for Round 0 :\n"
     ]
    },
    {
     "name": "stderr",
     "output_type": "stream",
     "text": [
      "Epoch 4: 100%|██████████| 5/5 [00:19<00:00,  3.90s/Epoch]\n"
     ]
    },
    {
     "name": "stdout",
     "output_type": "stream",
     "text": [
      "Training complete in 0m 20s\n",
      "Best val Acc: 0.600000\n",
      "training node22 for Round 0 :\n"
     ]
    },
    {
     "name": "stderr",
     "output_type": "stream",
     "text": [
      "Epoch 4: 100%|██████████| 5/5 [00:19<00:00,  3.97s/Epoch]\n"
     ]
    },
    {
     "name": "stdout",
     "output_type": "stream",
     "text": [
      "Training complete in 0m 20s\n",
      "Best val Acc: 0.600000\n",
      "training node23 for Round 0 :\n"
     ]
    },
    {
     "name": "stderr",
     "output_type": "stream",
     "text": [
      "Epoch 4: 100%|██████████| 5/5 [00:19<00:00,  3.94s/Epoch]\n"
     ]
    },
    {
     "name": "stdout",
     "output_type": "stream",
     "text": [
      "Training complete in 0m 20s\n",
      "Best val Acc: 0.560000\n",
      "training node24 for Round 0 :\n"
     ]
    },
    {
     "name": "stderr",
     "output_type": "stream",
     "text": [
      "Epoch 4: 100%|██████████| 5/5 [00:19<00:00,  3.97s/Epoch]\n"
     ]
    },
    {
     "name": "stdout",
     "output_type": "stream",
     "text": [
      "Training complete in 0m 20s\n",
      "Best val Acc: 0.620000\n",
      "training node25 for Round 0 :\n"
     ]
    },
    {
     "name": "stderr",
     "output_type": "stream",
     "text": [
      "Epoch 4: 100%|██████████| 5/5 [00:18<00:00,  3.69s/Epoch]\n"
     ]
    },
    {
     "name": "stdout",
     "output_type": "stream",
     "text": [
      "Training complete in 0m 18s\n",
      "Best val Acc: 0.400000\n",
      "training node26 for Round 0 :\n"
     ]
    },
    {
     "name": "stderr",
     "output_type": "stream",
     "text": [
      "Epoch 4: 100%|██████████| 5/5 [00:19<00:00,  3.88s/Epoch]\n"
     ]
    },
    {
     "name": "stdout",
     "output_type": "stream",
     "text": [
      "Training complete in 0m 19s\n",
      "Best val Acc: 0.460000\n",
      "training node27 for Round 0 :\n"
     ]
    },
    {
     "name": "stderr",
     "output_type": "stream",
     "text": [
      "Epoch 4: 100%|██████████| 5/5 [00:19<00:00,  3.86s/Epoch]\n"
     ]
    },
    {
     "name": "stdout",
     "output_type": "stream",
     "text": [
      "Training complete in 0m 19s\n",
      "Best val Acc: 0.420000\n",
      "training node28 for Round 0 :\n"
     ]
    },
    {
     "name": "stderr",
     "output_type": "stream",
     "text": [
      "Epoch 4: 100%|██████████| 5/5 [00:19<00:00,  3.93s/Epoch]\n"
     ]
    },
    {
     "name": "stdout",
     "output_type": "stream",
     "text": [
      "Training complete in 0m 20s\n",
      "Best val Acc: 0.500000\n",
      "training node29 for Round 0 :\n"
     ]
    },
    {
     "name": "stderr",
     "output_type": "stream",
     "text": [
      "Epoch 4: 100%|██████████| 5/5 [00:19<00:00,  3.83s/Epoch]\n"
     ]
    },
    {
     "name": "stdout",
     "output_type": "stream",
     "text": [
      "Training complete in 0m 19s\n",
      "Best val Acc: 0.400000\n",
      "training node30 for Round 0 :\n"
     ]
    },
    {
     "name": "stderr",
     "output_type": "stream",
     "text": [
      "Epoch 4: 100%|██████████| 5/5 [00:18<00:00,  3.64s/Epoch]\n"
     ]
    },
    {
     "name": "stdout",
     "output_type": "stream",
     "text": [
      "Training complete in 0m 18s\n",
      "Best val Acc: 0.480000\n",
      "training node31 for Round 0 :\n"
     ]
    },
    {
     "name": "stderr",
     "output_type": "stream",
     "text": [
      "Epoch 4: 100%|██████████| 5/5 [00:17<00:00,  3.55s/Epoch]\n"
     ]
    },
    {
     "name": "stdout",
     "output_type": "stream",
     "text": [
      "Training complete in 0m 18s\n",
      "Best val Acc: 0.420000\n",
      "training node32 for Round 0 :\n"
     ]
    },
    {
     "name": "stderr",
     "output_type": "stream",
     "text": [
      "Epoch 4: 100%|██████████| 5/5 [00:18<00:00,  3.76s/Epoch]\n"
     ]
    },
    {
     "name": "stdout",
     "output_type": "stream",
     "text": [
      "Training complete in 0m 19s\n",
      "Best val Acc: 0.480000\n",
      "training node33 for Round 0 :\n"
     ]
    },
    {
     "name": "stderr",
     "output_type": "stream",
     "text": [
      "Epoch 4: 100%|██████████| 5/5 [00:18<00:00,  3.69s/Epoch]\n"
     ]
    },
    {
     "name": "stdout",
     "output_type": "stream",
     "text": [
      "Training complete in 0m 18s\n",
      "Best val Acc: 0.460000\n",
      "training node34 for Round 0 :\n"
     ]
    },
    {
     "name": "stderr",
     "output_type": "stream",
     "text": [
      "Epoch 4: 100%|██████████| 5/5 [00:18<00:00,  3.68s/Epoch]\n"
     ]
    },
    {
     "name": "stdout",
     "output_type": "stream",
     "text": [
      "Training complete in 0m 18s\n",
      "Best val Acc: 0.420000\n",
      "training node35 for Round 0 :\n"
     ]
    },
    {
     "name": "stderr",
     "output_type": "stream",
     "text": [
      "Epoch 4: 100%|██████████| 5/5 [00:18<00:00,  3.65s/Epoch]\n"
     ]
    },
    {
     "name": "stdout",
     "output_type": "stream",
     "text": [
      "Training complete in 0m 18s\n",
      "Best val Acc: 0.420000\n",
      "training node36 for Round 0 :\n"
     ]
    },
    {
     "name": "stderr",
     "output_type": "stream",
     "text": [
      "Epoch 4: 100%|██████████| 5/5 [00:17<00:00,  3.57s/Epoch]\n"
     ]
    },
    {
     "name": "stdout",
     "output_type": "stream",
     "text": [
      "Training complete in 0m 18s\n",
      "Best val Acc: 0.440000\n",
      "training node37 for Round 0 :\n"
     ]
    },
    {
     "name": "stderr",
     "output_type": "stream",
     "text": [
      "Epoch 4: 100%|██████████| 5/5 [00:18<00:00,  3.68s/Epoch]\n"
     ]
    },
    {
     "name": "stdout",
     "output_type": "stream",
     "text": [
      "Training complete in 0m 18s\n",
      "Best val Acc: 0.560000\n",
      "training node38 for Round 0 :\n"
     ]
    },
    {
     "name": "stderr",
     "output_type": "stream",
     "text": [
      "Epoch 4: 100%|██████████| 5/5 [00:18<00:00,  3.62s/Epoch]\n"
     ]
    },
    {
     "name": "stdout",
     "output_type": "stream",
     "text": [
      "Training complete in 0m 18s\n",
      "Best val Acc: 0.500000\n",
      "training node39 for Round 0 :\n"
     ]
    },
    {
     "name": "stderr",
     "output_type": "stream",
     "text": [
      "Epoch 4: 100%|██████████| 5/5 [00:19<00:00,  3.89s/Epoch]\n"
     ]
    },
    {
     "name": "stdout",
     "output_type": "stream",
     "text": [
      "Training complete in 0m 19s\n",
      "Best val Acc: 0.380000\n",
      "training node40 for Round 0 :\n"
     ]
    },
    {
     "name": "stderr",
     "output_type": "stream",
     "text": [
      "Epoch 4: 100%|██████████| 5/5 [00:18<00:00,  3.63s/Epoch]\n"
     ]
    },
    {
     "name": "stdout",
     "output_type": "stream",
     "text": [
      "Training complete in 0m 18s\n",
      "Best val Acc: 0.380000\n",
      "training node41 for Round 0 :\n"
     ]
    },
    {
     "name": "stderr",
     "output_type": "stream",
     "text": [
      "Epoch 4: 100%|██████████| 5/5 [00:18<00:00,  3.63s/Epoch]\n"
     ]
    },
    {
     "name": "stdout",
     "output_type": "stream",
     "text": [
      "Training complete in 0m 18s\n",
      "Best val Acc: 0.400000\n",
      "training node42 for Round 0 :\n"
     ]
    },
    {
     "name": "stderr",
     "output_type": "stream",
     "text": [
      "Epoch 4: 100%|██████████| 5/5 [00:19<00:00,  3.88s/Epoch]\n"
     ]
    },
    {
     "name": "stdout",
     "output_type": "stream",
     "text": [
      "Training complete in 0m 19s\n",
      "Best val Acc: 0.500000\n",
      "training node43 for Round 0 :\n"
     ]
    },
    {
     "name": "stderr",
     "output_type": "stream",
     "text": [
      "Epoch 4: 100%|██████████| 5/5 [00:17<00:00,  3.57s/Epoch]\n"
     ]
    },
    {
     "name": "stdout",
     "output_type": "stream",
     "text": [
      "Training complete in 0m 18s\n",
      "Best val Acc: 0.400000\n",
      "training node44 for Round 0 :\n"
     ]
    },
    {
     "name": "stderr",
     "output_type": "stream",
     "text": [
      "Epoch 4: 100%|██████████| 5/5 [00:18<00:00,  3.63s/Epoch]\n"
     ]
    },
    {
     "name": "stdout",
     "output_type": "stream",
     "text": [
      "Training complete in 0m 18s\n",
      "Best val Acc: 0.460000\n",
      "training node45 for Round 0 :\n"
     ]
    },
    {
     "name": "stderr",
     "output_type": "stream",
     "text": [
      "Epoch 4: 100%|██████████| 5/5 [00:19<00:00,  3.88s/Epoch]\n"
     ]
    },
    {
     "name": "stdout",
     "output_type": "stream",
     "text": [
      "Training complete in 0m 19s\n",
      "Best val Acc: 0.460000\n",
      "training node46 for Round 0 :\n"
     ]
    },
    {
     "name": "stderr",
     "output_type": "stream",
     "text": [
      "Epoch 4: 100%|██████████| 5/5 [00:19<00:00,  3.83s/Epoch]\n"
     ]
    },
    {
     "name": "stdout",
     "output_type": "stream",
     "text": [
      "Training complete in 0m 19s\n",
      "Best val Acc: 0.320000\n",
      "training node47 for Round 0 :\n"
     ]
    },
    {
     "name": "stderr",
     "output_type": "stream",
     "text": [
      "Epoch 4: 100%|██████████| 5/5 [00:18<00:00,  3.68s/Epoch]\n"
     ]
    },
    {
     "name": "stdout",
     "output_type": "stream",
     "text": [
      "Training complete in 0m 18s\n",
      "Best val Acc: 0.360000\n",
      "training node48 for Round 0 :\n"
     ]
    },
    {
     "name": "stderr",
     "output_type": "stream",
     "text": [
      "Epoch 4: 100%|██████████| 5/5 [00:17<00:00,  3.56s/Epoch]\n"
     ]
    },
    {
     "name": "stdout",
     "output_type": "stream",
     "text": [
      "Training complete in 0m 18s\n",
      "Best val Acc: 0.460000\n",
      "training node49 for Round 0 :\n"
     ]
    },
    {
     "name": "stderr",
     "output_type": "stream",
     "text": [
      "Epoch 4: 100%|██████████| 5/5 [00:19<00:00,  3.94s/Epoch]\n"
     ]
    },
    {
     "name": "stdout",
     "output_type": "stream",
     "text": [
      "Training complete in 0m 20s\n",
      "Best val Acc: 0.480000\n",
      "training node50 for Round 0 :\n"
     ]
    },
    {
     "name": "stderr",
     "output_type": "stream",
     "text": [
      "Epoch 4: 100%|██████████| 5/5 [00:19<00:00,  4.00s/Epoch]\n"
     ]
    },
    {
     "name": "stdout",
     "output_type": "stream",
     "text": [
      "Training complete in 0m 20s\n",
      "Best val Acc: 0.640000\n",
      "training node51 for Round 0 :\n"
     ]
    },
    {
     "name": "stderr",
     "output_type": "stream",
     "text": [
      "Epoch 4: 100%|██████████| 5/5 [00:19<00:00,  4.00s/Epoch]\n"
     ]
    },
    {
     "name": "stdout",
     "output_type": "stream",
     "text": [
      "Training complete in 0m 20s\n",
      "Best val Acc: 0.640000\n",
      "training node52 for Round 0 :\n"
     ]
    },
    {
     "name": "stderr",
     "output_type": "stream",
     "text": [
      "Epoch 4: 100%|██████████| 5/5 [00:18<00:00,  3.71s/Epoch]\n"
     ]
    },
    {
     "name": "stdout",
     "output_type": "stream",
     "text": [
      "Training complete in 0m 19s\n",
      "Best val Acc: 0.500000\n",
      "training node53 for Round 0 :\n"
     ]
    },
    {
     "name": "stderr",
     "output_type": "stream",
     "text": [
      "Epoch 4: 100%|██████████| 5/5 [00:19<00:00,  3.98s/Epoch]\n"
     ]
    },
    {
     "name": "stdout",
     "output_type": "stream",
     "text": [
      "Training complete in 0m 20s\n",
      "Best val Acc: 0.680000\n",
      "training node54 for Round 0 :\n"
     ]
    },
    {
     "name": "stderr",
     "output_type": "stream",
     "text": [
      "Epoch 4: 100%|██████████| 5/5 [00:19<00:00,  3.92s/Epoch]\n"
     ]
    },
    {
     "name": "stdout",
     "output_type": "stream",
     "text": [
      "Training complete in 0m 20s\n",
      "Best val Acc: 0.420000\n",
      "training node55 for Round 0 :\n"
     ]
    },
    {
     "name": "stderr",
     "output_type": "stream",
     "text": [
      "Epoch 4: 100%|██████████| 5/5 [00:20<00:00,  4.02s/Epoch]\n"
     ]
    },
    {
     "name": "stdout",
     "output_type": "stream",
     "text": [
      "Training complete in 0m 20s\n",
      "Best val Acc: 0.620000\n",
      "training node56 for Round 0 :\n"
     ]
    },
    {
     "name": "stderr",
     "output_type": "stream",
     "text": [
      "Epoch 4: 100%|██████████| 5/5 [00:19<00:00,  3.91s/Epoch]\n"
     ]
    },
    {
     "name": "stdout",
     "output_type": "stream",
     "text": [
      "Training complete in 0m 20s\n",
      "Best val Acc: 0.600000\n",
      "training node57 for Round 0 :\n"
     ]
    },
    {
     "name": "stderr",
     "output_type": "stream",
     "text": [
      "Epoch 4: 100%|██████████| 5/5 [00:18<00:00,  3.72s/Epoch]\n"
     ]
    },
    {
     "name": "stdout",
     "output_type": "stream",
     "text": [
      "Training complete in 0m 19s\n",
      "Best val Acc: 0.600000\n",
      "training node58 for Round 0 :\n"
     ]
    },
    {
     "name": "stderr",
     "output_type": "stream",
     "text": [
      "Epoch 4: 100%|██████████| 5/5 [00:19<00:00,  3.98s/Epoch]\n"
     ]
    },
    {
     "name": "stdout",
     "output_type": "stream",
     "text": [
      "Training complete in 0m 20s\n",
      "Best val Acc: 0.680000\n",
      "training node59 for Round 0 :\n"
     ]
    },
    {
     "name": "stderr",
     "output_type": "stream",
     "text": [
      "Epoch 4: 100%|██████████| 5/5 [00:19<00:00,  3.97s/Epoch]\n"
     ]
    },
    {
     "name": "stdout",
     "output_type": "stream",
     "text": [
      "Training complete in 0m 20s\n",
      "Best val Acc: 0.560000\n",
      "training node60 for Round 0 :\n"
     ]
    },
    {
     "name": "stderr",
     "output_type": "stream",
     "text": [
      "Epoch 4: 100%|██████████| 5/5 [00:20<00:00,  4.02s/Epoch]\n"
     ]
    },
    {
     "name": "stdout",
     "output_type": "stream",
     "text": [
      "Training complete in 0m 20s\n",
      "Best val Acc: 0.660000\n",
      "training node61 for Round 0 :\n"
     ]
    },
    {
     "name": "stderr",
     "output_type": "stream",
     "text": [
      "Epoch 4: 100%|██████████| 5/5 [00:19<00:00,  3.93s/Epoch]\n"
     ]
    },
    {
     "name": "stdout",
     "output_type": "stream",
     "text": [
      "Training complete in 0m 20s\n",
      "Best val Acc: 0.500000\n",
      "training node62 for Round 0 :\n"
     ]
    },
    {
     "name": "stderr",
     "output_type": "stream",
     "text": [
      "Epoch 4: 100%|██████████| 5/5 [00:19<00:00,  3.84s/Epoch]\n"
     ]
    },
    {
     "name": "stdout",
     "output_type": "stream",
     "text": [
      "Training complete in 0m 19s\n",
      "Best val Acc: 0.560000\n",
      "training node63 for Round 0 :\n"
     ]
    },
    {
     "name": "stderr",
     "output_type": "stream",
     "text": [
      "Epoch 4: 100%|██████████| 5/5 [00:19<00:00,  3.85s/Epoch]\n"
     ]
    },
    {
     "name": "stdout",
     "output_type": "stream",
     "text": [
      "Training complete in 0m 19s\n",
      "Best val Acc: 0.520000\n",
      "training node64 for Round 0 :\n"
     ]
    },
    {
     "name": "stderr",
     "output_type": "stream",
     "text": [
      "Epoch 4: 100%|██████████| 5/5 [00:20<00:00,  4.04s/Epoch]\n"
     ]
    },
    {
     "name": "stdout",
     "output_type": "stream",
     "text": [
      "Training complete in 0m 20s\n",
      "Best val Acc: 0.600000\n",
      "training node65 for Round 0 :\n"
     ]
    },
    {
     "name": "stderr",
     "output_type": "stream",
     "text": [
      "Epoch 4: 100%|██████████| 5/5 [00:20<00:00,  4.11s/Epoch]\n"
     ]
    },
    {
     "name": "stdout",
     "output_type": "stream",
     "text": [
      "Training complete in 0m 21s\n",
      "Best val Acc: 0.700000\n",
      "training node66 for Round 0 :\n"
     ]
    },
    {
     "name": "stderr",
     "output_type": "stream",
     "text": [
      "Epoch 4: 100%|██████████| 5/5 [00:19<00:00,  3.98s/Epoch]\n"
     ]
    },
    {
     "name": "stdout",
     "output_type": "stream",
     "text": [
      "Training complete in 0m 20s\n",
      "Best val Acc: 0.640000\n",
      "training node67 for Round 0 :\n"
     ]
    },
    {
     "name": "stderr",
     "output_type": "stream",
     "text": [
      "Epoch 4: 100%|██████████| 5/5 [00:18<00:00,  3.75s/Epoch]\n"
     ]
    },
    {
     "name": "stdout",
     "output_type": "stream",
     "text": [
      "Training complete in 0m 19s\n",
      "Best val Acc: 0.560000\n",
      "training node68 for Round 0 :\n"
     ]
    },
    {
     "name": "stderr",
     "output_type": "stream",
     "text": [
      "Epoch 4: 100%|██████████| 5/5 [00:20<00:00,  4.04s/Epoch]\n"
     ]
    },
    {
     "name": "stdout",
     "output_type": "stream",
     "text": [
      "Training complete in 0m 20s\n",
      "Best val Acc: 0.620000\n",
      "training node69 for Round 0 :\n"
     ]
    },
    {
     "name": "stderr",
     "output_type": "stream",
     "text": [
      "Epoch 4: 100%|██████████| 5/5 [00:20<00:00,  4.18s/Epoch]\n"
     ]
    },
    {
     "name": "stdout",
     "output_type": "stream",
     "text": [
      "Training complete in 0m 21s\n",
      "Best val Acc: 0.720000\n",
      "training node70 for Round 0 :\n"
     ]
    },
    {
     "name": "stderr",
     "output_type": "stream",
     "text": [
      "Epoch 4: 100%|██████████| 5/5 [00:20<00:00,  4.06s/Epoch]\n"
     ]
    },
    {
     "name": "stdout",
     "output_type": "stream",
     "text": [
      "Training complete in 0m 20s\n",
      "Best val Acc: 0.680000\n",
      "training node71 for Round 0 :\n"
     ]
    },
    {
     "name": "stderr",
     "output_type": "stream",
     "text": [
      "Epoch 4: 100%|██████████| 5/5 [00:20<00:00,  4.12s/Epoch]\n"
     ]
    },
    {
     "name": "stdout",
     "output_type": "stream",
     "text": [
      "Training complete in 0m 21s\n",
      "Best val Acc: 0.520000\n",
      "training node72 for Round 0 :\n"
     ]
    },
    {
     "name": "stderr",
     "output_type": "stream",
     "text": [
      "Epoch 4: 100%|██████████| 5/5 [00:20<00:00,  4.07s/Epoch]\n"
     ]
    },
    {
     "name": "stdout",
     "output_type": "stream",
     "text": [
      "Training complete in 0m 20s\n",
      "Best val Acc: 0.660000\n",
      "training node73 for Round 0 :\n"
     ]
    },
    {
     "name": "stderr",
     "output_type": "stream",
     "text": [
      "Epoch 4: 100%|██████████| 5/5 [00:20<00:00,  4.12s/Epoch]\n"
     ]
    },
    {
     "name": "stdout",
     "output_type": "stream",
     "text": [
      "Training complete in 0m 21s\n",
      "Best val Acc: 0.540000\n",
      "training node74 for Round 0 :\n"
     ]
    },
    {
     "name": "stderr",
     "output_type": "stream",
     "text": [
      "Epoch 4: 100%|██████████| 5/5 [00:19<00:00,  3.87s/Epoch]\n"
     ]
    },
    {
     "name": "stdout",
     "output_type": "stream",
     "text": [
      "Training complete in 0m 19s\n",
      "Best val Acc: 0.540000\n",
      "training node75 for Round 0 :\n"
     ]
    },
    {
     "name": "stderr",
     "output_type": "stream",
     "text": [
      "Epoch 4: 100%|██████████| 5/5 [00:19<00:00,  3.92s/Epoch]\n"
     ]
    },
    {
     "name": "stdout",
     "output_type": "stream",
     "text": [
      "Training complete in 0m 20s\n",
      "Best val Acc: 0.660000\n",
      "training node76 for Round 0 :\n"
     ]
    },
    {
     "name": "stderr",
     "output_type": "stream",
     "text": [
      "Epoch 4: 100%|██████████| 5/5 [00:19<00:00,  3.92s/Epoch]\n"
     ]
    },
    {
     "name": "stdout",
     "output_type": "stream",
     "text": [
      "Training complete in 0m 20s\n",
      "Best val Acc: 0.600000\n",
      "training node77 for Round 0 :\n"
     ]
    },
    {
     "name": "stderr",
     "output_type": "stream",
     "text": [
      "Epoch 4: 100%|██████████| 5/5 [00:17<00:00,  3.59s/Epoch]\n"
     ]
    },
    {
     "name": "stdout",
     "output_type": "stream",
     "text": [
      "Training complete in 0m 18s\n",
      "Best val Acc: 0.560000\n",
      "training node78 for Round 0 :\n"
     ]
    },
    {
     "name": "stderr",
     "output_type": "stream",
     "text": [
      "Epoch 4: 100%|██████████| 5/5 [00:19<00:00,  3.87s/Epoch]\n"
     ]
    },
    {
     "name": "stdout",
     "output_type": "stream",
     "text": [
      "Training complete in 0m 19s\n",
      "Best val Acc: 0.560000\n",
      "training node79 for Round 0 :\n"
     ]
    },
    {
     "name": "stderr",
     "output_type": "stream",
     "text": [
      "Epoch 4: 100%|██████████| 5/5 [00:19<00:00,  3.81s/Epoch]\n"
     ]
    },
    {
     "name": "stdout",
     "output_type": "stream",
     "text": [
      "Training complete in 0m 19s\n",
      "Best val Acc: 0.560000\n",
      "training node80 for Round 0 :\n"
     ]
    },
    {
     "name": "stderr",
     "output_type": "stream",
     "text": [
      "Epoch 4: 100%|██████████| 5/5 [00:18<00:00,  3.69s/Epoch]\n"
     ]
    },
    {
     "name": "stdout",
     "output_type": "stream",
     "text": [
      "Training complete in 0m 18s\n",
      "Best val Acc: 0.460000\n",
      "training node81 for Round 0 :\n"
     ]
    },
    {
     "name": "stderr",
     "output_type": "stream",
     "text": [
      "Epoch 4: 100%|██████████| 5/5 [00:19<00:00,  3.89s/Epoch]\n"
     ]
    },
    {
     "name": "stdout",
     "output_type": "stream",
     "text": [
      "Training complete in 0m 19s\n",
      "Best val Acc: 0.560000\n",
      "training node82 for Round 0 :\n"
     ]
    },
    {
     "name": "stderr",
     "output_type": "stream",
     "text": [
      "Epoch 4: 100%|██████████| 5/5 [00:18<00:00,  3.72s/Epoch]\n"
     ]
    },
    {
     "name": "stdout",
     "output_type": "stream",
     "text": [
      "Training complete in 0m 19s\n",
      "Best val Acc: 0.460000\n",
      "training node83 for Round 0 :\n"
     ]
    },
    {
     "name": "stderr",
     "output_type": "stream",
     "text": [
      "Epoch 4: 100%|██████████| 5/5 [00:19<00:00,  3.90s/Epoch]\n"
     ]
    },
    {
     "name": "stdout",
     "output_type": "stream",
     "text": [
      "Training complete in 0m 20s\n",
      "Best val Acc: 0.560000\n",
      "training node84 for Round 0 :\n"
     ]
    },
    {
     "name": "stderr",
     "output_type": "stream",
     "text": [
      "Epoch 4: 100%|██████████| 5/5 [00:19<00:00,  3.88s/Epoch]\n"
     ]
    },
    {
     "name": "stdout",
     "output_type": "stream",
     "text": [
      "Training complete in 0m 19s\n",
      "Best val Acc: 0.580000\n",
      "training node85 for Round 0 :\n"
     ]
    },
    {
     "name": "stderr",
     "output_type": "stream",
     "text": [
      "Epoch 4: 100%|██████████| 5/5 [00:19<00:00,  3.83s/Epoch]\n"
     ]
    },
    {
     "name": "stdout",
     "output_type": "stream",
     "text": [
      "Training complete in 0m 19s\n",
      "Best val Acc: 0.340000\n",
      "training node86 for Round 0 :\n"
     ]
    },
    {
     "name": "stderr",
     "output_type": "stream",
     "text": [
      "Epoch 4: 100%|██████████| 5/5 [00:18<00:00,  3.67s/Epoch]\n"
     ]
    },
    {
     "name": "stdout",
     "output_type": "stream",
     "text": [
      "Training complete in 0m 18s\n",
      "Best val Acc: 0.520000\n",
      "training node87 for Round 0 :\n"
     ]
    },
    {
     "name": "stderr",
     "output_type": "stream",
     "text": [
      "Epoch 4: 100%|██████████| 5/5 [00:19<00:00,  3.91s/Epoch]\n"
     ]
    },
    {
     "name": "stdout",
     "output_type": "stream",
     "text": [
      "Training complete in 0m 20s\n",
      "Best val Acc: 0.460000\n",
      "training node88 for Round 0 :\n"
     ]
    },
    {
     "name": "stderr",
     "output_type": "stream",
     "text": [
      "Epoch 4: 100%|██████████| 5/5 [00:19<00:00,  3.90s/Epoch]\n"
     ]
    },
    {
     "name": "stdout",
     "output_type": "stream",
     "text": [
      "Training complete in 0m 20s\n",
      "Best val Acc: 0.520000\n",
      "training node89 for Round 0 :\n"
     ]
    },
    {
     "name": "stderr",
     "output_type": "stream",
     "text": [
      "Epoch 4: 100%|██████████| 5/5 [00:19<00:00,  3.94s/Epoch]\n"
     ]
    },
    {
     "name": "stdout",
     "output_type": "stream",
     "text": [
      "Training complete in 0m 20s\n",
      "Best val Acc: 0.580000\n",
      "training node90 for Round 0 :\n"
     ]
    },
    {
     "name": "stderr",
     "output_type": "stream",
     "text": [
      "Epoch 4: 100%|██████████| 5/5 [00:19<00:00,  3.86s/Epoch]\n"
     ]
    },
    {
     "name": "stdout",
     "output_type": "stream",
     "text": [
      "Training complete in 0m 19s\n",
      "Best val Acc: 0.640000\n",
      "training node91 for Round 0 :\n"
     ]
    },
    {
     "name": "stderr",
     "output_type": "stream",
     "text": [
      "Epoch 4: 100%|██████████| 5/5 [00:19<00:00,  3.93s/Epoch]\n"
     ]
    },
    {
     "name": "stdout",
     "output_type": "stream",
     "text": [
      "Training complete in 0m 20s\n",
      "Best val Acc: 0.640000\n",
      "training node92 for Round 0 :\n"
     ]
    },
    {
     "name": "stderr",
     "output_type": "stream",
     "text": [
      "Epoch 4: 100%|██████████| 5/5 [00:19<00:00,  3.91s/Epoch]\n"
     ]
    },
    {
     "name": "stdout",
     "output_type": "stream",
     "text": [
      "Training complete in 0m 20s\n",
      "Best val Acc: 0.620000\n",
      "training node93 for Round 0 :\n"
     ]
    },
    {
     "name": "stderr",
     "output_type": "stream",
     "text": [
      "Epoch 4: 100%|██████████| 5/5 [00:18<00:00,  3.66s/Epoch]\n"
     ]
    },
    {
     "name": "stdout",
     "output_type": "stream",
     "text": [
      "Training complete in 0m 18s\n",
      "Best val Acc: 0.560000\n",
      "training node94 for Round 0 :\n"
     ]
    },
    {
     "name": "stderr",
     "output_type": "stream",
     "text": [
      "Epoch 4: 100%|██████████| 5/5 [00:19<00:00,  3.93s/Epoch]\n"
     ]
    },
    {
     "name": "stdout",
     "output_type": "stream",
     "text": [
      "Training complete in 0m 20s\n",
      "Best val Acc: 0.640000\n",
      "training node95 for Round 0 :\n"
     ]
    },
    {
     "name": "stderr",
     "output_type": "stream",
     "text": [
      "Epoch 4: 100%|██████████| 5/5 [00:18<00:00,  3.69s/Epoch]\n"
     ]
    },
    {
     "name": "stdout",
     "output_type": "stream",
     "text": [
      "Training complete in 0m 18s\n",
      "Best val Acc: 0.560000\n",
      "training node96 for Round 0 :\n"
     ]
    },
    {
     "name": "stderr",
     "output_type": "stream",
     "text": [
      "Epoch 4: 100%|██████████| 5/5 [00:18<00:00,  3.64s/Epoch]\n"
     ]
    },
    {
     "name": "stdout",
     "output_type": "stream",
     "text": [
      "Training complete in 0m 18s\n",
      "Best val Acc: 0.480000\n",
      "training node97 for Round 0 :\n"
     ]
    },
    {
     "name": "stderr",
     "output_type": "stream",
     "text": [
      "Epoch 4: 100%|██████████| 5/5 [00:19<00:00,  3.97s/Epoch]\n"
     ]
    },
    {
     "name": "stdout",
     "output_type": "stream",
     "text": [
      "Training complete in 0m 20s\n",
      "Best val Acc: 0.560000\n",
      "training node98 for Round 0 :\n"
     ]
    },
    {
     "name": "stderr",
     "output_type": "stream",
     "text": [
      "Epoch 4: 100%|██████████| 5/5 [00:19<00:00,  3.95s/Epoch]\n"
     ]
    },
    {
     "name": "stdout",
     "output_type": "stream",
     "text": [
      "Training complete in 0m 20s\n",
      "Best val Acc: 0.600000\n",
      "training node99 for Round 0 :\n"
     ]
    },
    {
     "name": "stderr",
     "output_type": "stream",
     "text": [
      "Epoch 4: 100%|██████████| 5/5 [00:19<00:00,  3.96s/Epoch]\n"
     ]
    },
    {
     "name": "stdout",
     "output_type": "stream",
     "text": [
      "Training complete in 0m 20s\n",
      "Best val Acc: 0.660000\n",
      "Fedavg of main model in round 1\n",
      "For Round 0 :, acc : 0.4948280009622324, acc0 : 0.5091836734693878 , acc1:0.7268722466960352 , acc2:0.3682170542635659, acc3 :0.3495049504950495 \n",
      "Round 2\n",
      "Sending main model to nodes in round 1\n",
      "training node0 for Round 1 :\n"
     ]
    },
    {
     "name": "stderr",
     "output_type": "stream",
     "text": [
      "Epoch 4: 100%|██████████| 5/5 [00:19<00:00,  3.96s/Epoch]\n"
     ]
    },
    {
     "name": "stdout",
     "output_type": "stream",
     "text": [
      "Training complete in 0m 20s\n",
      "Best val Acc: 0.600000\n",
      "training node1 for Round 1 :\n"
     ]
    },
    {
     "name": "stderr",
     "output_type": "stream",
     "text": [
      "Epoch 4: 100%|██████████| 5/5 [00:20<00:00,  4.07s/Epoch]\n"
     ]
    },
    {
     "name": "stdout",
     "output_type": "stream",
     "text": [
      "Training complete in 0m 20s\n",
      "Best val Acc: 0.680000\n",
      "training node2 for Round 1 :\n"
     ]
    },
    {
     "name": "stderr",
     "output_type": "stream",
     "text": [
      "Epoch 4: 100%|██████████| 5/5 [00:20<00:00,  4.00s/Epoch]\n"
     ]
    },
    {
     "name": "stdout",
     "output_type": "stream",
     "text": [
      "Training complete in 0m 20s\n",
      "Best val Acc: 0.620000\n",
      "training node3 for Round 1 :\n"
     ]
    },
    {
     "name": "stderr",
     "output_type": "stream",
     "text": [
      "Epoch 4: 100%|██████████| 5/5 [00:20<00:00,  4.01s/Epoch]\n"
     ]
    },
    {
     "name": "stdout",
     "output_type": "stream",
     "text": [
      "Training complete in 0m 20s\n",
      "Best val Acc: 0.660000\n",
      "training node4 for Round 1 :\n"
     ]
    },
    {
     "name": "stderr",
     "output_type": "stream",
     "text": [
      "Epoch 4: 100%|██████████| 5/5 [00:20<00:00,  4.10s/Epoch]\n"
     ]
    },
    {
     "name": "stdout",
     "output_type": "stream",
     "text": [
      "Training complete in 0m 21s\n",
      "Best val Acc: 0.640000\n",
      "training node5 for Round 1 :\n"
     ]
    },
    {
     "name": "stderr",
     "output_type": "stream",
     "text": [
      "Epoch 4: 100%|██████████| 5/5 [00:20<00:00,  4.07s/Epoch]\n"
     ]
    },
    {
     "name": "stdout",
     "output_type": "stream",
     "text": [
      "Training complete in 0m 20s\n",
      "Best val Acc: 0.640000\n",
      "training node6 for Round 1 :\n"
     ]
    },
    {
     "name": "stderr",
     "output_type": "stream",
     "text": [
      "Epoch 4: 100%|██████████| 5/5 [00:20<00:00,  4.01s/Epoch]\n"
     ]
    },
    {
     "name": "stdout",
     "output_type": "stream",
     "text": [
      "Training complete in 0m 20s\n",
      "Best val Acc: 0.600000\n",
      "training node7 for Round 1 :\n"
     ]
    },
    {
     "name": "stderr",
     "output_type": "stream",
     "text": [
      "Epoch 4: 100%|██████████| 5/5 [00:19<00:00,  3.98s/Epoch]\n"
     ]
    },
    {
     "name": "stdout",
     "output_type": "stream",
     "text": [
      "Training complete in 0m 20s\n",
      "Best val Acc: 0.540000\n",
      "training node8 for Round 1 :\n"
     ]
    },
    {
     "name": "stderr",
     "output_type": "stream",
     "text": [
      "Epoch 4: 100%|██████████| 5/5 [00:18<00:00,  3.78s/Epoch]\n"
     ]
    },
    {
     "name": "stdout",
     "output_type": "stream",
     "text": [
      "Training complete in 0m 19s\n",
      "Best val Acc: 0.580000\n",
      "training node9 for Round 1 :\n"
     ]
    },
    {
     "name": "stderr",
     "output_type": "stream",
     "text": [
      "Epoch 4: 100%|██████████| 5/5 [00:21<00:00,  4.24s/Epoch]\n"
     ]
    },
    {
     "name": "stdout",
     "output_type": "stream",
     "text": [
      "Training complete in 0m 21s\n",
      "Best val Acc: 0.640000\n",
      "training node10 for Round 1 :\n"
     ]
    },
    {
     "name": "stderr",
     "output_type": "stream",
     "text": [
      "Epoch 4: 100%|██████████| 5/5 [00:19<00:00,  3.87s/Epoch]\n"
     ]
    },
    {
     "name": "stdout",
     "output_type": "stream",
     "text": [
      "Training complete in 0m 19s\n",
      "Best val Acc: 0.580000\n",
      "training node11 for Round 1 :\n"
     ]
    },
    {
     "name": "stderr",
     "output_type": "stream",
     "text": [
      "Epoch 4: 100%|██████████| 5/5 [00:20<00:00,  4.14s/Epoch]\n"
     ]
    },
    {
     "name": "stdout",
     "output_type": "stream",
     "text": [
      "Training complete in 0m 21s\n",
      "Best val Acc: 0.580000\n",
      "training node12 for Round 1 :\n"
     ]
    },
    {
     "name": "stderr",
     "output_type": "stream",
     "text": [
      "Epoch 4: 100%|██████████| 5/5 [00:19<00:00,  3.88s/Epoch]\n"
     ]
    },
    {
     "name": "stdout",
     "output_type": "stream",
     "text": [
      "Training complete in 0m 19s\n",
      "Best val Acc: 0.580000\n",
      "training node13 for Round 1 :\n"
     ]
    },
    {
     "name": "stderr",
     "output_type": "stream",
     "text": [
      "Epoch 4: 100%|██████████| 5/5 [00:18<00:00,  3.79s/Epoch]\n"
     ]
    },
    {
     "name": "stdout",
     "output_type": "stream",
     "text": [
      "Training complete in 0m 19s\n",
      "Best val Acc: 0.620000\n",
      "training node14 for Round 1 :\n"
     ]
    },
    {
     "name": "stderr",
     "output_type": "stream",
     "text": [
      "Epoch 4: 100%|██████████| 5/5 [00:20<00:00,  4.16s/Epoch]\n"
     ]
    },
    {
     "name": "stdout",
     "output_type": "stream",
     "text": [
      "Training complete in 0m 21s\n",
      "Best val Acc: 0.700000\n",
      "training node15 for Round 1 :\n"
     ]
    },
    {
     "name": "stderr",
     "output_type": "stream",
     "text": [
      "Epoch 4: 100%|██████████| 5/5 [00:20<00:00,  4.07s/Epoch]\n"
     ]
    },
    {
     "name": "stdout",
     "output_type": "stream",
     "text": [
      "Training complete in 0m 20s\n",
      "Best val Acc: 0.660000\n",
      "training node16 for Round 1 :\n"
     ]
    },
    {
     "name": "stderr",
     "output_type": "stream",
     "text": [
      "Epoch 4: 100%|██████████| 5/5 [00:19<00:00,  3.93s/Epoch]\n"
     ]
    },
    {
     "name": "stdout",
     "output_type": "stream",
     "text": [
      "Training complete in 0m 20s\n",
      "Best val Acc: 0.580000\n",
      "training node17 for Round 1 :\n"
     ]
    },
    {
     "name": "stderr",
     "output_type": "stream",
     "text": [
      "Epoch 4: 100%|██████████| 5/5 [00:21<00:00,  4.27s/Epoch]\n"
     ]
    },
    {
     "name": "stdout",
     "output_type": "stream",
     "text": [
      "Training complete in 0m 21s\n",
      "Best val Acc: 0.640000\n",
      "training node18 for Round 1 :\n"
     ]
    },
    {
     "name": "stderr",
     "output_type": "stream",
     "text": [
      "Epoch 4: 100%|██████████| 5/5 [00:20<00:00,  4.16s/Epoch]\n"
     ]
    },
    {
     "name": "stdout",
     "output_type": "stream",
     "text": [
      "Training complete in 0m 21s\n",
      "Best val Acc: 0.600000\n",
      "training node19 for Round 1 :\n"
     ]
    },
    {
     "name": "stderr",
     "output_type": "stream",
     "text": [
      "Epoch 4: 100%|██████████| 5/5 [00:20<00:00,  4.05s/Epoch]\n"
     ]
    },
    {
     "name": "stdout",
     "output_type": "stream",
     "text": [
      "Training complete in 0m 20s\n",
      "Best val Acc: 0.560000\n",
      "training node20 for Round 1 :\n"
     ]
    },
    {
     "name": "stderr",
     "output_type": "stream",
     "text": [
      "Epoch 4: 100%|██████████| 5/5 [00:21<00:00,  4.21s/Epoch]\n"
     ]
    },
    {
     "name": "stdout",
     "output_type": "stream",
     "text": [
      "Training complete in 0m 21s\n",
      "Best val Acc: 0.600000\n",
      "training node21 for Round 1 :\n"
     ]
    },
    {
     "name": "stderr",
     "output_type": "stream",
     "text": [
      "Epoch 4: 100%|██████████| 5/5 [00:20<00:00,  4.18s/Epoch]\n"
     ]
    },
    {
     "name": "stdout",
     "output_type": "stream",
     "text": [
      "Training complete in 0m 21s\n",
      "Best val Acc: 0.580000\n",
      "training node22 for Round 1 :\n"
     ]
    },
    {
     "name": "stderr",
     "output_type": "stream",
     "text": [
      "Epoch 4: 100%|██████████| 5/5 [00:20<00:00,  4.17s/Epoch]\n"
     ]
    },
    {
     "name": "stdout",
     "output_type": "stream",
     "text": [
      "Training complete in 0m 21s\n",
      "Best val Acc: 0.680000\n",
      "training node23 for Round 1 :\n"
     ]
    },
    {
     "name": "stderr",
     "output_type": "stream",
     "text": [
      "Epoch 4: 100%|██████████| 5/5 [00:20<00:00,  4.17s/Epoch]\n"
     ]
    },
    {
     "name": "stdout",
     "output_type": "stream",
     "text": [
      "Training complete in 0m 21s\n",
      "Best val Acc: 0.660000\n",
      "training node24 for Round 1 :\n"
     ]
    },
    {
     "name": "stderr",
     "output_type": "stream",
     "text": [
      "Epoch 4: 100%|██████████| 5/5 [00:21<00:00,  4.23s/Epoch]\n"
     ]
    },
    {
     "name": "stdout",
     "output_type": "stream",
     "text": [
      "Training complete in 0m 21s\n",
      "Best val Acc: 0.680000\n",
      "training node25 for Round 1 :\n"
     ]
    },
    {
     "name": "stderr",
     "output_type": "stream",
     "text": [
      "Epoch 4: 100%|██████████| 5/5 [00:19<00:00,  3.87s/Epoch]\n"
     ]
    },
    {
     "name": "stdout",
     "output_type": "stream",
     "text": [
      "Training complete in 0m 19s\n",
      "Best val Acc: 0.600000\n",
      "training node26 for Round 1 :\n"
     ]
    },
    {
     "name": "stderr",
     "output_type": "stream",
     "text": [
      "Epoch 4: 100%|██████████| 5/5 [00:20<00:00,  4.14s/Epoch]\n"
     ]
    },
    {
     "name": "stdout",
     "output_type": "stream",
     "text": [
      "Training complete in 0m 21s\n",
      "Best val Acc: 0.580000\n",
      "training node27 for Round 1 :\n"
     ]
    },
    {
     "name": "stderr",
     "output_type": "stream",
     "text": [
      "Epoch 4: 100%|██████████| 5/5 [00:20<00:00,  4.08s/Epoch]\n"
     ]
    },
    {
     "name": "stdout",
     "output_type": "stream",
     "text": [
      "Training complete in 0m 20s\n",
      "Best val Acc: 0.540000\n",
      "training node28 for Round 1 :\n"
     ]
    },
    {
     "name": "stderr",
     "output_type": "stream",
     "text": [
      "Epoch 4: 100%|██████████| 5/5 [00:20<00:00,  4.17s/Epoch]\n"
     ]
    },
    {
     "name": "stdout",
     "output_type": "stream",
     "text": [
      "Training complete in 0m 21s\n",
      "Best val Acc: 0.660000\n",
      "training node29 for Round 1 :\n"
     ]
    },
    {
     "name": "stderr",
     "output_type": "stream",
     "text": [
      "Epoch 4: 100%|██████████| 5/5 [00:19<00:00,  3.99s/Epoch]\n"
     ]
    },
    {
     "name": "stdout",
     "output_type": "stream",
     "text": [
      "Training complete in 0m 20s\n",
      "Best val Acc: 0.600000\n",
      "training node30 for Round 1 :\n"
     ]
    },
    {
     "name": "stderr",
     "output_type": "stream",
     "text": [
      "Epoch 4: 100%|██████████| 5/5 [00:19<00:00,  3.85s/Epoch]\n"
     ]
    },
    {
     "name": "stdout",
     "output_type": "stream",
     "text": [
      "Training complete in 0m 19s\n",
      "Best val Acc: 0.640000\n",
      "training node31 for Round 1 :\n"
     ]
    },
    {
     "name": "stderr",
     "output_type": "stream",
     "text": [
      "Epoch 4: 100%|██████████| 5/5 [00:18<00:00,  3.69s/Epoch]\n"
     ]
    },
    {
     "name": "stdout",
     "output_type": "stream",
     "text": [
      "Training complete in 0m 18s\n",
      "Best val Acc: 0.580000\n",
      "training node32 for Round 1 :\n"
     ]
    },
    {
     "name": "stderr",
     "output_type": "stream",
     "text": [
      "Epoch 4: 100%|██████████| 5/5 [00:19<00:00,  3.91s/Epoch]\n"
     ]
    },
    {
     "name": "stdout",
     "output_type": "stream",
     "text": [
      "Training complete in 0m 20s\n",
      "Best val Acc: 0.560000\n",
      "training node33 for Round 1 :\n"
     ]
    },
    {
     "name": "stderr",
     "output_type": "stream",
     "text": [
      "Epoch 4: 100%|██████████| 5/5 [00:18<00:00,  3.76s/Epoch]\n"
     ]
    },
    {
     "name": "stdout",
     "output_type": "stream",
     "text": [
      "Training complete in 0m 19s\n",
      "Best val Acc: 0.660000\n",
      "training node34 for Round 1 :\n"
     ]
    },
    {
     "name": "stderr",
     "output_type": "stream",
     "text": [
      "Epoch 4: 100%|██████████| 5/5 [00:18<00:00,  3.80s/Epoch]\n"
     ]
    },
    {
     "name": "stdout",
     "output_type": "stream",
     "text": [
      "Training complete in 0m 19s\n",
      "Best val Acc: 0.640000\n",
      "training node35 for Round 1 :\n"
     ]
    },
    {
     "name": "stderr",
     "output_type": "stream",
     "text": [
      "Epoch 4: 100%|██████████| 5/5 [00:18<00:00,  3.71s/Epoch]\n"
     ]
    },
    {
     "name": "stdout",
     "output_type": "stream",
     "text": [
      "Training complete in 0m 19s\n",
      "Best val Acc: 0.560000\n",
      "training node36 for Round 1 :\n"
     ]
    },
    {
     "name": "stderr",
     "output_type": "stream",
     "text": [
      "Epoch 4: 100%|██████████| 5/5 [00:18<00:00,  3.62s/Epoch]\n"
     ]
    },
    {
     "name": "stdout",
     "output_type": "stream",
     "text": [
      "Training complete in 0m 18s\n",
      "Best val Acc: 0.680000\n",
      "training node37 for Round 1 :\n"
     ]
    },
    {
     "name": "stderr",
     "output_type": "stream",
     "text": [
      "Epoch 4: 100%|██████████| 5/5 [00:18<00:00,  3.67s/Epoch]\n"
     ]
    },
    {
     "name": "stdout",
     "output_type": "stream",
     "text": [
      "Training complete in 0m 18s\n",
      "Best val Acc: 0.760000\n",
      "training node38 for Round 1 :\n"
     ]
    },
    {
     "name": "stderr",
     "output_type": "stream",
     "text": [
      "Epoch 4: 100%|██████████| 5/5 [00:17<00:00,  3.53s/Epoch]\n"
     ]
    },
    {
     "name": "stdout",
     "output_type": "stream",
     "text": [
      "Training complete in 0m 18s\n",
      "Best val Acc: 0.600000\n",
      "training node39 for Round 1 :\n"
     ]
    },
    {
     "name": "stderr",
     "output_type": "stream",
     "text": [
      "Epoch 4: 100%|██████████| 5/5 [00:19<00:00,  3.83s/Epoch]\n"
     ]
    },
    {
     "name": "stdout",
     "output_type": "stream",
     "text": [
      "Training complete in 0m 19s\n",
      "Best val Acc: 0.640000\n",
      "training node40 for Round 1 :\n"
     ]
    },
    {
     "name": "stderr",
     "output_type": "stream",
     "text": [
      "Epoch 4: 100%|██████████| 5/5 [00:17<00:00,  3.55s/Epoch]\n"
     ]
    },
    {
     "name": "stdout",
     "output_type": "stream",
     "text": [
      "Training complete in 0m 18s\n",
      "Best val Acc: 0.600000\n",
      "training node41 for Round 1 :\n"
     ]
    },
    {
     "name": "stderr",
     "output_type": "stream",
     "text": [
      "Epoch 4: 100%|██████████| 5/5 [00:17<00:00,  3.58s/Epoch]\n"
     ]
    },
    {
     "name": "stdout",
     "output_type": "stream",
     "text": [
      "Training complete in 0m 18s\n",
      "Best val Acc: 0.600000\n",
      "training node42 for Round 1 :\n"
     ]
    },
    {
     "name": "stderr",
     "output_type": "stream",
     "text": [
      "Epoch 4: 100%|██████████| 5/5 [00:19<00:00,  3.87s/Epoch]\n"
     ]
    },
    {
     "name": "stdout",
     "output_type": "stream",
     "text": [
      "Training complete in 0m 19s\n",
      "Best val Acc: 0.580000\n",
      "training node43 for Round 1 :\n"
     ]
    },
    {
     "name": "stderr",
     "output_type": "stream",
     "text": [
      "Epoch 4: 100%|██████████| 5/5 [00:17<00:00,  3.51s/Epoch]\n"
     ]
    },
    {
     "name": "stdout",
     "output_type": "stream",
     "text": [
      "Training complete in 0m 18s\n",
      "Best val Acc: 0.640000\n",
      "training node44 for Round 1 :\n"
     ]
    },
    {
     "name": "stderr",
     "output_type": "stream",
     "text": [
      "Epoch 4: 100%|██████████| 5/5 [00:17<00:00,  3.59s/Epoch]\n"
     ]
    },
    {
     "name": "stdout",
     "output_type": "stream",
     "text": [
      "Training complete in 0m 18s\n",
      "Best val Acc: 0.540000\n",
      "training node45 for Round 1 :\n"
     ]
    },
    {
     "name": "stderr",
     "output_type": "stream",
     "text": [
      "Epoch 4: 100%|██████████| 5/5 [00:18<00:00,  3.77s/Epoch]\n"
     ]
    },
    {
     "name": "stdout",
     "output_type": "stream",
     "text": [
      "Training complete in 0m 19s\n",
      "Best val Acc: 0.640000\n",
      "training node46 for Round 1 :\n"
     ]
    },
    {
     "name": "stderr",
     "output_type": "stream",
     "text": [
      "Epoch 4: 100%|██████████| 5/5 [00:18<00:00,  3.77s/Epoch]\n"
     ]
    },
    {
     "name": "stdout",
     "output_type": "stream",
     "text": [
      "Training complete in 0m 19s\n",
      "Best val Acc: 0.460000\n",
      "training node47 for Round 1 :\n"
     ]
    },
    {
     "name": "stderr",
     "output_type": "stream",
     "text": [
      "Epoch 4: 100%|██████████| 5/5 [00:18<00:00,  3.61s/Epoch]\n"
     ]
    },
    {
     "name": "stdout",
     "output_type": "stream",
     "text": [
      "Training complete in 0m 18s\n",
      "Best val Acc: 0.660000\n",
      "training node48 for Round 1 :\n"
     ]
    },
    {
     "name": "stderr",
     "output_type": "stream",
     "text": [
      "Epoch 4: 100%|██████████| 5/5 [00:17<00:00,  3.54s/Epoch]\n"
     ]
    },
    {
     "name": "stdout",
     "output_type": "stream",
     "text": [
      "Training complete in 0m 18s\n",
      "Best val Acc: 0.560000\n",
      "training node49 for Round 1 :\n"
     ]
    },
    {
     "name": "stderr",
     "output_type": "stream",
     "text": [
      "Epoch 4: 100%|██████████| 5/5 [00:19<00:00,  3.86s/Epoch]\n"
     ]
    },
    {
     "name": "stdout",
     "output_type": "stream",
     "text": [
      "Training complete in 0m 19s\n",
      "Best val Acc: 0.580000\n",
      "training node50 for Round 1 :\n"
     ]
    },
    {
     "name": "stderr",
     "output_type": "stream",
     "text": [
      "Epoch 4: 100%|██████████| 5/5 [00:19<00:00,  3.95s/Epoch]\n"
     ]
    },
    {
     "name": "stdout",
     "output_type": "stream",
     "text": [
      "Training complete in 0m 20s\n",
      "Best val Acc: 0.760000\n",
      "training node51 for Round 1 :\n"
     ]
    },
    {
     "name": "stderr",
     "output_type": "stream",
     "text": [
      "Epoch 4: 100%|██████████| 5/5 [00:19<00:00,  3.84s/Epoch]\n"
     ]
    },
    {
     "name": "stdout",
     "output_type": "stream",
     "text": [
      "Training complete in 0m 19s\n",
      "Best val Acc: 0.660000\n",
      "training node52 for Round 1 :\n"
     ]
    },
    {
     "name": "stderr",
     "output_type": "stream",
     "text": [
      "Epoch 4: 100%|██████████| 5/5 [00:18<00:00,  3.64s/Epoch]\n"
     ]
    },
    {
     "name": "stdout",
     "output_type": "stream",
     "text": [
      "Training complete in 0m 18s\n",
      "Best val Acc: 0.640000\n",
      "training node53 for Round 1 :\n"
     ]
    },
    {
     "name": "stderr",
     "output_type": "stream",
     "text": [
      "Epoch 4: 100%|██████████| 5/5 [00:19<00:00,  3.84s/Epoch]\n"
     ]
    },
    {
     "name": "stdout",
     "output_type": "stream",
     "text": [
      "Training complete in 0m 19s\n",
      "Best val Acc: 0.760000\n",
      "training node54 for Round 1 :\n"
     ]
    },
    {
     "name": "stderr",
     "output_type": "stream",
     "text": [
      "Epoch 4: 100%|██████████| 5/5 [00:19<00:00,  3.84s/Epoch]\n"
     ]
    },
    {
     "name": "stdout",
     "output_type": "stream",
     "text": [
      "Training complete in 0m 19s\n",
      "Best val Acc: 0.580000\n",
      "training node55 for Round 1 :\n"
     ]
    },
    {
     "name": "stderr",
     "output_type": "stream",
     "text": [
      "Epoch 4: 100%|██████████| 5/5 [00:19<00:00,  3.88s/Epoch]\n"
     ]
    },
    {
     "name": "stdout",
     "output_type": "stream",
     "text": [
      "Training complete in 0m 19s\n",
      "Best val Acc: 0.660000\n",
      "training node56 for Round 1 :\n"
     ]
    },
    {
     "name": "stderr",
     "output_type": "stream",
     "text": [
      "Epoch 4: 100%|██████████| 5/5 [00:19<00:00,  3.82s/Epoch]\n"
     ]
    },
    {
     "name": "stdout",
     "output_type": "stream",
     "text": [
      "Training complete in 0m 19s\n",
      "Best val Acc: 0.680000\n",
      "training node57 for Round 1 :\n"
     ]
    },
    {
     "name": "stderr",
     "output_type": "stream",
     "text": [
      "Epoch 4: 100%|██████████| 5/5 [00:18<00:00,  3.66s/Epoch]\n"
     ]
    },
    {
     "name": "stdout",
     "output_type": "stream",
     "text": [
      "Training complete in 0m 18s\n",
      "Best val Acc: 0.680000\n",
      "training node58 for Round 1 :\n"
     ]
    },
    {
     "name": "stderr",
     "output_type": "stream",
     "text": [
      "Epoch 4: 100%|██████████| 5/5 [00:19<00:00,  3.92s/Epoch]\n"
     ]
    },
    {
     "name": "stdout",
     "output_type": "stream",
     "text": [
      "Training complete in 0m 20s\n",
      "Best val Acc: 0.760000\n",
      "training node59 for Round 1 :\n"
     ]
    },
    {
     "name": "stderr",
     "output_type": "stream",
     "text": [
      "Epoch 4: 100%|██████████| 5/5 [00:19<00:00,  3.93s/Epoch]\n"
     ]
    },
    {
     "name": "stdout",
     "output_type": "stream",
     "text": [
      "Training complete in 0m 20s\n",
      "Best val Acc: 0.640000\n",
      "training node60 for Round 1 :\n"
     ]
    },
    {
     "name": "stderr",
     "output_type": "stream",
     "text": [
      "Epoch 4: 100%|██████████| 5/5 [00:19<00:00,  3.95s/Epoch]\n"
     ]
    },
    {
     "name": "stdout",
     "output_type": "stream",
     "text": [
      "Training complete in 0m 20s\n",
      "Best val Acc: 0.660000\n",
      "training node61 for Round 1 :\n"
     ]
    },
    {
     "name": "stderr",
     "output_type": "stream",
     "text": [
      "Epoch 4: 100%|██████████| 5/5 [00:19<00:00,  3.84s/Epoch]\n"
     ]
    },
    {
     "name": "stdout",
     "output_type": "stream",
     "text": [
      "Training complete in 0m 19s\n",
      "Best val Acc: 0.580000\n",
      "training node62 for Round 1 :\n"
     ]
    },
    {
     "name": "stderr",
     "output_type": "stream",
     "text": [
      "Epoch 4: 100%|██████████| 5/5 [00:18<00:00,  3.62s/Epoch]\n"
     ]
    },
    {
     "name": "stdout",
     "output_type": "stream",
     "text": [
      "Training complete in 0m 18s\n",
      "Best val Acc: 0.660000\n",
      "training node63 for Round 1 :\n"
     ]
    },
    {
     "name": "stderr",
     "output_type": "stream",
     "text": [
      "Epoch 4: 100%|██████████| 5/5 [00:18<00:00,  3.69s/Epoch]\n"
     ]
    },
    {
     "name": "stdout",
     "output_type": "stream",
     "text": [
      "Training complete in 0m 18s\n",
      "Best val Acc: 0.600000\n",
      "training node64 for Round 1 :\n"
     ]
    },
    {
     "name": "stderr",
     "output_type": "stream",
     "text": [
      "Epoch 4: 100%|██████████| 5/5 [00:19<00:00,  3.96s/Epoch]\n"
     ]
    },
    {
     "name": "stdout",
     "output_type": "stream",
     "text": [
      "Training complete in 0m 20s\n",
      "Best val Acc: 0.680000\n",
      "training node65 for Round 1 :\n"
     ]
    },
    {
     "name": "stderr",
     "output_type": "stream",
     "text": [
      "Epoch 4: 100%|██████████| 5/5 [00:20<00:00,  4.04s/Epoch]\n"
     ]
    },
    {
     "name": "stdout",
     "output_type": "stream",
     "text": [
      "Training complete in 0m 20s\n",
      "Best val Acc: 0.700000\n",
      "training node66 for Round 1 :\n"
     ]
    },
    {
     "name": "stderr",
     "output_type": "stream",
     "text": [
      "Epoch 4: 100%|██████████| 5/5 [00:19<00:00,  3.92s/Epoch]\n"
     ]
    },
    {
     "name": "stdout",
     "output_type": "stream",
     "text": [
      "Training complete in 0m 20s\n",
      "Best val Acc: 0.700000\n",
      "training node67 for Round 1 :\n"
     ]
    },
    {
     "name": "stderr",
     "output_type": "stream",
     "text": [
      "Epoch 4: 100%|██████████| 5/5 [00:18<00:00,  3.68s/Epoch]\n"
     ]
    },
    {
     "name": "stdout",
     "output_type": "stream",
     "text": [
      "Training complete in 0m 18s\n",
      "Best val Acc: 0.680000\n",
      "training node68 for Round 1 :\n"
     ]
    },
    {
     "name": "stderr",
     "output_type": "stream",
     "text": [
      "Epoch 4: 100%|██████████| 5/5 [00:19<00:00,  3.98s/Epoch]\n"
     ]
    },
    {
     "name": "stdout",
     "output_type": "stream",
     "text": [
      "Training complete in 0m 20s\n",
      "Best val Acc: 0.700000\n",
      "training node69 for Round 1 :\n"
     ]
    },
    {
     "name": "stderr",
     "output_type": "stream",
     "text": [
      "Epoch 4: 100%|██████████| 5/5 [00:20<00:00,  4.02s/Epoch]\n"
     ]
    },
    {
     "name": "stdout",
     "output_type": "stream",
     "text": [
      "Training complete in 0m 20s\n",
      "Best val Acc: 0.740000\n",
      "training node70 for Round 1 :\n"
     ]
    },
    {
     "name": "stderr",
     "output_type": "stream",
     "text": [
      "Epoch 4: 100%|██████████| 5/5 [00:19<00:00,  3.96s/Epoch]\n"
     ]
    },
    {
     "name": "stdout",
     "output_type": "stream",
     "text": [
      "Training complete in 0m 20s\n",
      "Best val Acc: 0.740000\n",
      "training node71 for Round 1 :\n"
     ]
    },
    {
     "name": "stderr",
     "output_type": "stream",
     "text": [
      "Epoch 4: 100%|██████████| 5/5 [00:20<00:00,  4.00s/Epoch]\n"
     ]
    },
    {
     "name": "stdout",
     "output_type": "stream",
     "text": [
      "Training complete in 0m 20s\n",
      "Best val Acc: 0.660000\n",
      "training node72 for Round 1 :\n"
     ]
    },
    {
     "name": "stderr",
     "output_type": "stream",
     "text": [
      "Epoch 4: 100%|██████████| 5/5 [00:20<00:00,  4.02s/Epoch]\n"
     ]
    },
    {
     "name": "stdout",
     "output_type": "stream",
     "text": [
      "Training complete in 0m 20s\n",
      "Best val Acc: 0.680000\n",
      "training node73 for Round 1 :\n"
     ]
    },
    {
     "name": "stderr",
     "output_type": "stream",
     "text": [
      "Epoch 4: 100%|██████████| 5/5 [00:20<00:00,  4.07s/Epoch]\n"
     ]
    },
    {
     "name": "stdout",
     "output_type": "stream",
     "text": [
      "Training complete in 0m 20s\n",
      "Best val Acc: 0.620000\n",
      "training node74 for Round 1 :\n"
     ]
    },
    {
     "name": "stderr",
     "output_type": "stream",
     "text": [
      "Epoch 4: 100%|██████████| 5/5 [00:20<00:00,  4.02s/Epoch]\n"
     ]
    },
    {
     "name": "stdout",
     "output_type": "stream",
     "text": [
      "Training complete in 0m 20s\n",
      "Best val Acc: 0.600000\n",
      "training node75 for Round 1 :\n"
     ]
    },
    {
     "name": "stderr",
     "output_type": "stream",
     "text": [
      "Epoch 4: 100%|██████████| 5/5 [00:20<00:00,  4.04s/Epoch]\n"
     ]
    },
    {
     "name": "stdout",
     "output_type": "stream",
     "text": [
      "Training complete in 0m 20s\n",
      "Best val Acc: 0.740000\n",
      "training node76 for Round 1 :\n"
     ]
    },
    {
     "name": "stderr",
     "output_type": "stream",
     "text": [
      "Epoch 4: 100%|██████████| 5/5 [00:19<00:00,  3.99s/Epoch]\n"
     ]
    },
    {
     "name": "stdout",
     "output_type": "stream",
     "text": [
      "Training complete in 0m 20s\n",
      "Best val Acc: 0.740000\n",
      "training node77 for Round 1 :\n"
     ]
    },
    {
     "name": "stderr",
     "output_type": "stream",
     "text": [
      "Epoch 4: 100%|██████████| 5/5 [00:18<00:00,  3.68s/Epoch]\n"
     ]
    },
    {
     "name": "stdout",
     "output_type": "stream",
     "text": [
      "Training complete in 0m 18s\n",
      "Best val Acc: 0.600000\n",
      "training node78 for Round 1 :\n"
     ]
    },
    {
     "name": "stderr",
     "output_type": "stream",
     "text": [
      "Epoch 4: 100%|██████████| 5/5 [00:20<00:00,  4.03s/Epoch]\n"
     ]
    },
    {
     "name": "stdout",
     "output_type": "stream",
     "text": [
      "Training complete in 0m 20s\n",
      "Best val Acc: 0.700000\n",
      "training node79 for Round 1 :\n"
     ]
    },
    {
     "name": "stderr",
     "output_type": "stream",
     "text": [
      "Epoch 4: 100%|██████████| 5/5 [00:19<00:00,  3.98s/Epoch]\n"
     ]
    },
    {
     "name": "stdout",
     "output_type": "stream",
     "text": [
      "Training complete in 0m 20s\n",
      "Best val Acc: 0.440000\n",
      "training node80 for Round 1 :\n"
     ]
    },
    {
     "name": "stderr",
     "output_type": "stream",
     "text": [
      "Epoch 4: 100%|██████████| 5/5 [00:18<00:00,  3.75s/Epoch]\n"
     ]
    },
    {
     "name": "stdout",
     "output_type": "stream",
     "text": [
      "Training complete in 0m 19s\n",
      "Best val Acc: 0.540000\n",
      "training node81 for Round 1 :\n"
     ]
    },
    {
     "name": "stderr",
     "output_type": "stream",
     "text": [
      "Epoch 4: 100%|██████████| 5/5 [00:19<00:00,  3.98s/Epoch]\n"
     ]
    },
    {
     "name": "stdout",
     "output_type": "stream",
     "text": [
      "Training complete in 0m 20s\n",
      "Best val Acc: 0.620000\n",
      "training node82 for Round 1 :\n"
     ]
    },
    {
     "name": "stderr",
     "output_type": "stream",
     "text": [
      "Epoch 4: 100%|██████████| 5/5 [00:18<00:00,  3.77s/Epoch]\n"
     ]
    },
    {
     "name": "stdout",
     "output_type": "stream",
     "text": [
      "Training complete in 0m 19s\n",
      "Best val Acc: 0.600000\n",
      "training node83 for Round 1 :\n"
     ]
    },
    {
     "name": "stderr",
     "output_type": "stream",
     "text": [
      "Epoch 4: 100%|██████████| 5/5 [00:20<00:00,  4.08s/Epoch]\n"
     ]
    },
    {
     "name": "stdout",
     "output_type": "stream",
     "text": [
      "Training complete in 0m 20s\n",
      "Best val Acc: 0.740000\n",
      "training node84 for Round 1 :\n"
     ]
    },
    {
     "name": "stderr",
     "output_type": "stream",
     "text": [
      "Epoch 4: 100%|██████████| 5/5 [00:19<00:00,  3.97s/Epoch]\n"
     ]
    },
    {
     "name": "stdout",
     "output_type": "stream",
     "text": [
      "Training complete in 0m 20s\n",
      "Best val Acc: 0.620000\n",
      "training node85 for Round 1 :\n"
     ]
    },
    {
     "name": "stderr",
     "output_type": "stream",
     "text": [
      "Epoch 4: 100%|██████████| 5/5 [00:19<00:00,  3.95s/Epoch]\n"
     ]
    },
    {
     "name": "stdout",
     "output_type": "stream",
     "text": [
      "Training complete in 0m 20s\n",
      "Best val Acc: 0.520000\n",
      "training node86 for Round 1 :\n"
     ]
    },
    {
     "name": "stderr",
     "output_type": "stream",
     "text": [
      "Epoch 4: 100%|██████████| 5/5 [00:18<00:00,  3.80s/Epoch]\n"
     ]
    },
    {
     "name": "stdout",
     "output_type": "stream",
     "text": [
      "Training complete in 0m 19s\n",
      "Best val Acc: 0.640000\n",
      "training node87 for Round 1 :\n"
     ]
    },
    {
     "name": "stderr",
     "output_type": "stream",
     "text": [
      "Epoch 4: 100%|██████████| 5/5 [00:20<00:00,  4.03s/Epoch]\n"
     ]
    },
    {
     "name": "stdout",
     "output_type": "stream",
     "text": [
      "Training complete in 0m 20s\n",
      "Best val Acc: 0.660000\n",
      "training node88 for Round 1 :\n"
     ]
    },
    {
     "name": "stderr",
     "output_type": "stream",
     "text": [
      "Epoch 4: 100%|██████████| 5/5 [00:20<00:00,  4.07s/Epoch]\n"
     ]
    },
    {
     "name": "stdout",
     "output_type": "stream",
     "text": [
      "Training complete in 0m 20s\n",
      "Best val Acc: 0.600000\n",
      "training node89 for Round 1 :\n"
     ]
    },
    {
     "name": "stderr",
     "output_type": "stream",
     "text": [
      "Epoch 4: 100%|██████████| 5/5 [00:20<00:00,  4.04s/Epoch]\n"
     ]
    },
    {
     "name": "stdout",
     "output_type": "stream",
     "text": [
      "Training complete in 0m 20s\n",
      "Best val Acc: 0.660000\n",
      "training node90 for Round 1 :\n"
     ]
    },
    {
     "name": "stderr",
     "output_type": "stream",
     "text": [
      "Epoch 4: 100%|██████████| 5/5 [00:19<00:00,  3.99s/Epoch]\n"
     ]
    },
    {
     "name": "stdout",
     "output_type": "stream",
     "text": [
      "Training complete in 0m 20s\n",
      "Best val Acc: 0.700000\n",
      "training node91 for Round 1 :\n"
     ]
    },
    {
     "name": "stderr",
     "output_type": "stream",
     "text": [
      "Epoch 4: 100%|██████████| 5/5 [00:22<00:00,  4.41s/Epoch]\n"
     ]
    },
    {
     "name": "stdout",
     "output_type": "stream",
     "text": [
      "Training complete in 0m 22s\n",
      "Best val Acc: 0.660000\n",
      "training node92 for Round 1 :\n"
     ]
    },
    {
     "name": "stderr",
     "output_type": "stream",
     "text": [
      "Epoch 4: 100%|██████████| 5/5 [00:20<00:00,  4.17s/Epoch]\n"
     ]
    },
    {
     "name": "stdout",
     "output_type": "stream",
     "text": [
      "Training complete in 0m 21s\n",
      "Best val Acc: 0.620000\n",
      "training node93 for Round 1 :\n"
     ]
    },
    {
     "name": "stderr",
     "output_type": "stream",
     "text": [
      "Epoch 4: 100%|██████████| 5/5 [00:18<00:00,  3.73s/Epoch]\n"
     ]
    },
    {
     "name": "stdout",
     "output_type": "stream",
     "text": [
      "Training complete in 0m 19s\n",
      "Best val Acc: 0.660000\n",
      "training node94 for Round 1 :\n"
     ]
    },
    {
     "name": "stderr",
     "output_type": "stream",
     "text": [
      "Epoch 4: 100%|██████████| 5/5 [00:19<00:00,  3.95s/Epoch]\n"
     ]
    },
    {
     "name": "stdout",
     "output_type": "stream",
     "text": [
      "Training complete in 0m 20s\n",
      "Best val Acc: 0.720000\n",
      "training node95 for Round 1 :\n"
     ]
    },
    {
     "name": "stderr",
     "output_type": "stream",
     "text": [
      "Epoch 4: 100%|██████████| 5/5 [00:18<00:00,  3.75s/Epoch]\n"
     ]
    },
    {
     "name": "stdout",
     "output_type": "stream",
     "text": [
      "Training complete in 0m 19s\n",
      "Best val Acc: 0.640000\n",
      "training node96 for Round 1 :\n"
     ]
    },
    {
     "name": "stderr",
     "output_type": "stream",
     "text": [
      "Epoch 4: 100%|██████████| 5/5 [00:17<00:00,  3.58s/Epoch]\n"
     ]
    },
    {
     "name": "stdout",
     "output_type": "stream",
     "text": [
      "Training complete in 0m 18s\n",
      "Best val Acc: 0.560000\n",
      "training node97 for Round 1 :\n"
     ]
    },
    {
     "name": "stderr",
     "output_type": "stream",
     "text": [
      "Epoch 4: 100%|██████████| 5/5 [00:19<00:00,  3.94s/Epoch]\n"
     ]
    },
    {
     "name": "stdout",
     "output_type": "stream",
     "text": [
      "Training complete in 0m 20s\n",
      "Best val Acc: 0.660000\n",
      "training node98 for Round 1 :\n"
     ]
    },
    {
     "name": "stderr",
     "output_type": "stream",
     "text": [
      "Epoch 4: 100%|██████████| 5/5 [00:19<00:00,  3.91s/Epoch]\n"
     ]
    },
    {
     "name": "stdout",
     "output_type": "stream",
     "text": [
      "Training complete in 0m 20s\n",
      "Best val Acc: 0.680000\n",
      "training node99 for Round 1 :\n"
     ]
    },
    {
     "name": "stderr",
     "output_type": "stream",
     "text": [
      "Epoch 4: 100%|██████████| 5/5 [00:19<00:00,  3.90s/Epoch]\n"
     ]
    },
    {
     "name": "stdout",
     "output_type": "stream",
     "text": [
      "Training complete in 0m 20s\n",
      "Best val Acc: 0.720000\n",
      "Fedavg of main model in round 2\n",
      "For Round 1 :, acc : 0.576136636997835, acc0 : 0.6214285714285714 , acc1:0.8845814977973568 , acc2:0.39244186046511625, acc3 :0.37326732673267327 \n",
      "Round 3\n",
      "Sending main model to nodes in round 2\n",
      "training node0 for Round 2 :\n"
     ]
    },
    {
     "name": "stderr",
     "output_type": "stream",
     "text": [
      "Epoch 4: 100%|██████████| 5/5 [00:19<00:00,  3.86s/Epoch]\n"
     ]
    },
    {
     "name": "stdout",
     "output_type": "stream",
     "text": [
      "Training complete in 0m 19s\n",
      "Best val Acc: 0.660000\n",
      "training node1 for Round 2 :\n"
     ]
    },
    {
     "name": "stderr",
     "output_type": "stream",
     "text": [
      "Epoch 4: 100%|██████████| 5/5 [00:19<00:00,  3.90s/Epoch]\n"
     ]
    },
    {
     "name": "stdout",
     "output_type": "stream",
     "text": [
      "Training complete in 0m 20s\n",
      "Best val Acc: 0.740000\n",
      "training node2 for Round 2 :\n"
     ]
    },
    {
     "name": "stderr",
     "output_type": "stream",
     "text": [
      "Epoch 4: 100%|██████████| 5/5 [00:19<00:00,  3.89s/Epoch]\n"
     ]
    },
    {
     "name": "stdout",
     "output_type": "stream",
     "text": [
      "Training complete in 0m 19s\n",
      "Best val Acc: 0.660000\n",
      "training node3 for Round 2 :\n"
     ]
    },
    {
     "name": "stderr",
     "output_type": "stream",
     "text": [
      "Epoch 4: 100%|██████████| 5/5 [00:19<00:00,  3.88s/Epoch]\n"
     ]
    },
    {
     "name": "stdout",
     "output_type": "stream",
     "text": [
      "Training complete in 0m 19s\n",
      "Best val Acc: 0.700000\n",
      "training node4 for Round 2 :\n"
     ]
    },
    {
     "name": "stderr",
     "output_type": "stream",
     "text": [
      "Epoch 4: 100%|██████████| 5/5 [00:19<00:00,  3.89s/Epoch]\n"
     ]
    },
    {
     "name": "stdout",
     "output_type": "stream",
     "text": [
      "Training complete in 0m 19s\n",
      "Best val Acc: 0.700000\n",
      "training node5 for Round 2 :\n"
     ]
    },
    {
     "name": "stderr",
     "output_type": "stream",
     "text": [
      "Epoch 4: 100%|██████████| 5/5 [00:19<00:00,  3.89s/Epoch]\n"
     ]
    },
    {
     "name": "stdout",
     "output_type": "stream",
     "text": [
      "Training complete in 0m 19s\n",
      "Best val Acc: 0.680000\n",
      "training node6 for Round 2 :\n"
     ]
    },
    {
     "name": "stderr",
     "output_type": "stream",
     "text": [
      "Epoch 4: 100%|██████████| 5/5 [00:19<00:00,  3.85s/Epoch]\n"
     ]
    },
    {
     "name": "stdout",
     "output_type": "stream",
     "text": [
      "Training complete in 0m 19s\n",
      "Best val Acc: 0.700000\n",
      "training node7 for Round 2 :\n"
     ]
    },
    {
     "name": "stderr",
     "output_type": "stream",
     "text": [
      "Epoch 4: 100%|██████████| 5/5 [00:19<00:00,  3.82s/Epoch]\n"
     ]
    },
    {
     "name": "stdout",
     "output_type": "stream",
     "text": [
      "Training complete in 0m 19s\n",
      "Best val Acc: 0.640000\n",
      "training node8 for Round 2 :\n"
     ]
    },
    {
     "name": "stderr",
     "output_type": "stream",
     "text": [
      "Epoch 4: 100%|██████████| 5/5 [00:17<00:00,  3.54s/Epoch]\n"
     ]
    },
    {
     "name": "stdout",
     "output_type": "stream",
     "text": [
      "Training complete in 0m 18s\n",
      "Best val Acc: 0.680000\n",
      "training node9 for Round 2 :\n"
     ]
    },
    {
     "name": "stderr",
     "output_type": "stream",
     "text": [
      "Epoch 4: 100%|██████████| 5/5 [00:19<00:00,  3.86s/Epoch]\n"
     ]
    },
    {
     "name": "stdout",
     "output_type": "stream",
     "text": [
      "Training complete in 0m 19s\n",
      "Best val Acc: 0.720000\n",
      "training node10 for Round 2 :\n"
     ]
    },
    {
     "name": "stderr",
     "output_type": "stream",
     "text": [
      "Epoch 4: 100%|██████████| 5/5 [00:18<00:00,  3.60s/Epoch]\n"
     ]
    },
    {
     "name": "stdout",
     "output_type": "stream",
     "text": [
      "Training complete in 0m 18s\n",
      "Best val Acc: 0.660000\n",
      "training node11 for Round 2 :\n"
     ]
    },
    {
     "name": "stderr",
     "output_type": "stream",
     "text": [
      "Epoch 4: 100%|██████████| 5/5 [00:19<00:00,  3.88s/Epoch]\n"
     ]
    },
    {
     "name": "stdout",
     "output_type": "stream",
     "text": [
      "Training complete in 0m 19s\n",
      "Best val Acc: 0.680000\n",
      "training node12 for Round 2 :\n"
     ]
    },
    {
     "name": "stderr",
     "output_type": "stream",
     "text": [
      "Epoch 4: 100%|██████████| 5/5 [00:18<00:00,  3.63s/Epoch]\n"
     ]
    },
    {
     "name": "stdout",
     "output_type": "stream",
     "text": [
      "Training complete in 0m 18s\n",
      "Best val Acc: 0.620000\n",
      "training node13 for Round 2 :\n"
     ]
    },
    {
     "name": "stderr",
     "output_type": "stream",
     "text": [
      "Epoch 4: 100%|██████████| 5/5 [00:17<00:00,  3.56s/Epoch]\n"
     ]
    },
    {
     "name": "stdout",
     "output_type": "stream",
     "text": [
      "Training complete in 0m 18s\n",
      "Best val Acc: 0.640000\n",
      "training node14 for Round 2 :\n"
     ]
    },
    {
     "name": "stderr",
     "output_type": "stream",
     "text": [
      "Epoch 4: 100%|██████████| 5/5 [00:19<00:00,  3.87s/Epoch]\n"
     ]
    },
    {
     "name": "stdout",
     "output_type": "stream",
     "text": [
      "Training complete in 0m 19s\n",
      "Best val Acc: 0.700000\n",
      "training node15 for Round 2 :\n"
     ]
    },
    {
     "name": "stderr",
     "output_type": "stream",
     "text": [
      "Epoch 4: 100%|██████████| 5/5 [00:19<00:00,  3.81s/Epoch]\n"
     ]
    },
    {
     "name": "stdout",
     "output_type": "stream",
     "text": [
      "Training complete in 0m 19s\n",
      "Best val Acc: 0.820000\n",
      "training node16 for Round 2 :\n"
     ]
    },
    {
     "name": "stderr",
     "output_type": "stream",
     "text": [
      "Epoch 4: 100%|██████████| 5/5 [00:17<00:00,  3.56s/Epoch]\n"
     ]
    },
    {
     "name": "stdout",
     "output_type": "stream",
     "text": [
      "Training complete in 0m 18s\n",
      "Best val Acc: 0.640000\n",
      "training node17 for Round 2 :\n"
     ]
    },
    {
     "name": "stderr",
     "output_type": "stream",
     "text": [
      "Epoch 4: 100%|██████████| 5/5 [00:19<00:00,  3.84s/Epoch]\n"
     ]
    },
    {
     "name": "stdout",
     "output_type": "stream",
     "text": [
      "Training complete in 0m 19s\n",
      "Best val Acc: 0.640000\n",
      "training node18 for Round 2 :\n"
     ]
    },
    {
     "name": "stderr",
     "output_type": "stream",
     "text": [
      "Epoch 4: 100%|██████████| 5/5 [00:19<00:00,  3.89s/Epoch]\n"
     ]
    },
    {
     "name": "stdout",
     "output_type": "stream",
     "text": [
      "Training complete in 0m 19s\n",
      "Best val Acc: 0.660000\n",
      "training node19 for Round 2 :\n"
     ]
    },
    {
     "name": "stderr",
     "output_type": "stream",
     "text": [
      "Epoch 4: 100%|██████████| 5/5 [00:18<00:00,  3.79s/Epoch]\n"
     ]
    },
    {
     "name": "stdout",
     "output_type": "stream",
     "text": [
      "Training complete in 0m 19s\n",
      "Best val Acc: 0.520000\n",
      "training node20 for Round 2 :\n"
     ]
    },
    {
     "name": "stderr",
     "output_type": "stream",
     "text": [
      "Epoch 4: 100%|██████████| 5/5 [00:19<00:00,  3.91s/Epoch]\n"
     ]
    },
    {
     "name": "stdout",
     "output_type": "stream",
     "text": [
      "Training complete in 0m 20s\n",
      "Best val Acc: 0.660000\n",
      "training node21 for Round 2 :\n"
     ]
    },
    {
     "name": "stderr",
     "output_type": "stream",
     "text": [
      "Epoch 4: 100%|██████████| 5/5 [00:19<00:00,  3.97s/Epoch]\n"
     ]
    },
    {
     "name": "stdout",
     "output_type": "stream",
     "text": [
      "Training complete in 0m 20s\n",
      "Best val Acc: 0.700000\n",
      "training node22 for Round 2 :\n"
     ]
    },
    {
     "name": "stderr",
     "output_type": "stream",
     "text": [
      "Epoch 4: 100%|██████████| 5/5 [00:19<00:00,  3.94s/Epoch]\n"
     ]
    },
    {
     "name": "stdout",
     "output_type": "stream",
     "text": [
      "Training complete in 0m 20s\n",
      "Best val Acc: 0.780000\n",
      "training node23 for Round 2 :\n"
     ]
    },
    {
     "name": "stderr",
     "output_type": "stream",
     "text": [
      "Epoch 4: 100%|██████████| 5/5 [00:19<00:00,  3.93s/Epoch]\n"
     ]
    },
    {
     "name": "stdout",
     "output_type": "stream",
     "text": [
      "Training complete in 0m 20s\n",
      "Best val Acc: 0.700000\n",
      "training node24 for Round 2 :\n"
     ]
    },
    {
     "name": "stderr",
     "output_type": "stream",
     "text": [
      "Epoch 4: 100%|██████████| 5/5 [00:19<00:00,  3.89s/Epoch]\n"
     ]
    },
    {
     "name": "stdout",
     "output_type": "stream",
     "text": [
      "Training complete in 0m 19s\n",
      "Best val Acc: 0.680000\n",
      "training node25 for Round 2 :\n"
     ]
    },
    {
     "name": "stderr",
     "output_type": "stream",
     "text": [
      "Epoch 4: 100%|██████████| 5/5 [00:18<00:00,  3.69s/Epoch]\n"
     ]
    },
    {
     "name": "stdout",
     "output_type": "stream",
     "text": [
      "Training complete in 0m 18s\n",
      "Best val Acc: 0.760000\n",
      "training node26 for Round 2 :\n"
     ]
    },
    {
     "name": "stderr",
     "output_type": "stream",
     "text": [
      "Epoch 4: 100%|██████████| 5/5 [00:19<00:00,  3.89s/Epoch]\n"
     ]
    },
    {
     "name": "stdout",
     "output_type": "stream",
     "text": [
      "Training complete in 0m 19s\n",
      "Best val Acc: 0.740000\n",
      "training node27 for Round 2 :\n"
     ]
    },
    {
     "name": "stderr",
     "output_type": "stream",
     "text": [
      "Epoch 4: 100%|██████████| 5/5 [00:19<00:00,  3.88s/Epoch]\n"
     ]
    },
    {
     "name": "stdout",
     "output_type": "stream",
     "text": [
      "Training complete in 0m 19s\n",
      "Best val Acc: 0.680000\n",
      "training node28 for Round 2 :\n"
     ]
    },
    {
     "name": "stderr",
     "output_type": "stream",
     "text": [
      "Epoch 4: 100%|██████████| 5/5 [00:19<00:00,  3.93s/Epoch]\n"
     ]
    },
    {
     "name": "stdout",
     "output_type": "stream",
     "text": [
      "Training complete in 0m 20s\n",
      "Best val Acc: 0.680000\n",
      "training node29 for Round 2 :\n"
     ]
    },
    {
     "name": "stderr",
     "output_type": "stream",
     "text": [
      "Epoch 4: 100%|██████████| 5/5 [00:18<00:00,  3.80s/Epoch]\n"
     ]
    },
    {
     "name": "stdout",
     "output_type": "stream",
     "text": [
      "Training complete in 0m 19s\n",
      "Best val Acc: 0.700000\n",
      "training node30 for Round 2 :\n"
     ]
    },
    {
     "name": "stderr",
     "output_type": "stream",
     "text": [
      "Epoch 4: 100%|██████████| 5/5 [00:17<00:00,  3.59s/Epoch]\n"
     ]
    },
    {
     "name": "stdout",
     "output_type": "stream",
     "text": [
      "Training complete in 0m 18s\n",
      "Best val Acc: 0.760000\n",
      "training node31 for Round 2 :\n"
     ]
    },
    {
     "name": "stderr",
     "output_type": "stream",
     "text": [
      "Epoch 4: 100%|██████████| 5/5 [00:17<00:00,  3.57s/Epoch]\n"
     ]
    },
    {
     "name": "stdout",
     "output_type": "stream",
     "text": [
      "Training complete in 0m 18s\n",
      "Best val Acc: 0.700000\n",
      "training node32 for Round 2 :\n"
     ]
    },
    {
     "name": "stderr",
     "output_type": "stream",
     "text": [
      "Epoch 4: 100%|██████████| 5/5 [00:19<00:00,  3.85s/Epoch]\n"
     ]
    },
    {
     "name": "stdout",
     "output_type": "stream",
     "text": [
      "Training complete in 0m 19s\n",
      "Best val Acc: 0.740000\n",
      "training node33 for Round 2 :\n"
     ]
    },
    {
     "name": "stderr",
     "output_type": "stream",
     "text": [
      "Epoch 4: 100%|██████████| 5/5 [00:18<00:00,  3.64s/Epoch]\n"
     ]
    },
    {
     "name": "stdout",
     "output_type": "stream",
     "text": [
      "Training complete in 0m 18s\n",
      "Best val Acc: 0.840000\n",
      "training node34 for Round 2 :\n"
     ]
    },
    {
     "name": "stderr",
     "output_type": "stream",
     "text": [
      "Epoch 4: 100%|██████████| 5/5 [00:18<00:00,  3.67s/Epoch]\n"
     ]
    },
    {
     "name": "stdout",
     "output_type": "stream",
     "text": [
      "Training complete in 0m 18s\n",
      "Best val Acc: 0.760000\n",
      "training node35 for Round 2 :\n"
     ]
    },
    {
     "name": "stderr",
     "output_type": "stream",
     "text": [
      "Epoch 4: 100%|██████████| 5/5 [00:18<00:00,  3.69s/Epoch]\n"
     ]
    },
    {
     "name": "stdout",
     "output_type": "stream",
     "text": [
      "Training complete in 0m 18s\n",
      "Best val Acc: 0.660000\n",
      "training node36 for Round 2 :\n"
     ]
    },
    {
     "name": "stderr",
     "output_type": "stream",
     "text": [
      "Epoch 4: 100%|██████████| 5/5 [00:18<00:00,  3.66s/Epoch]\n"
     ]
    },
    {
     "name": "stdout",
     "output_type": "stream",
     "text": [
      "Training complete in 0m 18s\n",
      "Best val Acc: 0.780000\n",
      "training node37 for Round 2 :\n"
     ]
    },
    {
     "name": "stderr",
     "output_type": "stream",
     "text": [
      "Epoch 4: 100%|██████████| 5/5 [00:19<00:00,  3.81s/Epoch]\n"
     ]
    },
    {
     "name": "stdout",
     "output_type": "stream",
     "text": [
      "Training complete in 0m 19s\n",
      "Best val Acc: 0.880000\n",
      "training node38 for Round 2 :\n"
     ]
    },
    {
     "name": "stderr",
     "output_type": "stream",
     "text": [
      "Epoch 4: 100%|██████████| 5/5 [00:18<00:00,  3.74s/Epoch]\n"
     ]
    },
    {
     "name": "stdout",
     "output_type": "stream",
     "text": [
      "Training complete in 0m 19s\n",
      "Best val Acc: 0.800000\n",
      "training node39 for Round 2 :\n"
     ]
    },
    {
     "name": "stderr",
     "output_type": "stream",
     "text": [
      "Epoch 4: 100%|██████████| 5/5 [00:19<00:00,  3.96s/Epoch]\n"
     ]
    },
    {
     "name": "stdout",
     "output_type": "stream",
     "text": [
      "Training complete in 0m 20s\n",
      "Best val Acc: 0.560000\n",
      "training node40 for Round 2 :\n"
     ]
    },
    {
     "name": "stderr",
     "output_type": "stream",
     "text": [
      "Epoch 4: 100%|██████████| 5/5 [00:18<00:00,  3.68s/Epoch]\n"
     ]
    },
    {
     "name": "stdout",
     "output_type": "stream",
     "text": [
      "Training complete in 0m 18s\n",
      "Best val Acc: 0.740000\n",
      "training node41 for Round 2 :\n"
     ]
    },
    {
     "name": "stderr",
     "output_type": "stream",
     "text": [
      "Epoch 4: 100%|██████████| 5/5 [00:18<00:00,  3.69s/Epoch]\n"
     ]
    },
    {
     "name": "stdout",
     "output_type": "stream",
     "text": [
      "Training complete in 0m 18s\n",
      "Best val Acc: 0.780000\n",
      "training node42 for Round 2 :\n"
     ]
    },
    {
     "name": "stderr",
     "output_type": "stream",
     "text": [
      "Epoch 4: 100%|██████████| 5/5 [00:20<00:00,  4.06s/Epoch]\n"
     ]
    },
    {
     "name": "stdout",
     "output_type": "stream",
     "text": [
      "Training complete in 0m 20s\n",
      "Best val Acc: 0.720000\n",
      "training node43 for Round 2 :\n"
     ]
    },
    {
     "name": "stderr",
     "output_type": "stream",
     "text": [
      "Epoch 4: 100%|██████████| 5/5 [00:18<00:00,  3.65s/Epoch]\n"
     ]
    },
    {
     "name": "stdout",
     "output_type": "stream",
     "text": [
      "Training complete in 0m 18s\n",
      "Best val Acc: 0.720000\n",
      "training node44 for Round 2 :\n"
     ]
    },
    {
     "name": "stderr",
     "output_type": "stream",
     "text": [
      "Epoch 4: 100%|██████████| 5/5 [00:18<00:00,  3.71s/Epoch]\n"
     ]
    },
    {
     "name": "stdout",
     "output_type": "stream",
     "text": [
      "Training complete in 0m 19s\n",
      "Best val Acc: 0.660000\n",
      "training node45 for Round 2 :\n"
     ]
    },
    {
     "name": "stderr",
     "output_type": "stream",
     "text": [
      "Epoch 4: 100%|██████████| 5/5 [00:19<00:00,  3.99s/Epoch]\n"
     ]
    },
    {
     "name": "stdout",
     "output_type": "stream",
     "text": [
      "Training complete in 0m 20s\n",
      "Best val Acc: 0.760000\n",
      "training node46 for Round 2 :\n"
     ]
    },
    {
     "name": "stderr",
     "output_type": "stream",
     "text": [
      "Epoch 4: 100%|██████████| 5/5 [00:19<00:00,  3.95s/Epoch]\n"
     ]
    },
    {
     "name": "stdout",
     "output_type": "stream",
     "text": [
      "Training complete in 0m 20s\n",
      "Best val Acc: 0.460000\n",
      "training node47 for Round 2 :\n"
     ]
    },
    {
     "name": "stderr",
     "output_type": "stream",
     "text": [
      "Epoch 4: 100%|██████████| 5/5 [00:18<00:00,  3.78s/Epoch]\n"
     ]
    },
    {
     "name": "stdout",
     "output_type": "stream",
     "text": [
      "Training complete in 0m 19s\n",
      "Best val Acc: 0.720000\n",
      "training node48 for Round 2 :\n"
     ]
    },
    {
     "name": "stderr",
     "output_type": "stream",
     "text": [
      "Epoch 4: 100%|██████████| 5/5 [00:18<00:00,  3.67s/Epoch]\n"
     ]
    },
    {
     "name": "stdout",
     "output_type": "stream",
     "text": [
      "Training complete in 0m 18s\n",
      "Best val Acc: 0.740000\n",
      "training node49 for Round 2 :\n"
     ]
    },
    {
     "name": "stderr",
     "output_type": "stream",
     "text": [
      "Epoch 4: 100%|██████████| 5/5 [00:19<00:00,  3.98s/Epoch]\n"
     ]
    },
    {
     "name": "stdout",
     "output_type": "stream",
     "text": [
      "Training complete in 0m 20s\n",
      "Best val Acc: 0.680000\n",
      "training node50 for Round 2 :\n"
     ]
    },
    {
     "name": "stderr",
     "output_type": "stream",
     "text": [
      "Epoch 4: 100%|██████████| 5/5 [00:19<00:00,  3.86s/Epoch]\n"
     ]
    },
    {
     "name": "stdout",
     "output_type": "stream",
     "text": [
      "Training complete in 0m 19s\n",
      "Best val Acc: 0.760000\n",
      "training node51 for Round 2 :\n"
     ]
    },
    {
     "name": "stderr",
     "output_type": "stream",
     "text": [
      "Epoch 4: 100%|██████████| 5/5 [00:20<00:00,  4.06s/Epoch]\n"
     ]
    },
    {
     "name": "stdout",
     "output_type": "stream",
     "text": [
      "Training complete in 0m 20s\n",
      "Best val Acc: 0.740000\n",
      "training node52 for Round 2 :\n"
     ]
    },
    {
     "name": "stderr",
     "output_type": "stream",
     "text": [
      "Epoch 4: 100%|██████████| 5/5 [00:18<00:00,  3.76s/Epoch]\n"
     ]
    },
    {
     "name": "stdout",
     "output_type": "stream",
     "text": [
      "Training complete in 0m 19s\n",
      "Best val Acc: 0.700000\n",
      "training node53 for Round 2 :\n"
     ]
    },
    {
     "name": "stderr",
     "output_type": "stream",
     "text": [
      "Epoch 4: 100%|██████████| 5/5 [00:20<00:00,  4.04s/Epoch]\n"
     ]
    },
    {
     "name": "stdout",
     "output_type": "stream",
     "text": [
      "Training complete in 0m 20s\n",
      "Best val Acc: 0.760000\n",
      "training node54 for Round 2 :\n"
     ]
    },
    {
     "name": "stderr",
     "output_type": "stream",
     "text": [
      "Epoch 4: 100%|██████████| 5/5 [00:19<00:00,  3.94s/Epoch]\n"
     ]
    },
    {
     "name": "stdout",
     "output_type": "stream",
     "text": [
      "Training complete in 0m 20s\n",
      "Best val Acc: 0.640000\n",
      "training node55 for Round 2 :\n"
     ]
    },
    {
     "name": "stderr",
     "output_type": "stream",
     "text": [
      "Epoch 4: 100%|██████████| 5/5 [00:20<00:00,  4.01s/Epoch]\n"
     ]
    },
    {
     "name": "stdout",
     "output_type": "stream",
     "text": [
      "Training complete in 0m 20s\n",
      "Best val Acc: 0.700000\n",
      "training node56 for Round 2 :\n"
     ]
    },
    {
     "name": "stderr",
     "output_type": "stream",
     "text": [
      "Epoch 4: 100%|██████████| 5/5 [00:20<00:00,  4.04s/Epoch]\n"
     ]
    },
    {
     "name": "stdout",
     "output_type": "stream",
     "text": [
      "Training complete in 0m 20s\n",
      "Best val Acc: 0.700000\n",
      "training node57 for Round 2 :\n"
     ]
    },
    {
     "name": "stderr",
     "output_type": "stream",
     "text": [
      "Epoch 4: 100%|██████████| 5/5 [00:18<00:00,  3.78s/Epoch]\n"
     ]
    },
    {
     "name": "stdout",
     "output_type": "stream",
     "text": [
      "Training complete in 0m 19s\n",
      "Best val Acc: 0.640000\n",
      "training node58 for Round 2 :\n"
     ]
    },
    {
     "name": "stderr",
     "output_type": "stream",
     "text": [
      "Epoch 4: 100%|██████████| 5/5 [00:20<00:00,  4.03s/Epoch]\n"
     ]
    },
    {
     "name": "stdout",
     "output_type": "stream",
     "text": [
      "Training complete in 0m 20s\n",
      "Best val Acc: 0.760000\n",
      "training node59 for Round 2 :\n"
     ]
    },
    {
     "name": "stderr",
     "output_type": "stream",
     "text": [
      "Epoch 4: 100%|██████████| 5/5 [00:20<00:00,  4.04s/Epoch]\n"
     ]
    },
    {
     "name": "stdout",
     "output_type": "stream",
     "text": [
      "Training complete in 0m 20s\n",
      "Best val Acc: 0.760000\n",
      "training node60 for Round 2 :\n"
     ]
    },
    {
     "name": "stderr",
     "output_type": "stream",
     "text": [
      "Epoch 4: 100%|██████████| 5/5 [00:20<00:00,  4.08s/Epoch]\n"
     ]
    },
    {
     "name": "stdout",
     "output_type": "stream",
     "text": [
      "Training complete in 0m 20s\n",
      "Best val Acc: 0.740000\n",
      "training node61 for Round 2 :\n"
     ]
    },
    {
     "name": "stderr",
     "output_type": "stream",
     "text": [
      "Epoch 4: 100%|██████████| 5/5 [00:19<00:00,  3.89s/Epoch]\n"
     ]
    },
    {
     "name": "stdout",
     "output_type": "stream",
     "text": [
      "Training complete in 0m 19s\n",
      "Best val Acc: 0.620000\n",
      "training node62 for Round 2 :\n"
     ]
    },
    {
     "name": "stderr",
     "output_type": "stream",
     "text": [
      "Epoch 4: 100%|██████████| 5/5 [00:17<00:00,  3.60s/Epoch]\n"
     ]
    },
    {
     "name": "stdout",
     "output_type": "stream",
     "text": [
      "Training complete in 0m 18s\n",
      "Best val Acc: 0.760000\n",
      "training node63 for Round 2 :\n"
     ]
    },
    {
     "name": "stderr",
     "output_type": "stream",
     "text": [
      "Epoch 4: 100%|██████████| 5/5 [00:18<00:00,  3.65s/Epoch]\n"
     ]
    },
    {
     "name": "stdout",
     "output_type": "stream",
     "text": [
      "Training complete in 0m 18s\n",
      "Best val Acc: 0.700000\n",
      "training node64 for Round 2 :\n"
     ]
    },
    {
     "name": "stderr",
     "output_type": "stream",
     "text": [
      "Epoch 4: 100%|██████████| 5/5 [00:19<00:00,  3.93s/Epoch]\n"
     ]
    },
    {
     "name": "stdout",
     "output_type": "stream",
     "text": [
      "Training complete in 0m 20s\n",
      "Best val Acc: 0.740000\n",
      "training node65 for Round 2 :\n"
     ]
    },
    {
     "name": "stderr",
     "output_type": "stream",
     "text": [
      "Epoch 4: 100%|██████████| 5/5 [00:19<00:00,  3.98s/Epoch]\n"
     ]
    },
    {
     "name": "stdout",
     "output_type": "stream",
     "text": [
      "Training complete in 0m 20s\n",
      "Best val Acc: 0.740000\n",
      "training node66 for Round 2 :\n"
     ]
    },
    {
     "name": "stderr",
     "output_type": "stream",
     "text": [
      "Epoch 4: 100%|██████████| 5/5 [00:19<00:00,  3.91s/Epoch]\n"
     ]
    },
    {
     "name": "stdout",
     "output_type": "stream",
     "text": [
      "Training complete in 0m 20s\n",
      "Best val Acc: 0.720000\n",
      "training node67 for Round 2 :\n"
     ]
    },
    {
     "name": "stderr",
     "output_type": "stream",
     "text": [
      "Epoch 4: 100%|██████████| 5/5 [00:18<00:00,  3.62s/Epoch]\n"
     ]
    },
    {
     "name": "stdout",
     "output_type": "stream",
     "text": [
      "Training complete in 0m 18s\n",
      "Best val Acc: 0.720000\n",
      "training node68 for Round 2 :\n"
     ]
    },
    {
     "name": "stderr",
     "output_type": "stream",
     "text": [
      "Epoch 4: 100%|██████████| 5/5 [00:19<00:00,  3.92s/Epoch]\n"
     ]
    },
    {
     "name": "stdout",
     "output_type": "stream",
     "text": [
      "Training complete in 0m 20s\n",
      "Best val Acc: 0.760000\n",
      "training node69 for Round 2 :\n"
     ]
    },
    {
     "name": "stderr",
     "output_type": "stream",
     "text": [
      "Epoch 4: 100%|██████████| 5/5 [00:19<00:00,  3.95s/Epoch]\n"
     ]
    },
    {
     "name": "stdout",
     "output_type": "stream",
     "text": [
      "Training complete in 0m 20s\n",
      "Best val Acc: 0.800000\n",
      "training node70 for Round 2 :\n"
     ]
    },
    {
     "name": "stderr",
     "output_type": "stream",
     "text": [
      "Epoch 4: 100%|██████████| 5/5 [00:19<00:00,  3.89s/Epoch]\n"
     ]
    },
    {
     "name": "stdout",
     "output_type": "stream",
     "text": [
      "Training complete in 0m 19s\n",
      "Best val Acc: 0.780000\n",
      "training node71 for Round 2 :\n"
     ]
    },
    {
     "name": "stderr",
     "output_type": "stream",
     "text": [
      "Epoch 4: 100%|██████████| 5/5 [00:19<00:00,  3.88s/Epoch]\n"
     ]
    },
    {
     "name": "stdout",
     "output_type": "stream",
     "text": [
      "Training complete in 0m 19s\n",
      "Best val Acc: 0.660000\n",
      "training node72 for Round 2 :\n"
     ]
    },
    {
     "name": "stderr",
     "output_type": "stream",
     "text": [
      "Epoch 4: 100%|██████████| 5/5 [00:19<00:00,  3.84s/Epoch]\n"
     ]
    },
    {
     "name": "stdout",
     "output_type": "stream",
     "text": [
      "Training complete in 0m 19s\n",
      "Best val Acc: 0.720000\n",
      "training node73 for Round 2 :\n"
     ]
    },
    {
     "name": "stderr",
     "output_type": "stream",
     "text": [
      "Epoch 4: 100%|██████████| 5/5 [00:19<00:00,  3.90s/Epoch]\n"
     ]
    },
    {
     "name": "stdout",
     "output_type": "stream",
     "text": [
      "Training complete in 0m 20s\n",
      "Best val Acc: 0.680000\n",
      "training node74 for Round 2 :\n"
     ]
    },
    {
     "name": "stderr",
     "output_type": "stream",
     "text": [
      "Epoch 4: 100%|██████████| 5/5 [00:18<00:00,  3.79s/Epoch]\n"
     ]
    },
    {
     "name": "stdout",
     "output_type": "stream",
     "text": [
      "Training complete in 0m 19s\n",
      "Best val Acc: 0.660000\n",
      "training node75 for Round 2 :\n"
     ]
    },
    {
     "name": "stderr",
     "output_type": "stream",
     "text": [
      "Epoch 4: 100%|██████████| 5/5 [00:19<00:00,  3.83s/Epoch]\n"
     ]
    },
    {
     "name": "stdout",
     "output_type": "stream",
     "text": [
      "Training complete in 0m 19s\n",
      "Best val Acc: 0.760000\n",
      "training node76 for Round 2 :\n"
     ]
    },
    {
     "name": "stderr",
     "output_type": "stream",
     "text": [
      "Epoch 4: 100%|██████████| 5/5 [00:19<00:00,  3.83s/Epoch]\n"
     ]
    },
    {
     "name": "stdout",
     "output_type": "stream",
     "text": [
      "Training complete in 0m 19s\n",
      "Best val Acc: 0.760000\n",
      "training node77 for Round 2 :\n"
     ]
    },
    {
     "name": "stderr",
     "output_type": "stream",
     "text": [
      "Epoch 4: 100%|██████████| 5/5 [00:17<00:00,  3.49s/Epoch]\n"
     ]
    },
    {
     "name": "stdout",
     "output_type": "stream",
     "text": [
      "Training complete in 0m 17s\n",
      "Best val Acc: 0.600000\n",
      "training node78 for Round 2 :\n"
     ]
    },
    {
     "name": "stderr",
     "output_type": "stream",
     "text": [
      "Epoch 4: 100%|██████████| 5/5 [00:19<00:00,  3.87s/Epoch]\n"
     ]
    },
    {
     "name": "stdout",
     "output_type": "stream",
     "text": [
      "Training complete in 0m 19s\n",
      "Best val Acc: 0.700000\n",
      "training node79 for Round 2 :\n"
     ]
    },
    {
     "name": "stderr",
     "output_type": "stream",
     "text": [
      "Epoch 4: 100%|██████████| 5/5 [00:18<00:00,  3.79s/Epoch]\n"
     ]
    },
    {
     "name": "stdout",
     "output_type": "stream",
     "text": [
      "Training complete in 0m 19s\n",
      "Best val Acc: 0.580000\n",
      "training node80 for Round 2 :\n"
     ]
    },
    {
     "name": "stderr",
     "output_type": "stream",
     "text": [
      "Epoch 4: 100%|██████████| 5/5 [00:18<00:00,  3.61s/Epoch]\n"
     ]
    },
    {
     "name": "stdout",
     "output_type": "stream",
     "text": [
      "Training complete in 0m 18s\n",
      "Best val Acc: 0.600000\n",
      "training node81 for Round 2 :\n"
     ]
    },
    {
     "name": "stderr",
     "output_type": "stream",
     "text": [
      "Epoch 4: 100%|██████████| 5/5 [00:19<00:00,  3.86s/Epoch]\n"
     ]
    },
    {
     "name": "stdout",
     "output_type": "stream",
     "text": [
      "Training complete in 0m 19s\n",
      "Best val Acc: 0.640000\n",
      "training node82 for Round 2 :\n"
     ]
    },
    {
     "name": "stderr",
     "output_type": "stream",
     "text": [
      "Epoch 4: 100%|██████████| 5/5 [00:18<00:00,  3.65s/Epoch]\n"
     ]
    },
    {
     "name": "stdout",
     "output_type": "stream",
     "text": [
      "Training complete in 0m 18s\n",
      "Best val Acc: 0.620000\n",
      "training node83 for Round 2 :\n"
     ]
    },
    {
     "name": "stderr",
     "output_type": "stream",
     "text": [
      "Epoch 4: 100%|██████████| 5/5 [00:19<00:00,  3.92s/Epoch]\n"
     ]
    },
    {
     "name": "stdout",
     "output_type": "stream",
     "text": [
      "Training complete in 0m 20s\n",
      "Best val Acc: 0.720000\n",
      "training node84 for Round 2 :\n"
     ]
    },
    {
     "name": "stderr",
     "output_type": "stream",
     "text": [
      "Epoch 4: 100%|██████████| 5/5 [00:19<00:00,  3.87s/Epoch]\n"
     ]
    },
    {
     "name": "stdout",
     "output_type": "stream",
     "text": [
      "Training complete in 0m 19s\n",
      "Best val Acc: 0.660000\n",
      "training node85 for Round 2 :\n"
     ]
    },
    {
     "name": "stderr",
     "output_type": "stream",
     "text": [
      "Epoch 4: 100%|██████████| 5/5 [00:19<00:00,  3.82s/Epoch]\n"
     ]
    },
    {
     "name": "stdout",
     "output_type": "stream",
     "text": [
      "Training complete in 0m 19s\n",
      "Best val Acc: 0.500000\n",
      "training node86 for Round 2 :\n"
     ]
    },
    {
     "name": "stderr",
     "output_type": "stream",
     "text": [
      "Epoch 4: 100%|██████████| 5/5 [00:18<00:00,  3.67s/Epoch]\n"
     ]
    },
    {
     "name": "stdout",
     "output_type": "stream",
     "text": [
      "Training complete in 0m 18s\n",
      "Best val Acc: 0.720000\n",
      "training node87 for Round 2 :\n"
     ]
    },
    {
     "name": "stderr",
     "output_type": "stream",
     "text": [
      "Epoch 4: 100%|██████████| 5/5 [00:19<00:00,  3.88s/Epoch]\n"
     ]
    },
    {
     "name": "stdout",
     "output_type": "stream",
     "text": [
      "Training complete in 0m 19s\n",
      "Best val Acc: 0.640000\n",
      "training node88 for Round 2 :\n"
     ]
    },
    {
     "name": "stderr",
     "output_type": "stream",
     "text": [
      "Epoch 4: 100%|██████████| 5/5 [00:19<00:00,  3.93s/Epoch]\n"
     ]
    },
    {
     "name": "stdout",
     "output_type": "stream",
     "text": [
      "Training complete in 0m 20s\n",
      "Best val Acc: 0.660000\n",
      "training node89 for Round 2 :\n"
     ]
    },
    {
     "name": "stderr",
     "output_type": "stream",
     "text": [
      "Epoch 4: 100%|██████████| 5/5 [00:19<00:00,  3.94s/Epoch]\n"
     ]
    },
    {
     "name": "stdout",
     "output_type": "stream",
     "text": [
      "Training complete in 0m 20s\n",
      "Best val Acc: 0.700000\n",
      "training node90 for Round 2 :\n"
     ]
    },
    {
     "name": "stderr",
     "output_type": "stream",
     "text": [
      "Epoch 4: 100%|██████████| 5/5 [00:19<00:00,  3.86s/Epoch]\n"
     ]
    },
    {
     "name": "stdout",
     "output_type": "stream",
     "text": [
      "Training complete in 0m 19s\n",
      "Best val Acc: 0.700000\n",
      "training node91 for Round 2 :\n"
     ]
    },
    {
     "name": "stderr",
     "output_type": "stream",
     "text": [
      "Epoch 4: 100%|██████████| 5/5 [00:20<00:00,  4.02s/Epoch]\n"
     ]
    },
    {
     "name": "stdout",
     "output_type": "stream",
     "text": [
      "Training complete in 0m 20s\n",
      "Best val Acc: 0.700000\n",
      "training node92 for Round 2 :\n"
     ]
    },
    {
     "name": "stderr",
     "output_type": "stream",
     "text": [
      "Epoch 4: 100%|██████████| 5/5 [00:19<00:00,  3.95s/Epoch]\n"
     ]
    },
    {
     "name": "stdout",
     "output_type": "stream",
     "text": [
      "Training complete in 0m 20s\n",
      "Best val Acc: 0.660000\n",
      "training node93 for Round 2 :\n"
     ]
    },
    {
     "name": "stderr",
     "output_type": "stream",
     "text": [
      "Epoch 4: 100%|██████████| 5/5 [00:18<00:00,  3.72s/Epoch]\n"
     ]
    },
    {
     "name": "stdout",
     "output_type": "stream",
     "text": [
      "Training complete in 0m 19s\n",
      "Best val Acc: 0.660000\n",
      "training node94 for Round 2 :\n"
     ]
    },
    {
     "name": "stderr",
     "output_type": "stream",
     "text": [
      "Epoch 4: 100%|██████████| 5/5 [00:19<00:00,  3.98s/Epoch]\n"
     ]
    },
    {
     "name": "stdout",
     "output_type": "stream",
     "text": [
      "Training complete in 0m 20s\n",
      "Best val Acc: 0.780000\n",
      "training node95 for Round 2 :\n"
     ]
    },
    {
     "name": "stderr",
     "output_type": "stream",
     "text": [
      "Epoch 4: 100%|██████████| 5/5 [00:18<00:00,  3.76s/Epoch]\n"
     ]
    },
    {
     "name": "stdout",
     "output_type": "stream",
     "text": [
      "Training complete in 0m 19s\n",
      "Best val Acc: 0.680000\n",
      "training node96 for Round 2 :\n"
     ]
    },
    {
     "name": "stderr",
     "output_type": "stream",
     "text": [
      "Epoch 4: 100%|██████████| 5/5 [00:18<00:00,  3.70s/Epoch]\n"
     ]
    },
    {
     "name": "stdout",
     "output_type": "stream",
     "text": [
      "Training complete in 0m 19s\n",
      "Best val Acc: 0.600000\n",
      "training node97 for Round 2 :\n"
     ]
    },
    {
     "name": "stderr",
     "output_type": "stream",
     "text": [
      "Epoch 4: 100%|██████████| 5/5 [00:20<00:00,  4.02s/Epoch]\n"
     ]
    },
    {
     "name": "stdout",
     "output_type": "stream",
     "text": [
      "Training complete in 0m 20s\n",
      "Best val Acc: 0.680000\n",
      "training node98 for Round 2 :\n"
     ]
    },
    {
     "name": "stderr",
     "output_type": "stream",
     "text": [
      "Epoch 4: 100%|██████████| 5/5 [00:20<00:00,  4.03s/Epoch]\n"
     ]
    },
    {
     "name": "stdout",
     "output_type": "stream",
     "text": [
      "Training complete in 0m 20s\n",
      "Best val Acc: 0.660000\n",
      "training node99 for Round 2 :\n"
     ]
    },
    {
     "name": "stderr",
     "output_type": "stream",
     "text": [
      "Epoch 4: 100%|██████████| 5/5 [00:20<00:00,  4.05s/Epoch]\n"
     ]
    },
    {
     "name": "stdout",
     "output_type": "stream",
     "text": [
      "Training complete in 0m 20s\n",
      "Best val Acc: 0.720000\n",
      "Fedavg of main model in round 3\n",
      "For Round 2 :, acc : 0.6249699302381525, acc0 : 0.6653061224489796 , acc1:0.9162995594713657 , acc2:0.4622093023255814, acc3 :0.42475247524752474 \n",
      "Round 4\n",
      "Sending main model to nodes in round 3\n",
      "training node0 for Round 3 :\n"
     ]
    },
    {
     "name": "stderr",
     "output_type": "stream",
     "text": [
      "Epoch 4: 100%|██████████| 5/5 [00:19<00:00,  3.92s/Epoch]\n"
     ]
    },
    {
     "name": "stdout",
     "output_type": "stream",
     "text": [
      "Training complete in 0m 20s\n",
      "Best val Acc: 0.760000\n",
      "training node1 for Round 3 :\n"
     ]
    },
    {
     "name": "stderr",
     "output_type": "stream",
     "text": [
      "Epoch 4: 100%|██████████| 5/5 [00:19<00:00,  3.95s/Epoch]\n"
     ]
    },
    {
     "name": "stdout",
     "output_type": "stream",
     "text": [
      "Training complete in 0m 20s\n",
      "Best val Acc: 0.780000\n",
      "training node2 for Round 3 :\n"
     ]
    },
    {
     "name": "stderr",
     "output_type": "stream",
     "text": [
      "Epoch 4: 100%|██████████| 5/5 [00:19<00:00,  3.93s/Epoch]\n"
     ]
    },
    {
     "name": "stdout",
     "output_type": "stream",
     "text": [
      "Training complete in 0m 20s\n",
      "Best val Acc: 0.740000\n",
      "training node3 for Round 3 :\n"
     ]
    },
    {
     "name": "stderr",
     "output_type": "stream",
     "text": [
      "Epoch 4: 100%|██████████| 5/5 [00:20<00:00,  4.02s/Epoch]\n"
     ]
    },
    {
     "name": "stdout",
     "output_type": "stream",
     "text": [
      "Training complete in 0m 20s\n",
      "Best val Acc: 0.800000\n",
      "training node4 for Round 3 :\n"
     ]
    },
    {
     "name": "stderr",
     "output_type": "stream",
     "text": [
      "Epoch 4: 100%|██████████| 5/5 [00:20<00:00,  4.09s/Epoch]\n"
     ]
    },
    {
     "name": "stdout",
     "output_type": "stream",
     "text": [
      "Training complete in 0m 20s\n",
      "Best val Acc: 0.720000\n",
      "training node5 for Round 3 :\n"
     ]
    },
    {
     "name": "stderr",
     "output_type": "stream",
     "text": [
      "Epoch 4: 100%|██████████| 5/5 [00:20<00:00,  4.08s/Epoch]\n"
     ]
    },
    {
     "name": "stdout",
     "output_type": "stream",
     "text": [
      "Training complete in 0m 20s\n",
      "Best val Acc: 0.700000\n",
      "training node6 for Round 3 :\n"
     ]
    },
    {
     "name": "stderr",
     "output_type": "stream",
     "text": [
      "Epoch 4: 100%|██████████| 5/5 [00:20<00:00,  4.02s/Epoch]\n"
     ]
    },
    {
     "name": "stdout",
     "output_type": "stream",
     "text": [
      "Training complete in 0m 20s\n",
      "Best val Acc: 0.720000\n",
      "training node7 for Round 3 :\n"
     ]
    },
    {
     "name": "stderr",
     "output_type": "stream",
     "text": [
      "Epoch 4: 100%|██████████| 5/5 [00:19<00:00,  3.98s/Epoch]\n"
     ]
    },
    {
     "name": "stdout",
     "output_type": "stream",
     "text": [
      "Training complete in 0m 20s\n",
      "Best val Acc: 0.620000\n",
      "training node8 for Round 3 :\n"
     ]
    },
    {
     "name": "stderr",
     "output_type": "stream",
     "text": [
      "Epoch 4: 100%|██████████| 5/5 [00:18<00:00,  3.71s/Epoch]\n"
     ]
    },
    {
     "name": "stdout",
     "output_type": "stream",
     "text": [
      "Training complete in 0m 19s\n",
      "Best val Acc: 0.700000\n",
      "training node9 for Round 3 :\n"
     ]
    },
    {
     "name": "stderr",
     "output_type": "stream",
     "text": [
      "Epoch 4: 100%|██████████| 5/5 [00:20<00:00,  4.08s/Epoch]\n"
     ]
    },
    {
     "name": "stdout",
     "output_type": "stream",
     "text": [
      "Training complete in 0m 20s\n",
      "Best val Acc: 0.720000\n",
      "training node10 for Round 3 :\n"
     ]
    },
    {
     "name": "stderr",
     "output_type": "stream",
     "text": [
      "Epoch 4: 100%|██████████| 5/5 [00:18<00:00,  3.77s/Epoch]\n"
     ]
    },
    {
     "name": "stdout",
     "output_type": "stream",
     "text": [
      "Training complete in 0m 19s\n",
      "Best val Acc: 0.660000\n",
      "training node11 for Round 3 :\n"
     ]
    },
    {
     "name": "stderr",
     "output_type": "stream",
     "text": [
      "Epoch 4: 100%|██████████| 5/5 [00:20<00:00,  4.02s/Epoch]\n"
     ]
    },
    {
     "name": "stdout",
     "output_type": "stream",
     "text": [
      "Training complete in 0m 20s\n",
      "Best val Acc: 0.760000\n",
      "training node12 for Round 3 :\n"
     ]
    },
    {
     "name": "stderr",
     "output_type": "stream",
     "text": [
      "Epoch 4: 100%|██████████| 5/5 [00:18<00:00,  3.79s/Epoch]\n"
     ]
    },
    {
     "name": "stdout",
     "output_type": "stream",
     "text": [
      "Training complete in 0m 19s\n",
      "Best val Acc: 0.720000\n",
      "training node13 for Round 3 :\n"
     ]
    },
    {
     "name": "stderr",
     "output_type": "stream",
     "text": [
      "Epoch 4: 100%|██████████| 5/5 [00:18<00:00,  3.70s/Epoch]\n"
     ]
    },
    {
     "name": "stdout",
     "output_type": "stream",
     "text": [
      "Training complete in 0m 19s\n",
      "Best val Acc: 0.720000\n",
      "training node14 for Round 3 :\n"
     ]
    },
    {
     "name": "stderr",
     "output_type": "stream",
     "text": [
      "Epoch 4: 100%|██████████| 5/5 [00:20<00:00,  4.03s/Epoch]\n"
     ]
    },
    {
     "name": "stdout",
     "output_type": "stream",
     "text": [
      "Training complete in 0m 20s\n",
      "Best val Acc: 0.800000\n",
      "training node15 for Round 3 :\n"
     ]
    },
    {
     "name": "stderr",
     "output_type": "stream",
     "text": [
      "Epoch 4: 100%|██████████| 5/5 [00:20<00:00,  4.11s/Epoch]\n"
     ]
    },
    {
     "name": "stdout",
     "output_type": "stream",
     "text": [
      "Training complete in 0m 21s\n",
      "Best val Acc: 0.820000\n",
      "training node16 for Round 3 :\n"
     ]
    },
    {
     "name": "stderr",
     "output_type": "stream",
     "text": [
      "Epoch 4: 100%|██████████| 5/5 [00:18<00:00,  3.80s/Epoch]\n"
     ]
    },
    {
     "name": "stdout",
     "output_type": "stream",
     "text": [
      "Training complete in 0m 19s\n",
      "Best val Acc: 0.720000\n",
      "training node17 for Round 3 :\n"
     ]
    },
    {
     "name": "stderr",
     "output_type": "stream",
     "text": [
      "Epoch 4: 100%|██████████| 5/5 [00:19<00:00,  3.97s/Epoch]\n"
     ]
    },
    {
     "name": "stdout",
     "output_type": "stream",
     "text": [
      "Training complete in 0m 20s\n",
      "Best val Acc: 0.780000\n",
      "training node18 for Round 3 :\n"
     ]
    },
    {
     "name": "stderr",
     "output_type": "stream",
     "text": [
      "Epoch 4: 100%|██████████| 5/5 [00:20<00:00,  4.11s/Epoch]\n"
     ]
    },
    {
     "name": "stdout",
     "output_type": "stream",
     "text": [
      "Training complete in 0m 21s\n",
      "Best val Acc: 0.720000\n",
      "training node19 for Round 3 :\n"
     ]
    },
    {
     "name": "stderr",
     "output_type": "stream",
     "text": [
      "Epoch 4: 100%|██████████| 5/5 [00:19<00:00,  3.89s/Epoch]\n"
     ]
    },
    {
     "name": "stdout",
     "output_type": "stream",
     "text": [
      "Training complete in 0m 19s\n",
      "Best val Acc: 0.580000\n",
      "training node20 for Round 3 :\n"
     ]
    },
    {
     "name": "stderr",
     "output_type": "stream",
     "text": [
      "Epoch 4: 100%|██████████| 5/5 [00:19<00:00,  3.92s/Epoch]\n"
     ]
    },
    {
     "name": "stdout",
     "output_type": "stream",
     "text": [
      "Training complete in 0m 20s\n",
      "Best val Acc: 0.680000\n",
      "training node21 for Round 3 :\n"
     ]
    },
    {
     "name": "stderr",
     "output_type": "stream",
     "text": [
      "Epoch 4: 100%|██████████| 5/5 [00:19<00:00,  3.92s/Epoch]\n"
     ]
    },
    {
     "name": "stdout",
     "output_type": "stream",
     "text": [
      "Training complete in 0m 20s\n",
      "Best val Acc: 0.700000\n",
      "training node22 for Round 3 :\n"
     ]
    },
    {
     "name": "stderr",
     "output_type": "stream",
     "text": [
      "Epoch 4: 100%|██████████| 5/5 [00:19<00:00,  3.89s/Epoch]\n"
     ]
    },
    {
     "name": "stdout",
     "output_type": "stream",
     "text": [
      "Training complete in 0m 19s\n",
      "Best val Acc: 0.860000\n",
      "training node23 for Round 3 :\n"
     ]
    },
    {
     "name": "stderr",
     "output_type": "stream",
     "text": [
      "Epoch 4: 100%|██████████| 5/5 [00:19<00:00,  3.88s/Epoch]\n"
     ]
    },
    {
     "name": "stdout",
     "output_type": "stream",
     "text": [
      "Training complete in 0m 19s\n",
      "Best val Acc: 0.680000\n",
      "training node24 for Round 3 :\n"
     ]
    },
    {
     "name": "stderr",
     "output_type": "stream",
     "text": [
      "Epoch 4: 100%|██████████| 5/5 [00:19<00:00,  3.91s/Epoch]\n"
     ]
    },
    {
     "name": "stdout",
     "output_type": "stream",
     "text": [
      "Training complete in 0m 20s\n",
      "Best val Acc: 0.660000\n",
      "training node25 for Round 3 :\n"
     ]
    },
    {
     "name": "stderr",
     "output_type": "stream",
     "text": [
      "Epoch 4: 100%|██████████| 5/5 [00:18<00:00,  3.65s/Epoch]\n"
     ]
    },
    {
     "name": "stdout",
     "output_type": "stream",
     "text": [
      "Training complete in 0m 18s\n",
      "Best val Acc: 0.780000\n",
      "training node26 for Round 3 :\n"
     ]
    },
    {
     "name": "stderr",
     "output_type": "stream",
     "text": [
      "Epoch 4: 100%|██████████| 5/5 [00:19<00:00,  3.87s/Epoch]\n"
     ]
    },
    {
     "name": "stdout",
     "output_type": "stream",
     "text": [
      "Training complete in 0m 19s\n",
      "Best val Acc: 0.740000\n",
      "training node27 for Round 3 :\n"
     ]
    },
    {
     "name": "stderr",
     "output_type": "stream",
     "text": [
      "Epoch 4: 100%|██████████| 5/5 [00:19<00:00,  3.86s/Epoch]\n"
     ]
    },
    {
     "name": "stdout",
     "output_type": "stream",
     "text": [
      "Training complete in 0m 19s\n",
      "Best val Acc: 0.800000\n",
      "training node28 for Round 3 :\n"
     ]
    },
    {
     "name": "stderr",
     "output_type": "stream",
     "text": [
      "Epoch 4: 100%|██████████| 5/5 [00:19<00:00,  3.87s/Epoch]\n"
     ]
    },
    {
     "name": "stdout",
     "output_type": "stream",
     "text": [
      "Training complete in 0m 19s\n",
      "Best val Acc: 0.760000\n",
      "training node29 for Round 3 :\n"
     ]
    },
    {
     "name": "stderr",
     "output_type": "stream",
     "text": [
      "Epoch 4: 100%|██████████| 5/5 [00:18<00:00,  3.80s/Epoch]\n"
     ]
    },
    {
     "name": "stdout",
     "output_type": "stream",
     "text": [
      "Training complete in 0m 19s\n",
      "Best val Acc: 0.620000\n",
      "training node30 for Round 3 :\n"
     ]
    },
    {
     "name": "stderr",
     "output_type": "stream",
     "text": [
      "Epoch 4: 100%|██████████| 5/5 [00:18<00:00,  3.62s/Epoch]\n"
     ]
    },
    {
     "name": "stdout",
     "output_type": "stream",
     "text": [
      "Training complete in 0m 18s\n",
      "Best val Acc: 0.860000\n",
      "training node31 for Round 3 :\n"
     ]
    },
    {
     "name": "stderr",
     "output_type": "stream",
     "text": [
      "Epoch 4: 100%|██████████| 5/5 [00:17<00:00,  3.49s/Epoch]\n"
     ]
    },
    {
     "name": "stdout",
     "output_type": "stream",
     "text": [
      "Training complete in 0m 17s\n",
      "Best val Acc: 0.700000\n",
      "training node32 for Round 3 :\n"
     ]
    },
    {
     "name": "stderr",
     "output_type": "stream",
     "text": [
      "Epoch 4: 100%|██████████| 5/5 [00:18<00:00,  3.79s/Epoch]\n"
     ]
    },
    {
     "name": "stdout",
     "output_type": "stream",
     "text": [
      "Training complete in 0m 19s\n",
      "Best val Acc: 0.740000\n",
      "training node33 for Round 3 :\n"
     ]
    },
    {
     "name": "stderr",
     "output_type": "stream",
     "text": [
      "Epoch 4: 100%|██████████| 5/5 [00:18<00:00,  3.61s/Epoch]\n"
     ]
    },
    {
     "name": "stdout",
     "output_type": "stream",
     "text": [
      "Training complete in 0m 18s\n",
      "Best val Acc: 0.880000\n",
      "training node34 for Round 3 :\n"
     ]
    },
    {
     "name": "stderr",
     "output_type": "stream",
     "text": [
      "Epoch 4: 100%|██████████| 5/5 [00:18<00:00,  3.66s/Epoch]\n"
     ]
    },
    {
     "name": "stdout",
     "output_type": "stream",
     "text": [
      "Training complete in 0m 18s\n",
      "Best val Acc: 0.820000\n",
      "training node35 for Round 3 :\n"
     ]
    },
    {
     "name": "stderr",
     "output_type": "stream",
     "text": [
      "Epoch 4: 100%|██████████| 5/5 [00:17<00:00,  3.55s/Epoch]\n"
     ]
    },
    {
     "name": "stdout",
     "output_type": "stream",
     "text": [
      "Training complete in 0m 18s\n",
      "Best val Acc: 0.720000\n",
      "training node36 for Round 3 :\n"
     ]
    },
    {
     "name": "stderr",
     "output_type": "stream",
     "text": [
      "Epoch 4: 100%|██████████| 5/5 [00:17<00:00,  3.54s/Epoch]\n"
     ]
    },
    {
     "name": "stdout",
     "output_type": "stream",
     "text": [
      "Training complete in 0m 18s\n",
      "Best val Acc: 0.820000\n",
      "training node37 for Round 3 :\n"
     ]
    },
    {
     "name": "stderr",
     "output_type": "stream",
     "text": [
      "Epoch 4: 100%|██████████| 5/5 [00:18<00:00,  3.65s/Epoch]\n"
     ]
    },
    {
     "name": "stdout",
     "output_type": "stream",
     "text": [
      "Training complete in 0m 18s\n",
      "Best val Acc: 0.880000\n",
      "training node38 for Round 3 :\n"
     ]
    },
    {
     "name": "stderr",
     "output_type": "stream",
     "text": [
      "Epoch 4: 100%|██████████| 5/5 [00:18<00:00,  3.60s/Epoch]\n"
     ]
    },
    {
     "name": "stdout",
     "output_type": "stream",
     "text": [
      "Training complete in 0m 18s\n",
      "Best val Acc: 0.820000\n",
      "training node39 for Round 3 :\n"
     ]
    },
    {
     "name": "stderr",
     "output_type": "stream",
     "text": [
      "Epoch 4: 100%|██████████| 5/5 [00:19<00:00,  3.85s/Epoch]\n"
     ]
    },
    {
     "name": "stdout",
     "output_type": "stream",
     "text": [
      "Training complete in 0m 19s\n",
      "Best val Acc: 0.740000\n",
      "training node40 for Round 3 :\n"
     ]
    },
    {
     "name": "stderr",
     "output_type": "stream",
     "text": [
      "Epoch 4: 100%|██████████| 5/5 [00:17<00:00,  3.56s/Epoch]\n"
     ]
    },
    {
     "name": "stdout",
     "output_type": "stream",
     "text": [
      "Training complete in 0m 18s\n",
      "Best val Acc: 0.760000\n",
      "training node41 for Round 3 :\n"
     ]
    },
    {
     "name": "stderr",
     "output_type": "stream",
     "text": [
      "Epoch 4: 100%|██████████| 5/5 [00:17<00:00,  3.59s/Epoch]\n"
     ]
    },
    {
     "name": "stdout",
     "output_type": "stream",
     "text": [
      "Training complete in 0m 18s\n",
      "Best val Acc: 0.740000\n",
      "training node42 for Round 3 :\n"
     ]
    },
    {
     "name": "stderr",
     "output_type": "stream",
     "text": [
      "Epoch 4: 100%|██████████| 5/5 [00:19<00:00,  3.88s/Epoch]\n"
     ]
    },
    {
     "name": "stdout",
     "output_type": "stream",
     "text": [
      "Training complete in 0m 19s\n",
      "Best val Acc: 0.740000\n",
      "training node43 for Round 3 :\n"
     ]
    },
    {
     "name": "stderr",
     "output_type": "stream",
     "text": [
      "Epoch 4: 100%|██████████| 5/5 [00:17<00:00,  3.54s/Epoch]\n"
     ]
    },
    {
     "name": "stdout",
     "output_type": "stream",
     "text": [
      "Training complete in 0m 18s\n",
      "Best val Acc: 0.760000\n",
      "training node44 for Round 3 :\n"
     ]
    },
    {
     "name": "stderr",
     "output_type": "stream",
     "text": [
      "Epoch 4: 100%|██████████| 5/5 [00:17<00:00,  3.56s/Epoch]\n"
     ]
    },
    {
     "name": "stdout",
     "output_type": "stream",
     "text": [
      "Training complete in 0m 18s\n",
      "Best val Acc: 0.820000\n",
      "training node45 for Round 3 :\n"
     ]
    },
    {
     "name": "stderr",
     "output_type": "stream",
     "text": [
      "Epoch 4: 100%|██████████| 5/5 [00:19<00:00,  3.86s/Epoch]\n"
     ]
    },
    {
     "name": "stdout",
     "output_type": "stream",
     "text": [
      "Training complete in 0m 19s\n",
      "Best val Acc: 0.780000\n",
      "training node46 for Round 3 :\n"
     ]
    },
    {
     "name": "stderr",
     "output_type": "stream",
     "text": [
      "Epoch 4: 100%|██████████| 5/5 [00:19<00:00,  3.83s/Epoch]\n"
     ]
    },
    {
     "name": "stdout",
     "output_type": "stream",
     "text": [
      "Training complete in 0m 19s\n",
      "Best val Acc: 0.440000\n",
      "training node47 for Round 3 :\n"
     ]
    },
    {
     "name": "stderr",
     "output_type": "stream",
     "text": [
      "Epoch 4: 100%|██████████| 5/5 [00:18<00:00,  3.64s/Epoch]\n"
     ]
    },
    {
     "name": "stdout",
     "output_type": "stream",
     "text": [
      "Training complete in 0m 18s\n",
      "Best val Acc: 0.680000\n",
      "training node48 for Round 3 :\n"
     ]
    },
    {
     "name": "stderr",
     "output_type": "stream",
     "text": [
      "Epoch 4: 100%|██████████| 5/5 [00:17<00:00,  3.54s/Epoch]\n"
     ]
    },
    {
     "name": "stdout",
     "output_type": "stream",
     "text": [
      "Training complete in 0m 18s\n",
      "Best val Acc: 0.820000\n",
      "training node49 for Round 3 :\n"
     ]
    },
    {
     "name": "stderr",
     "output_type": "stream",
     "text": [
      "Epoch 4: 100%|██████████| 5/5 [00:19<00:00,  3.99s/Epoch]\n"
     ]
    },
    {
     "name": "stdout",
     "output_type": "stream",
     "text": [
      "Training complete in 0m 20s\n",
      "Best val Acc: 0.820000\n",
      "training node50 for Round 3 :\n"
     ]
    },
    {
     "name": "stderr",
     "output_type": "stream",
     "text": [
      "Epoch 4: 100%|██████████| 5/5 [00:20<00:00,  4.04s/Epoch]\n"
     ]
    },
    {
     "name": "stdout",
     "output_type": "stream",
     "text": [
      "Training complete in 0m 20s\n",
      "Best val Acc: 0.780000\n",
      "training node51 for Round 3 :\n"
     ]
    },
    {
     "name": "stderr",
     "output_type": "stream",
     "text": [
      "Epoch 4: 100%|██████████| 5/5 [00:20<00:00,  4.06s/Epoch]\n"
     ]
    },
    {
     "name": "stdout",
     "output_type": "stream",
     "text": [
      "Training complete in 0m 20s\n",
      "Best val Acc: 0.740000\n",
      "training node52 for Round 3 :\n"
     ]
    },
    {
     "name": "stderr",
     "output_type": "stream",
     "text": [
      "Epoch 4: 100%|██████████| 5/5 [00:18<00:00,  3.76s/Epoch]\n"
     ]
    },
    {
     "name": "stdout",
     "output_type": "stream",
     "text": [
      "Training complete in 0m 19s\n",
      "Best val Acc: 0.720000\n",
      "training node53 for Round 3 :\n"
     ]
    },
    {
     "name": "stderr",
     "output_type": "stream",
     "text": [
      "Epoch 4: 100%|██████████| 5/5 [00:20<00:00,  4.10s/Epoch]\n"
     ]
    },
    {
     "name": "stdout",
     "output_type": "stream",
     "text": [
      "Training complete in 0m 21s\n",
      "Best val Acc: 0.760000\n",
      "training node54 for Round 3 :\n"
     ]
    },
    {
     "name": "stderr",
     "output_type": "stream",
     "text": [
      "Epoch 4: 100%|██████████| 5/5 [00:19<00:00,  3.97s/Epoch]\n"
     ]
    },
    {
     "name": "stdout",
     "output_type": "stream",
     "text": [
      "Training complete in 0m 20s\n",
      "Best val Acc: 0.700000\n",
      "training node55 for Round 3 :\n"
     ]
    },
    {
     "name": "stderr",
     "output_type": "stream",
     "text": [
      "Epoch 4: 100%|██████████| 5/5 [00:20<00:00,  4.02s/Epoch]\n"
     ]
    },
    {
     "name": "stdout",
     "output_type": "stream",
     "text": [
      "Training complete in 0m 20s\n",
      "Best val Acc: 0.740000\n",
      "training node56 for Round 3 :\n"
     ]
    },
    {
     "name": "stderr",
     "output_type": "stream",
     "text": [
      "Epoch 4: 100%|██████████| 5/5 [00:19<00:00,  3.98s/Epoch]\n"
     ]
    },
    {
     "name": "stdout",
     "output_type": "stream",
     "text": [
      "Training complete in 0m 20s\n",
      "Best val Acc: 0.680000\n",
      "training node57 for Round 3 :\n"
     ]
    },
    {
     "name": "stderr",
     "output_type": "stream",
     "text": [
      "Epoch 4: 100%|██████████| 5/5 [00:19<00:00,  3.84s/Epoch]\n"
     ]
    },
    {
     "name": "stdout",
     "output_type": "stream",
     "text": [
      "Training complete in 0m 19s\n",
      "Best val Acc: 0.680000\n",
      "training node58 for Round 3 :\n"
     ]
    },
    {
     "name": "stderr",
     "output_type": "stream",
     "text": [
      "Epoch 4: 100%|██████████| 5/5 [00:20<00:00,  4.03s/Epoch]\n"
     ]
    },
    {
     "name": "stdout",
     "output_type": "stream",
     "text": [
      "Training complete in 0m 20s\n",
      "Best val Acc: 0.820000\n",
      "training node59 for Round 3 :\n"
     ]
    },
    {
     "name": "stderr",
     "output_type": "stream",
     "text": [
      "Epoch 4: 100%|██████████| 5/5 [00:20<00:00,  4.03s/Epoch]\n"
     ]
    },
    {
     "name": "stdout",
     "output_type": "stream",
     "text": [
      "Training complete in 0m 20s\n",
      "Best val Acc: 0.780000\n",
      "training node60 for Round 3 :\n"
     ]
    },
    {
     "name": "stderr",
     "output_type": "stream",
     "text": [
      "Epoch 4: 100%|██████████| 5/5 [00:20<00:00,  4.06s/Epoch]\n"
     ]
    },
    {
     "name": "stdout",
     "output_type": "stream",
     "text": [
      "Training complete in 0m 20s\n",
      "Best val Acc: 0.760000\n",
      "training node61 for Round 3 :\n"
     ]
    },
    {
     "name": "stderr",
     "output_type": "stream",
     "text": [
      "Epoch 4: 100%|██████████| 5/5 [00:20<00:00,  4.01s/Epoch]\n"
     ]
    },
    {
     "name": "stdout",
     "output_type": "stream",
     "text": [
      "Training complete in 0m 20s\n",
      "Best val Acc: 0.660000\n",
      "training node62 for Round 3 :\n"
     ]
    },
    {
     "name": "stderr",
     "output_type": "stream",
     "text": [
      "Epoch 4: 100%|██████████| 5/5 [00:18<00:00,  3.74s/Epoch]\n"
     ]
    },
    {
     "name": "stdout",
     "output_type": "stream",
     "text": [
      "Training complete in 0m 19s\n",
      "Best val Acc: 0.740000\n",
      "training node63 for Round 3 :\n"
     ]
    },
    {
     "name": "stderr",
     "output_type": "stream",
     "text": [
      "Epoch 4: 100%|██████████| 5/5 [00:18<00:00,  3.79s/Epoch]\n"
     ]
    },
    {
     "name": "stdout",
     "output_type": "stream",
     "text": [
      "Training complete in 0m 19s\n",
      "Best val Acc: 0.780000\n",
      "training node64 for Round 3 :\n"
     ]
    },
    {
     "name": "stderr",
     "output_type": "stream",
     "text": [
      "Epoch 4: 100%|██████████| 5/5 [00:20<00:00,  4.08s/Epoch]\n"
     ]
    },
    {
     "name": "stdout",
     "output_type": "stream",
     "text": [
      "Training complete in 0m 20s\n",
      "Best val Acc: 0.740000\n",
      "training node65 for Round 3 :\n"
     ]
    },
    {
     "name": "stderr",
     "output_type": "stream",
     "text": [
      "Epoch 4: 100%|██████████| 5/5 [00:20<00:00,  4.17s/Epoch]\n"
     ]
    },
    {
     "name": "stdout",
     "output_type": "stream",
     "text": [
      "Training complete in 0m 21s\n",
      "Best val Acc: 0.760000\n",
      "training node66 for Round 3 :\n"
     ]
    },
    {
     "name": "stderr",
     "output_type": "stream",
     "text": [
      "Epoch 4: 100%|██████████| 5/5 [00:20<00:00,  4.05s/Epoch]\n"
     ]
    },
    {
     "name": "stdout",
     "output_type": "stream",
     "text": [
      "Training complete in 0m 20s\n",
      "Best val Acc: 0.740000\n",
      "training node67 for Round 3 :\n"
     ]
    },
    {
     "name": "stderr",
     "output_type": "stream",
     "text": [
      "Epoch 4: 100%|██████████| 5/5 [00:18<00:00,  3.76s/Epoch]\n"
     ]
    },
    {
     "name": "stdout",
     "output_type": "stream",
     "text": [
      "Training complete in 0m 19s\n",
      "Best val Acc: 0.720000\n",
      "training node68 for Round 3 :\n"
     ]
    },
    {
     "name": "stderr",
     "output_type": "stream",
     "text": [
      "Epoch 4: 100%|██████████| 5/5 [00:20<00:00,  4.07s/Epoch]\n"
     ]
    },
    {
     "name": "stdout",
     "output_type": "stream",
     "text": [
      "Training complete in 0m 20s\n",
      "Best val Acc: 0.700000\n",
      "training node69 for Round 3 :\n"
     ]
    },
    {
     "name": "stderr",
     "output_type": "stream",
     "text": [
      "Epoch 4: 100%|██████████| 5/5 [00:20<00:00,  4.18s/Epoch]\n"
     ]
    },
    {
     "name": "stdout",
     "output_type": "stream",
     "text": [
      "Training complete in 0m 21s\n",
      "Best val Acc: 0.820000\n",
      "training node70 for Round 3 :\n"
     ]
    },
    {
     "name": "stderr",
     "output_type": "stream",
     "text": [
      "Epoch 4: 100%|██████████| 5/5 [00:20<00:00,  4.06s/Epoch]\n"
     ]
    },
    {
     "name": "stdout",
     "output_type": "stream",
     "text": [
      "Training complete in 0m 20s\n",
      "Best val Acc: 0.800000\n",
      "training node71 for Round 3 :\n"
     ]
    },
    {
     "name": "stderr",
     "output_type": "stream",
     "text": [
      "Epoch 4: 100%|██████████| 5/5 [00:20<00:00,  4.01s/Epoch]\n"
     ]
    },
    {
     "name": "stdout",
     "output_type": "stream",
     "text": [
      "Training complete in 0m 20s\n",
      "Best val Acc: 0.700000\n",
      "training node72 for Round 3 :\n"
     ]
    },
    {
     "name": "stderr",
     "output_type": "stream",
     "text": [
      "Epoch 4: 100%|██████████| 5/5 [00:20<00:00,  4.02s/Epoch]\n"
     ]
    },
    {
     "name": "stdout",
     "output_type": "stream",
     "text": [
      "Training complete in 0m 20s\n",
      "Best val Acc: 0.700000\n",
      "training node73 for Round 3 :\n"
     ]
    },
    {
     "name": "stderr",
     "output_type": "stream",
     "text": [
      "Epoch 4: 100%|██████████| 5/5 [00:20<00:00,  4.09s/Epoch]\n"
     ]
    },
    {
     "name": "stdout",
     "output_type": "stream",
     "text": [
      "Training complete in 0m 20s\n",
      "Best val Acc: 0.780000\n",
      "training node74 for Round 3 :\n"
     ]
    },
    {
     "name": "stderr",
     "output_type": "stream",
     "text": [
      "Epoch 4: 100%|██████████| 5/5 [00:19<00:00,  3.97s/Epoch]\n"
     ]
    },
    {
     "name": "stdout",
     "output_type": "stream",
     "text": [
      "Training complete in 0m 20s\n",
      "Best val Acc: 0.680000\n",
      "training node75 for Round 3 :\n"
     ]
    },
    {
     "name": "stderr",
     "output_type": "stream",
     "text": [
      "Epoch 4: 100%|██████████| 5/5 [00:20<00:00,  4.01s/Epoch]\n"
     ]
    },
    {
     "name": "stdout",
     "output_type": "stream",
     "text": [
      "Training complete in 0m 20s\n",
      "Best val Acc: 0.780000\n",
      "training node76 for Round 3 :\n"
     ]
    },
    {
     "name": "stderr",
     "output_type": "stream",
     "text": [
      "Epoch 4: 100%|██████████| 5/5 [00:19<00:00,  3.97s/Epoch]\n"
     ]
    },
    {
     "name": "stdout",
     "output_type": "stream",
     "text": [
      "Training complete in 0m 20s\n",
      "Best val Acc: 0.720000\n",
      "training node77 for Round 3 :\n"
     ]
    },
    {
     "name": "stderr",
     "output_type": "stream",
     "text": [
      "Epoch 4: 100%|██████████| 5/5 [00:18<00:00,  3.72s/Epoch]\n"
     ]
    },
    {
     "name": "stdout",
     "output_type": "stream",
     "text": [
      "Training complete in 0m 19s\n",
      "Best val Acc: 0.640000\n",
      "training node78 for Round 3 :\n"
     ]
    },
    {
     "name": "stderr",
     "output_type": "stream",
     "text": [
      "Epoch 4: 100%|██████████| 5/5 [00:19<00:00,  3.87s/Epoch]\n"
     ]
    },
    {
     "name": "stdout",
     "output_type": "stream",
     "text": [
      "Training complete in 0m 19s\n",
      "Best val Acc: 0.700000\n",
      "training node79 for Round 3 :\n"
     ]
    },
    {
     "name": "stderr",
     "output_type": "stream",
     "text": [
      "Epoch 4: 100%|██████████| 5/5 [00:18<00:00,  3.80s/Epoch]\n"
     ]
    },
    {
     "name": "stdout",
     "output_type": "stream",
     "text": [
      "Training complete in 0m 19s\n",
      "Best val Acc: 0.560000\n",
      "training node80 for Round 3 :\n"
     ]
    },
    {
     "name": "stderr",
     "output_type": "stream",
     "text": [
      "Epoch 4: 100%|██████████| 5/5 [00:17<00:00,  3.60s/Epoch]\n"
     ]
    },
    {
     "name": "stdout",
     "output_type": "stream",
     "text": [
      "Training complete in 0m 18s\n",
      "Best val Acc: 0.600000\n",
      "training node81 for Round 3 :\n"
     ]
    },
    {
     "name": "stderr",
     "output_type": "stream",
     "text": [
      "Epoch 4: 100%|██████████| 5/5 [00:19<00:00,  3.82s/Epoch]\n"
     ]
    },
    {
     "name": "stdout",
     "output_type": "stream",
     "text": [
      "Training complete in 0m 19s\n",
      "Best val Acc: 0.680000\n",
      "training node82 for Round 3 :\n"
     ]
    },
    {
     "name": "stderr",
     "output_type": "stream",
     "text": [
      "Epoch 4: 100%|██████████| 5/5 [00:17<00:00,  3.57s/Epoch]\n"
     ]
    },
    {
     "name": "stdout",
     "output_type": "stream",
     "text": [
      "Training complete in 0m 18s\n",
      "Best val Acc: 0.640000\n",
      "training node83 for Round 3 :\n"
     ]
    },
    {
     "name": "stderr",
     "output_type": "stream",
     "text": [
      "Epoch 4: 100%|██████████| 5/5 [00:19<00:00,  3.88s/Epoch]\n"
     ]
    },
    {
     "name": "stdout",
     "output_type": "stream",
     "text": [
      "Training complete in 0m 19s\n",
      "Best val Acc: 0.740000\n",
      "training node84 for Round 3 :\n"
     ]
    },
    {
     "name": "stderr",
     "output_type": "stream",
     "text": [
      "Epoch 4: 100%|██████████| 5/5 [00:19<00:00,  3.82s/Epoch]\n"
     ]
    },
    {
     "name": "stdout",
     "output_type": "stream",
     "text": [
      "Training complete in 0m 19s\n",
      "Best val Acc: 0.680000\n",
      "training node85 for Round 3 :\n"
     ]
    },
    {
     "name": "stderr",
     "output_type": "stream",
     "text": [
      "Epoch 4: 100%|██████████| 5/5 [00:19<00:00,  3.80s/Epoch]\n"
     ]
    },
    {
     "name": "stdout",
     "output_type": "stream",
     "text": [
      "Training complete in 0m 19s\n",
      "Best val Acc: 0.520000\n",
      "training node86 for Round 3 :\n"
     ]
    },
    {
     "name": "stderr",
     "output_type": "stream",
     "text": [
      "Epoch 4: 100%|██████████| 5/5 [00:18<00:00,  3.64s/Epoch]\n"
     ]
    },
    {
     "name": "stdout",
     "output_type": "stream",
     "text": [
      "Training complete in 0m 18s\n",
      "Best val Acc: 0.760000\n",
      "training node87 for Round 3 :\n"
     ]
    },
    {
     "name": "stderr",
     "output_type": "stream",
     "text": [
      "Epoch 4: 100%|██████████| 5/5 [00:19<00:00,  3.86s/Epoch]\n"
     ]
    },
    {
     "name": "stdout",
     "output_type": "stream",
     "text": [
      "Training complete in 0m 19s\n",
      "Best val Acc: 0.680000\n",
      "training node88 for Round 3 :\n"
     ]
    },
    {
     "name": "stderr",
     "output_type": "stream",
     "text": [
      "Epoch 4: 100%|██████████| 5/5 [00:19<00:00,  3.85s/Epoch]\n"
     ]
    },
    {
     "name": "stdout",
     "output_type": "stream",
     "text": [
      "Training complete in 0m 19s\n",
      "Best val Acc: 0.660000\n",
      "training node89 for Round 3 :\n"
     ]
    },
    {
     "name": "stderr",
     "output_type": "stream",
     "text": [
      "Epoch 4: 100%|██████████| 5/5 [00:19<00:00,  3.89s/Epoch]\n"
     ]
    },
    {
     "name": "stdout",
     "output_type": "stream",
     "text": [
      "Training complete in 0m 19s\n",
      "Best val Acc: 0.700000\n",
      "training node90 for Round 3 :\n"
     ]
    },
    {
     "name": "stderr",
     "output_type": "stream",
     "text": [
      "Epoch 4: 100%|██████████| 5/5 [00:19<00:00,  3.84s/Epoch]\n"
     ]
    },
    {
     "name": "stdout",
     "output_type": "stream",
     "text": [
      "Training complete in 0m 19s\n",
      "Best val Acc: 0.680000\n",
      "training node91 for Round 3 :\n"
     ]
    },
    {
     "name": "stderr",
     "output_type": "stream",
     "text": [
      "Epoch 4: 100%|██████████| 5/5 [00:19<00:00,  3.85s/Epoch]\n"
     ]
    },
    {
     "name": "stdout",
     "output_type": "stream",
     "text": [
      "Training complete in 0m 19s\n",
      "Best val Acc: 0.700000\n",
      "training node92 for Round 3 :\n"
     ]
    },
    {
     "name": "stderr",
     "output_type": "stream",
     "text": [
      "Epoch 4: 100%|██████████| 5/5 [00:18<00:00,  3.80s/Epoch]\n"
     ]
    },
    {
     "name": "stdout",
     "output_type": "stream",
     "text": [
      "Training complete in 0m 19s\n",
      "Best val Acc: 0.620000\n",
      "training node93 for Round 3 :\n"
     ]
    },
    {
     "name": "stderr",
     "output_type": "stream",
     "text": [
      "Epoch 4: 100%|██████████| 5/5 [00:17<00:00,  3.57s/Epoch]\n"
     ]
    },
    {
     "name": "stdout",
     "output_type": "stream",
     "text": [
      "Training complete in 0m 18s\n",
      "Best val Acc: 0.760000\n",
      "training node94 for Round 3 :\n"
     ]
    },
    {
     "name": "stderr",
     "output_type": "stream",
     "text": [
      "Epoch 4: 100%|██████████| 5/5 [00:19<00:00,  3.83s/Epoch]\n"
     ]
    },
    {
     "name": "stdout",
     "output_type": "stream",
     "text": [
      "Training complete in 0m 19s\n",
      "Best val Acc: 0.800000\n",
      "training node95 for Round 3 :\n"
     ]
    },
    {
     "name": "stderr",
     "output_type": "stream",
     "text": [
      "Epoch 4: 100%|██████████| 5/5 [00:17<00:00,  3.60s/Epoch]\n"
     ]
    },
    {
     "name": "stdout",
     "output_type": "stream",
     "text": [
      "Training complete in 0m 18s\n",
      "Best val Acc: 0.720000\n",
      "training node96 for Round 3 :\n"
     ]
    },
    {
     "name": "stderr",
     "output_type": "stream",
     "text": [
      "Epoch 4: 100%|██████████| 5/5 [00:17<00:00,  3.55s/Epoch]\n"
     ]
    },
    {
     "name": "stdout",
     "output_type": "stream",
     "text": [
      "Training complete in 0m 18s\n",
      "Best val Acc: 0.620000\n",
      "training node97 for Round 3 :\n"
     ]
    },
    {
     "name": "stderr",
     "output_type": "stream",
     "text": [
      "Epoch 4: 100%|██████████| 5/5 [00:19<00:00,  3.88s/Epoch]\n"
     ]
    },
    {
     "name": "stdout",
     "output_type": "stream",
     "text": [
      "Training complete in 0m 19s\n",
      "Best val Acc: 0.720000\n",
      "training node98 for Round 3 :\n"
     ]
    },
    {
     "name": "stderr",
     "output_type": "stream",
     "text": [
      "Epoch 4: 100%|██████████| 5/5 [00:19<00:00,  3.90s/Epoch]\n"
     ]
    },
    {
     "name": "stdout",
     "output_type": "stream",
     "text": [
      "Training complete in 0m 20s\n",
      "Best val Acc: 0.720000\n",
      "training node99 for Round 3 :\n"
     ]
    },
    {
     "name": "stderr",
     "output_type": "stream",
     "text": [
      "Epoch 4: 100%|██████████| 5/5 [00:19<00:00,  3.82s/Epoch]\n"
     ]
    },
    {
     "name": "stdout",
     "output_type": "stream",
     "text": [
      "Training complete in 0m 19s\n",
      "Best val Acc: 0.740000\n",
      "Fedavg of main model in round 4\n",
      "For Round 3 :, acc : 0.6485446235265817, acc0 : 0.7091836734693877 , acc1:0.9136563876651982 , acc2:0.4844961240310077, acc3 :0.4594059405940594 \n",
      "Round 5\n",
      "Sending main model to nodes in round 4\n",
      "training node0 for Round 4 :\n"
     ]
    },
    {
     "name": "stderr",
     "output_type": "stream",
     "text": [
      "Epoch 4: 100%|██████████| 5/5 [00:19<00:00,  3.83s/Epoch]\n"
     ]
    },
    {
     "name": "stdout",
     "output_type": "stream",
     "text": [
      "Training complete in 0m 19s\n",
      "Best val Acc: 0.780000\n",
      "training node1 for Round 4 :\n"
     ]
    },
    {
     "name": "stderr",
     "output_type": "stream",
     "text": [
      "Epoch 4: 100%|██████████| 5/5 [00:19<00:00,  3.87s/Epoch]\n"
     ]
    },
    {
     "name": "stdout",
     "output_type": "stream",
     "text": [
      "Training complete in 0m 19s\n",
      "Best val Acc: 0.800000\n",
      "training node2 for Round 4 :\n"
     ]
    },
    {
     "name": "stderr",
     "output_type": "stream",
     "text": [
      "Epoch 4: 100%|██████████| 5/5 [00:19<00:00,  3.88s/Epoch]\n"
     ]
    },
    {
     "name": "stdout",
     "output_type": "stream",
     "text": [
      "Training complete in 0m 19s\n",
      "Best val Acc: 0.760000\n",
      "training node3 for Round 4 :\n"
     ]
    },
    {
     "name": "stderr",
     "output_type": "stream",
     "text": [
      "Epoch 4: 100%|██████████| 5/5 [00:19<00:00,  3.82s/Epoch]\n"
     ]
    },
    {
     "name": "stdout",
     "output_type": "stream",
     "text": [
      "Training complete in 0m 19s\n",
      "Best val Acc: 0.840000\n",
      "training node4 for Round 4 :\n"
     ]
    },
    {
     "name": "stderr",
     "output_type": "stream",
     "text": [
      "Epoch 4: 100%|██████████| 5/5 [00:19<00:00,  3.94s/Epoch]\n"
     ]
    },
    {
     "name": "stdout",
     "output_type": "stream",
     "text": [
      "Training complete in 0m 20s\n",
      "Best val Acc: 0.720000\n",
      "training node5 for Round 4 :\n"
     ]
    },
    {
     "name": "stderr",
     "output_type": "stream",
     "text": [
      "Epoch 4: 100%|██████████| 5/5 [00:19<00:00,  3.94s/Epoch]\n"
     ]
    },
    {
     "name": "stdout",
     "output_type": "stream",
     "text": [
      "Training complete in 0m 20s\n",
      "Best val Acc: 0.780000\n",
      "training node6 for Round 4 :\n"
     ]
    },
    {
     "name": "stderr",
     "output_type": "stream",
     "text": [
      "Epoch 4: 100%|██████████| 5/5 [00:19<00:00,  3.91s/Epoch]\n"
     ]
    },
    {
     "name": "stdout",
     "output_type": "stream",
     "text": [
      "Training complete in 0m 20s\n",
      "Best val Acc: 0.760000\n",
      "training node7 for Round 4 :\n"
     ]
    },
    {
     "name": "stderr",
     "output_type": "stream",
     "text": [
      "Epoch 4: 100%|██████████| 5/5 [00:19<00:00,  3.84s/Epoch]\n"
     ]
    },
    {
     "name": "stdout",
     "output_type": "stream",
     "text": [
      "Training complete in 0m 19s\n",
      "Best val Acc: 0.700000\n",
      "training node8 for Round 4 :\n"
     ]
    },
    {
     "name": "stderr",
     "output_type": "stream",
     "text": [
      "Epoch 4: 100%|██████████| 5/5 [00:18<00:00,  3.61s/Epoch]\n"
     ]
    },
    {
     "name": "stdout",
     "output_type": "stream",
     "text": [
      "Training complete in 0m 18s\n",
      "Best val Acc: 0.720000\n",
      "training node9 for Round 4 :\n"
     ]
    },
    {
     "name": "stderr",
     "output_type": "stream",
     "text": [
      "Epoch 4: 100%|██████████| 5/5 [00:19<00:00,  3.98s/Epoch]\n"
     ]
    },
    {
     "name": "stdout",
     "output_type": "stream",
     "text": [
      "Training complete in 0m 20s\n",
      "Best val Acc: 0.720000\n",
      "training node10 for Round 4 :\n"
     ]
    },
    {
     "name": "stderr",
     "output_type": "stream",
     "text": [
      "Epoch 4: 100%|██████████| 5/5 [00:18<00:00,  3.64s/Epoch]\n"
     ]
    },
    {
     "name": "stdout",
     "output_type": "stream",
     "text": [
      "Training complete in 0m 18s\n",
      "Best val Acc: 0.700000\n",
      "training node11 for Round 4 :\n"
     ]
    },
    {
     "name": "stderr",
     "output_type": "stream",
     "text": [
      "Epoch 4: 100%|██████████| 5/5 [00:19<00:00,  3.89s/Epoch]\n"
     ]
    },
    {
     "name": "stdout",
     "output_type": "stream",
     "text": [
      "Training complete in 0m 19s\n",
      "Best val Acc: 0.760000\n",
      "training node12 for Round 4 :\n"
     ]
    },
    {
     "name": "stderr",
     "output_type": "stream",
     "text": [
      "Epoch 4: 100%|██████████| 5/5 [00:18<00:00,  3.67s/Epoch]\n"
     ]
    },
    {
     "name": "stdout",
     "output_type": "stream",
     "text": [
      "Training complete in 0m 18s\n",
      "Best val Acc: 0.740000\n",
      "training node13 for Round 4 :\n"
     ]
    },
    {
     "name": "stderr",
     "output_type": "stream",
     "text": [
      "Epoch 4: 100%|██████████| 5/5 [00:17<00:00,  3.57s/Epoch]\n"
     ]
    },
    {
     "name": "stdout",
     "output_type": "stream",
     "text": [
      "Training complete in 0m 18s\n",
      "Best val Acc: 0.740000\n",
      "training node14 for Round 4 :\n"
     ]
    },
    {
     "name": "stderr",
     "output_type": "stream",
     "text": [
      "Epoch 4: 100%|██████████| 5/5 [00:19<00:00,  3.92s/Epoch]\n"
     ]
    },
    {
     "name": "stdout",
     "output_type": "stream",
     "text": [
      "Training complete in 0m 20s\n",
      "Best val Acc: 0.800000\n",
      "training node15 for Round 4 :\n"
     ]
    },
    {
     "name": "stderr",
     "output_type": "stream",
     "text": [
      "Epoch 4: 100%|██████████| 5/5 [00:19<00:00,  3.88s/Epoch]\n"
     ]
    },
    {
     "name": "stdout",
     "output_type": "stream",
     "text": [
      "Training complete in 0m 19s\n",
      "Best val Acc: 0.820000\n",
      "training node16 for Round 4 :\n"
     ]
    },
    {
     "name": "stderr",
     "output_type": "stream",
     "text": [
      "Epoch 4: 100%|██████████| 5/5 [00:18<00:00,  3.65s/Epoch]\n"
     ]
    },
    {
     "name": "stdout",
     "output_type": "stream",
     "text": [
      "Training complete in 0m 18s\n",
      "Best val Acc: 0.760000\n",
      "training node17 for Round 4 :\n"
     ]
    },
    {
     "name": "stderr",
     "output_type": "stream",
     "text": [
      "Epoch 4: 100%|██████████| 5/5 [00:19<00:00,  3.86s/Epoch]\n"
     ]
    },
    {
     "name": "stdout",
     "output_type": "stream",
     "text": [
      "Training complete in 0m 19s\n",
      "Best val Acc: 0.800000\n",
      "training node18 for Round 4 :\n"
     ]
    },
    {
     "name": "stderr",
     "output_type": "stream",
     "text": [
      "Epoch 4: 100%|██████████| 5/5 [00:20<00:00,  4.05s/Epoch]\n"
     ]
    },
    {
     "name": "stdout",
     "output_type": "stream",
     "text": [
      "Training complete in 0m 20s\n",
      "Best val Acc: 0.780000\n",
      "training node19 for Round 4 :\n"
     ]
    },
    {
     "name": "stderr",
     "output_type": "stream",
     "text": [
      "Epoch 4: 100%|██████████| 5/5 [00:21<00:00,  4.29s/Epoch]\n"
     ]
    },
    {
     "name": "stdout",
     "output_type": "stream",
     "text": [
      "Training complete in 0m 21s\n",
      "Best val Acc: 0.560000\n",
      "training node20 for Round 4 :\n"
     ]
    },
    {
     "name": "stderr",
     "output_type": "stream",
     "text": [
      "Epoch 4: 100%|██████████| 5/5 [00:21<00:00,  4.28s/Epoch]\n"
     ]
    },
    {
     "name": "stdout",
     "output_type": "stream",
     "text": [
      "Training complete in 0m 21s\n",
      "Best val Acc: 0.740000\n",
      "training node21 for Round 4 :\n"
     ]
    },
    {
     "name": "stderr",
     "output_type": "stream",
     "text": [
      "Epoch 4: 100%|██████████| 5/5 [00:21<00:00,  4.20s/Epoch]\n"
     ]
    },
    {
     "name": "stdout",
     "output_type": "stream",
     "text": [
      "Training complete in 0m 21s\n",
      "Best val Acc: 0.760000\n",
      "training node22 for Round 4 :\n"
     ]
    },
    {
     "name": "stderr",
     "output_type": "stream",
     "text": [
      "Epoch 4: 100%|██████████| 5/5 [00:20<00:00,  4.04s/Epoch]\n"
     ]
    },
    {
     "name": "stdout",
     "output_type": "stream",
     "text": [
      "Training complete in 0m 20s\n",
      "Best val Acc: 0.820000\n",
      "training node23 for Round 4 :\n"
     ]
    },
    {
     "name": "stderr",
     "output_type": "stream",
     "text": [
      "Epoch 4: 100%|██████████| 5/5 [00:20<00:00,  4.08s/Epoch]\n"
     ]
    },
    {
     "name": "stdout",
     "output_type": "stream",
     "text": [
      "Training complete in 0m 20s\n",
      "Best val Acc: 0.780000\n",
      "training node24 for Round 4 :\n"
     ]
    },
    {
     "name": "stderr",
     "output_type": "stream",
     "text": [
      "Epoch 4: 100%|██████████| 5/5 [00:20<00:00,  4.12s/Epoch]\n"
     ]
    },
    {
     "name": "stdout",
     "output_type": "stream",
     "text": [
      "Training complete in 0m 21s\n",
      "Best val Acc: 0.820000\n",
      "training node25 for Round 4 :\n"
     ]
    },
    {
     "name": "stderr",
     "output_type": "stream",
     "text": [
      "Epoch 4: 100%|██████████| 5/5 [00:19<00:00,  3.84s/Epoch]\n"
     ]
    },
    {
     "name": "stdout",
     "output_type": "stream",
     "text": [
      "Training complete in 0m 19s\n",
      "Best val Acc: 0.780000\n",
      "training node26 for Round 4 :\n"
     ]
    },
    {
     "name": "stderr",
     "output_type": "stream",
     "text": [
      "Epoch 4: 100%|██████████| 5/5 [00:20<00:00,  4.05s/Epoch]\n"
     ]
    },
    {
     "name": "stdout",
     "output_type": "stream",
     "text": [
      "Training complete in 0m 20s\n",
      "Best val Acc: 0.780000\n",
      "training node27 for Round 4 :\n"
     ]
    },
    {
     "name": "stderr",
     "output_type": "stream",
     "text": [
      "Epoch 4: 100%|██████████| 5/5 [00:20<00:00,  4.03s/Epoch]\n"
     ]
    },
    {
     "name": "stdout",
     "output_type": "stream",
     "text": [
      "Training complete in 0m 20s\n",
      "Best val Acc: 0.760000\n",
      "training node28 for Round 4 :\n"
     ]
    },
    {
     "name": "stderr",
     "output_type": "stream",
     "text": [
      "Epoch 4: 100%|██████████| 5/5 [00:20<00:00,  4.09s/Epoch]\n"
     ]
    },
    {
     "name": "stdout",
     "output_type": "stream",
     "text": [
      "Training complete in 0m 20s\n",
      "Best val Acc: 0.740000\n",
      "training node29 for Round 4 :\n"
     ]
    },
    {
     "name": "stderr",
     "output_type": "stream",
     "text": [
      "Epoch 4: 100%|██████████| 5/5 [00:20<00:00,  4.04s/Epoch]\n"
     ]
    },
    {
     "name": "stdout",
     "output_type": "stream",
     "text": [
      "Training complete in 0m 20s\n",
      "Best val Acc: 0.820000\n",
      "training node30 for Round 4 :\n"
     ]
    },
    {
     "name": "stderr",
     "output_type": "stream",
     "text": [
      "Epoch 4: 100%|██████████| 5/5 [00:18<00:00,  3.79s/Epoch]\n"
     ]
    },
    {
     "name": "stdout",
     "output_type": "stream",
     "text": [
      "Training complete in 0m 19s\n",
      "Best val Acc: 0.920000\n",
      "training node31 for Round 4 :\n"
     ]
    },
    {
     "name": "stderr",
     "output_type": "stream",
     "text": [
      "Epoch 4: 100%|██████████| 5/5 [00:18<00:00,  3.72s/Epoch]\n"
     ]
    },
    {
     "name": "stdout",
     "output_type": "stream",
     "text": [
      "Training complete in 0m 19s\n",
      "Best val Acc: 0.800000\n",
      "training node32 for Round 4 :\n"
     ]
    },
    {
     "name": "stderr",
     "output_type": "stream",
     "text": [
      "Epoch 4: 100%|██████████| 5/5 [00:19<00:00,  3.98s/Epoch]\n"
     ]
    },
    {
     "name": "stdout",
     "output_type": "stream",
     "text": [
      "Training complete in 0m 20s\n",
      "Best val Acc: 0.860000\n",
      "training node33 for Round 4 :\n"
     ]
    },
    {
     "name": "stderr",
     "output_type": "stream",
     "text": [
      "Epoch 4: 100%|██████████| 5/5 [00:18<00:00,  3.75s/Epoch]\n"
     ]
    },
    {
     "name": "stdout",
     "output_type": "stream",
     "text": [
      "Training complete in 0m 19s\n",
      "Best val Acc: 0.900000\n",
      "training node34 for Round 4 :\n"
     ]
    },
    {
     "name": "stderr",
     "output_type": "stream",
     "text": [
      "Epoch 4: 100%|██████████| 5/5 [00:19<00:00,  3.92s/Epoch]\n"
     ]
    },
    {
     "name": "stdout",
     "output_type": "stream",
     "text": [
      "Training complete in 0m 20s\n",
      "Best val Acc: 0.820000\n",
      "training node35 for Round 4 :\n"
     ]
    },
    {
     "name": "stderr",
     "output_type": "stream",
     "text": [
      "Epoch 4: 100%|██████████| 5/5 [00:19<00:00,  3.81s/Epoch]\n"
     ]
    },
    {
     "name": "stdout",
     "output_type": "stream",
     "text": [
      "Training complete in 0m 19s\n",
      "Best val Acc: 0.740000\n",
      "training node36 for Round 4 :\n"
     ]
    },
    {
     "name": "stderr",
     "output_type": "stream",
     "text": [
      "Epoch 4: 100%|██████████| 5/5 [00:18<00:00,  3.68s/Epoch]\n"
     ]
    },
    {
     "name": "stdout",
     "output_type": "stream",
     "text": [
      "Training complete in 0m 18s\n",
      "Best val Acc: 0.860000\n",
      "training node37 for Round 4 :\n"
     ]
    },
    {
     "name": "stderr",
     "output_type": "stream",
     "text": [
      "Epoch 4: 100%|██████████| 5/5 [00:20<00:00,  4.02s/Epoch]\n"
     ]
    },
    {
     "name": "stdout",
     "output_type": "stream",
     "text": [
      "Training complete in 0m 20s\n",
      "Best val Acc: 0.860000\n",
      "training node38 for Round 4 :\n"
     ]
    },
    {
     "name": "stderr",
     "output_type": "stream",
     "text": [
      "Epoch 4: 100%|██████████| 5/5 [00:19<00:00,  3.86s/Epoch]\n"
     ]
    },
    {
     "name": "stdout",
     "output_type": "stream",
     "text": [
      "Training complete in 0m 19s\n",
      "Best val Acc: 0.900000\n",
      "training node39 for Round 4 :\n"
     ]
    },
    {
     "name": "stderr",
     "output_type": "stream",
     "text": [
      "Epoch 4: 100%|██████████| 5/5 [00:20<00:00,  4.04s/Epoch]\n"
     ]
    },
    {
     "name": "stdout",
     "output_type": "stream",
     "text": [
      "Training complete in 0m 20s\n",
      "Best val Acc: 0.840000\n",
      "training node40 for Round 4 :\n"
     ]
    },
    {
     "name": "stderr",
     "output_type": "stream",
     "text": [
      "Epoch 4: 100%|██████████| 5/5 [00:18<00:00,  3.79s/Epoch]\n"
     ]
    },
    {
     "name": "stdout",
     "output_type": "stream",
     "text": [
      "Training complete in 0m 19s\n",
      "Best val Acc: 0.820000\n",
      "training node41 for Round 4 :\n"
     ]
    },
    {
     "name": "stderr",
     "output_type": "stream",
     "text": [
      "Epoch 4: 100%|██████████| 5/5 [00:19<00:00,  3.86s/Epoch]\n"
     ]
    },
    {
     "name": "stdout",
     "output_type": "stream",
     "text": [
      "Training complete in 0m 19s\n",
      "Best val Acc: 0.720000\n",
      "training node42 for Round 4 :\n"
     ]
    },
    {
     "name": "stderr",
     "output_type": "stream",
     "text": [
      "Epoch 4: 100%|██████████| 5/5 [00:21<00:00,  4.27s/Epoch]\n"
     ]
    },
    {
     "name": "stdout",
     "output_type": "stream",
     "text": [
      "Training complete in 0m 21s\n",
      "Best val Acc: 0.720000\n",
      "training node43 for Round 4 :\n"
     ]
    },
    {
     "name": "stderr",
     "output_type": "stream",
     "text": [
      "Epoch 4: 100%|██████████| 5/5 [00:19<00:00,  3.83s/Epoch]\n"
     ]
    },
    {
     "name": "stdout",
     "output_type": "stream",
     "text": [
      "Training complete in 0m 19s\n",
      "Best val Acc: 0.840000\n",
      "training node44 for Round 4 :\n"
     ]
    },
    {
     "name": "stderr",
     "output_type": "stream",
     "text": [
      "Epoch 4: 100%|██████████| 5/5 [00:18<00:00,  3.63s/Epoch]\n"
     ]
    },
    {
     "name": "stdout",
     "output_type": "stream",
     "text": [
      "Training complete in 0m 18s\n",
      "Best val Acc: 0.820000\n",
      "training node45 for Round 4 :\n"
     ]
    },
    {
     "name": "stderr",
     "output_type": "stream",
     "text": [
      "Epoch 4: 100%|██████████| 5/5 [00:19<00:00,  3.83s/Epoch]\n"
     ]
    },
    {
     "name": "stdout",
     "output_type": "stream",
     "text": [
      "Training complete in 0m 19s\n",
      "Best val Acc: 0.820000\n",
      "training node46 for Round 4 :\n"
     ]
    },
    {
     "name": "stderr",
     "output_type": "stream",
     "text": [
      "Epoch 4: 100%|██████████| 5/5 [00:19<00:00,  3.81s/Epoch]\n"
     ]
    },
    {
     "name": "stdout",
     "output_type": "stream",
     "text": [
      "Training complete in 0m 19s\n",
      "Best val Acc: 0.600000\n",
      "training node47 for Round 4 :\n"
     ]
    },
    {
     "name": "stderr",
     "output_type": "stream",
     "text": [
      "Epoch 4: 100%|██████████| 5/5 [00:18<00:00,  3.63s/Epoch]\n"
     ]
    },
    {
     "name": "stdout",
     "output_type": "stream",
     "text": [
      "Training complete in 0m 18s\n",
      "Best val Acc: 0.760000\n",
      "training node48 for Round 4 :\n"
     ]
    },
    {
     "name": "stderr",
     "output_type": "stream",
     "text": [
      "Epoch 4: 100%|██████████| 5/5 [00:17<00:00,  3.53s/Epoch]\n"
     ]
    },
    {
     "name": "stdout",
     "output_type": "stream",
     "text": [
      "Training complete in 0m 18s\n",
      "Best val Acc: 0.860000\n",
      "training node49 for Round 4 :\n"
     ]
    },
    {
     "name": "stderr",
     "output_type": "stream",
     "text": [
      "Epoch 4: 100%|██████████| 5/5 [00:19<00:00,  3.84s/Epoch]\n"
     ]
    },
    {
     "name": "stdout",
     "output_type": "stream",
     "text": [
      "Training complete in 0m 19s\n",
      "Best val Acc: 0.800000\n",
      "training node50 for Round 4 :\n"
     ]
    },
    {
     "name": "stderr",
     "output_type": "stream",
     "text": [
      "Epoch 4: 100%|██████████| 5/5 [00:19<00:00,  3.90s/Epoch]\n"
     ]
    },
    {
     "name": "stdout",
     "output_type": "stream",
     "text": [
      "Training complete in 0m 20s\n",
      "Best val Acc: 0.840000\n",
      "training node51 for Round 4 :\n"
     ]
    },
    {
     "name": "stderr",
     "output_type": "stream",
     "text": [
      "Epoch 4: 100%|██████████| 5/5 [00:19<00:00,  3.90s/Epoch]\n"
     ]
    },
    {
     "name": "stdout",
     "output_type": "stream",
     "text": [
      "Training complete in 0m 20s\n",
      "Best val Acc: 0.780000\n",
      "training node52 for Round 4 :\n"
     ]
    },
    {
     "name": "stderr",
     "output_type": "stream",
     "text": [
      "Epoch 4: 100%|██████████| 5/5 [00:18<00:00,  3.62s/Epoch]\n"
     ]
    },
    {
     "name": "stdout",
     "output_type": "stream",
     "text": [
      "Training complete in 0m 18s\n",
      "Best val Acc: 0.780000\n",
      "training node53 for Round 4 :\n"
     ]
    },
    {
     "name": "stderr",
     "output_type": "stream",
     "text": [
      "Epoch 4: 100%|██████████| 5/5 [00:19<00:00,  3.90s/Epoch]\n"
     ]
    },
    {
     "name": "stdout",
     "output_type": "stream",
     "text": [
      "Training complete in 0m 20s\n",
      "Best val Acc: 0.780000\n",
      "training node54 for Round 4 :\n"
     ]
    },
    {
     "name": "stderr",
     "output_type": "stream",
     "text": [
      "Epoch 4: 100%|██████████| 5/5 [00:18<00:00,  3.76s/Epoch]\n"
     ]
    },
    {
     "name": "stdout",
     "output_type": "stream",
     "text": [
      "Training complete in 0m 19s\n",
      "Best val Acc: 0.680000\n",
      "training node55 for Round 4 :\n"
     ]
    },
    {
     "name": "stderr",
     "output_type": "stream",
     "text": [
      "Epoch 4: 100%|██████████| 5/5 [00:19<00:00,  3.88s/Epoch]\n"
     ]
    },
    {
     "name": "stdout",
     "output_type": "stream",
     "text": [
      "Training complete in 0m 19s\n",
      "Best val Acc: 0.780000\n",
      "training node56 for Round 4 :\n"
     ]
    },
    {
     "name": "stderr",
     "output_type": "stream",
     "text": [
      "Epoch 4: 100%|██████████| 5/5 [00:19<00:00,  3.87s/Epoch]\n"
     ]
    },
    {
     "name": "stdout",
     "output_type": "stream",
     "text": [
      "Training complete in 0m 19s\n",
      "Best val Acc: 0.700000\n",
      "training node57 for Round 4 :\n"
     ]
    },
    {
     "name": "stderr",
     "output_type": "stream",
     "text": [
      "Epoch 4: 100%|██████████| 5/5 [00:18<00:00,  3.65s/Epoch]\n"
     ]
    },
    {
     "name": "stdout",
     "output_type": "stream",
     "text": [
      "Training complete in 0m 18s\n",
      "Best val Acc: 0.700000\n",
      "training node58 for Round 4 :\n"
     ]
    },
    {
     "name": "stderr",
     "output_type": "stream",
     "text": [
      "Epoch 4: 100%|██████████| 5/5 [00:19<00:00,  3.91s/Epoch]\n"
     ]
    },
    {
     "name": "stdout",
     "output_type": "stream",
     "text": [
      "Training complete in 0m 20s\n",
      "Best val Acc: 0.840000\n",
      "training node59 for Round 4 :\n"
     ]
    },
    {
     "name": "stderr",
     "output_type": "stream",
     "text": [
      "Epoch 4: 100%|██████████| 5/5 [00:19<00:00,  3.85s/Epoch]\n"
     ]
    },
    {
     "name": "stdout",
     "output_type": "stream",
     "text": [
      "Training complete in 0m 19s\n",
      "Best val Acc: 0.820000\n",
      "training node60 for Round 4 :\n"
     ]
    },
    {
     "name": "stderr",
     "output_type": "stream",
     "text": [
      "Epoch 4: 100%|██████████| 5/5 [00:19<00:00,  3.83s/Epoch]\n"
     ]
    },
    {
     "name": "stdout",
     "output_type": "stream",
     "text": [
      "Training complete in 0m 19s\n",
      "Best val Acc: 0.780000\n",
      "training node61 for Round 4 :\n"
     ]
    },
    {
     "name": "stderr",
     "output_type": "stream",
     "text": [
      "Epoch 4: 100%|██████████| 5/5 [00:18<00:00,  3.79s/Epoch]\n"
     ]
    },
    {
     "name": "stdout",
     "output_type": "stream",
     "text": [
      "Training complete in 0m 19s\n",
      "Best val Acc: 0.660000\n",
      "training node62 for Round 4 :\n"
     ]
    },
    {
     "name": "stderr",
     "output_type": "stream",
     "text": [
      "Epoch 4: 100%|██████████| 5/5 [00:18<00:00,  3.61s/Epoch]\n"
     ]
    },
    {
     "name": "stdout",
     "output_type": "stream",
     "text": [
      "Training complete in 0m 18s\n",
      "Best val Acc: 0.840000\n",
      "training node63 for Round 4 :\n"
     ]
    },
    {
     "name": "stderr",
     "output_type": "stream",
     "text": [
      "Epoch 4: 100%|██████████| 5/5 [00:18<00:00,  3.69s/Epoch]\n"
     ]
    },
    {
     "name": "stdout",
     "output_type": "stream",
     "text": [
      "Training complete in 0m 18s\n",
      "Best val Acc: 0.800000\n",
      "training node64 for Round 4 :\n"
     ]
    },
    {
     "name": "stderr",
     "output_type": "stream",
     "text": [
      "Epoch 4: 100%|██████████| 5/5 [00:19<00:00,  3.95s/Epoch]\n"
     ]
    },
    {
     "name": "stdout",
     "output_type": "stream",
     "text": [
      "Training complete in 0m 20s\n",
      "Best val Acc: 0.760000\n",
      "training node65 for Round 4 :\n"
     ]
    },
    {
     "name": "stderr",
     "output_type": "stream",
     "text": [
      "Epoch 4: 100%|██████████| 5/5 [00:20<00:00,  4.02s/Epoch]\n"
     ]
    },
    {
     "name": "stdout",
     "output_type": "stream",
     "text": [
      "Training complete in 0m 20s\n",
      "Best val Acc: 0.800000\n",
      "training node66 for Round 4 :\n"
     ]
    },
    {
     "name": "stderr",
     "output_type": "stream",
     "text": [
      "Epoch 4: 100%|██████████| 5/5 [00:19<00:00,  3.90s/Epoch]\n"
     ]
    },
    {
     "name": "stdout",
     "output_type": "stream",
     "text": [
      "Training complete in 0m 20s\n",
      "Best val Acc: 0.760000\n",
      "training node67 for Round 4 :\n"
     ]
    },
    {
     "name": "stderr",
     "output_type": "stream",
     "text": [
      "Epoch 4: 100%|██████████| 5/5 [00:18<00:00,  3.67s/Epoch]\n"
     ]
    },
    {
     "name": "stdout",
     "output_type": "stream",
     "text": [
      "Training complete in 0m 18s\n",
      "Best val Acc: 0.800000\n",
      "training node68 for Round 4 :\n"
     ]
    },
    {
     "name": "stderr",
     "output_type": "stream",
     "text": [
      "Epoch 4: 100%|██████████| 5/5 [00:19<00:00,  3.98s/Epoch]\n"
     ]
    },
    {
     "name": "stdout",
     "output_type": "stream",
     "text": [
      "Training complete in 0m 20s\n",
      "Best val Acc: 0.740000\n",
      "training node69 for Round 4 :\n"
     ]
    },
    {
     "name": "stderr",
     "output_type": "stream",
     "text": [
      "Epoch 4: 100%|██████████| 5/5 [00:20<00:00,  4.01s/Epoch]\n"
     ]
    },
    {
     "name": "stdout",
     "output_type": "stream",
     "text": [
      "Training complete in 0m 20s\n",
      "Best val Acc: 0.840000\n",
      "training node70 for Round 4 :\n"
     ]
    },
    {
     "name": "stderr",
     "output_type": "stream",
     "text": [
      "Epoch 4: 100%|██████████| 5/5 [00:19<00:00,  3.92s/Epoch]\n"
     ]
    },
    {
     "name": "stdout",
     "output_type": "stream",
     "text": [
      "Training complete in 0m 20s\n",
      "Best val Acc: 0.800000\n",
      "training node71 for Round 4 :\n"
     ]
    },
    {
     "name": "stderr",
     "output_type": "stream",
     "text": [
      "Epoch 4: 100%|██████████| 5/5 [00:19<00:00,  3.91s/Epoch]\n"
     ]
    },
    {
     "name": "stdout",
     "output_type": "stream",
     "text": [
      "Training complete in 0m 20s\n",
      "Best val Acc: 0.720000\n",
      "training node72 for Round 4 :\n"
     ]
    },
    {
     "name": "stderr",
     "output_type": "stream",
     "text": [
      "Epoch 4: 100%|██████████| 5/5 [00:19<00:00,  3.96s/Epoch]\n"
     ]
    },
    {
     "name": "stdout",
     "output_type": "stream",
     "text": [
      "Training complete in 0m 20s\n",
      "Best val Acc: 0.720000\n",
      "training node73 for Round 4 :\n"
     ]
    },
    {
     "name": "stderr",
     "output_type": "stream",
     "text": [
      "Epoch 4: 100%|██████████| 5/5 [00:20<00:00,  4.11s/Epoch]\n"
     ]
    },
    {
     "name": "stdout",
     "output_type": "stream",
     "text": [
      "Training complete in 0m 21s\n",
      "Best val Acc: 0.740000\n",
      "training node74 for Round 4 :\n"
     ]
    },
    {
     "name": "stderr",
     "output_type": "stream",
     "text": [
      "Epoch 4: 100%|██████████| 5/5 [00:20<00:00,  4.01s/Epoch]\n"
     ]
    },
    {
     "name": "stdout",
     "output_type": "stream",
     "text": [
      "Training complete in 0m 20s\n",
      "Best val Acc: 0.700000\n",
      "training node75 for Round 4 :\n"
     ]
    },
    {
     "name": "stderr",
     "output_type": "stream",
     "text": [
      "Epoch 4: 100%|██████████| 5/5 [00:20<00:00,  4.02s/Epoch]\n"
     ]
    },
    {
     "name": "stdout",
     "output_type": "stream",
     "text": [
      "Training complete in 0m 20s\n",
      "Best val Acc: 0.840000\n",
      "training node76 for Round 4 :\n"
     ]
    },
    {
     "name": "stderr",
     "output_type": "stream",
     "text": [
      "Epoch 4: 100%|██████████| 5/5 [00:20<00:00,  4.00s/Epoch]\n"
     ]
    },
    {
     "name": "stdout",
     "output_type": "stream",
     "text": [
      "Training complete in 0m 20s\n",
      "Best val Acc: 0.780000\n",
      "training node77 for Round 4 :\n"
     ]
    },
    {
     "name": "stderr",
     "output_type": "stream",
     "text": [
      "Epoch 4: 100%|██████████| 5/5 [00:18<00:00,  3.76s/Epoch]\n"
     ]
    },
    {
     "name": "stdout",
     "output_type": "stream",
     "text": [
      "Training complete in 0m 19s\n",
      "Best val Acc: 0.700000\n",
      "training node78 for Round 4 :\n"
     ]
    },
    {
     "name": "stderr",
     "output_type": "stream",
     "text": [
      "Epoch 4: 100%|██████████| 5/5 [00:19<00:00,  3.99s/Epoch]\n"
     ]
    },
    {
     "name": "stdout",
     "output_type": "stream",
     "text": [
      "Training complete in 0m 20s\n",
      "Best val Acc: 0.740000\n",
      "training node79 for Round 4 :\n"
     ]
    },
    {
     "name": "stderr",
     "output_type": "stream",
     "text": [
      "Epoch 4: 100%|██████████| 5/5 [00:19<00:00,  3.94s/Epoch]\n"
     ]
    },
    {
     "name": "stdout",
     "output_type": "stream",
     "text": [
      "Training complete in 0m 20s\n",
      "Best val Acc: 0.620000\n",
      "training node80 for Round 4 :\n"
     ]
    },
    {
     "name": "stderr",
     "output_type": "stream",
     "text": [
      "Epoch 4: 100%|██████████| 5/5 [00:18<00:00,  3.75s/Epoch]\n"
     ]
    },
    {
     "name": "stdout",
     "output_type": "stream",
     "text": [
      "Training complete in 0m 19s\n",
      "Best val Acc: 0.640000\n",
      "training node81 for Round 4 :\n"
     ]
    },
    {
     "name": "stderr",
     "output_type": "stream",
     "text": [
      "Epoch 4: 100%|██████████| 5/5 [00:19<00:00,  3.99s/Epoch]\n"
     ]
    },
    {
     "name": "stdout",
     "output_type": "stream",
     "text": [
      "Training complete in 0m 20s\n",
      "Best val Acc: 0.720000\n",
      "training node82 for Round 4 :\n"
     ]
    },
    {
     "name": "stderr",
     "output_type": "stream",
     "text": [
      "Epoch 4: 100%|██████████| 5/5 [00:18<00:00,  3.79s/Epoch]\n"
     ]
    },
    {
     "name": "stdout",
     "output_type": "stream",
     "text": [
      "Training complete in 0m 19s\n",
      "Best val Acc: 0.660000\n",
      "training node83 for Round 4 :\n"
     ]
    },
    {
     "name": "stderr",
     "output_type": "stream",
     "text": [
      "Epoch 4: 100%|██████████| 5/5 [00:20<00:00,  4.04s/Epoch]\n"
     ]
    },
    {
     "name": "stdout",
     "output_type": "stream",
     "text": [
      "Training complete in 0m 20s\n",
      "Best val Acc: 0.760000\n",
      "training node84 for Round 4 :\n"
     ]
    },
    {
     "name": "stderr",
     "output_type": "stream",
     "text": [
      "Epoch 4: 100%|██████████| 5/5 [00:19<00:00,  3.99s/Epoch]\n"
     ]
    },
    {
     "name": "stdout",
     "output_type": "stream",
     "text": [
      "Training complete in 0m 20s\n",
      "Best val Acc: 0.720000\n",
      "training node85 for Round 4 :\n"
     ]
    },
    {
     "name": "stderr",
     "output_type": "stream",
     "text": [
      "Epoch 4: 100%|██████████| 5/5 [00:19<00:00,  3.96s/Epoch]\n"
     ]
    },
    {
     "name": "stdout",
     "output_type": "stream",
     "text": [
      "Training complete in 0m 20s\n",
      "Best val Acc: 0.400000\n",
      "training node86 for Round 4 :\n"
     ]
    },
    {
     "name": "stderr",
     "output_type": "stream",
     "text": [
      "Epoch 4: 100%|██████████| 5/5 [00:19<00:00,  3.84s/Epoch]\n"
     ]
    },
    {
     "name": "stdout",
     "output_type": "stream",
     "text": [
      "Training complete in 0m 19s\n",
      "Best val Acc: 0.760000\n",
      "training node87 for Round 4 :\n"
     ]
    },
    {
     "name": "stderr",
     "output_type": "stream",
     "text": [
      "Epoch 4: 100%|██████████| 5/5 [00:20<00:00,  4.02s/Epoch]\n"
     ]
    },
    {
     "name": "stdout",
     "output_type": "stream",
     "text": [
      "Training complete in 0m 20s\n",
      "Best val Acc: 0.740000\n",
      "training node88 for Round 4 :\n"
     ]
    },
    {
     "name": "stderr",
     "output_type": "stream",
     "text": [
      "Epoch 4: 100%|██████████| 5/5 [00:20<00:00,  4.09s/Epoch]\n"
     ]
    },
    {
     "name": "stdout",
     "output_type": "stream",
     "text": [
      "Training complete in 0m 20s\n",
      "Best val Acc: 0.660000\n",
      "training node89 for Round 4 :\n"
     ]
    },
    {
     "name": "stderr",
     "output_type": "stream",
     "text": [
      "Epoch 4: 100%|██████████| 5/5 [00:20<00:00,  4.14s/Epoch]\n"
     ]
    },
    {
     "name": "stdout",
     "output_type": "stream",
     "text": [
      "Training complete in 0m 21s\n",
      "Best val Acc: 0.740000\n",
      "training node90 for Round 4 :\n"
     ]
    },
    {
     "name": "stderr",
     "output_type": "stream",
     "text": [
      "Epoch 4: 100%|██████████| 5/5 [00:20<00:00,  4.08s/Epoch]\n"
     ]
    },
    {
     "name": "stdout",
     "output_type": "stream",
     "text": [
      "Training complete in 0m 20s\n",
      "Best val Acc: 0.720000\n",
      "training node91 for Round 4 :\n"
     ]
    },
    {
     "name": "stderr",
     "output_type": "stream",
     "text": [
      "Epoch 4: 100%|██████████| 5/5 [00:20<00:00,  4.06s/Epoch]\n"
     ]
    },
    {
     "name": "stdout",
     "output_type": "stream",
     "text": [
      "Training complete in 0m 20s\n",
      "Best val Acc: 0.720000\n",
      "training node92 for Round 4 :\n"
     ]
    },
    {
     "name": "stderr",
     "output_type": "stream",
     "text": [
      "Epoch 4: 100%|██████████| 5/5 [00:19<00:00,  3.99s/Epoch]\n"
     ]
    },
    {
     "name": "stdout",
     "output_type": "stream",
     "text": [
      "Training complete in 0m 20s\n",
      "Best val Acc: 0.740000\n",
      "training node93 for Round 4 :\n"
     ]
    },
    {
     "name": "stderr",
     "output_type": "stream",
     "text": [
      "Epoch 4: 100%|██████████| 5/5 [00:18<00:00,  3.79s/Epoch]\n"
     ]
    },
    {
     "name": "stdout",
     "output_type": "stream",
     "text": [
      "Training complete in 0m 19s\n",
      "Best val Acc: 0.740000\n",
      "training node94 for Round 4 :\n"
     ]
    },
    {
     "name": "stderr",
     "output_type": "stream",
     "text": [
      "Epoch 4: 100%|██████████| 5/5 [00:20<00:00,  4.08s/Epoch]\n"
     ]
    },
    {
     "name": "stdout",
     "output_type": "stream",
     "text": [
      "Training complete in 0m 20s\n",
      "Best val Acc: 0.860000\n",
      "training node95 for Round 4 :\n"
     ]
    },
    {
     "name": "stderr",
     "output_type": "stream",
     "text": [
      "Epoch 4: 100%|██████████| 5/5 [00:18<00:00,  3.79s/Epoch]\n"
     ]
    },
    {
     "name": "stdout",
     "output_type": "stream",
     "text": [
      "Training complete in 0m 19s\n",
      "Best val Acc: 0.700000\n",
      "training node96 for Round 4 :\n"
     ]
    },
    {
     "name": "stderr",
     "output_type": "stream",
     "text": [
      "Epoch 4: 100%|██████████| 5/5 [00:18<00:00,  3.75s/Epoch]\n"
     ]
    },
    {
     "name": "stdout",
     "output_type": "stream",
     "text": [
      "Training complete in 0m 19s\n",
      "Best val Acc: 0.660000\n",
      "training node97 for Round 4 :\n"
     ]
    },
    {
     "name": "stderr",
     "output_type": "stream",
     "text": [
      "Epoch 4: 100%|██████████| 5/5 [00:20<00:00,  4.15s/Epoch]\n"
     ]
    },
    {
     "name": "stdout",
     "output_type": "stream",
     "text": [
      "Training complete in 0m 21s\n",
      "Best val Acc: 0.780000\n",
      "training node98 for Round 4 :\n"
     ]
    },
    {
     "name": "stderr",
     "output_type": "stream",
     "text": [
      "Epoch 4: 100%|██████████| 5/5 [00:20<00:00,  4.19s/Epoch]\n"
     ]
    },
    {
     "name": "stdout",
     "output_type": "stream",
     "text": [
      "Training complete in 0m 21s\n",
      "Best val Acc: 0.700000\n",
      "training node99 for Round 4 :\n"
     ]
    },
    {
     "name": "stderr",
     "output_type": "stream",
     "text": [
      "Epoch 4: 100%|██████████| 5/5 [00:20<00:00,  4.14s/Epoch]\n"
     ]
    },
    {
     "name": "stdout",
     "output_type": "stream",
     "text": [
      "Training complete in 0m 21s\n",
      "Best val Acc: 0.760000\n",
      "Fedavg of main model in round 5\n",
      "For Round 4 :, acc : 0.6771710368053885, acc0 : 0.7408163265306122 , acc1:0.9259911894273127 , acc2:0.5174418604651163, acc3 :0.499009900990099 \n"
     ]
    }
   ],
   "source": [
    "model_dict_allmiss100, model_allmiss100 = training_plan(main_model,model_dict,data_load)"
   ]
  },
  {
   "cell_type": "code",
   "execution_count": 92,
   "id": "67dbf3a7",
   "metadata": {},
   "outputs": [
    {
     "name": "stdout",
     "output_type": "stream",
     "text": [
      "For Nodes with missing values :, acc : 0.6771710368053885, acc0 : 0.7408163265306122 , acc1:0.9259911894273127 , acc2:0.5174418604651163, acc3 :0.499009900990099 \n"
     ]
    },
    {
     "data": {
      "text/plain": [
       "{'ratio': 'Nodes with missing values',\n",
       " 'acc': 0.6771710368053885,\n",
       " 'acc0': 0.7408163265306122,\n",
       " 'acc1': 0.9259911894273127,\n",
       " 'acc2': 0.5174418604651163,\n",
       " 'acc3': 0.499009900990099}"
      ]
     },
     "execution_count": 92,
     "metadata": {},
     "output_type": "execute_result"
    }
   ],
   "source": [
    "test_loader = format_test_data(x_test)\n",
    "pred = predict(test_loader, model_allmiss100)\n",
    "evaluation_met(pred, y_test,ratio = 'Nodes with missing values')"
   ]
  },
  {
   "cell_type": "code",
   "execution_count": 93,
   "id": "e4e9773f",
   "metadata": {},
   "outputs": [
    {
     "name": "stdout",
     "output_type": "stream",
     "text": [
      "For Balanced data node0 :, acc : 0.7368294443108011, acc0 : 0.39183673469387753 , acc1:0.9726872246696036 , acc2:0.7742248062015504, acc3 :0.7683168316831683 \n",
      "For Balanced data node1 :, acc : 0.756555208082752, acc0 : 0.6142857142857143 , acc1:0.9859030837004406 , acc2:0.6802325581395349, acc3 :0.7148514851485148 \n",
      "For Balanced data node2 :, acc : 0.7474140004811162, acc0 : 0.6275510204081632 , acc1:0.9788546255506608 , acc2:0.7383720930232558, acc3 :0.6128712871287129 \n",
      "For Balanced data node3 :, acc : 0.7454895357228771, acc0 : 0.513265306122449 , acc1:0.9770925110132158 , acc2:0.688953488372093, acc3 :0.7683168316831683 \n",
      "For Balanced data node4 :, acc : 0.7613663699783497, acc0 : 0.5877551020408164 , acc1:0.9814977973568282 , acc2:0.6569767441860465, acc3 :0.7891089108910891 \n",
      "For Balanced data node5 :, acc : 0.7409189319220592, acc0 : 0.5428571428571428 , acc1:0.9841409691629956 , acc2:0.6337209302325582, acc3 :0.7693069306930693 \n",
      "For Balanced data node6 :, acc : 0.7517440461871542, acc0 : 0.4704081632653061 , acc1:0.9832599118942731 , acc2:0.7170542635658915, acc3 :0.8 \n",
      "For Balanced data node7 :, acc : 0.7240798652874669, acc0 : 0.6153061224489796 , acc1:0.986784140969163 , acc2:0.7277131782945736, acc3 :0.5306930693069307 \n",
      "For Balanced data node8 :, acc : 0.7709886937695454, acc0 : 0.6040816326530613 , acc1:0.9876651982378855 , acc2:0.7044573643410853, acc3 :0.7574257425742574 \n",
      "For Balanced data node9 :, acc : 0.734904979552562, acc0 : 0.3877551020408163 , acc1:0.9841409691629956 , acc2:0.7180232558139535, acc3 :0.808910891089109 \n",
      "For Balanced data node10 :, acc : 0.7637719509261487, acc0 : 0.6081632653061224 , acc1:0.9788546255506608 , acc2:0.6569767441860465, acc3 :0.7821782178217822 \n",
      "For Balanced data node11 :, acc : 0.7291315852778446, acc0 : 0.3448979591836735 , acc1:0.9850220264317181 , acc2:0.7335271317829457, acc3 :0.80990099009901 \n",
      "For Balanced data node12 :, acc : 0.7705075775799856, acc0 : 0.6224489795918368 , acc1:0.9814977973568282 , acc2:0.6724806201550387, acc3 :0.7772277227722773 \n",
      "For Balanced data node13 :, acc : 0.7262448881404859, acc0 : 0.3653061224489796 , acc1:0.9850220264317181 , acc2:0.8158914728682171, acc3 :0.694059405940594 \n",
      "For Balanced data node14 :, acc : 0.7183064710127496, acc0 : 0.2795918367346939 , acc1:0.9894273127753304 , acc2:0.8381782945736435, acc3 :0.7168316831683168 \n",
      "For Balanced data node15 :, acc : 0.7503006976184748, acc0 : 0.5265306122448979 , acc1:0.9876651982378855 , acc2:0.6453488372093024, acc3 :0.807920792079208 \n",
      "For Balanced data node16 :, acc : 0.7488573490497955, acc0 : 0.4602040816326531 , acc1:0.9885462555066079 , acc2:0.7713178294573644, acc3 :0.7366336633663366 \n",
      "For Balanced data node17 :, acc : 0.7219148424344479, acc0 : 0.3193877551020408 , acc1:0.9762114537444934 , acc2:0.8449612403100775, acc3 :0.700990099009901 \n",
      "For Balanced data node18 :, acc : 0.7548713014192927, acc0 : 0.6071428571428571 , acc1:0.9885462555066079 , acc2:0.6841085271317829, acc3 :0.7079207920792079 \n",
      "For Balanced data node19 :, acc : 0.6050036083714218, acc0 : 0.2714285714285714 , acc1:0.9612334801762115 , acc2:0.6618217054263565, acc3 :0.47029702970297027 \n",
      "For Balanced data node20 :, acc : 0.7753187394755834, acc0 : 0.6214285714285714 , acc1:0.9832599118942731 , acc2:0.7325581395348837, acc3 :0.7346534653465346 \n",
      "For Balanced data node21 :, acc : 0.713014192927592, acc0 : 0.2714285714285714 , acc1:0.9894273127753304 , acc2:0.7131782945736435, acc3 :0.8306930693069307 \n",
      "For Balanced data node22 :, acc : 0.7644936252104884, acc0 : 0.6530612244897959 , acc1:0.9814977973568282 , acc2:0.5949612403100775, acc3 :0.801980198019802 \n",
      "For Balanced data node23 :, acc : 0.7637719509261487, acc0 : 0.6510204081632653 , acc1:0.986784140969163 , acc2:0.6153100775193798, acc3 :0.7742574257425743 \n",
      "For Balanced data node24 :, acc : 0.7594419052201107, acc0 : 0.6387755102040816 , acc1:0.9876651982378855 , acc2:0.5843023255813954, acc3 :0.799009900990099 \n",
      "For Balanced data node25 :, acc : 0.7911955737310561, acc0 : 0.8346938775510204 , acc1:0.9612334801762115 , acc2:0.6967054263565892, acc3 :0.6544554455445545 \n",
      "For Balanced data node26 :, acc : 0.7736348328121241, acc0 : 0.8785714285714286 , acc1:0.7841409691629956 , acc2:0.6511627906976745, acc3 :0.7851485148514852 \n",
      "For Balanced data node27 :, acc : 0.7842193889824393, acc0 : 0.8459183673469388 , acc1:0.9594713656387666 , acc2:0.7209302325581395, acc3 :0.592079207920792 \n",
      "For Balanced data node28 :, acc : 0.7875872023093577, acc0 : 0.9183673469387755 , acc1:0.9427312775330396 , acc2:0.5552325581395349, acc3 :0.7237623762376237 \n",
      "For Balanced data node29 :, acc : 0.7827760404137599, acc0 : 0.8163265306122449 , acc1:0.9365638766519824 , acc2:0.5978682170542635, acc3 :0.7663366336633664 \n",
      "For Balanced data node30 :, acc : 0.7945633870579745, acc0 : 0.85 , acc1:0.8801762114537445 , acc2:0.7432170542635659, acc3 :0.697029702970297 \n",
      "For Balanced data node31 :, acc : 0.7794082270868414, acc0 : 0.7642857142857142 , acc1:0.9559471365638766 , acc2:0.6511627906976745, acc3 :0.7267326732673267 \n",
      "For Balanced data node32 :, acc : 0.7743565070964638, acc0 : 0.9132653061224489 , acc1:0.8493392070484581 , acc2:0.7112403100775194, acc3 :0.6198019801980198 \n",
      "For Balanced data node33 :, acc : 0.7839788308876594, acc0 : 0.8622448979591837 , acc1:0.9709251101321585 , acc2:0.7122093023255814, acc3 :0.5712871287128712 \n",
      "For Balanced data node34 :, acc : 0.7955256194370941, acc0 : 0.9071428571428571 , acc1:0.8616740088105727 , acc2:0.6618217054263565, acc3 :0.7495049504950495 \n",
      "For Balanced data node35 :, acc : 0.7926389222997354, acc0 : 0.8387755102040816 , acc1:0.9674008810572687 , acc2:0.7344961240310077, acc3 :0.6108910891089109 \n",
      "For Balanced data node36 :, acc : 0.7950445032475343, acc0 : 0.863265306122449 , acc1:0.960352422907489 , acc2:0.5881782945736435, acc3 :0.7544554455445545 \n",
      "For Balanced data node37 :, acc : 0.8092374308395478, acc0 : 0.8663265306122448 , acc1:0.9048458149779736 , acc2:0.7296511627906976, acc3 :0.7277227722772277 \n",
      "For Balanced data node38 :, acc : 0.8020206879961511, acc0 : 0.8785714285714286 , acc1:0.8907488986784141 , acc2:0.6162790697674418, acc3 :0.8178217821782178 \n",
      "For Balanced data node39 :, acc : 0.7859032956458984, acc0 : 0.8846938775510204 , acc1:0.9215859030837005 , acc2:0.6908914728682171, acc3 :0.6346534653465347 \n",
      "For Balanced data node40 :, acc : 0.7931200384892951, acc0 : 0.8469387755102041 , acc1:0.9136563876651982 , acc2:0.6385658914728682, acc3 :0.7633663366336634 \n",
      "For Balanced data node41 :, acc : 0.7844599470772191, acc0 : 0.7653061224489796 , acc1:0.9718061674008811 , acc2:0.6288759689922481, acc3 :0.7514851485148515 \n",
      "For Balanced data node42 :, acc : 0.8041857108491701, acc0 : 0.8959183673469387 , acc1:0.8854625550660793 , acc2:0.6812015503875969, acc3 :0.7495049504950495 \n",
      "For Balanced data node43 :, acc : 0.7984123165744528, acc0 : 0.8357142857142857 , acc1:0.9074889867841409 , acc2:0.687015503875969, acc3 :0.7534653465346535 \n",
      "For Balanced data node44 :, acc : 0.797931200384893, acc0 : 0.8816326530612245 , acc1:0.9048458149779736 , acc2:0.7093023255813954, acc3 :0.6871287128712872 \n",
      "For Balanced data node45 :, acc : 0.7911955737310561, acc0 : 0.8775510204081632 , acc1:0.9568281938325991 , acc2:0.6027131782945736, acc3 :0.7138613861386138 \n",
      "For Balanced data node46 :, acc : 0.5121481837863844, acc0 : 0.6193877551020408 , acc1:0.5427312775330396 , acc2:0.14534883720930233, acc3 :0.7485148514851485 \n",
      "For Balanced data node47 :, acc : 0.8017801299013712, acc0 : 0.823469387755102 , acc1:0.9700440528634361 , acc2:0.6579457364341085, acc3 :0.7386138613861386 \n",
      "For Balanced data node48 :, acc : 0.7690642290113062, acc0 : 0.889795918367347 , acc1:0.7092511013215859 , acc2:0.752906976744186, acc3 :0.7356435643564356 \n",
      "For Balanced data node49 :, acc : 0.793601154678855, acc0 : 0.8571428571428571 , acc1:0.9348017621145375 , acc2:0.6841085271317829, acc3 :0.6851485148514852 \n",
      "For Balanced data node50 :, acc : 0.7579985566514313, acc0 : 0.8551020408163266 , acc1:0.9823788546255506 , acc2:0.3449612403100775, acc3 :0.8336633663366336 \n",
      "For Balanced data node51 :, acc : 0.7505412557132547, acc0 : 0.8704081632653061 , acc1:0.9859030837004406 , acc2:0.35174418604651164, acc3 :0.7772277227722773 \n"
     ]
    },
    {
     "name": "stdout",
     "output_type": "stream",
     "text": [
      "For Balanced data node52 :, acc : 0.7438056290594178, acc0 : 0.8908163265306123 , acc1:0.9903083700440528 , acc2:0.2558139534883721, acc3 :0.8227722772277227 \n",
      "For Balanced data node53 :, acc : 0.7074813567476546, acc0 : 0.9448979591836735 , acc1:0.9911894273127754 , acc2:0.09593023255813954, acc3 :0.7831683168316832 \n",
      "For Balanced data node54 :, acc : 0.6449362521048834, acc0 : 0.8908163265306123 , acc1:0.8440528634361234 , acc2:0.041666666666666664, acc3 :0.799009900990099 \n",
      "For Balanced data node55 :, acc : 0.7317777243204234, acc0 : 0.9122448979591836 , acc1:0.9823788546255506 , acc2:0.12015503875968993, acc3 :0.9 \n",
      "For Balanced data node56 :, acc : 0.706519124368535, acc0 : 0.8969387755102041 , acc1:0.9903083700440528 , acc2:0.06395348837209303, acc3 :0.8594059405940594 \n",
      "For Balanced data node57 :, acc : 0.754390185229733, acc0 : 0.8734693877551021 , acc1:0.9841409691629956 , acc2:0.36724806201550386, acc3 :0.7762376237623763 \n",
      "For Balanced data node58 :, acc : 0.7440461871541978, acc0 : 0.8948979591836734 , acc1:0.9885462555066079 , acc2:0.2248062015503876, acc3 :0.8534653465346534 \n",
      "For Balanced data node59 :, acc : 0.7613663699783497, acc0 : 0.8785714285714286 , acc1:0.9806167400881057 , acc2:0.37790697674418605, acc3 :0.7930693069306931 \n",
      "For Balanced data node60 :, acc : 0.7539090690401732, acc0 : 0.886734693877551 , acc1:0.9832599118942731 , acc2:0.3498062015503876, acc3 :0.7801980198019802 \n",
      "For Balanced data node61 :, acc : 0.7159008900649507, acc0 : 0.9520408163265306 , acc1:0.9665198237885463 , acc2:0.14050387596899225, acc3 :0.7930693069306931 \n",
      "For Balanced data node62 :, acc : 0.7659369737791677, acc0 : 0.8683673469387755 , acc1:0.9885462555066079 , acc2:0.39825581395348836, acc3 :0.7920792079207921 \n",
      "For Balanced data node63 :, acc : 0.7724320423382247, acc0 : 0.8846938775510204 , acc1:0.9850220264317181 , acc2:0.4186046511627907, acc3 :0.7861386138613862 \n",
      "For Balanced data node64 :, acc : 0.7262448881404859, acc0 : 0.9102040816326531 , acc1:0.986784140969163 , acc2:0.11627906976744186, acc3 :0.8782178217821782 \n",
      "For Balanced data node65 :, acc : 0.7134953091171518, acc0 : 0.9285714285714286 , acc1:0.9885462555066079 , acc2:0.050387596899224806, acc3 :0.8732673267326733 \n",
      "For Balanced data node66 :, acc : 0.7240798652874669, acc0 : 0.9438775510204082 , acc1:0.9885462555066079 , acc2:0.10755813953488372, acc3 :0.8435643564356435 \n",
      "For Balanced data node67 :, acc : 0.7524657204714938, acc0 : 0.9122448979591836 , acc1:0.9841409691629956 , acc2:0.2616279069767442, acc3 :0.8386138613861386 \n",
      "For Balanced data node68 :, acc : 0.7377916766899206, acc0 : 0.9061224489795918 , acc1:0.9876651982378855 , acc2:0.21511627906976744, acc3 :0.8277227722772277 \n",
      "For Balanced data node69 :, acc : 0.7515034880923743, acc0 : 0.9071428571428571 , acc1:0.9894273127753304 , acc2:0.2693798449612403, acc3 :0.8257425742574257 \n",
      "For Balanced data node70 :, acc : 0.7503006976184748, acc0 : 0.8653061224489796 , acc1:0.9814977973568282 , acc2:0.3381782945736434, acc3 :0.8 \n",
      "For Balanced data node71 :, acc : 0.7356266538369016, acc0 : 0.9051020408163265 , acc1:0.9859030837004406 , acc2:0.19089147286821706, acc3 :0.8465346534653465 \n",
      "For Balanced data node72 :, acc : 0.7555929757036324, acc0 : 0.8275510204081633 , acc1:0.9814977973568282 , acc2:0.3817829457364341, acc3 :0.8138613861386138 \n",
      "For Balanced data node73 :, acc : 0.7351455376473418, acc0 : 0.8887755102040816 , acc1:0.9903083700440528 , acc2:0.25193798449612403, acc3 :0.7930693069306931 \n",
      "For Balanced data node74 :, acc : 0.6446956940101034, acc0 : 0.8193877551020409 , acc1:0.9136563876651982 , acc2:0.18313953488372092, acc3 :0.6445544554455446 \n",
      "For Balanced data node75 :, acc : 0.7459706519124368, acc0 : 0.8816326530612245 , acc1:0.9885462555066079 , acc2:0.8207364341085271, acc3 :0.26534653465346536 \n",
      "For Balanced data node76 :, acc : 0.7604041375992302, acc0 : 0.923469387755102 , acc1:0.9744493392070485 , acc2:0.7238372093023255, acc3 :0.39900990099009903 \n",
      "For Balanced data node77 :, acc : 0.7368294443108011, acc0 : 0.813265306122449 , acc1:0.9885462555066079 , acc2:0.8265503875968992, acc3 :0.2881188118811881 \n",
      "For Balanced data node78 :, acc : 0.7377916766899206, acc0 : 0.889795918367347 , acc1:0.9885462555066079 , acc2:0.7635658914728682, acc3 :0.28217821782178215 \n",
      "For Balanced data node79 :, acc : 0.5708443589126774, acc0 : 0.8918367346938776 , acc1:0.6334801762114537 , acc2:0.7538759689922481, acc3 :0.0019801980198019802 \n",
      "For Balanced data node80 :, acc : 0.7546307433245129, acc0 : 0.8408163265306122 , acc1:0.9894273127753304 , acc2:0.8091085271317829, acc3 :0.35148514851485146 \n",
      "For Balanced data node81 :, acc : 0.7488573490497955, acc0 : 0.8755102040816326 , acc1:0.9779735682819384 , acc2:0.7664728682170543, acc3 :0.3504950495049505 \n",
      "For Balanced data node82 :, acc : 0.7079624729372144, acc0 : 0.9346938775510204 , acc1:0.9894273127753304 , acc2:0.8633720930232558, acc3 :0.01287128712871287 \n",
      "For Balanced data node83 :, acc : 0.7339427471734424, acc0 : 0.8591836734693877 , acc1:0.9876651982378855 , acc2:0.8304263565891473, acc3 :0.22871287128712872 \n",
      "For Balanced data node84 :, acc : 0.751984604281934, acc0 : 0.8683673469387755 , acc1:0.9885462555066079 , acc2:0.7761627906976745, acc3 :0.3485148514851485 \n",
      "For Balanced data node85 :, acc : 0.4305989896560019, acc0 : 0.773469387755102 , acc1:0.35330396475770925 , acc2:0.6114341085271318, acc3 :0.0 \n",
      "For Balanced data node86 :, acc : 0.7120519605484724, acc0 : 0.8836734693877552 , acc1:0.9876651982378855 , acc2:0.9001937984496124, acc3 :0.04356435643564356 \n",
      "For Balanced data node87 :, acc : 0.7462112100072168, acc0 : 0.9163265306122449 , acc1:0.9850220264317181 , acc2:0.7238372093023255, acc3 :0.33564356435643566 \n",
      "For Balanced data node88 :, acc : 0.7462112100072168, acc0 : 0.8530612244897959 , acc1:0.9911894273127754 , acc2:0.7587209302325582, acc3 :0.35445544554455444 \n",
      "For Balanced data node89 :, acc : 0.7387539090690401, acc0 : 0.8469387755102041 , acc1:0.9814977973568282 , acc2:0.8420542635658915, acc3 :0.25544554455445545 \n",
      "For Balanced data node90 :, acc : 0.7045946596102959, acc0 : 0.8918367346938776 , acc1:0.9885462555066079 , acc2:0.8934108527131783, acc3 :0.01089108910891089 \n",
      "For Balanced data node91 :, acc : 0.7079624729372144, acc0 : 0.9255102040816326 , acc1:0.9894273127753304 , acc2:0.8817829457364341, acc3 :0.0029702970297029703 \n",
      "For Balanced data node92 :, acc : 0.715179215780611, acc0 : 0.7214285714285714 , acc1:0.9286343612334802 , acc2:0.814922480620155, acc3 :0.3673267326732673 \n",
      "For Balanced data node93 :, acc : 0.7548713014192927, acc0 : 0.9010204081632653 , acc1:0.9832599118942731 , acc2:0.749031007751938, acc3 :0.36237623762376237 \n",
      "For Balanced data node94 :, acc : 0.7324993986047631, acc0 : 0.8244897959183674 , acc1:0.973568281938326 , acc2:0.8187984496124031, acc3 :0.28415841584158413 \n",
      "For Balanced data node95 :, acc : 0.7159008900649507, acc0 : 0.8357142857142857 , acc1:0.9903083700440528 , acc2:0.8003875968992248, acc3 :0.20495049504950494 \n",
      "For Balanced data node96 :, acc : 0.7582391147462112, acc0 : 0.8734693877551021 , acc1:0.9850220264317181 , acc2:0.8023255813953488, acc3 :0.3465346534653465 \n",
      "For Balanced data node97 :, acc : 0.7324993986047631, acc0 : 0.9285714285714286 , acc1:0.9876651982378855 , acc2:0.811046511627907, acc3 :0.17524752475247524 \n",
      "For Balanced data node98 :, acc : 0.7053163338946355, acc0 : 0.8979591836734694 , acc1:0.9911894273127754 , acc2:0.8866279069767442, acc3 :0.011881188118811881 \n",
      "For Balanced data node99 :, acc : 0.7240798652874669, acc0 : 0.8326530612244898 , acc1:0.9859030837004406 , acc2:0.8187984496124031, acc3 :0.22772277227722773 \n"
     ]
    }
   ],
   "source": [
    "for i in range(number_of_nodes): \n",
    "    test_loader = format_test_data(x_test)\n",
    "    pred = predict(test_loader, model_dict_allmiss100[name_of_models[i]])\n",
    "    evaluation_met(pred, y_test,ratio = 'Balanced data ' + name_of_models[i])"
   ]
  },
  {
   "cell_type": "markdown",
   "id": "e2e069e6",
   "metadata": {},
   "source": [
    "# 100 nodes 15 rounds"
   ]
  },
  {
   "cell_type": "code",
   "execution_count": null,
   "id": "0a1678a0",
   "metadata": {},
   "outputs": [
    {
     "name": "stdout",
     "output_type": "stream",
     "text": [
      "Round 1\n",
      "Sending main model to nodes in round 1\n",
      "training node0 for Round 1 :\n"
     ]
    },
    {
     "name": "stderr",
     "output_type": "stream",
     "text": [
      "Epoch 4: 100%|██████████| 5/5 [00:19<00:00,  3.85s/Epoch]\n"
     ]
    },
    {
     "name": "stdout",
     "output_type": "stream",
     "text": [
      "Training complete in 0m 19s\n",
      "Best val Acc: 0.760000\n",
      "training node1 for Round 1 :\n"
     ]
    },
    {
     "name": "stderr",
     "output_type": "stream",
     "text": [
      "Epoch 4: 100%|██████████| 5/5 [00:23<00:00,  4.69s/Epoch]\n"
     ]
    },
    {
     "name": "stdout",
     "output_type": "stream",
     "text": [
      "Training complete in 0m 23s\n",
      "Best val Acc: 0.860000\n",
      "training node2 for Round 1 :\n"
     ]
    },
    {
     "name": "stderr",
     "output_type": "stream",
     "text": [
      "Epoch 4: 100%|██████████| 5/5 [00:22<00:00,  4.47s/Epoch]\n"
     ]
    },
    {
     "name": "stdout",
     "output_type": "stream",
     "text": [
      "Training complete in 0m 22s\n",
      "Best val Acc: 0.820000\n",
      "training node3 for Round 1 :\n"
     ]
    },
    {
     "name": "stderr",
     "output_type": "stream",
     "text": [
      "Epoch 4: 100%|██████████| 5/5 [00:21<00:00,  4.38s/Epoch]\n"
     ]
    },
    {
     "name": "stdout",
     "output_type": "stream",
     "text": [
      "Training complete in 0m 22s\n",
      "Best val Acc: 0.860000\n",
      "training node4 for Round 1 :\n"
     ]
    },
    {
     "name": "stderr",
     "output_type": "stream",
     "text": [
      "Epoch 4: 100%|██████████| 5/5 [00:21<00:00,  4.23s/Epoch]\n"
     ]
    },
    {
     "name": "stdout",
     "output_type": "stream",
     "text": [
      "Training complete in 0m 21s\n",
      "Best val Acc: 0.780000\n",
      "training node5 for Round 1 :\n"
     ]
    },
    {
     "name": "stderr",
     "output_type": "stream",
     "text": [
      "Epoch 4: 100%|██████████| 5/5 [00:20<00:00,  4.15s/Epoch]\n"
     ]
    },
    {
     "name": "stdout",
     "output_type": "stream",
     "text": [
      "Training complete in 0m 21s\n",
      "Best val Acc: 0.860000\n",
      "training node6 for Round 1 :\n"
     ]
    },
    {
     "name": "stderr",
     "output_type": "stream",
     "text": [
      "Epoch 4: 100%|██████████| 5/5 [00:21<00:00,  4.35s/Epoch]\n"
     ]
    },
    {
     "name": "stdout",
     "output_type": "stream",
     "text": [
      "Training complete in 0m 22s\n",
      "Best val Acc: 0.780000\n",
      "training node7 for Round 1 :\n"
     ]
    },
    {
     "name": "stderr",
     "output_type": "stream",
     "text": [
      "Epoch 4: 100%|██████████| 5/5 [00:19<00:00,  3.96s/Epoch]\n"
     ]
    },
    {
     "name": "stdout",
     "output_type": "stream",
     "text": [
      "Training complete in 0m 20s\n",
      "Best val Acc: 0.820000\n",
      "training node8 for Round 1 :\n"
     ]
    },
    {
     "name": "stderr",
     "output_type": "stream",
     "text": [
      "Epoch 4: 100%|██████████| 5/5 [00:18<00:00,  3.71s/Epoch]\n"
     ]
    },
    {
     "name": "stdout",
     "output_type": "stream",
     "text": [
      "Training complete in 0m 19s\n",
      "Best val Acc: 0.740000\n",
      "training node9 for Round 1 :\n"
     ]
    },
    {
     "name": "stderr",
     "output_type": "stream",
     "text": [
      "Epoch 4: 100%|██████████| 5/5 [00:20<00:00,  4.05s/Epoch]\n"
     ]
    },
    {
     "name": "stdout",
     "output_type": "stream",
     "text": [
      "Training complete in 0m 20s\n",
      "Best val Acc: 0.780000\n",
      "training node10 for Round 1 :\n"
     ]
    },
    {
     "name": "stderr",
     "output_type": "stream",
     "text": [
      "Epoch 4: 100%|██████████| 5/5 [00:18<00:00,  3.76s/Epoch]\n"
     ]
    },
    {
     "name": "stdout",
     "output_type": "stream",
     "text": [
      "Training complete in 0m 19s\n",
      "Best val Acc: 0.840000\n",
      "training node11 for Round 1 :\n"
     ]
    },
    {
     "name": "stderr",
     "output_type": "stream",
     "text": [
      "Epoch 4: 100%|██████████| 5/5 [00:19<00:00,  3.91s/Epoch]\n"
     ]
    },
    {
     "name": "stdout",
     "output_type": "stream",
     "text": [
      "Training complete in 0m 20s\n",
      "Best val Acc: 0.760000\n",
      "training node12 for Round 1 :\n"
     ]
    },
    {
     "name": "stderr",
     "output_type": "stream",
     "text": [
      "Epoch 4: 100%|██████████| 5/5 [00:18<00:00,  3.64s/Epoch]\n"
     ]
    },
    {
     "name": "stdout",
     "output_type": "stream",
     "text": [
      "Training complete in 0m 18s\n",
      "Best val Acc: 0.760000\n",
      "training node13 for Round 1 :\n"
     ]
    },
    {
     "name": "stderr",
     "output_type": "stream",
     "text": [
      "Epoch 4: 100%|██████████| 5/5 [00:17<00:00,  3.56s/Epoch]\n"
     ]
    },
    {
     "name": "stdout",
     "output_type": "stream",
     "text": [
      "Training complete in 0m 18s\n",
      "Best val Acc: 0.780000\n",
      "training node14 for Round 1 :\n"
     ]
    },
    {
     "name": "stderr",
     "output_type": "stream",
     "text": [
      "Epoch 4: 100%|██████████| 5/5 [00:19<00:00,  3.89s/Epoch]\n"
     ]
    },
    {
     "name": "stdout",
     "output_type": "stream",
     "text": [
      "Training complete in 0m 19s\n",
      "Best val Acc: 0.840000\n",
      "training node15 for Round 1 :\n"
     ]
    },
    {
     "name": "stderr",
     "output_type": "stream",
     "text": [
      "Epoch 4: 100%|██████████| 5/5 [00:19<00:00,  3.85s/Epoch]\n"
     ]
    },
    {
     "name": "stdout",
     "output_type": "stream",
     "text": [
      "Training complete in 0m 19s\n",
      "Best val Acc: 0.840000\n",
      "training node16 for Round 1 :\n"
     ]
    },
    {
     "name": "stderr",
     "output_type": "stream",
     "text": [
      "Epoch 4: 100%|██████████| 5/5 [00:18<00:00,  3.60s/Epoch]\n"
     ]
    },
    {
     "name": "stdout",
     "output_type": "stream",
     "text": [
      "Training complete in 0m 18s\n",
      "Best val Acc: 0.820000\n",
      "training node17 for Round 1 :\n"
     ]
    },
    {
     "name": "stderr",
     "output_type": "stream",
     "text": [
      "Epoch 4: 100%|██████████| 5/5 [00:18<00:00,  3.80s/Epoch]\n"
     ]
    },
    {
     "name": "stdout",
     "output_type": "stream",
     "text": [
      "Training complete in 0m 19s\n",
      "Best val Acc: 0.720000\n",
      "training node18 for Round 1 :\n"
     ]
    },
    {
     "name": "stderr",
     "output_type": "stream",
     "text": [
      "Epoch 4: 100%|██████████| 5/5 [00:19<00:00,  3.88s/Epoch]\n"
     ]
    },
    {
     "name": "stdout",
     "output_type": "stream",
     "text": [
      "Training complete in 0m 19s\n",
      "Best val Acc: 0.740000\n",
      "training node19 for Round 1 :\n"
     ]
    },
    {
     "name": "stderr",
     "output_type": "stream",
     "text": [
      "Epoch 4: 100%|██████████| 5/5 [00:18<00:00,  3.68s/Epoch]\n"
     ]
    },
    {
     "name": "stdout",
     "output_type": "stream",
     "text": [
      "Training complete in 0m 18s\n",
      "Best val Acc: 0.740000\n",
      "training node20 for Round 1 :\n"
     ]
    },
    {
     "name": "stderr",
     "output_type": "stream",
     "text": [
      "Epoch 4: 100%|██████████| 5/5 [00:19<00:00,  3.89s/Epoch]\n"
     ]
    },
    {
     "name": "stdout",
     "output_type": "stream",
     "text": [
      "Training complete in 0m 19s\n",
      "Best val Acc: 0.780000\n",
      "training node21 for Round 1 :\n"
     ]
    },
    {
     "name": "stderr",
     "output_type": "stream",
     "text": [
      "Epoch 4: 100%|██████████| 5/5 [00:19<00:00,  3.91s/Epoch]\n"
     ]
    },
    {
     "name": "stdout",
     "output_type": "stream",
     "text": [
      "Training complete in 0m 20s\n",
      "Best val Acc: 0.820000\n",
      "training node22 for Round 1 :\n"
     ]
    },
    {
     "name": "stderr",
     "output_type": "stream",
     "text": [
      "Epoch 4: 100%|██████████| 5/5 [00:19<00:00,  3.91s/Epoch]\n"
     ]
    },
    {
     "name": "stdout",
     "output_type": "stream",
     "text": [
      "Training complete in 0m 20s\n",
      "Best val Acc: 0.820000\n",
      "training node23 for Round 1 :\n"
     ]
    },
    {
     "name": "stderr",
     "output_type": "stream",
     "text": [
      "Epoch 4: 100%|██████████| 5/5 [00:19<00:00,  3.90s/Epoch]\n"
     ]
    },
    {
     "name": "stdout",
     "output_type": "stream",
     "text": [
      "Training complete in 0m 20s\n",
      "Best val Acc: 0.820000\n",
      "training node24 for Round 1 :\n"
     ]
    },
    {
     "name": "stderr",
     "output_type": "stream",
     "text": [
      "Epoch 4: 100%|██████████| 5/5 [00:19<00:00,  3.89s/Epoch]\n"
     ]
    },
    {
     "name": "stdout",
     "output_type": "stream",
     "text": [
      "Training complete in 0m 19s\n",
      "Best val Acc: 0.760000\n",
      "training node25 for Round 1 :\n"
     ]
    },
    {
     "name": "stderr",
     "output_type": "stream",
     "text": [
      "Epoch 4: 100%|██████████| 5/5 [00:17<00:00,  3.56s/Epoch]\n"
     ]
    },
    {
     "name": "stdout",
     "output_type": "stream",
     "text": [
      "Training complete in 0m 18s\n",
      "Best val Acc: 0.780000\n",
      "training node26 for Round 1 :\n"
     ]
    },
    {
     "name": "stderr",
     "output_type": "stream",
     "text": [
      "Epoch 4: 100%|██████████| 5/5 [00:19<00:00,  3.88s/Epoch]\n"
     ]
    },
    {
     "name": "stdout",
     "output_type": "stream",
     "text": [
      "Training complete in 0m 19s\n",
      "Best val Acc: 0.860000\n",
      "training node27 for Round 1 :\n"
     ]
    },
    {
     "name": "stderr",
     "output_type": "stream",
     "text": [
      "Epoch 4: 100%|██████████| 5/5 [00:18<00:00,  3.79s/Epoch]\n"
     ]
    },
    {
     "name": "stdout",
     "output_type": "stream",
     "text": [
      "Training complete in 0m 19s\n",
      "Best val Acc: 0.780000\n",
      "training node28 for Round 1 :\n"
     ]
    },
    {
     "name": "stderr",
     "output_type": "stream",
     "text": [
      "Epoch 4: 100%|██████████| 5/5 [00:19<00:00,  3.92s/Epoch]\n"
     ]
    },
    {
     "name": "stdout",
     "output_type": "stream",
     "text": [
      "Training complete in 0m 20s\n",
      "Best val Acc: 0.760000\n",
      "training node29 for Round 1 :\n"
     ]
    },
    {
     "name": "stderr",
     "output_type": "stream",
     "text": [
      "Epoch 4: 100%|██████████| 5/5 [00:19<00:00,  3.83s/Epoch]\n"
     ]
    },
    {
     "name": "stdout",
     "output_type": "stream",
     "text": [
      "Training complete in 0m 19s\n",
      "Best val Acc: 0.740000\n",
      "training node30 for Round 1 :\n"
     ]
    },
    {
     "name": "stderr",
     "output_type": "stream",
     "text": [
      "Epoch 4: 100%|██████████| 5/5 [00:18<00:00,  3.60s/Epoch]\n"
     ]
    },
    {
     "name": "stdout",
     "output_type": "stream",
     "text": [
      "Training complete in 0m 18s\n",
      "Best val Acc: 0.900000\n",
      "training node31 for Round 1 :\n"
     ]
    },
    {
     "name": "stderr",
     "output_type": "stream",
     "text": [
      "Epoch 4: 100%|██████████| 5/5 [00:17<00:00,  3.58s/Epoch]\n"
     ]
    },
    {
     "name": "stdout",
     "output_type": "stream",
     "text": [
      "Training complete in 0m 18s\n",
      "Best val Acc: 0.800000\n",
      "training node32 for Round 1 :\n"
     ]
    },
    {
     "name": "stderr",
     "output_type": "stream",
     "text": [
      "Epoch 4: 100%|██████████| 5/5 [00:19<00:00,  3.84s/Epoch]\n"
     ]
    },
    {
     "name": "stdout",
     "output_type": "stream",
     "text": [
      "Training complete in 0m 19s\n",
      "Best val Acc: 0.780000\n",
      "training node33 for Round 1 :\n"
     ]
    },
    {
     "name": "stderr",
     "output_type": "stream",
     "text": [
      "Epoch 4: 100%|██████████| 5/5 [00:18<00:00,  3.65s/Epoch]\n"
     ]
    },
    {
     "name": "stdout",
     "output_type": "stream",
     "text": [
      "Training complete in 0m 18s\n",
      "Best val Acc: 0.920000\n",
      "training node34 for Round 1 :\n"
     ]
    },
    {
     "name": "stderr",
     "output_type": "stream",
     "text": [
      "Epoch 4: 100%|██████████| 5/5 [00:18<00:00,  3.69s/Epoch]\n"
     ]
    },
    {
     "name": "stdout",
     "output_type": "stream",
     "text": [
      "Training complete in 0m 18s\n",
      "Best val Acc: 0.840000\n",
      "training node35 for Round 1 :\n"
     ]
    },
    {
     "name": "stderr",
     "output_type": "stream",
     "text": [
      "Epoch 4: 100%|██████████| 5/5 [00:18<00:00,  3.65s/Epoch]\n"
     ]
    },
    {
     "name": "stdout",
     "output_type": "stream",
     "text": [
      "Training complete in 0m 18s\n",
      "Best val Acc: 0.780000\n",
      "training node36 for Round 1 :\n"
     ]
    },
    {
     "name": "stderr",
     "output_type": "stream",
     "text": [
      "Epoch 4: 100%|██████████| 5/5 [00:17<00:00,  3.52s/Epoch]\n"
     ]
    },
    {
     "name": "stdout",
     "output_type": "stream",
     "text": [
      "Training complete in 0m 18s\n",
      "Best val Acc: 0.880000\n",
      "training node37 for Round 1 :\n"
     ]
    },
    {
     "name": "stderr",
     "output_type": "stream",
     "text": [
      "Epoch 4: 100%|██████████| 5/5 [00:18<00:00,  3.60s/Epoch]\n"
     ]
    },
    {
     "name": "stdout",
     "output_type": "stream",
     "text": [
      "Training complete in 0m 18s\n",
      "Best val Acc: 0.900000\n",
      "training node38 for Round 1 :\n"
     ]
    },
    {
     "name": "stderr",
     "output_type": "stream",
     "text": [
      "Epoch 4: 100%|██████████| 5/5 [00:18<00:00,  3.62s/Epoch]\n"
     ]
    },
    {
     "name": "stdout",
     "output_type": "stream",
     "text": [
      "Training complete in 0m 18s\n",
      "Best val Acc: 0.880000\n",
      "training node39 for Round 1 :\n"
     ]
    },
    {
     "name": "stderr",
     "output_type": "stream",
     "text": [
      "Epoch 4: 100%|██████████| 5/5 [00:19<00:00,  3.82s/Epoch]\n"
     ]
    },
    {
     "name": "stdout",
     "output_type": "stream",
     "text": [
      "Training complete in 0m 19s\n",
      "Best val Acc: 0.860000\n",
      "training node40 for Round 1 :\n"
     ]
    },
    {
     "name": "stderr",
     "output_type": "stream",
     "text": [
      "Epoch 4: 100%|██████████| 5/5 [00:17<00:00,  3.55s/Epoch]\n"
     ]
    },
    {
     "name": "stdout",
     "output_type": "stream",
     "text": [
      "Training complete in 0m 18s\n",
      "Best val Acc: 0.820000\n",
      "training node41 for Round 1 :\n"
     ]
    },
    {
     "name": "stderr",
     "output_type": "stream",
     "text": [
      "Epoch 4: 100%|██████████| 5/5 [00:17<00:00,  3.57s/Epoch]\n"
     ]
    },
    {
     "name": "stdout",
     "output_type": "stream",
     "text": [
      "Training complete in 0m 18s\n",
      "Best val Acc: 0.780000\n",
      "training node42 for Round 1 :\n"
     ]
    },
    {
     "name": "stderr",
     "output_type": "stream",
     "text": [
      "Epoch 4: 100%|██████████| 5/5 [00:19<00:00,  3.85s/Epoch]\n"
     ]
    },
    {
     "name": "stdout",
     "output_type": "stream",
     "text": [
      "Training complete in 0m 19s\n",
      "Best val Acc: 0.800000\n",
      "training node43 for Round 1 :\n"
     ]
    },
    {
     "name": "stderr",
     "output_type": "stream",
     "text": [
      "Epoch 4: 100%|██████████| 5/5 [00:17<00:00,  3.52s/Epoch]\n"
     ]
    },
    {
     "name": "stdout",
     "output_type": "stream",
     "text": [
      "Training complete in 0m 18s\n",
      "Best val Acc: 0.760000\n",
      "training node44 for Round 1 :\n"
     ]
    },
    {
     "name": "stderr",
     "output_type": "stream",
     "text": [
      "Epoch 4: 100%|██████████| 5/5 [00:17<00:00,  3.57s/Epoch]\n"
     ]
    },
    {
     "name": "stdout",
     "output_type": "stream",
     "text": [
      "Training complete in 0m 18s\n",
      "Best val Acc: 0.780000\n",
      "training node45 for Round 1 :\n"
     ]
    },
    {
     "name": "stderr",
     "output_type": "stream",
     "text": [
      "Epoch 4: 100%|██████████| 5/5 [00:19<00:00,  3.86s/Epoch]\n"
     ]
    },
    {
     "name": "stdout",
     "output_type": "stream",
     "text": [
      "Training complete in 0m 19s\n",
      "Best val Acc: 0.800000\n",
      "training node46 for Round 1 :\n"
     ]
    },
    {
     "name": "stderr",
     "output_type": "stream",
     "text": [
      "Epoch 4: 100%|██████████| 5/5 [00:19<00:00,  3.88s/Epoch]\n"
     ]
    },
    {
     "name": "stdout",
     "output_type": "stream",
     "text": [
      "Training complete in 0m 19s\n",
      "Best val Acc: 0.560000\n",
      "training node47 for Round 1 :\n"
     ]
    },
    {
     "name": "stderr",
     "output_type": "stream",
     "text": [
      "Epoch 4: 100%|██████████| 5/5 [00:18<00:00,  3.73s/Epoch]\n"
     ]
    },
    {
     "name": "stdout",
     "output_type": "stream",
     "text": [
      "Training complete in 0m 19s\n",
      "Best val Acc: 0.760000\n",
      "training node48 for Round 1 :\n"
     ]
    },
    {
     "name": "stderr",
     "output_type": "stream",
     "text": [
      "Epoch 4: 100%|██████████| 5/5 [00:18<00:00,  3.62s/Epoch]\n"
     ]
    },
    {
     "name": "stdout",
     "output_type": "stream",
     "text": [
      "Training complete in 0m 18s\n",
      "Best val Acc: 0.860000\n",
      "training node49 for Round 1 :\n"
     ]
    },
    {
     "name": "stderr",
     "output_type": "stream",
     "text": [
      "Epoch 4: 100%|██████████| 5/5 [00:19<00:00,  3.93s/Epoch]\n"
     ]
    },
    {
     "name": "stdout",
     "output_type": "stream",
     "text": [
      "Training complete in 0m 20s\n",
      "Best val Acc: 0.820000\n",
      "training node50 for Round 1 :\n"
     ]
    },
    {
     "name": "stderr",
     "output_type": "stream",
     "text": [
      "Epoch 4: 100%|██████████| 5/5 [00:19<00:00,  3.99s/Epoch]\n"
     ]
    },
    {
     "name": "stdout",
     "output_type": "stream",
     "text": [
      "Training complete in 0m 20s\n",
      "Best val Acc: 0.880000\n",
      "training node51 for Round 1 :\n"
     ]
    },
    {
     "name": "stderr",
     "output_type": "stream",
     "text": [
      "Epoch 4: 100%|██████████| 5/5 [00:19<00:00,  3.95s/Epoch]\n"
     ]
    },
    {
     "name": "stdout",
     "output_type": "stream",
     "text": [
      "Training complete in 0m 20s\n",
      "Best val Acc: 0.800000\n",
      "training node52 for Round 1 :\n"
     ]
    },
    {
     "name": "stderr",
     "output_type": "stream",
     "text": [
      "Epoch 4: 100%|██████████| 5/5 [00:18<00:00,  3.69s/Epoch]\n"
     ]
    },
    {
     "name": "stdout",
     "output_type": "stream",
     "text": [
      "Training complete in 0m 18s\n",
      "Best val Acc: 0.760000\n",
      "training node53 for Round 1 :\n"
     ]
    },
    {
     "name": "stderr",
     "output_type": "stream",
     "text": [
      "Epoch 4: 100%|██████████| 5/5 [00:19<00:00,  3.95s/Epoch]\n"
     ]
    },
    {
     "name": "stdout",
     "output_type": "stream",
     "text": [
      "Training complete in 0m 20s\n",
      "Best val Acc: 0.800000\n",
      "training node54 for Round 1 :\n"
     ]
    },
    {
     "name": "stderr",
     "output_type": "stream",
     "text": [
      "Epoch 4: 100%|██████████| 5/5 [00:19<00:00,  3.81s/Epoch]\n"
     ]
    },
    {
     "name": "stdout",
     "output_type": "stream",
     "text": [
      "Training complete in 0m 19s\n",
      "Best val Acc: 0.600000\n",
      "training node55 for Round 1 :\n"
     ]
    },
    {
     "name": "stderr",
     "output_type": "stream",
     "text": [
      "Epoch 4: 100%|██████████| 5/5 [00:19<00:00,  3.92s/Epoch]\n"
     ]
    },
    {
     "name": "stdout",
     "output_type": "stream",
     "text": [
      "Training complete in 0m 20s\n",
      "Best val Acc: 0.820000\n",
      "training node56 for Round 1 :\n"
     ]
    },
    {
     "name": "stderr",
     "output_type": "stream",
     "text": [
      "Epoch 4: 100%|██████████| 5/5 [00:19<00:00,  3.98s/Epoch]\n"
     ]
    },
    {
     "name": "stdout",
     "output_type": "stream",
     "text": [
      "Training complete in 0m 20s\n",
      "Best val Acc: 0.720000\n",
      "training node57 for Round 1 :\n"
     ]
    },
    {
     "name": "stderr",
     "output_type": "stream",
     "text": [
      "Epoch 4: 100%|██████████| 5/5 [00:18<00:00,  3.70s/Epoch]\n"
     ]
    },
    {
     "name": "stdout",
     "output_type": "stream",
     "text": [
      "Training complete in 0m 19s\n",
      "Best val Acc: 0.780000\n",
      "training node58 for Round 1 :\n"
     ]
    },
    {
     "name": "stderr",
     "output_type": "stream",
     "text": [
      "Epoch 4: 100%|██████████| 5/5 [00:19<00:00,  3.93s/Epoch]\n"
     ]
    },
    {
     "name": "stdout",
     "output_type": "stream",
     "text": [
      "Training complete in 0m 20s\n",
      "Best val Acc: 0.860000\n",
      "training node59 for Round 1 :\n"
     ]
    },
    {
     "name": "stderr",
     "output_type": "stream",
     "text": [
      "Epoch 4: 100%|██████████| 5/5 [00:19<00:00,  3.98s/Epoch]\n"
     ]
    },
    {
     "name": "stdout",
     "output_type": "stream",
     "text": [
      "Training complete in 0m 20s\n",
      "Best val Acc: 0.860000\n",
      "training node60 for Round 1 :\n"
     ]
    },
    {
     "name": "stderr",
     "output_type": "stream",
     "text": [
      "Epoch 4: 100%|██████████| 5/5 [00:19<00:00,  3.96s/Epoch]\n"
     ]
    },
    {
     "name": "stdout",
     "output_type": "stream",
     "text": [
      "Training complete in 0m 20s\n",
      "Best val Acc: 0.780000\n",
      "training node61 for Round 1 :\n"
     ]
    },
    {
     "name": "stderr",
     "output_type": "stream",
     "text": [
      "Epoch 4: 100%|██████████| 5/5 [00:19<00:00,  3.87s/Epoch]\n"
     ]
    },
    {
     "name": "stdout",
     "output_type": "stream",
     "text": [
      "Training complete in 0m 19s\n",
      "Best val Acc: 0.800000\n",
      "training node62 for Round 1 :\n"
     ]
    },
    {
     "name": "stderr",
     "output_type": "stream",
     "text": [
      "Epoch 4: 100%|██████████| 5/5 [00:18<00:00,  3.66s/Epoch]\n"
     ]
    },
    {
     "name": "stdout",
     "output_type": "stream",
     "text": [
      "Training complete in 0m 18s\n",
      "Best val Acc: 0.800000\n",
      "training node63 for Round 1 :\n"
     ]
    },
    {
     "name": "stderr",
     "output_type": "stream",
     "text": [
      "Epoch 4: 100%|██████████| 5/5 [00:18<00:00,  3.67s/Epoch]\n"
     ]
    },
    {
     "name": "stdout",
     "output_type": "stream",
     "text": [
      "Training complete in 0m 18s\n",
      "Best val Acc: 0.840000\n",
      "training node64 for Round 1 :\n"
     ]
    },
    {
     "name": "stderr",
     "output_type": "stream",
     "text": [
      "Epoch 4: 100%|██████████| 5/5 [00:20<00:00,  4.00s/Epoch]\n"
     ]
    },
    {
     "name": "stdout",
     "output_type": "stream",
     "text": [
      "Training complete in 0m 20s\n",
      "Best val Acc: 0.780000\n",
      "training node65 for Round 1 :\n"
     ]
    },
    {
     "name": "stderr",
     "output_type": "stream",
     "text": [
      "Epoch 4: 100%|██████████| 5/5 [00:20<00:00,  4.07s/Epoch]\n"
     ]
    },
    {
     "name": "stdout",
     "output_type": "stream",
     "text": [
      "Training complete in 0m 20s\n",
      "Best val Acc: 0.780000\n",
      "training node66 for Round 1 :\n"
     ]
    },
    {
     "name": "stderr",
     "output_type": "stream",
     "text": [
      "Epoch 4: 100%|██████████| 5/5 [00:19<00:00,  3.98s/Epoch]\n"
     ]
    },
    {
     "name": "stdout",
     "output_type": "stream",
     "text": [
      "Training complete in 0m 20s\n",
      "Best val Acc: 0.780000\n",
      "training node67 for Round 1 :\n"
     ]
    },
    {
     "name": "stderr",
     "output_type": "stream",
     "text": [
      "Epoch 4: 100%|██████████| 5/5 [00:18<00:00,  3.73s/Epoch]\n"
     ]
    },
    {
     "name": "stdout",
     "output_type": "stream",
     "text": [
      "Training complete in 0m 19s\n",
      "Best val Acc: 0.780000\n",
      "training node68 for Round 1 :\n"
     ]
    },
    {
     "name": "stderr",
     "output_type": "stream",
     "text": [
      "Epoch 4: 100%|██████████| 5/5 [00:20<00:00,  4.06s/Epoch]\n"
     ]
    },
    {
     "name": "stdout",
     "output_type": "stream",
     "text": [
      "Training complete in 0m 20s\n",
      "Best val Acc: 0.780000\n",
      "training node69 for Round 1 :\n"
     ]
    },
    {
     "name": "stderr",
     "output_type": "stream",
     "text": [
      "Epoch 4: 100%|██████████| 5/5 [00:20<00:00,  4.09s/Epoch]\n"
     ]
    },
    {
     "name": "stdout",
     "output_type": "stream",
     "text": [
      "Training complete in 0m 20s\n",
      "Best val Acc: 0.840000\n",
      "training node70 for Round 1 :\n"
     ]
    },
    {
     "name": "stderr",
     "output_type": "stream",
     "text": [
      "Epoch 4: 100%|██████████| 5/5 [00:19<00:00,  3.99s/Epoch]\n"
     ]
    },
    {
     "name": "stdout",
     "output_type": "stream",
     "text": [
      "Training complete in 0m 20s\n",
      "Best val Acc: 0.840000\n",
      "training node71 for Round 1 :\n"
     ]
    },
    {
     "name": "stderr",
     "output_type": "stream",
     "text": [
      "Epoch 4: 100%|██████████| 5/5 [00:19<00:00,  3.88s/Epoch]\n"
     ]
    },
    {
     "name": "stdout",
     "output_type": "stream",
     "text": [
      "Training complete in 0m 19s\n",
      "Best val Acc: 0.760000\n",
      "training node72 for Round 1 :\n"
     ]
    },
    {
     "name": "stderr",
     "output_type": "stream",
     "text": [
      "Epoch 4: 100%|██████████| 5/5 [00:19<00:00,  3.93s/Epoch]\n"
     ]
    },
    {
     "name": "stdout",
     "output_type": "stream",
     "text": [
      "Training complete in 0m 20s\n",
      "Best val Acc: 0.780000\n",
      "training node73 for Round 1 :\n"
     ]
    },
    {
     "name": "stderr",
     "output_type": "stream",
     "text": [
      "Epoch 4: 100%|██████████| 5/5 [00:19<00:00,  3.93s/Epoch]\n"
     ]
    },
    {
     "name": "stdout",
     "output_type": "stream",
     "text": [
      "Training complete in 0m 20s\n",
      "Best val Acc: 0.820000\n",
      "training node74 for Round 1 :\n"
     ]
    },
    {
     "name": "stderr",
     "output_type": "stream",
     "text": [
      "Epoch 4: 100%|██████████| 5/5 [00:19<00:00,  3.85s/Epoch]\n"
     ]
    },
    {
     "name": "stdout",
     "output_type": "stream",
     "text": [
      "Training complete in 0m 19s\n",
      "Best val Acc: 0.780000\n",
      "training node75 for Round 1 :\n"
     ]
    },
    {
     "name": "stderr",
     "output_type": "stream",
     "text": [
      "Epoch 4: 100%|██████████| 5/5 [00:19<00:00,  3.86s/Epoch]\n"
     ]
    },
    {
     "name": "stdout",
     "output_type": "stream",
     "text": [
      "Training complete in 0m 19s\n",
      "Best val Acc: 0.840000\n",
      "training node76 for Round 1 :\n"
     ]
    },
    {
     "name": "stderr",
     "output_type": "stream",
     "text": [
      "Epoch 4: 100%|██████████| 5/5 [00:19<00:00,  3.99s/Epoch]\n"
     ]
    },
    {
     "name": "stdout",
     "output_type": "stream",
     "text": [
      "Training complete in 0m 20s\n",
      "Best val Acc: 0.760000\n",
      "training node77 for Round 1 :\n"
     ]
    },
    {
     "name": "stderr",
     "output_type": "stream",
     "text": [
      "Epoch 4: 100%|██████████| 5/5 [00:18<00:00,  3.68s/Epoch]\n"
     ]
    },
    {
     "name": "stdout",
     "output_type": "stream",
     "text": [
      "Training complete in 0m 18s\n",
      "Best val Acc: 0.780000\n",
      "training node78 for Round 1 :\n"
     ]
    },
    {
     "name": "stderr",
     "output_type": "stream",
     "text": [
      "Epoch 4: 100%|██████████| 5/5 [00:20<00:00,  4.01s/Epoch]\n"
     ]
    },
    {
     "name": "stdout",
     "output_type": "stream",
     "text": [
      "Training complete in 0m 20s\n",
      "Best val Acc: 0.780000\n",
      "training node79 for Round 1 :\n"
     ]
    },
    {
     "name": "stderr",
     "output_type": "stream",
     "text": [
      "Epoch 4: 100%|██████████| 5/5 [00:19<00:00,  3.98s/Epoch]\n"
     ]
    },
    {
     "name": "stdout",
     "output_type": "stream",
     "text": [
      "Training complete in 0m 20s\n",
      "Best val Acc: 0.680000\n",
      "training node80 for Round 1 :\n"
     ]
    },
    {
     "name": "stderr",
     "output_type": "stream",
     "text": [
      "Epoch 4: 100%|██████████| 5/5 [00:18<00:00,  3.75s/Epoch]\n"
     ]
    },
    {
     "name": "stdout",
     "output_type": "stream",
     "text": [
      "Training complete in 0m 19s\n",
      "Best val Acc: 0.600000\n",
      "training node81 for Round 1 :\n"
     ]
    },
    {
     "name": "stderr",
     "output_type": "stream",
     "text": [
      "Epoch 4: 100%|██████████| 5/5 [00:19<00:00,  4.00s/Epoch]\n"
     ]
    },
    {
     "name": "stdout",
     "output_type": "stream",
     "text": [
      "Training complete in 0m 20s\n",
      "Best val Acc: 0.700000\n",
      "training node82 for Round 1 :\n"
     ]
    },
    {
     "name": "stderr",
     "output_type": "stream",
     "text": [
      "Epoch 4: 100%|██████████| 5/5 [00:18<00:00,  3.76s/Epoch]\n"
     ]
    },
    {
     "name": "stdout",
     "output_type": "stream",
     "text": [
      "Training complete in 0m 19s\n",
      "Best val Acc: 0.720000\n",
      "training node83 for Round 1 :\n"
     ]
    },
    {
     "name": "stderr",
     "output_type": "stream",
     "text": [
      "Epoch 4: 100%|██████████| 5/5 [00:20<00:00,  4.01s/Epoch]\n"
     ]
    },
    {
     "name": "stdout",
     "output_type": "stream",
     "text": [
      "Training complete in 0m 20s\n",
      "Best val Acc: 0.760000\n",
      "training node84 for Round 1 :\n"
     ]
    },
    {
     "name": "stderr",
     "output_type": "stream",
     "text": [
      "Epoch 4: 100%|██████████| 5/5 [00:19<00:00,  3.98s/Epoch]\n"
     ]
    },
    {
     "name": "stdout",
     "output_type": "stream",
     "text": [
      "Training complete in 0m 20s\n",
      "Best val Acc: 0.760000\n",
      "training node85 for Round 1 :\n"
     ]
    },
    {
     "name": "stderr",
     "output_type": "stream",
     "text": [
      "Epoch 4: 100%|██████████| 5/5 [00:19<00:00,  3.93s/Epoch]\n"
     ]
    },
    {
     "name": "stdout",
     "output_type": "stream",
     "text": [
      "Training complete in 0m 20s\n",
      "Best val Acc: 0.700000\n",
      "training node86 for Round 1 :\n"
     ]
    },
    {
     "name": "stderr",
     "output_type": "stream",
     "text": [
      "Epoch 4: 100%|██████████| 5/5 [00:18<00:00,  3.74s/Epoch]\n"
     ]
    },
    {
     "name": "stdout",
     "output_type": "stream",
     "text": [
      "Training complete in 0m 19s\n",
      "Best val Acc: 0.800000\n",
      "training node87 for Round 1 :\n"
     ]
    },
    {
     "name": "stderr",
     "output_type": "stream",
     "text": [
      "Epoch 4: 100%|██████████| 5/5 [00:19<00:00,  3.99s/Epoch]\n"
     ]
    },
    {
     "name": "stdout",
     "output_type": "stream",
     "text": [
      "Training complete in 0m 20s\n",
      "Best val Acc: 0.720000\n",
      "training node88 for Round 1 :\n"
     ]
    },
    {
     "name": "stderr",
     "output_type": "stream",
     "text": [
      "Epoch 4: 100%|██████████| 5/5 [00:19<00:00,  4.00s/Epoch]\n"
     ]
    },
    {
     "name": "stdout",
     "output_type": "stream",
     "text": [
      "Training complete in 0m 20s\n",
      "Best val Acc: 0.740000\n",
      "training node89 for Round 1 :\n"
     ]
    },
    {
     "name": "stderr",
     "output_type": "stream",
     "text": [
      "Epoch 4: 100%|██████████| 5/5 [00:19<00:00,  3.98s/Epoch]\n"
     ]
    },
    {
     "name": "stdout",
     "output_type": "stream",
     "text": [
      "Training complete in 0m 20s\n",
      "Best val Acc: 0.760000\n",
      "training node90 for Round 1 :\n"
     ]
    },
    {
     "name": "stderr",
     "output_type": "stream",
     "text": [
      "Epoch 4: 100%|██████████| 5/5 [00:19<00:00,  3.90s/Epoch]\n"
     ]
    },
    {
     "name": "stdout",
     "output_type": "stream",
     "text": [
      "Training complete in 0m 20s\n",
      "Best val Acc: 0.740000\n",
      "training node91 for Round 1 :\n"
     ]
    },
    {
     "name": "stderr",
     "output_type": "stream",
     "text": [
      "Epoch 4: 100%|██████████| 5/5 [00:19<00:00,  3.99s/Epoch]\n"
     ]
    },
    {
     "name": "stdout",
     "output_type": "stream",
     "text": [
      "Training complete in 0m 20s\n",
      "Best val Acc: 0.740000\n",
      "training node92 for Round 1 :\n"
     ]
    },
    {
     "name": "stderr",
     "output_type": "stream",
     "text": [
      "Epoch 4: 100%|██████████| 5/5 [00:19<00:00,  3.83s/Epoch]\n"
     ]
    },
    {
     "name": "stdout",
     "output_type": "stream",
     "text": [
      "Training complete in 0m 19s\n",
      "Best val Acc: 0.580000\n",
      "training node93 for Round 1 :\n"
     ]
    },
    {
     "name": "stderr",
     "output_type": "stream",
     "text": [
      "Epoch 4: 100%|██████████| 5/5 [00:18<00:00,  3.65s/Epoch]\n"
     ]
    },
    {
     "name": "stdout",
     "output_type": "stream",
     "text": [
      "Training complete in 0m 18s\n",
      "Best val Acc: 0.780000\n",
      "training node94 for Round 1 :\n"
     ]
    },
    {
     "name": "stderr",
     "output_type": "stream",
     "text": [
      "Epoch 4: 100%|██████████| 5/5 [00:19<00:00,  3.86s/Epoch]\n"
     ]
    },
    {
     "name": "stdout",
     "output_type": "stream",
     "text": [
      "Training complete in 0m 19s\n",
      "Best val Acc: 0.880000\n",
      "training node95 for Round 1 :\n"
     ]
    },
    {
     "name": "stderr",
     "output_type": "stream",
     "text": [
      "Epoch 4: 100%|██████████| 5/5 [00:17<00:00,  3.58s/Epoch]\n"
     ]
    },
    {
     "name": "stdout",
     "output_type": "stream",
     "text": [
      "Training complete in 0m 18s\n",
      "Best val Acc: 0.740000\n",
      "training node96 for Round 1 :\n"
     ]
    },
    {
     "name": "stderr",
     "output_type": "stream",
     "text": [
      "Epoch 4: 100%|██████████| 5/5 [00:17<00:00,  3.59s/Epoch]\n"
     ]
    },
    {
     "name": "stdout",
     "output_type": "stream",
     "text": [
      "Training complete in 0m 18s\n",
      "Best val Acc: 0.740000\n",
      "training node97 for Round 1 :\n"
     ]
    },
    {
     "name": "stderr",
     "output_type": "stream",
     "text": [
      "Epoch 4: 100%|██████████| 5/5 [00:19<00:00,  3.90s/Epoch]\n"
     ]
    },
    {
     "name": "stdout",
     "output_type": "stream",
     "text": [
      "Training complete in 0m 20s\n",
      "Best val Acc: 0.840000\n",
      "training node98 for Round 1 :\n"
     ]
    },
    {
     "name": "stderr",
     "output_type": "stream",
     "text": [
      "Epoch 4: 100%|██████████| 5/5 [00:19<00:00,  3.92s/Epoch]\n"
     ]
    },
    {
     "name": "stdout",
     "output_type": "stream",
     "text": [
      "Training complete in 0m 20s\n",
      "Best val Acc: 0.680000\n",
      "training node99 for Round 1 :\n"
     ]
    },
    {
     "name": "stderr",
     "output_type": "stream",
     "text": [
      "Epoch 4: 100%|██████████| 5/5 [00:19<00:00,  3.90s/Epoch]\n"
     ]
    },
    {
     "name": "stdout",
     "output_type": "stream",
     "text": [
      "Training complete in 0m 20s\n",
      "Best val Acc: 0.780000\n",
      "Fedavg of main model in round 1\n",
      "For Round 0 :, acc : 0.6920856386817417, acc0 : 0.7612244897959184 , acc1:0.9180616740088106 , acc2:0.5513565891472868, acc3 :0.5148514851485149 \n",
      "Round 2\n",
      "Sending main model to nodes in round 2\n",
      "training node0 for Round 2 :\n"
     ]
    },
    {
     "name": "stderr",
     "output_type": "stream",
     "text": [
      "Epoch 4: 100%|██████████| 5/5 [00:19<00:00,  3.90s/Epoch]\n"
     ]
    },
    {
     "name": "stdout",
     "output_type": "stream",
     "text": [
      "Training complete in 0m 20s\n",
      "Best val Acc: 0.800000\n",
      "training node1 for Round 2 :\n"
     ]
    },
    {
     "name": "stderr",
     "output_type": "stream",
     "text": [
      "Epoch 4: 100%|██████████| 5/5 [00:20<00:00,  4.03s/Epoch]\n"
     ]
    },
    {
     "name": "stdout",
     "output_type": "stream",
     "text": [
      "Training complete in 0m 20s\n",
      "Best val Acc: 0.860000\n",
      "training node2 for Round 2 :\n"
     ]
    },
    {
     "name": "stderr",
     "output_type": "stream",
     "text": [
      "Epoch 4: 100%|██████████| 5/5 [00:19<00:00,  3.95s/Epoch]\n"
     ]
    },
    {
     "name": "stdout",
     "output_type": "stream",
     "text": [
      "Training complete in 0m 20s\n",
      "Best val Acc: 0.820000\n",
      "training node3 for Round 2 :\n"
     ]
    },
    {
     "name": "stderr",
     "output_type": "stream",
     "text": [
      "Epoch 4: 100%|██████████| 5/5 [00:19<00:00,  3.91s/Epoch]\n"
     ]
    },
    {
     "name": "stdout",
     "output_type": "stream",
     "text": [
      "Training complete in 0m 20s\n",
      "Best val Acc: 0.880000\n",
      "training node4 for Round 2 :\n"
     ]
    },
    {
     "name": "stderr",
     "output_type": "stream",
     "text": [
      "Epoch 4: 100%|██████████| 5/5 [00:19<00:00,  3.99s/Epoch]\n"
     ]
    },
    {
     "name": "stdout",
     "output_type": "stream",
     "text": [
      "Training complete in 0m 20s\n",
      "Best val Acc: 0.740000\n",
      "training node5 for Round 2 :\n"
     ]
    },
    {
     "name": "stderr",
     "output_type": "stream",
     "text": [
      "Epoch 4: 100%|██████████| 5/5 [00:20<00:00,  4.03s/Epoch]\n"
     ]
    },
    {
     "name": "stdout",
     "output_type": "stream",
     "text": [
      "Training complete in 0m 20s\n",
      "Best val Acc: 0.880000\n",
      "training node6 for Round 2 :\n"
     ]
    },
    {
     "name": "stderr",
     "output_type": "stream",
     "text": [
      "Epoch 4: 100%|██████████| 5/5 [00:19<00:00,  3.91s/Epoch]\n"
     ]
    },
    {
     "name": "stdout",
     "output_type": "stream",
     "text": [
      "Training complete in 0m 20s\n",
      "Best val Acc: 0.840000\n",
      "training node7 for Round 2 :\n"
     ]
    },
    {
     "name": "stderr",
     "output_type": "stream",
     "text": [
      "Epoch 4: 100%|██████████| 5/5 [00:19<00:00,  3.83s/Epoch]\n"
     ]
    },
    {
     "name": "stdout",
     "output_type": "stream",
     "text": [
      "Training complete in 0m 19s\n",
      "Best val Acc: 0.740000\n",
      "training node8 for Round 2 :\n"
     ]
    },
    {
     "name": "stderr",
     "output_type": "stream",
     "text": [
      "Epoch 4: 100%|██████████| 5/5 [00:18<00:00,  3.64s/Epoch]\n"
     ]
    },
    {
     "name": "stdout",
     "output_type": "stream",
     "text": [
      "Training complete in 0m 18s\n",
      "Best val Acc: 0.740000\n",
      "training node9 for Round 2 :\n"
     ]
    },
    {
     "name": "stderr",
     "output_type": "stream",
     "text": [
      "Epoch 4: 100%|██████████| 5/5 [00:20<00:00,  4.02s/Epoch]\n"
     ]
    },
    {
     "name": "stdout",
     "output_type": "stream",
     "text": [
      "Training complete in 0m 20s\n",
      "Best val Acc: 0.820000\n",
      "training node10 for Round 2 :\n"
     ]
    },
    {
     "name": "stderr",
     "output_type": "stream",
     "text": [
      "Epoch 4: 100%|██████████| 5/5 [00:18<00:00,  3.71s/Epoch]\n"
     ]
    },
    {
     "name": "stdout",
     "output_type": "stream",
     "text": [
      "Training complete in 0m 19s\n",
      "Best val Acc: 0.880000\n",
      "training node11 for Round 2 :\n"
     ]
    },
    {
     "name": "stderr",
     "output_type": "stream",
     "text": [
      "Epoch 4: 100%|██████████| 5/5 [00:19<00:00,  3.98s/Epoch]\n"
     ]
    },
    {
     "name": "stdout",
     "output_type": "stream",
     "text": [
      "Training complete in 0m 20s\n",
      "Best val Acc: 0.820000\n",
      "training node12 for Round 2 :\n"
     ]
    },
    {
     "name": "stderr",
     "output_type": "stream",
     "text": [
      "Epoch 4: 100%|██████████| 5/5 [00:18<00:00,  3.72s/Epoch]\n"
     ]
    },
    {
     "name": "stdout",
     "output_type": "stream",
     "text": [
      "Training complete in 0m 19s\n",
      "Best val Acc: 0.800000\n",
      "training node13 for Round 2 :\n"
     ]
    },
    {
     "name": "stderr",
     "output_type": "stream",
     "text": [
      "Epoch 4: 100%|██████████| 5/5 [00:18<00:00,  3.67s/Epoch]\n"
     ]
    },
    {
     "name": "stdout",
     "output_type": "stream",
     "text": [
      "Training complete in 0m 18s\n",
      "Best val Acc: 0.780000\n",
      "training node14 for Round 2 :\n"
     ]
    },
    {
     "name": "stderr",
     "output_type": "stream",
     "text": [
      "Epoch 4: 100%|██████████| 5/5 [00:20<00:00,  4.02s/Epoch]\n"
     ]
    },
    {
     "name": "stdout",
     "output_type": "stream",
     "text": [
      "Training complete in 0m 20s\n",
      "Best val Acc: 0.840000\n",
      "training node15 for Round 2 :\n"
     ]
    },
    {
     "name": "stderr",
     "output_type": "stream",
     "text": [
      "Epoch 4: 100%|██████████| 5/5 [00:19<00:00,  3.99s/Epoch]\n"
     ]
    },
    {
     "name": "stdout",
     "output_type": "stream",
     "text": [
      "Training complete in 0m 20s\n",
      "Best val Acc: 0.860000\n",
      "training node16 for Round 2 :\n"
     ]
    },
    {
     "name": "stderr",
     "output_type": "stream",
     "text": [
      "Epoch 4: 100%|██████████| 5/5 [00:18<00:00,  3.74s/Epoch]\n"
     ]
    },
    {
     "name": "stdout",
     "output_type": "stream",
     "text": [
      "Training complete in 0m 19s\n",
      "Best val Acc: 0.860000\n",
      "training node17 for Round 2 :\n"
     ]
    },
    {
     "name": "stderr",
     "output_type": "stream",
     "text": [
      "Epoch 4: 100%|██████████| 5/5 [00:19<00:00,  3.97s/Epoch]\n"
     ]
    },
    {
     "name": "stdout",
     "output_type": "stream",
     "text": [
      "Training complete in 0m 20s\n",
      "Best val Acc: 0.800000\n",
      "training node18 for Round 2 :\n"
     ]
    },
    {
     "name": "stderr",
     "output_type": "stream",
     "text": [
      "Epoch 4: 100%|██████████| 5/5 [00:20<00:00,  4.04s/Epoch]\n"
     ]
    },
    {
     "name": "stdout",
     "output_type": "stream",
     "text": [
      "Training complete in 0m 20s\n",
      "Best val Acc: 0.800000\n",
      "training node19 for Round 2 :\n"
     ]
    },
    {
     "name": "stderr",
     "output_type": "stream",
     "text": [
      "Epoch 4: 100%|██████████| 5/5 [00:19<00:00,  3.95s/Epoch]\n"
     ]
    },
    {
     "name": "stdout",
     "output_type": "stream",
     "text": [
      "Training complete in 0m 20s\n",
      "Best val Acc: 0.620000\n",
      "training node20 for Round 2 :\n"
     ]
    },
    {
     "name": "stderr",
     "output_type": "stream",
     "text": [
      "Epoch 4: 100%|██████████| 5/5 [00:20<00:00,  4.10s/Epoch]\n"
     ]
    },
    {
     "name": "stdout",
     "output_type": "stream",
     "text": [
      "Training complete in 0m 21s\n",
      "Best val Acc: 0.820000\n",
      "training node21 for Round 2 :\n"
     ]
    },
    {
     "name": "stderr",
     "output_type": "stream",
     "text": [
      "Epoch 4: 100%|██████████| 5/5 [00:20<00:00,  4.06s/Epoch]\n"
     ]
    },
    {
     "name": "stdout",
     "output_type": "stream",
     "text": [
      "Training complete in 0m 20s\n",
      "Best val Acc: 0.860000\n",
      "training node22 for Round 2 :\n"
     ]
    },
    {
     "name": "stderr",
     "output_type": "stream",
     "text": [
      "Epoch 4: 100%|██████████| 5/5 [00:20<00:00,  4.04s/Epoch]\n"
     ]
    },
    {
     "name": "stdout",
     "output_type": "stream",
     "text": [
      "Training complete in 0m 20s\n",
      "Best val Acc: 0.860000\n",
      "training node23 for Round 2 :\n"
     ]
    },
    {
     "name": "stderr",
     "output_type": "stream",
     "text": [
      "Epoch 4: 100%|██████████| 5/5 [00:20<00:00,  4.04s/Epoch]\n"
     ]
    },
    {
     "name": "stdout",
     "output_type": "stream",
     "text": [
      "Training complete in 0m 20s\n",
      "Best val Acc: 0.840000\n",
      "training node24 for Round 2 :\n"
     ]
    },
    {
     "name": "stderr",
     "output_type": "stream",
     "text": [
      "Epoch 4: 100%|██████████| 5/5 [00:20<00:00,  4.03s/Epoch]\n"
     ]
    },
    {
     "name": "stdout",
     "output_type": "stream",
     "text": [
      "Training complete in 0m 20s\n",
      "Best val Acc: 0.740000\n",
      "training node25 for Round 2 :\n"
     ]
    },
    {
     "name": "stderr",
     "output_type": "stream",
     "text": [
      "Epoch 4: 100%|██████████| 5/5 [00:18<00:00,  3.78s/Epoch]\n"
     ]
    },
    {
     "name": "stdout",
     "output_type": "stream",
     "text": [
      "Training complete in 0m 19s\n",
      "Best val Acc: 0.740000\n",
      "training node26 for Round 2 :\n"
     ]
    },
    {
     "name": "stderr",
     "output_type": "stream",
     "text": [
      "Epoch 4: 100%|██████████| 5/5 [00:20<00:00,  4.09s/Epoch]\n"
     ]
    },
    {
     "name": "stdout",
     "output_type": "stream",
     "text": [
      "Training complete in 0m 20s\n",
      "Best val Acc: 0.840000\n",
      "training node27 for Round 2 :\n"
     ]
    },
    {
     "name": "stderr",
     "output_type": "stream",
     "text": [
      "Epoch 4: 100%|██████████| 5/5 [00:20<00:00,  4.01s/Epoch]\n"
     ]
    },
    {
     "name": "stdout",
     "output_type": "stream",
     "text": [
      "Training complete in 0m 20s\n",
      "Best val Acc: 0.760000\n",
      "training node28 for Round 2 :\n"
     ]
    },
    {
     "name": "stderr",
     "output_type": "stream",
     "text": [
      "Epoch 4: 100%|██████████| 5/5 [00:20<00:00,  4.06s/Epoch]\n"
     ]
    },
    {
     "name": "stdout",
     "output_type": "stream",
     "text": [
      "Training complete in 0m 20s\n",
      "Best val Acc: 0.840000\n",
      "training node29 for Round 2 :\n"
     ]
    },
    {
     "name": "stderr",
     "output_type": "stream",
     "text": [
      "Epoch 4: 100%|██████████| 5/5 [00:19<00:00,  3.95s/Epoch]\n"
     ]
    },
    {
     "name": "stdout",
     "output_type": "stream",
     "text": [
      "Training complete in 0m 20s\n",
      "Best val Acc: 0.840000\n",
      "training node30 for Round 2 :\n"
     ]
    },
    {
     "name": "stderr",
     "output_type": "stream",
     "text": [
      "Epoch 4: 100%|██████████| 5/5 [00:18<00:00,  3.77s/Epoch]\n"
     ]
    },
    {
     "name": "stdout",
     "output_type": "stream",
     "text": [
      "Training complete in 0m 19s\n",
      "Best val Acc: 0.940000\n",
      "training node31 for Round 2 :\n"
     ]
    },
    {
     "name": "stderr",
     "output_type": "stream",
     "text": [
      "Epoch 4: 100%|██████████| 5/5 [00:18<00:00,  3.70s/Epoch]\n"
     ]
    },
    {
     "name": "stdout",
     "output_type": "stream",
     "text": [
      "Training complete in 0m 19s\n",
      "Best val Acc: 0.820000\n",
      "training node32 for Round 2 :\n"
     ]
    },
    {
     "name": "stderr",
     "output_type": "stream",
     "text": [
      "Epoch 4: 100%|██████████| 5/5 [00:19<00:00,  3.95s/Epoch]\n"
     ]
    },
    {
     "name": "stdout",
     "output_type": "stream",
     "text": [
      "Training complete in 0m 20s\n",
      "Best val Acc: 0.780000\n",
      "training node33 for Round 2 :\n"
     ]
    },
    {
     "name": "stderr",
     "output_type": "stream",
     "text": [
      "Epoch 4: 100%|██████████| 5/5 [00:18<00:00,  3.75s/Epoch]\n"
     ]
    },
    {
     "name": "stdout",
     "output_type": "stream",
     "text": [
      "Training complete in 0m 19s\n",
      "Best val Acc: 0.860000\n",
      "training node34 for Round 2 :\n"
     ]
    },
    {
     "name": "stderr",
     "output_type": "stream",
     "text": [
      "Epoch 4: 100%|██████████| 5/5 [00:18<00:00,  3.77s/Epoch]\n"
     ]
    },
    {
     "name": "stdout",
     "output_type": "stream",
     "text": [
      "Training complete in 0m 19s\n",
      "Best val Acc: 0.860000\n",
      "training node35 for Round 2 :\n"
     ]
    },
    {
     "name": "stderr",
     "output_type": "stream",
     "text": [
      "Epoch 4: 100%|██████████| 5/5 [00:19<00:00,  3.82s/Epoch]\n"
     ]
    },
    {
     "name": "stdout",
     "output_type": "stream",
     "text": [
      "Training complete in 0m 19s\n",
      "Best val Acc: 0.800000\n",
      "training node36 for Round 2 :\n"
     ]
    },
    {
     "name": "stderr",
     "output_type": "stream",
     "text": [
      "Epoch 4: 100%|██████████| 5/5 [00:18<00:00,  3.63s/Epoch]\n"
     ]
    },
    {
     "name": "stdout",
     "output_type": "stream",
     "text": [
      "Training complete in 0m 18s\n",
      "Best val Acc: 0.900000\n",
      "training node37 for Round 2 :\n"
     ]
    },
    {
     "name": "stderr",
     "output_type": "stream",
     "text": [
      "Epoch 4: 100%|██████████| 5/5 [00:18<00:00,  3.77s/Epoch]\n"
     ]
    },
    {
     "name": "stdout",
     "output_type": "stream",
     "text": [
      "Training complete in 0m 19s\n",
      "Best val Acc: 0.880000\n",
      "training node38 for Round 2 :\n"
     ]
    },
    {
     "name": "stderr",
     "output_type": "stream",
     "text": [
      "Epoch 4: 100%|██████████| 5/5 [00:18<00:00,  3.75s/Epoch]\n"
     ]
    },
    {
     "name": "stdout",
     "output_type": "stream",
     "text": [
      "Training complete in 0m 19s\n",
      "Best val Acc: 0.860000\n",
      "training node39 for Round 2 :\n"
     ]
    },
    {
     "name": "stderr",
     "output_type": "stream",
     "text": [
      "Epoch 4: 100%|██████████| 5/5 [00:19<00:00,  3.94s/Epoch]\n"
     ]
    },
    {
     "name": "stdout",
     "output_type": "stream",
     "text": [
      "Training complete in 0m 20s\n",
      "Best val Acc: 0.840000\n",
      "training node40 for Round 2 :\n"
     ]
    },
    {
     "name": "stderr",
     "output_type": "stream",
     "text": [
      "Epoch 4: 100%|██████████| 5/5 [00:18<00:00,  3.68s/Epoch]\n"
     ]
    },
    {
     "name": "stdout",
     "output_type": "stream",
     "text": [
      "Training complete in 0m 18s\n",
      "Best val Acc: 0.840000\n",
      "training node41 for Round 2 :\n"
     ]
    },
    {
     "name": "stderr",
     "output_type": "stream",
     "text": [
      "Epoch 4: 100%|██████████| 5/5 [00:19<00:00,  3.90s/Epoch]\n"
     ]
    },
    {
     "name": "stdout",
     "output_type": "stream",
     "text": [
      "Training complete in 0m 20s\n",
      "Best val Acc: 0.800000\n",
      "training node42 for Round 2 :\n"
     ]
    },
    {
     "name": "stderr",
     "output_type": "stream",
     "text": [
      "Epoch 4: 100%|██████████| 5/5 [00:20<00:00,  4.00s/Epoch]\n"
     ]
    },
    {
     "name": "stdout",
     "output_type": "stream",
     "text": [
      "Training complete in 0m 20s\n",
      "Best val Acc: 0.820000\n",
      "training node43 for Round 2 :\n"
     ]
    },
    {
     "name": "stderr",
     "output_type": "stream",
     "text": [
      "Epoch 4: 100%|██████████| 5/5 [00:18<00:00,  3.66s/Epoch]\n"
     ]
    },
    {
     "name": "stdout",
     "output_type": "stream",
     "text": [
      "Training complete in 0m 18s\n",
      "Best val Acc: 0.840000\n",
      "training node44 for Round 2 :\n"
     ]
    },
    {
     "name": "stderr",
     "output_type": "stream",
     "text": [
      "Epoch 4: 100%|██████████| 5/5 [00:19<00:00,  3.81s/Epoch]\n"
     ]
    },
    {
     "name": "stdout",
     "output_type": "stream",
     "text": [
      "Training complete in 0m 19s\n",
      "Best val Acc: 0.780000\n",
      "training node45 for Round 2 :\n"
     ]
    },
    {
     "name": "stderr",
     "output_type": "stream",
     "text": [
      "Epoch 4: 100%|██████████| 5/5 [00:20<00:00,  4.12s/Epoch]\n"
     ]
    },
    {
     "name": "stdout",
     "output_type": "stream",
     "text": [
      "Training complete in 0m 21s\n",
      "Best val Acc: 0.880000\n",
      "training node46 for Round 2 :\n"
     ]
    },
    {
     "name": "stderr",
     "output_type": "stream",
     "text": [
      "Epoch 4: 100%|██████████| 5/5 [00:22<00:00,  4.45s/Epoch]\n"
     ]
    },
    {
     "name": "stdout",
     "output_type": "stream",
     "text": [
      "Training complete in 0m 22s\n",
      "Best val Acc: 0.480000\n",
      "training node47 for Round 2 :\n"
     ]
    },
    {
     "name": "stderr",
     "output_type": "stream",
     "text": [
      "Epoch 4: 100%|██████████| 5/5 [00:20<00:00,  4.16s/Epoch]\n"
     ]
    },
    {
     "name": "stdout",
     "output_type": "stream",
     "text": [
      "Training complete in 0m 21s\n",
      "Best val Acc: 0.800000\n",
      "training node48 for Round 2 :\n"
     ]
    },
    {
     "name": "stderr",
     "output_type": "stream",
     "text": [
      "Epoch 4: 100%|██████████| 5/5 [00:18<00:00,  3.65s/Epoch]\n"
     ]
    },
    {
     "name": "stdout",
     "output_type": "stream",
     "text": [
      "Training complete in 0m 18s\n",
      "Best val Acc: 0.880000\n",
      "training node49 for Round 2 :\n"
     ]
    },
    {
     "name": "stderr",
     "output_type": "stream",
     "text": [
      "Epoch 4: 100%|██████████| 5/5 [00:20<00:00,  4.04s/Epoch]\n"
     ]
    },
    {
     "name": "stdout",
     "output_type": "stream",
     "text": [
      "Training complete in 0m 20s\n",
      "Best val Acc: 0.840000\n",
      "training node50 for Round 2 :\n"
     ]
    },
    {
     "name": "stderr",
     "output_type": "stream",
     "text": [
      "Epoch 4: 100%|██████████| 5/5 [00:21<00:00,  4.25s/Epoch]\n"
     ]
    },
    {
     "name": "stdout",
     "output_type": "stream",
     "text": [
      "Training complete in 0m 21s\n",
      "Best val Acc: 0.900000\n",
      "training node51 for Round 2 :\n"
     ]
    },
    {
     "name": "stderr",
     "output_type": "stream",
     "text": [
      "Epoch 4: 100%|██████████| 5/5 [00:17<00:00,  3.50s/Epoch]\n"
     ]
    },
    {
     "name": "stdout",
     "output_type": "stream",
     "text": [
      "Training complete in 0m 18s\n",
      "Best val Acc: 0.800000\n",
      "training node52 for Round 2 :\n"
     ]
    },
    {
     "name": "stderr",
     "output_type": "stream",
     "text": [
      "Epoch 4: 100%|██████████| 5/5 [00:17<00:00,  3.44s/Epoch]\n"
     ]
    },
    {
     "name": "stdout",
     "output_type": "stream",
     "text": [
      "Training complete in 0m 17s\n",
      "Best val Acc: 0.780000\n",
      "training node53 for Round 2 :\n"
     ]
    },
    {
     "name": "stderr",
     "output_type": "stream",
     "text": [
      "Epoch 4: 100%|██████████| 5/5 [00:19<00:00,  3.97s/Epoch]\n"
     ]
    },
    {
     "name": "stdout",
     "output_type": "stream",
     "text": [
      "Training complete in 0m 20s\n",
      "Best val Acc: 0.820000\n",
      "training node54 for Round 2 :\n"
     ]
    },
    {
     "name": "stderr",
     "output_type": "stream",
     "text": [
      "Epoch 4: 100%|██████████| 5/5 [00:22<00:00,  4.46s/Epoch]\n"
     ]
    },
    {
     "name": "stdout",
     "output_type": "stream",
     "text": [
      "Training complete in 0m 22s\n",
      "Best val Acc: 0.620000\n",
      "training node55 for Round 2 :\n"
     ]
    },
    {
     "name": "stderr",
     "output_type": "stream",
     "text": [
      "Epoch 4: 100%|██████████| 5/5 [00:21<00:00,  4.34s/Epoch]\n"
     ]
    },
    {
     "name": "stdout",
     "output_type": "stream",
     "text": [
      "Training complete in 0m 22s\n",
      "Best val Acc: 0.780000\n",
      "training node56 for Round 2 :\n"
     ]
    },
    {
     "name": "stderr",
     "output_type": "stream",
     "text": [
      "Epoch 4: 100%|██████████| 5/5 [00:19<00:00,  3.95s/Epoch]\n"
     ]
    },
    {
     "name": "stdout",
     "output_type": "stream",
     "text": [
      "Training complete in 0m 20s\n",
      "Best val Acc: 0.780000\n",
      "training node57 for Round 2 :\n"
     ]
    },
    {
     "name": "stderr",
     "output_type": "stream",
     "text": [
      "Epoch 4: 100%|██████████| 5/5 [00:20<00:00,  4.05s/Epoch]\n"
     ]
    },
    {
     "name": "stdout",
     "output_type": "stream",
     "text": [
      "Training complete in 0m 20s\n",
      "Best val Acc: 0.760000\n",
      "training node58 for Round 2 :\n"
     ]
    },
    {
     "name": "stderr",
     "output_type": "stream",
     "text": [
      "Epoch 4: 100%|██████████| 5/5 [00:29<00:00,  5.89s/Epoch]\n"
     ]
    },
    {
     "name": "stdout",
     "output_type": "stream",
     "text": [
      "Training complete in 0m 29s\n",
      "Best val Acc: 0.880000\n",
      "training node59 for Round 2 :\n"
     ]
    },
    {
     "name": "stderr",
     "output_type": "stream",
     "text": [
      "Epoch 4: 100%|██████████| 5/5 [00:23<00:00,  4.61s/Epoch]\n"
     ]
    },
    {
     "name": "stdout",
     "output_type": "stream",
     "text": [
      "Training complete in 0m 23s\n",
      "Best val Acc: 0.840000\n",
      "training node60 for Round 2 :\n"
     ]
    },
    {
     "name": "stderr",
     "output_type": "stream",
     "text": [
      "Epoch 4: 100%|██████████| 5/5 [00:17<00:00,  3.40s/Epoch]\n"
     ]
    },
    {
     "name": "stdout",
     "output_type": "stream",
     "text": [
      "Training complete in 0m 17s\n",
      "Best val Acc: 0.840000\n",
      "training node61 for Round 2 :\n"
     ]
    },
    {
     "name": "stderr",
     "output_type": "stream",
     "text": [
      "Epoch 4: 100%|██████████| 5/5 [00:16<00:00,  3.29s/Epoch]\n"
     ]
    },
    {
     "name": "stdout",
     "output_type": "stream",
     "text": [
      "Training complete in 0m 16s\n",
      "Best val Acc: 0.760000\n",
      "training node62 for Round 2 :\n"
     ]
    },
    {
     "name": "stderr",
     "output_type": "stream",
     "text": [
      "Epoch 4: 100%|██████████| 5/5 [00:15<00:00,  3.14s/Epoch]\n"
     ]
    },
    {
     "name": "stdout",
     "output_type": "stream",
     "text": [
      "Training complete in 0m 16s\n",
      "Best val Acc: 0.860000\n",
      "training node63 for Round 2 :\n"
     ]
    },
    {
     "name": "stderr",
     "output_type": "stream",
     "text": [
      "Epoch 4: 100%|██████████| 5/5 [00:15<00:00,  3.13s/Epoch]\n"
     ]
    },
    {
     "name": "stdout",
     "output_type": "stream",
     "text": [
      "Training complete in 0m 16s\n",
      "Best val Acc: 0.820000\n",
      "training node64 for Round 2 :\n"
     ]
    },
    {
     "name": "stderr",
     "output_type": "stream",
     "text": [
      "Epoch 4: 100%|██████████| 5/5 [00:17<00:00,  3.55s/Epoch]\n"
     ]
    },
    {
     "name": "stdout",
     "output_type": "stream",
     "text": [
      "Training complete in 0m 18s\n",
      "Best val Acc: 0.800000\n",
      "training node65 for Round 2 :\n"
     ]
    },
    {
     "name": "stderr",
     "output_type": "stream",
     "text": [
      "Epoch 4: 100%|██████████| 5/5 [00:17<00:00,  3.56s/Epoch]\n"
     ]
    },
    {
     "name": "stdout",
     "output_type": "stream",
     "text": [
      "Training complete in 0m 18s\n",
      "Best val Acc: 0.840000\n",
      "training node66 for Round 2 :\n"
     ]
    },
    {
     "name": "stderr",
     "output_type": "stream",
     "text": [
      "Epoch 4: 100%|██████████| 5/5 [00:17<00:00,  3.50s/Epoch]\n"
     ]
    },
    {
     "name": "stdout",
     "output_type": "stream",
     "text": [
      "Training complete in 0m 18s\n",
      "Best val Acc: 0.780000\n",
      "training node67 for Round 2 :\n"
     ]
    },
    {
     "name": "stderr",
     "output_type": "stream",
     "text": [
      "Epoch 4: 100%|██████████| 5/5 [00:16<00:00,  3.25s/Epoch]\n"
     ]
    },
    {
     "name": "stdout",
     "output_type": "stream",
     "text": [
      "Training complete in 0m 16s\n",
      "Best val Acc: 0.780000\n",
      "training node68 for Round 2 :\n"
     ]
    },
    {
     "name": "stderr",
     "output_type": "stream",
     "text": [
      "Epoch 4: 100%|██████████| 5/5 [00:18<00:00,  3.68s/Epoch]\n"
     ]
    },
    {
     "name": "stdout",
     "output_type": "stream",
     "text": [
      "Training complete in 0m 18s\n",
      "Best val Acc: 0.780000\n",
      "training node69 for Round 2 :\n"
     ]
    },
    {
     "name": "stderr",
     "output_type": "stream",
     "text": [
      "Epoch 4: 100%|██████████| 5/5 [00:19<00:00,  3.91s/Epoch]\n"
     ]
    },
    {
     "name": "stdout",
     "output_type": "stream",
     "text": [
      "Training complete in 0m 20s\n",
      "Best val Acc: 0.860000\n",
      "training node70 for Round 2 :\n"
     ]
    },
    {
     "name": "stderr",
     "output_type": "stream",
     "text": [
      "Epoch 4: 100%|██████████| 5/5 [00:19<00:00,  3.93s/Epoch]\n"
     ]
    },
    {
     "name": "stdout",
     "output_type": "stream",
     "text": [
      "Training complete in 0m 20s\n",
      "Best val Acc: 0.840000\n",
      "training node71 for Round 2 :\n"
     ]
    },
    {
     "name": "stderr",
     "output_type": "stream",
     "text": [
      "Epoch 4: 100%|██████████| 5/5 [00:19<00:00,  3.92s/Epoch]\n"
     ]
    },
    {
     "name": "stdout",
     "output_type": "stream",
     "text": [
      "Training complete in 0m 20s\n",
      "Best val Acc: 0.760000\n",
      "training node72 for Round 2 :\n"
     ]
    },
    {
     "name": "stderr",
     "output_type": "stream",
     "text": [
      "Epoch 4: 100%|██████████| 5/5 [00:19<00:00,  3.96s/Epoch]\n"
     ]
    },
    {
     "name": "stdout",
     "output_type": "stream",
     "text": [
      "Training complete in 0m 20s\n",
      "Best val Acc: 0.780000\n",
      "training node73 for Round 2 :\n"
     ]
    },
    {
     "name": "stderr",
     "output_type": "stream",
     "text": [
      "Epoch 4: 100%|██████████| 5/5 [00:19<00:00,  3.97s/Epoch]\n"
     ]
    },
    {
     "name": "stdout",
     "output_type": "stream",
     "text": [
      "Training complete in 0m 20s\n",
      "Best val Acc: 0.740000\n",
      "training node74 for Round 2 :\n"
     ]
    },
    {
     "name": "stderr",
     "output_type": "stream",
     "text": [
      "Epoch 4: 100%|██████████| 5/5 [00:19<00:00,  3.86s/Epoch]\n"
     ]
    },
    {
     "name": "stdout",
     "output_type": "stream",
     "text": [
      "Training complete in 0m 19s\n",
      "Best val Acc: 0.780000\n",
      "training node75 for Round 2 :\n"
     ]
    },
    {
     "name": "stderr",
     "output_type": "stream",
     "text": [
      "Epoch 4: 100%|██████████| 5/5 [00:19<00:00,  3.89s/Epoch]\n"
     ]
    },
    {
     "name": "stdout",
     "output_type": "stream",
     "text": [
      "Training complete in 0m 19s\n",
      "Best val Acc: 0.900000\n",
      "training node76 for Round 2 :\n"
     ]
    },
    {
     "name": "stderr",
     "output_type": "stream",
     "text": [
      "Epoch 4: 100%|██████████| 5/5 [00:19<00:00,  3.92s/Epoch]\n"
     ]
    },
    {
     "name": "stdout",
     "output_type": "stream",
     "text": [
      "Training complete in 0m 20s\n",
      "Best val Acc: 0.780000\n",
      "training node77 for Round 2 :\n"
     ]
    },
    {
     "name": "stderr",
     "output_type": "stream",
     "text": [
      "Epoch 4: 100%|██████████| 5/5 [00:18<00:00,  3.62s/Epoch]\n"
     ]
    },
    {
     "name": "stdout",
     "output_type": "stream",
     "text": [
      "Training complete in 0m 18s\n",
      "Best val Acc: 0.740000\n",
      "training node78 for Round 2 :\n"
     ]
    },
    {
     "name": "stderr",
     "output_type": "stream",
     "text": [
      "Epoch 4: 100%|██████████| 5/5 [00:19<00:00,  3.93s/Epoch]\n"
     ]
    },
    {
     "name": "stdout",
     "output_type": "stream",
     "text": [
      "Training complete in 0m 20s\n",
      "Best val Acc: 0.800000\n",
      "training node79 for Round 2 :\n"
     ]
    },
    {
     "name": "stderr",
     "output_type": "stream",
     "text": [
      "Epoch 4: 100%|██████████| 5/5 [00:19<00:00,  3.83s/Epoch]\n"
     ]
    },
    {
     "name": "stdout",
     "output_type": "stream",
     "text": [
      "Training complete in 0m 19s\n",
      "Best val Acc: 0.540000\n",
      "training node80 for Round 2 :\n"
     ]
    },
    {
     "name": "stderr",
     "output_type": "stream",
     "text": [
      "Epoch 4: 100%|██████████| 5/5 [00:18<00:00,  3.64s/Epoch]\n"
     ]
    },
    {
     "name": "stdout",
     "output_type": "stream",
     "text": [
      "Training complete in 0m 18s\n",
      "Best val Acc: 0.700000\n",
      "training node81 for Round 2 :\n"
     ]
    },
    {
     "name": "stderr",
     "output_type": "stream",
     "text": [
      "Epoch 4: 100%|██████████| 5/5 [00:19<00:00,  3.91s/Epoch]\n"
     ]
    },
    {
     "name": "stdout",
     "output_type": "stream",
     "text": [
      "Training complete in 0m 20s\n",
      "Best val Acc: 0.740000\n",
      "training node82 for Round 2 :\n"
     ]
    },
    {
     "name": "stderr",
     "output_type": "stream",
     "text": [
      "Epoch 4: 100%|██████████| 5/5 [00:18<00:00,  3.66s/Epoch]\n"
     ]
    },
    {
     "name": "stdout",
     "output_type": "stream",
     "text": [
      "Training complete in 0m 18s\n",
      "Best val Acc: 0.700000\n",
      "training node83 for Round 2 :\n"
     ]
    },
    {
     "name": "stderr",
     "output_type": "stream",
     "text": [
      "Epoch 4: 100%|██████████| 5/5 [00:20<00:00,  4.01s/Epoch]\n"
     ]
    },
    {
     "name": "stdout",
     "output_type": "stream",
     "text": [
      "Training complete in 0m 20s\n",
      "Best val Acc: 0.820000\n",
      "training node84 for Round 2 :\n"
     ]
    },
    {
     "name": "stderr",
     "output_type": "stream",
     "text": [
      "Epoch 4: 100%|██████████| 5/5 [00:19<00:00,  3.91s/Epoch]\n"
     ]
    },
    {
     "name": "stdout",
     "output_type": "stream",
     "text": [
      "Training complete in 0m 20s\n",
      "Best val Acc: 0.740000\n",
      "training node85 for Round 2 :\n"
     ]
    },
    {
     "name": "stderr",
     "output_type": "stream",
     "text": [
      "Epoch 4: 100%|██████████| 5/5 [00:19<00:00,  3.82s/Epoch]\n"
     ]
    },
    {
     "name": "stdout",
     "output_type": "stream",
     "text": [
      "Training complete in 0m 19s\n",
      "Best val Acc: 0.560000\n",
      "training node86 for Round 2 :\n"
     ]
    },
    {
     "name": "stderr",
     "output_type": "stream",
     "text": [
      "Epoch 4: 100%|██████████| 5/5 [00:18<00:00,  3.69s/Epoch]\n"
     ]
    },
    {
     "name": "stdout",
     "output_type": "stream",
     "text": [
      "Training complete in 0m 18s\n",
      "Best val Acc: 0.840000\n",
      "training node87 for Round 2 :\n"
     ]
    },
    {
     "name": "stderr",
     "output_type": "stream",
     "text": [
      "Epoch 4: 100%|██████████| 5/5 [00:19<00:00,  3.90s/Epoch]\n"
     ]
    },
    {
     "name": "stdout",
     "output_type": "stream",
     "text": [
      "Training complete in 0m 20s\n",
      "Best val Acc: 0.780000\n",
      "training node88 for Round 2 :\n"
     ]
    },
    {
     "name": "stderr",
     "output_type": "stream",
     "text": [
      "Epoch 4: 100%|██████████| 5/5 [00:19<00:00,  3.95s/Epoch]\n"
     ]
    },
    {
     "name": "stdout",
     "output_type": "stream",
     "text": [
      "Training complete in 0m 20s\n",
      "Best val Acc: 0.740000\n",
      "training node89 for Round 2 :\n"
     ]
    },
    {
     "name": "stderr",
     "output_type": "stream",
     "text": [
      "Epoch 4: 100%|██████████| 5/5 [00:19<00:00,  3.99s/Epoch]\n"
     ]
    },
    {
     "name": "stdout",
     "output_type": "stream",
     "text": [
      "Training complete in 0m 20s\n",
      "Best val Acc: 0.760000\n",
      "training node90 for Round 2 :\n"
     ]
    },
    {
     "name": "stderr",
     "output_type": "stream",
     "text": [
      "Epoch 4: 100%|██████████| 5/5 [00:19<00:00,  3.90s/Epoch]\n"
     ]
    },
    {
     "name": "stdout",
     "output_type": "stream",
     "text": [
      "Training complete in 0m 20s\n",
      "Best val Acc: 0.760000\n",
      "training node91 for Round 2 :\n"
     ]
    },
    {
     "name": "stderr",
     "output_type": "stream",
     "text": [
      "Epoch 4: 100%|██████████| 5/5 [00:19<00:00,  3.90s/Epoch]\n"
     ]
    },
    {
     "name": "stdout",
     "output_type": "stream",
     "text": [
      "Training complete in 0m 20s\n",
      "Best val Acc: 0.760000\n",
      "training node92 for Round 2 :\n"
     ]
    },
    {
     "name": "stderr",
     "output_type": "stream",
     "text": [
      "Epoch 4: 100%|██████████| 5/5 [00:19<00:00,  3.90s/Epoch]\n"
     ]
    },
    {
     "name": "stdout",
     "output_type": "stream",
     "text": [
      "Training complete in 0m 20s\n",
      "Best val Acc: 0.600000\n",
      "training node93 for Round 2 :\n"
     ]
    },
    {
     "name": "stderr",
     "output_type": "stream",
     "text": [
      "Epoch 4: 100%|██████████| 5/5 [00:18<00:00,  3.62s/Epoch]\n"
     ]
    },
    {
     "name": "stdout",
     "output_type": "stream",
     "text": [
      "Training complete in 0m 18s\n",
      "Best val Acc: 0.820000\n",
      "training node94 for Round 2 :\n"
     ]
    },
    {
     "name": "stderr",
     "output_type": "stream",
     "text": [
      "Epoch 4: 100%|██████████| 5/5 [00:19<00:00,  3.88s/Epoch]\n"
     ]
    },
    {
     "name": "stdout",
     "output_type": "stream",
     "text": [
      "Training complete in 0m 19s\n",
      "Best val Acc: 0.860000\n",
      "training node95 for Round 2 :\n"
     ]
    },
    {
     "name": "stderr",
     "output_type": "stream",
     "text": [
      "Epoch 4: 100%|██████████| 5/5 [00:18<00:00,  3.68s/Epoch]\n"
     ]
    },
    {
     "name": "stdout",
     "output_type": "stream",
     "text": [
      "Training complete in 0m 18s\n",
      "Best val Acc: 0.700000\n",
      "training node96 for Round 2 :\n"
     ]
    },
    {
     "name": "stderr",
     "output_type": "stream",
     "text": [
      "Epoch 4: 100%|██████████| 5/5 [00:17<00:00,  3.59s/Epoch]\n"
     ]
    },
    {
     "name": "stdout",
     "output_type": "stream",
     "text": [
      "Training complete in 0m 18s\n",
      "Best val Acc: 0.740000\n",
      "training node97 for Round 2 :\n"
     ]
    },
    {
     "name": "stderr",
     "output_type": "stream",
     "text": [
      "Epoch 4: 100%|██████████| 5/5 [00:19<00:00,  3.92s/Epoch]\n"
     ]
    },
    {
     "name": "stdout",
     "output_type": "stream",
     "text": [
      "Training complete in 0m 20s\n",
      "Best val Acc: 0.780000\n",
      "training node98 for Round 2 :\n"
     ]
    },
    {
     "name": "stderr",
     "output_type": "stream",
     "text": [
      "Epoch 4: 100%|██████████| 5/5 [00:19<00:00,  3.93s/Epoch]\n"
     ]
    },
    {
     "name": "stdout",
     "output_type": "stream",
     "text": [
      "Training complete in 0m 20s\n",
      "Best val Acc: 0.720000\n",
      "training node99 for Round 2 :\n"
     ]
    },
    {
     "name": "stderr",
     "output_type": "stream",
     "text": [
      "Epoch 4: 100%|██████████| 5/5 [00:19<00:00,  3.93s/Epoch]\n"
     ]
    },
    {
     "name": "stdout",
     "output_type": "stream",
     "text": [
      "Training complete in 0m 20s\n",
      "Best val Acc: 0.820000\n",
      "Fedavg of main model in round 2\n",
      "For Round 1 :, acc : 0.7115708443589127, acc0 : 0.7795918367346939 , acc1:0.9224669603524229 , acc2:0.561046511627907, acc3 :0.5623762376237624 \n",
      "Round 3\n",
      "Sending main model to nodes in round 3\n",
      "training node0 for Round 3 :\n"
     ]
    },
    {
     "name": "stderr",
     "output_type": "stream",
     "text": [
      "Epoch 4: 100%|██████████| 5/5 [00:24<00:00,  4.85s/Epoch]\n"
     ]
    },
    {
     "name": "stdout",
     "output_type": "stream",
     "text": [
      "Training complete in 0m 24s\n",
      "Best val Acc: 0.820000\n",
      "training node1 for Round 3 :\n"
     ]
    },
    {
     "name": "stderr",
     "output_type": "stream",
     "text": [
      "Epoch 4: 100%|██████████| 5/5 [00:23<00:00,  4.72s/Epoch]\n"
     ]
    },
    {
     "name": "stdout",
     "output_type": "stream",
     "text": [
      "Training complete in 0m 24s\n",
      "Best val Acc: 0.880000\n",
      "training node2 for Round 3 :\n"
     ]
    },
    {
     "name": "stderr",
     "output_type": "stream",
     "text": [
      "Epoch 4: 100%|██████████| 5/5 [00:23<00:00,  4.80s/Epoch]\n"
     ]
    },
    {
     "name": "stdout",
     "output_type": "stream",
     "text": [
      "Training complete in 0m 24s\n",
      "Best val Acc: 0.840000\n",
      "training node3 for Round 3 :\n"
     ]
    },
    {
     "name": "stderr",
     "output_type": "stream",
     "text": [
      "Epoch 4: 100%|██████████| 5/5 [00:25<00:00,  5.08s/Epoch]\n"
     ]
    },
    {
     "name": "stdout",
     "output_type": "stream",
     "text": [
      "Training complete in 0m 25s\n",
      "Best val Acc: 0.860000\n",
      "training node4 for Round 3 :\n"
     ]
    },
    {
     "name": "stderr",
     "output_type": "stream",
     "text": [
      "Epoch 4: 100%|██████████| 5/5 [00:23<00:00,  4.64s/Epoch]\n"
     ]
    },
    {
     "name": "stdout",
     "output_type": "stream",
     "text": [
      "Training complete in 0m 23s\n",
      "Best val Acc: 0.780000\n",
      "training node5 for Round 3 :\n"
     ]
    },
    {
     "name": "stderr",
     "output_type": "stream",
     "text": [
      "Epoch 4: 100%|██████████| 5/5 [00:19<00:00,  3.97s/Epoch]\n"
     ]
    },
    {
     "name": "stdout",
     "output_type": "stream",
     "text": [
      "Training complete in 0m 20s\n",
      "Best val Acc: 0.880000\n",
      "training node6 for Round 3 :\n"
     ]
    },
    {
     "name": "stderr",
     "output_type": "stream",
     "text": [
      "Epoch 4: 100%|██████████| 5/5 [00:20<00:00,  4.11s/Epoch]\n"
     ]
    },
    {
     "name": "stdout",
     "output_type": "stream",
     "text": [
      "Training complete in 0m 21s\n",
      "Best val Acc: 0.800000\n",
      "training node7 for Round 3 :\n"
     ]
    },
    {
     "name": "stderr",
     "output_type": "stream",
     "text": [
      "Epoch 4: 100%|██████████| 5/5 [00:20<00:00,  4.04s/Epoch]\n"
     ]
    },
    {
     "name": "stdout",
     "output_type": "stream",
     "text": [
      "Training complete in 0m 20s\n",
      "Best val Acc: 0.720000\n",
      "training node8 for Round 3 :\n"
     ]
    },
    {
     "name": "stderr",
     "output_type": "stream",
     "text": [
      "Epoch 4: 100%|██████████| 5/5 [00:17<00:00,  3.41s/Epoch]\n"
     ]
    },
    {
     "name": "stdout",
     "output_type": "stream",
     "text": [
      "Training complete in 0m 17s\n",
      "Best val Acc: 0.760000\n",
      "training node9 for Round 3 :\n"
     ]
    },
    {
     "name": "stderr",
     "output_type": "stream",
     "text": [
      "Epoch 4: 100%|██████████| 5/5 [00:17<00:00,  3.48s/Epoch]\n"
     ]
    },
    {
     "name": "stdout",
     "output_type": "stream",
     "text": [
      "Training complete in 0m 17s\n",
      "Best val Acc: 0.800000\n",
      "training node10 for Round 3 :\n"
     ]
    },
    {
     "name": "stderr",
     "output_type": "stream",
     "text": [
      "Epoch 4: 100%|██████████| 5/5 [00:15<00:00,  3.19s/Epoch]\n"
     ]
    },
    {
     "name": "stdout",
     "output_type": "stream",
     "text": [
      "Training complete in 0m 16s\n",
      "Best val Acc: 0.840000\n",
      "training node11 for Round 3 :\n"
     ]
    },
    {
     "name": "stderr",
     "output_type": "stream",
     "text": [
      "Epoch 4: 100%|██████████| 5/5 [00:17<00:00,  3.42s/Epoch]\n"
     ]
    },
    {
     "name": "stdout",
     "output_type": "stream",
     "text": [
      "Training complete in 0m 17s\n",
      "Best val Acc: 0.780000\n",
      "training node12 for Round 3 :\n"
     ]
    },
    {
     "name": "stderr",
     "output_type": "stream",
     "text": [
      "Epoch 4: 100%|██████████| 5/5 [00:16<00:00,  3.28s/Epoch]\n"
     ]
    },
    {
     "name": "stdout",
     "output_type": "stream",
     "text": [
      "Training complete in 0m 16s\n",
      "Best val Acc: 0.780000\n",
      "training node13 for Round 3 :\n"
     ]
    },
    {
     "name": "stderr",
     "output_type": "stream",
     "text": [
      "Epoch 4: 100%|██████████| 5/5 [00:16<00:00,  3.23s/Epoch]\n"
     ]
    },
    {
     "name": "stdout",
     "output_type": "stream",
     "text": [
      "Training complete in 0m 16s\n",
      "Best val Acc: 0.820000\n",
      "training node14 for Round 3 :\n"
     ]
    },
    {
     "name": "stderr",
     "output_type": "stream",
     "text": [
      "Epoch 4: 100%|██████████| 5/5 [00:17<00:00,  3.49s/Epoch]\n"
     ]
    },
    {
     "name": "stdout",
     "output_type": "stream",
     "text": [
      "Training complete in 0m 17s\n",
      "Best val Acc: 0.880000\n",
      "training node15 for Round 3 :\n"
     ]
    },
    {
     "name": "stderr",
     "output_type": "stream",
     "text": [
      "Epoch 4: 100%|██████████| 5/5 [00:17<00:00,  3.47s/Epoch]\n"
     ]
    },
    {
     "name": "stdout",
     "output_type": "stream",
     "text": [
      "Training complete in 0m 17s\n",
      "Best val Acc: 0.860000\n",
      "training node16 for Round 3 :\n"
     ]
    },
    {
     "name": "stderr",
     "output_type": "stream",
     "text": [
      "Epoch 4: 100%|██████████| 5/5 [00:16<00:00,  3.28s/Epoch]\n"
     ]
    },
    {
     "name": "stdout",
     "output_type": "stream",
     "text": [
      "Training complete in 0m 16s\n",
      "Best val Acc: 0.780000\n",
      "training node17 for Round 3 :\n"
     ]
    },
    {
     "name": "stderr",
     "output_type": "stream",
     "text": [
      "Epoch 4: 100%|██████████| 5/5 [00:17<00:00,  3.49s/Epoch]\n"
     ]
    },
    {
     "name": "stdout",
     "output_type": "stream",
     "text": [
      "Training complete in 0m 17s\n",
      "Best val Acc: 0.840000\n",
      "training node18 for Round 3 :\n"
     ]
    },
    {
     "name": "stderr",
     "output_type": "stream",
     "text": [
      "Epoch 4: 100%|██████████| 5/5 [00:17<00:00,  3.50s/Epoch]\n"
     ]
    },
    {
     "name": "stdout",
     "output_type": "stream",
     "text": [
      "Training complete in 0m 18s\n",
      "Best val Acc: 0.780000\n",
      "training node19 for Round 3 :\n"
     ]
    },
    {
     "name": "stderr",
     "output_type": "stream",
     "text": [
      "Epoch 4: 100%|██████████| 5/5 [00:17<00:00,  3.42s/Epoch]\n"
     ]
    },
    {
     "name": "stdout",
     "output_type": "stream",
     "text": [
      "Training complete in 0m 17s\n",
      "Best val Acc: 0.480000\n",
      "training node20 for Round 3 :\n"
     ]
    },
    {
     "name": "stderr",
     "output_type": "stream",
     "text": [
      "Epoch 4: 100%|██████████| 5/5 [00:17<00:00,  3.49s/Epoch]\n"
     ]
    },
    {
     "name": "stdout",
     "output_type": "stream",
     "text": [
      "Training complete in 0m 17s\n",
      "Best val Acc: 0.800000\n",
      "training node21 for Round 3 :\n"
     ]
    },
    {
     "name": "stderr",
     "output_type": "stream",
     "text": [
      "Epoch 4: 100%|██████████| 5/5 [00:18<00:00,  3.61s/Epoch]\n"
     ]
    },
    {
     "name": "stdout",
     "output_type": "stream",
     "text": [
      "Training complete in 0m 18s\n",
      "Best val Acc: 0.860000\n",
      "training node22 for Round 3 :\n"
     ]
    },
    {
     "name": "stderr",
     "output_type": "stream",
     "text": [
      "Epoch 4: 100%|██████████| 5/5 [00:17<00:00,  3.53s/Epoch]\n"
     ]
    },
    {
     "name": "stdout",
     "output_type": "stream",
     "text": [
      "Training complete in 0m 18s\n",
      "Best val Acc: 0.920000\n",
      "training node23 for Round 3 :\n"
     ]
    },
    {
     "name": "stderr",
     "output_type": "stream",
     "text": [
      "Epoch 4: 100%|██████████| 5/5 [00:18<00:00,  3.73s/Epoch]\n"
     ]
    },
    {
     "name": "stdout",
     "output_type": "stream",
     "text": [
      "Training complete in 0m 19s\n",
      "Best val Acc: 0.800000\n",
      "training node24 for Round 3 :\n"
     ]
    },
    {
     "name": "stderr",
     "output_type": "stream",
     "text": [
      "Epoch 4: 100%|██████████| 5/5 [00:19<00:00,  3.98s/Epoch]\n"
     ]
    },
    {
     "name": "stdout",
     "output_type": "stream",
     "text": [
      "Training complete in 0m 20s\n",
      "Best val Acc: 0.780000\n",
      "training node25 for Round 3 :\n"
     ]
    },
    {
     "name": "stderr",
     "output_type": "stream",
     "text": [
      "Epoch 4: 100%|██████████| 5/5 [00:20<00:00,  4.16s/Epoch]\n"
     ]
    },
    {
     "name": "stdout",
     "output_type": "stream",
     "text": [
      "Training complete in 0m 21s\n",
      "Best val Acc: 0.780000\n",
      "training node26 for Round 3 :\n"
     ]
    },
    {
     "name": "stderr",
     "output_type": "stream",
     "text": [
      "Epoch 4: 100%|██████████| 5/5 [00:21<00:00,  4.30s/Epoch]\n"
     ]
    },
    {
     "name": "stdout",
     "output_type": "stream",
     "text": [
      "Training complete in 0m 22s\n",
      "Best val Acc: 0.880000\n",
      "training node27 for Round 3 :\n"
     ]
    },
    {
     "name": "stderr",
     "output_type": "stream",
     "text": [
      "Epoch 4: 100%|██████████| 5/5 [00:19<00:00,  3.93s/Epoch]\n"
     ]
    },
    {
     "name": "stdout",
     "output_type": "stream",
     "text": [
      "Training complete in 0m 20s\n",
      "Best val Acc: 0.760000\n",
      "training node28 for Round 3 :\n"
     ]
    },
    {
     "name": "stderr",
     "output_type": "stream",
     "text": [
      "Epoch 4: 100%|██████████| 5/5 [00:19<00:00,  3.85s/Epoch]\n"
     ]
    },
    {
     "name": "stdout",
     "output_type": "stream",
     "text": [
      "Training complete in 0m 19s\n",
      "Best val Acc: 0.820000\n",
      "training node29 for Round 3 :\n"
     ]
    },
    {
     "name": "stderr",
     "output_type": "stream",
     "text": [
      "Epoch 4: 100%|██████████| 5/5 [00:17<00:00,  3.49s/Epoch]\n"
     ]
    },
    {
     "name": "stdout",
     "output_type": "stream",
     "text": [
      "Training complete in 0m 17s\n",
      "Best val Acc: 0.840000\n",
      "training node30 for Round 3 :\n"
     ]
    },
    {
     "name": "stderr",
     "output_type": "stream",
     "text": [
      "Epoch 4: 100%|██████████| 5/5 [00:16<00:00,  3.30s/Epoch]\n"
     ]
    },
    {
     "name": "stdout",
     "output_type": "stream",
     "text": [
      "Training complete in 0m 17s\n",
      "Best val Acc: 0.940000\n",
      "training node31 for Round 3 :\n"
     ]
    },
    {
     "name": "stderr",
     "output_type": "stream",
     "text": [
      "Epoch 4: 100%|██████████| 5/5 [00:16<00:00,  3.25s/Epoch]\n"
     ]
    },
    {
     "name": "stdout",
     "output_type": "stream",
     "text": [
      "Training complete in 0m 16s\n",
      "Best val Acc: 0.860000\n",
      "training node32 for Round 3 :\n"
     ]
    },
    {
     "name": "stderr",
     "output_type": "stream",
     "text": [
      "Epoch 4: 100%|██████████| 5/5 [00:17<00:00,  3.44s/Epoch]\n"
     ]
    },
    {
     "name": "stdout",
     "output_type": "stream",
     "text": [
      "Training complete in 0m 17s\n",
      "Best val Acc: 0.780000\n",
      "training node33 for Round 3 :\n"
     ]
    },
    {
     "name": "stderr",
     "output_type": "stream",
     "text": [
      "Epoch 4: 100%|██████████| 5/5 [00:16<00:00,  3.31s/Epoch]\n"
     ]
    },
    {
     "name": "stdout",
     "output_type": "stream",
     "text": [
      "Training complete in 0m 17s\n",
      "Best val Acc: 0.880000\n",
      "training node34 for Round 3 :\n"
     ]
    },
    {
     "name": "stderr",
     "output_type": "stream",
     "text": [
      "Epoch 4: 100%|██████████| 5/5 [00:16<00:00,  3.35s/Epoch]\n"
     ]
    },
    {
     "name": "stdout",
     "output_type": "stream",
     "text": [
      "Training complete in 0m 17s\n",
      "Best val Acc: 0.860000\n",
      "training node35 for Round 3 :\n"
     ]
    },
    {
     "name": "stderr",
     "output_type": "stream",
     "text": [
      "Epoch 4: 100%|██████████| 5/5 [00:16<00:00,  3.31s/Epoch]\n"
     ]
    },
    {
     "name": "stdout",
     "output_type": "stream",
     "text": [
      "Training complete in 0m 17s\n",
      "Best val Acc: 0.800000\n",
      "training node36 for Round 3 :\n"
     ]
    },
    {
     "name": "stderr",
     "output_type": "stream",
     "text": [
      "Epoch 4: 100%|██████████| 5/5 [00:15<00:00,  3.19s/Epoch]\n"
     ]
    },
    {
     "name": "stdout",
     "output_type": "stream",
     "text": [
      "Training complete in 0m 16s\n",
      "Best val Acc: 0.880000\n",
      "training node37 for Round 3 :\n"
     ]
    },
    {
     "name": "stderr",
     "output_type": "stream",
     "text": [
      "Epoch 4: 100%|██████████| 5/5 [00:16<00:00,  3.33s/Epoch]\n"
     ]
    },
    {
     "name": "stdout",
     "output_type": "stream",
     "text": [
      "Training complete in 0m 17s\n",
      "Best val Acc: 0.880000\n",
      "training node38 for Round 3 :\n"
     ]
    },
    {
     "name": "stderr",
     "output_type": "stream",
     "text": [
      "Epoch 4: 100%|██████████| 5/5 [00:16<00:00,  3.28s/Epoch]\n"
     ]
    },
    {
     "name": "stdout",
     "output_type": "stream",
     "text": [
      "Training complete in 0m 16s\n",
      "Best val Acc: 0.900000\n",
      "training node39 for Round 3 :\n"
     ]
    },
    {
     "name": "stderr",
     "output_type": "stream",
     "text": [
      "Epoch 4: 100%|██████████| 5/5 [00:17<00:00,  3.44s/Epoch]\n"
     ]
    },
    {
     "name": "stdout",
     "output_type": "stream",
     "text": [
      "Training complete in 0m 17s\n",
      "Best val Acc: 0.860000\n",
      "training node40 for Round 3 :\n"
     ]
    },
    {
     "name": "stderr",
     "output_type": "stream",
     "text": [
      "Epoch 4: 100%|██████████| 5/5 [00:16<00:00,  3.26s/Epoch]\n"
     ]
    },
    {
     "name": "stdout",
     "output_type": "stream",
     "text": [
      "Training complete in 0m 16s\n",
      "Best val Acc: 0.880000\n",
      "training node41 for Round 3 :\n"
     ]
    },
    {
     "name": "stderr",
     "output_type": "stream",
     "text": [
      "Epoch 4: 100%|██████████| 5/5 [00:16<00:00,  3.23s/Epoch]\n"
     ]
    },
    {
     "name": "stdout",
     "output_type": "stream",
     "text": [
      "Training complete in 0m 16s\n",
      "Best val Acc: 0.800000\n",
      "training node42 for Round 3 :\n"
     ]
    },
    {
     "name": "stderr",
     "output_type": "stream",
     "text": [
      "Epoch 4: 100%|██████████| 5/5 [00:17<00:00,  3.53s/Epoch]\n"
     ]
    },
    {
     "name": "stdout",
     "output_type": "stream",
     "text": [
      "Training complete in 0m 18s\n",
      "Best val Acc: 0.860000\n",
      "training node43 for Round 3 :\n"
     ]
    },
    {
     "name": "stderr",
     "output_type": "stream",
     "text": [
      "Epoch 4: 100%|██████████| 5/5 [00:16<00:00,  3.25s/Epoch]\n"
     ]
    },
    {
     "name": "stdout",
     "output_type": "stream",
     "text": [
      "Training complete in 0m 16s\n",
      "Best val Acc: 0.780000\n",
      "training node44 for Round 3 :\n"
     ]
    },
    {
     "name": "stderr",
     "output_type": "stream",
     "text": [
      "Epoch 4: 100%|██████████| 5/5 [00:16<00:00,  3.29s/Epoch]\n"
     ]
    },
    {
     "name": "stdout",
     "output_type": "stream",
     "text": [
      "Training complete in 0m 16s\n",
      "Best val Acc: 0.840000\n",
      "training node45 for Round 3 :\n"
     ]
    },
    {
     "name": "stderr",
     "output_type": "stream",
     "text": [
      "Epoch 4: 100%|██████████| 5/5 [00:17<00:00,  3.49s/Epoch]\n"
     ]
    },
    {
     "name": "stdout",
     "output_type": "stream",
     "text": [
      "Training complete in 0m 17s\n",
      "Best val Acc: 0.880000\n",
      "training node46 for Round 3 :\n"
     ]
    },
    {
     "name": "stderr",
     "output_type": "stream",
     "text": [
      "Epoch 4: 100%|██████████| 5/5 [00:17<00:00,  3.43s/Epoch]\n"
     ]
    },
    {
     "name": "stdout",
     "output_type": "stream",
     "text": [
      "Training complete in 0m 17s\n",
      "Best val Acc: 0.700000\n",
      "training node47 for Round 3 :\n"
     ]
    },
    {
     "name": "stderr",
     "output_type": "stream",
     "text": [
      "Epoch 4: 100%|██████████| 5/5 [00:16<00:00,  3.29s/Epoch]\n"
     ]
    },
    {
     "name": "stdout",
     "output_type": "stream",
     "text": [
      "Training complete in 0m 16s\n",
      "Best val Acc: 0.800000\n",
      "training node48 for Round 3 :\n"
     ]
    },
    {
     "name": "stderr",
     "output_type": "stream",
     "text": [
      "Epoch 4: 100%|██████████| 5/5 [00:16<00:00,  3.23s/Epoch]\n"
     ]
    },
    {
     "name": "stdout",
     "output_type": "stream",
     "text": [
      "Training complete in 0m 16s\n",
      "Best val Acc: 0.940000\n",
      "training node49 for Round 3 :\n"
     ]
    },
    {
     "name": "stderr",
     "output_type": "stream",
     "text": [
      "Epoch 4: 100%|██████████| 5/5 [00:17<00:00,  3.51s/Epoch]\n"
     ]
    },
    {
     "name": "stdout",
     "output_type": "stream",
     "text": [
      "Training complete in 0m 18s\n",
      "Best val Acc: 0.820000\n",
      "training node50 for Round 3 :\n"
     ]
    },
    {
     "name": "stderr",
     "output_type": "stream",
     "text": [
      "Epoch 4: 100%|██████████| 5/5 [00:17<00:00,  3.50s/Epoch]\n"
     ]
    },
    {
     "name": "stdout",
     "output_type": "stream",
     "text": [
      "Training complete in 0m 17s\n",
      "Best val Acc: 0.880000\n",
      "training node51 for Round 3 :\n"
     ]
    },
    {
     "name": "stderr",
     "output_type": "stream",
     "text": [
      "Epoch 4: 100%|██████████| 5/5 [00:17<00:00,  3.56s/Epoch]\n"
     ]
    },
    {
     "name": "stdout",
     "output_type": "stream",
     "text": [
      "Training complete in 0m 18s\n",
      "Best val Acc: 0.780000\n",
      "training node52 for Round 3 :\n"
     ]
    },
    {
     "name": "stderr",
     "output_type": "stream",
     "text": [
      "Epoch 4: 100%|██████████| 5/5 [00:16<00:00,  3.28s/Epoch]\n"
     ]
    },
    {
     "name": "stdout",
     "output_type": "stream",
     "text": [
      "Training complete in 0m 16s\n",
      "Best val Acc: 0.820000\n",
      "training node53 for Round 3 :\n"
     ]
    },
    {
     "name": "stderr",
     "output_type": "stream",
     "text": [
      "Epoch 4: 100%|██████████| 5/5 [00:17<00:00,  3.51s/Epoch]\n"
     ]
    },
    {
     "name": "stdout",
     "output_type": "stream",
     "text": [
      "Training complete in 0m 18s\n",
      "Best val Acc: 0.800000\n",
      "training node54 for Round 3 :\n"
     ]
    },
    {
     "name": "stderr",
     "output_type": "stream",
     "text": [
      "Epoch 4: 100%|██████████| 5/5 [00:17<00:00,  3.45s/Epoch]\n"
     ]
    },
    {
     "name": "stdout",
     "output_type": "stream",
     "text": [
      "Training complete in 0m 17s\n",
      "Best val Acc: 0.760000\n",
      "training node55 for Round 3 :\n"
     ]
    },
    {
     "name": "stderr",
     "output_type": "stream",
     "text": [
      "Epoch 4: 100%|██████████| 5/5 [00:17<00:00,  3.55s/Epoch]\n"
     ]
    },
    {
     "name": "stdout",
     "output_type": "stream",
     "text": [
      "Training complete in 0m 18s\n",
      "Best val Acc: 0.820000\n",
      "training node56 for Round 3 :\n"
     ]
    },
    {
     "name": "stderr",
     "output_type": "stream",
     "text": [
      "Epoch 4: 100%|██████████| 5/5 [00:17<00:00,  3.48s/Epoch]\n"
     ]
    },
    {
     "name": "stdout",
     "output_type": "stream",
     "text": [
      "Training complete in 0m 17s\n",
      "Best val Acc: 0.780000\n",
      "training node57 for Round 3 :\n"
     ]
    },
    {
     "name": "stderr",
     "output_type": "stream",
     "text": [
      "Epoch 4: 100%|██████████| 5/5 [00:16<00:00,  3.30s/Epoch]\n"
     ]
    },
    {
     "name": "stdout",
     "output_type": "stream",
     "text": [
      "Training complete in 0m 17s\n",
      "Best val Acc: 0.780000\n",
      "training node58 for Round 3 :\n"
     ]
    },
    {
     "name": "stderr",
     "output_type": "stream",
     "text": [
      "Epoch 4: 100%|██████████| 5/5 [00:17<00:00,  3.52s/Epoch]\n"
     ]
    },
    {
     "name": "stdout",
     "output_type": "stream",
     "text": [
      "Training complete in 0m 18s\n",
      "Best val Acc: 0.860000\n",
      "training node59 for Round 3 :\n"
     ]
    },
    {
     "name": "stderr",
     "output_type": "stream",
     "text": [
      "Epoch 4: 100%|██████████| 5/5 [00:17<00:00,  3.51s/Epoch]\n"
     ]
    },
    {
     "name": "stdout",
     "output_type": "stream",
     "text": [
      "Training complete in 0m 18s\n",
      "Best val Acc: 0.840000\n",
      "training node60 for Round 3 :\n"
     ]
    },
    {
     "name": "stderr",
     "output_type": "stream",
     "text": [
      "Epoch 4: 100%|██████████| 5/5 [00:17<00:00,  3.44s/Epoch]\n"
     ]
    },
    {
     "name": "stdout",
     "output_type": "stream",
     "text": [
      "Training complete in 0m 17s\n",
      "Best val Acc: 0.820000\n",
      "training node61 for Round 3 :\n"
     ]
    },
    {
     "name": "stderr",
     "output_type": "stream",
     "text": [
      "Epoch 4: 100%|██████████| 5/5 [00:17<00:00,  3.46s/Epoch]\n"
     ]
    },
    {
     "name": "stdout",
     "output_type": "stream",
     "text": [
      "Training complete in 0m 17s\n",
      "Best val Acc: 0.740000\n",
      "training node62 for Round 3 :\n"
     ]
    },
    {
     "name": "stderr",
     "output_type": "stream",
     "text": [
      "Epoch 4: 100%|██████████| 5/5 [00:16<00:00,  3.25s/Epoch]\n"
     ]
    },
    {
     "name": "stdout",
     "output_type": "stream",
     "text": [
      "Training complete in 0m 16s\n",
      "Best val Acc: 0.860000\n",
      "training node63 for Round 3 :\n"
     ]
    },
    {
     "name": "stderr",
     "output_type": "stream",
     "text": [
      "Epoch 4: 100%|██████████| 5/5 [00:16<00:00,  3.31s/Epoch]\n"
     ]
    },
    {
     "name": "stdout",
     "output_type": "stream",
     "text": [
      "Training complete in 0m 17s\n",
      "Best val Acc: 0.820000\n",
      "training node64 for Round 3 :\n"
     ]
    },
    {
     "name": "stderr",
     "output_type": "stream",
     "text": [
      "Epoch 4: 100%|██████████| 5/5 [00:17<00:00,  3.58s/Epoch]\n"
     ]
    },
    {
     "name": "stdout",
     "output_type": "stream",
     "text": [
      "Training complete in 0m 18s\n",
      "Best val Acc: 0.820000\n",
      "training node65 for Round 3 :\n"
     ]
    },
    {
     "name": "stderr",
     "output_type": "stream",
     "text": [
      "Epoch 4: 100%|██████████| 5/5 [00:18<00:00,  3.62s/Epoch]\n"
     ]
    },
    {
     "name": "stdout",
     "output_type": "stream",
     "text": [
      "Training complete in 0m 18s\n",
      "Best val Acc: 0.860000\n",
      "training node66 for Round 3 :\n"
     ]
    },
    {
     "name": "stderr",
     "output_type": "stream",
     "text": [
      "Epoch 4: 100%|██████████| 5/5 [00:17<00:00,  3.56s/Epoch]\n"
     ]
    },
    {
     "name": "stdout",
     "output_type": "stream",
     "text": [
      "Training complete in 0m 18s\n",
      "Best val Acc: 0.760000\n",
      "training node67 for Round 3 :\n"
     ]
    },
    {
     "name": "stderr",
     "output_type": "stream",
     "text": [
      "Epoch 4: 100%|██████████| 5/5 [00:16<00:00,  3.28s/Epoch]\n"
     ]
    },
    {
     "name": "stdout",
     "output_type": "stream",
     "text": [
      "Training complete in 0m 16s\n",
      "Best val Acc: 0.800000\n",
      "training node68 for Round 3 :\n"
     ]
    },
    {
     "name": "stderr",
     "output_type": "stream",
     "text": [
      "Epoch 4: 100%|██████████| 5/5 [00:17<00:00,  3.57s/Epoch]\n"
     ]
    },
    {
     "name": "stdout",
     "output_type": "stream",
     "text": [
      "Training complete in 0m 18s\n",
      "Best val Acc: 0.780000\n",
      "training node69 for Round 3 :\n"
     ]
    },
    {
     "name": "stderr",
     "output_type": "stream",
     "text": [
      "Epoch 4: 100%|██████████| 5/5 [00:17<00:00,  3.59s/Epoch]\n"
     ]
    },
    {
     "name": "stdout",
     "output_type": "stream",
     "text": [
      "Training complete in 0m 18s\n",
      "Best val Acc: 0.860000\n",
      "training node70 for Round 3 :\n"
     ]
    },
    {
     "name": "stderr",
     "output_type": "stream",
     "text": [
      "Epoch 4: 100%|██████████| 5/5 [00:18<00:00,  3.70s/Epoch]\n"
     ]
    },
    {
     "name": "stdout",
     "output_type": "stream",
     "text": [
      "Training complete in 0m 19s\n",
      "Best val Acc: 0.880000\n",
      "training node71 for Round 3 :\n"
     ]
    },
    {
     "name": "stderr",
     "output_type": "stream",
     "text": [
      "Epoch 4: 100%|██████████| 5/5 [00:20<00:00,  4.00s/Epoch]\n"
     ]
    },
    {
     "name": "stdout",
     "output_type": "stream",
     "text": [
      "Training complete in 0m 20s\n",
      "Best val Acc: 0.800000\n",
      "training node72 for Round 3 :\n"
     ]
    },
    {
     "name": "stderr",
     "output_type": "stream",
     "text": [
      "Epoch 4: 100%|██████████| 5/5 [00:24<00:00,  4.89s/Epoch]\n"
     ]
    },
    {
     "name": "stdout",
     "output_type": "stream",
     "text": [
      "Training complete in 0m 24s\n",
      "Best val Acc: 0.760000\n",
      "training node73 for Round 3 :\n"
     ]
    },
    {
     "name": "stderr",
     "output_type": "stream",
     "text": [
      "Epoch 4: 100%|██████████| 5/5 [00:20<00:00,  4.08s/Epoch]\n"
     ]
    },
    {
     "name": "stdout",
     "output_type": "stream",
     "text": [
      "Training complete in 0m 20s\n",
      "Best val Acc: 0.860000\n",
      "training node74 for Round 3 :\n"
     ]
    },
    {
     "name": "stderr",
     "output_type": "stream",
     "text": [
      "Epoch 3:  60%|██████    | 3/5 [00:11<00:07,  3.73s/Epoch]"
     ]
    }
   ],
   "source": [
    "model_dict_allmiss100_15, model_allmiss100_15 = training_plan(model_allmiss100,model_dict,data_load)"
   ]
  },
  {
   "cell_type": "code",
   "execution_count": null,
   "id": "ce2e4d18",
   "metadata": {},
   "outputs": [],
   "source": [
    "test_loader = format_test_data(x_test)\n",
    "pred = predict(test_loader, model_allmiss100_15)\n",
    "evaluation_met(pred, y_test,ratio = 'Nodes with missing values')"
   ]
  },
  {
   "cell_type": "code",
   "execution_count": null,
   "id": "f70bfa43",
   "metadata": {},
   "outputs": [],
   "source": [
    "for i in range(number_of_nodes): \n",
    "    test_loader = format_test_data(x_test)\n",
    "    pred = predict(test_loader, model_dict_allmiss100_15[name_of_models[i]])\n",
    "    evaluation_met(pred, y_test,ratio = 'Balanced data ' + name_of_models[i])"
   ]
  },
  {
   "cell_type": "code",
   "execution_count": null,
   "id": "7c208e59",
   "metadata": {},
   "outputs": [],
   "source": []
  }
 ],
 "metadata": {
  "colab": {
   "collapsed_sections": [],
   "provenance": []
  },
  "kernelspec": {
   "display_name": "Python 3 (ipykernel)",
   "language": "python",
   "name": "python3"
  },
  "language_info": {
   "codemirror_mode": {
    "name": "ipython",
    "version": 3
   },
   "file_extension": ".py",
   "mimetype": "text/x-python",
   "name": "python",
   "nbconvert_exporter": "python",
   "pygments_lexer": "ipython3",
   "version": "3.9.12"
  },
  "widgets": {
   "application/vnd.jupyter.widget-state+json": {
    "15a120659cca420cbc69ba4b0c2d0215": {
     "model_module": "@jupyter-widgets/controls",
     "model_module_version": "1.5.0",
     "model_name": "DescriptionStyleModel",
     "state": {
      "_model_module": "@jupyter-widgets/controls",
      "_model_module_version": "1.5.0",
      "_model_name": "DescriptionStyleModel",
      "_view_count": null,
      "_view_module": "@jupyter-widgets/base",
      "_view_module_version": "1.2.0",
      "_view_name": "StyleView",
      "description_width": ""
     }
    },
    "33e8baeb5a6f423c8956bf30ddfbf9c3": {
     "model_module": "@jupyter-widgets/controls",
     "model_module_version": "1.5.0",
     "model_name": "HTMLModel",
     "state": {
      "_dom_classes": [],
      "_model_module": "@jupyter-widgets/controls",
      "_model_module_version": "1.5.0",
      "_model_name": "HTMLModel",
      "_view_count": null,
      "_view_module": "@jupyter-widgets/controls",
      "_view_module_version": "1.5.0",
      "_view_name": "HTMLView",
      "description": "",
      "description_tooltip": null,
      "layout": "IPY_MODEL_7f9a50870f734c7998ea807a22017e6c",
      "placeholder": "​",
      "style": "IPY_MODEL_e0d01d7884924dae97402cbb372d6c1d",
      "value": "100%"
     }
    },
    "3a9b5087701d43f388feb9fc81072b5a": {
     "model_module": "@jupyter-widgets/controls",
     "model_module_version": "1.5.0",
     "model_name": "HTMLModel",
     "state": {
      "_dom_classes": [],
      "_model_module": "@jupyter-widgets/controls",
      "_model_module_version": "1.5.0",
      "_model_name": "HTMLModel",
      "_view_count": null,
      "_view_module": "@jupyter-widgets/controls",
      "_view_module_version": "1.5.0",
      "_view_name": "HTMLView",
      "description": "",
      "description_tooltip": null,
      "layout": "IPY_MODEL_c879a769b96342668753aba821f15bdf",
      "placeholder": "​",
      "style": "IPY_MODEL_15a120659cca420cbc69ba4b0c2d0215",
      "value": " 44.7M/44.7M [00:00&lt;00:00, 178MB/s]"
     }
    },
    "496b8f24e47d41ccbfb2cc761f479d7e": {
     "model_module": "@jupyter-widgets/controls",
     "model_module_version": "1.5.0",
     "model_name": "FloatProgressModel",
     "state": {
      "_dom_classes": [],
      "_model_module": "@jupyter-widgets/controls",
      "_model_module_version": "1.5.0",
      "_model_name": "FloatProgressModel",
      "_view_count": null,
      "_view_module": "@jupyter-widgets/controls",
      "_view_module_version": "1.5.0",
      "_view_name": "ProgressView",
      "bar_style": "success",
      "description": "",
      "description_tooltip": null,
      "layout": "IPY_MODEL_6c577713d21d4713b2d10b9314f8c5d6",
      "max": 46830571,
      "min": 0,
      "orientation": "horizontal",
      "style": "IPY_MODEL_b14b0838c5dc44998bc831200300113f",
      "value": 46830571
     }
    },
    "6c577713d21d4713b2d10b9314f8c5d6": {
     "model_module": "@jupyter-widgets/base",
     "model_module_version": "1.2.0",
     "model_name": "LayoutModel",
     "state": {
      "_model_module": "@jupyter-widgets/base",
      "_model_module_version": "1.2.0",
      "_model_name": "LayoutModel",
      "_view_count": null,
      "_view_module": "@jupyter-widgets/base",
      "_view_module_version": "1.2.0",
      "_view_name": "LayoutView",
      "align_content": null,
      "align_items": null,
      "align_self": null,
      "border": null,
      "bottom": null,
      "display": null,
      "flex": null,
      "flex_flow": null,
      "grid_area": null,
      "grid_auto_columns": null,
      "grid_auto_flow": null,
      "grid_auto_rows": null,
      "grid_column": null,
      "grid_gap": null,
      "grid_row": null,
      "grid_template_areas": null,
      "grid_template_columns": null,
      "grid_template_rows": null,
      "height": null,
      "justify_content": null,
      "justify_items": null,
      "left": null,
      "margin": null,
      "max_height": null,
      "max_width": null,
      "min_height": null,
      "min_width": null,
      "object_fit": null,
      "object_position": null,
      "order": null,
      "overflow": null,
      "overflow_x": null,
      "overflow_y": null,
      "padding": null,
      "right": null,
      "top": null,
      "visibility": null,
      "width": null
     }
    },
    "7f9a50870f734c7998ea807a22017e6c": {
     "model_module": "@jupyter-widgets/base",
     "model_module_version": "1.2.0",
     "model_name": "LayoutModel",
     "state": {
      "_model_module": "@jupyter-widgets/base",
      "_model_module_version": "1.2.0",
      "_model_name": "LayoutModel",
      "_view_count": null,
      "_view_module": "@jupyter-widgets/base",
      "_view_module_version": "1.2.0",
      "_view_name": "LayoutView",
      "align_content": null,
      "align_items": null,
      "align_self": null,
      "border": null,
      "bottom": null,
      "display": null,
      "flex": null,
      "flex_flow": null,
      "grid_area": null,
      "grid_auto_columns": null,
      "grid_auto_flow": null,
      "grid_auto_rows": null,
      "grid_column": null,
      "grid_gap": null,
      "grid_row": null,
      "grid_template_areas": null,
      "grid_template_columns": null,
      "grid_template_rows": null,
      "height": null,
      "justify_content": null,
      "justify_items": null,
      "left": null,
      "margin": null,
      "max_height": null,
      "max_width": null,
      "min_height": null,
      "min_width": null,
      "object_fit": null,
      "object_position": null,
      "order": null,
      "overflow": null,
      "overflow_x": null,
      "overflow_y": null,
      "padding": null,
      "right": null,
      "top": null,
      "visibility": null,
      "width": null
     }
    },
    "b14b0838c5dc44998bc831200300113f": {
     "model_module": "@jupyter-widgets/controls",
     "model_module_version": "1.5.0",
     "model_name": "ProgressStyleModel",
     "state": {
      "_model_module": "@jupyter-widgets/controls",
      "_model_module_version": "1.5.0",
      "_model_name": "ProgressStyleModel",
      "_view_count": null,
      "_view_module": "@jupyter-widgets/base",
      "_view_module_version": "1.2.0",
      "_view_name": "StyleView",
      "bar_color": null,
      "description_width": ""
     }
    },
    "c879a769b96342668753aba821f15bdf": {
     "model_module": "@jupyter-widgets/base",
     "model_module_version": "1.2.0",
     "model_name": "LayoutModel",
     "state": {
      "_model_module": "@jupyter-widgets/base",
      "_model_module_version": "1.2.0",
      "_model_name": "LayoutModel",
      "_view_count": null,
      "_view_module": "@jupyter-widgets/base",
      "_view_module_version": "1.2.0",
      "_view_name": "LayoutView",
      "align_content": null,
      "align_items": null,
      "align_self": null,
      "border": null,
      "bottom": null,
      "display": null,
      "flex": null,
      "flex_flow": null,
      "grid_area": null,
      "grid_auto_columns": null,
      "grid_auto_flow": null,
      "grid_auto_rows": null,
      "grid_column": null,
      "grid_gap": null,
      "grid_row": null,
      "grid_template_areas": null,
      "grid_template_columns": null,
      "grid_template_rows": null,
      "height": null,
      "justify_content": null,
      "justify_items": null,
      "left": null,
      "margin": null,
      "max_height": null,
      "max_width": null,
      "min_height": null,
      "min_width": null,
      "object_fit": null,
      "object_position": null,
      "order": null,
      "overflow": null,
      "overflow_x": null,
      "overflow_y": null,
      "padding": null,
      "right": null,
      "top": null,
      "visibility": null,
      "width": null
     }
    },
    "c9f60f63ba0c45909e7d9e8e66508b7c": {
     "model_module": "@jupyter-widgets/controls",
     "model_module_version": "1.5.0",
     "model_name": "HBoxModel",
     "state": {
      "_dom_classes": [],
      "_model_module": "@jupyter-widgets/controls",
      "_model_module_version": "1.5.0",
      "_model_name": "HBoxModel",
      "_view_count": null,
      "_view_module": "@jupyter-widgets/controls",
      "_view_module_version": "1.5.0",
      "_view_name": "HBoxView",
      "box_style": "",
      "children": [
       "IPY_MODEL_33e8baeb5a6f423c8956bf30ddfbf9c3",
       "IPY_MODEL_496b8f24e47d41ccbfb2cc761f479d7e",
       "IPY_MODEL_3a9b5087701d43f388feb9fc81072b5a"
      ],
      "layout": "IPY_MODEL_ea5e6a3dad31495e92862f959c5b51ef"
     }
    },
    "e0d01d7884924dae97402cbb372d6c1d": {
     "model_module": "@jupyter-widgets/controls",
     "model_module_version": "1.5.0",
     "model_name": "DescriptionStyleModel",
     "state": {
      "_model_module": "@jupyter-widgets/controls",
      "_model_module_version": "1.5.0",
      "_model_name": "DescriptionStyleModel",
      "_view_count": null,
      "_view_module": "@jupyter-widgets/base",
      "_view_module_version": "1.2.0",
      "_view_name": "StyleView",
      "description_width": ""
     }
    },
    "ea5e6a3dad31495e92862f959c5b51ef": {
     "model_module": "@jupyter-widgets/base",
     "model_module_version": "1.2.0",
     "model_name": "LayoutModel",
     "state": {
      "_model_module": "@jupyter-widgets/base",
      "_model_module_version": "1.2.0",
      "_model_name": "LayoutModel",
      "_view_count": null,
      "_view_module": "@jupyter-widgets/base",
      "_view_module_version": "1.2.0",
      "_view_name": "LayoutView",
      "align_content": null,
      "align_items": null,
      "align_self": null,
      "border": null,
      "bottom": null,
      "display": null,
      "flex": null,
      "flex_flow": null,
      "grid_area": null,
      "grid_auto_columns": null,
      "grid_auto_flow": null,
      "grid_auto_rows": null,
      "grid_column": null,
      "grid_gap": null,
      "grid_row": null,
      "grid_template_areas": null,
      "grid_template_columns": null,
      "grid_template_rows": null,
      "height": null,
      "justify_content": null,
      "justify_items": null,
      "left": null,
      "margin": null,
      "max_height": null,
      "max_width": null,
      "min_height": null,
      "min_width": null,
      "object_fit": null,
      "object_position": null,
      "order": null,
      "overflow": null,
      "overflow_x": null,
      "overflow_y": null,
      "padding": null,
      "right": null,
      "top": null,
      "visibility": null,
      "width": null
     }
    }
   }
  }
 },
 "nbformat": 4,
 "nbformat_minor": 5
}
