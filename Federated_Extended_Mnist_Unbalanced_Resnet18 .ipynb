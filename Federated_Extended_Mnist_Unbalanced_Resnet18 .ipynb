{
 "cells": [
  {
   "cell_type": "markdown",
   "id": "973f5e6d-a8ea-4178-afcb-c0dca451f609",
   "metadata": {
    "id": "973f5e6d-a8ea-4178-afcb-c0dca451f609"
   },
   "source": [
    "# MNIST DATASET \n",
    "# Test on classes imbalance"
   ]
  },
  {
   "cell_type": "code",
   "execution_count": 1,
   "id": "8dfcfb05-6e0c-4a71-9401-4bf1d2198235",
   "metadata": {
    "id": "8dfcfb05-6e0c-4a71-9401-4bf1d2198235"
   },
   "outputs": [],
   "source": [
    "#!pip install seaborn\n",
    "#!pip install keras\n",
    "#!pip install tensorflow"
   ]
  },
  {
   "cell_type": "code",
   "execution_count": 2,
   "id": "33c3f4e3",
   "metadata": {},
   "outputs": [],
   "source": [
    "#import warnings\n",
    "#warnings.filterwarnings('ignore')"
   ]
  },
  {
   "cell_type": "code",
   "execution_count": 3,
   "id": "b3f43b91-d778-4357-a798-381d027de110",
   "metadata": {
    "id": "b3f43b91-d778-4357-a798-381d027de110"
   },
   "outputs": [],
   "source": [
    "import tensorflow.keras as keras\n",
    "from tensorflow.keras.datasets import mnist\n",
    "import pandas as pd\n",
    "import numpy as np\n",
    "import matplotlib.pyplot as plt\n",
    "import seaborn as sns\n",
    "from sklearn import tree\n",
    "from sklearn.metrics import accuracy_score\n",
    "from sklearn.ensemble import RandomForestClassifier\n",
    "import random\n",
    "import math\n",
    "from torch.utils.tensorboard import SummaryWriter\n",
    "from matplotlib import pyplot\n",
    "\n",
    "\n",
    "from pathlib import Path\n",
    "import requests\n",
    "import pickle\n",
    "import gzip\n",
    "\n",
    "import torch\n",
    "import math\n",
    "import torch.nn.functional as F\n",
    "from torch import nn\n",
    "from torch import optim\n",
    "import torchvision\n",
    "import torchvision.transforms as transforms\n",
    "from torch.utils.data import TensorDataset\n",
    "from torch.utils.data import DataLoader\n",
    "\n",
    "pd.options.display.float_format = \"{:,.4f}\".format"
   ]
  },
  {
   "cell_type": "code",
   "execution_count": 14,
   "id": "b6cb0c7b",
   "metadata": {},
   "outputs": [],
   "source": [
    "# the data, split between train and validation sets\n",
    "train = pd.read_csv('./Emnist/emnist-digits-train.csv')\n",
    "test = pd.read_csv('./Emnist/emnist-digits-test.csv')"
   ]
  },
  {
   "cell_type": "code",
   "execution_count": 24,
   "id": "e8e9f9ca",
   "metadata": {},
   "outputs": [],
   "source": [
    "x_train = train.iloc[: , 1:]\n",
    "x_test = test.iloc[:,1:]\n"
   ]
  },
  {
   "cell_type": "code",
   "execution_count": 25,
   "id": "f48bdc03",
   "metadata": {},
   "outputs": [
    {
     "data": {
      "text/plain": [
       "{0, 1, 2, 3, 4, 5, 6, 7, 8, 9}"
      ]
     },
     "execution_count": 25,
     "metadata": {},
     "output_type": "execute_result"
    }
   ],
   "source": [
    "y_train = train.iloc[:,0]\n",
    "y_test = test.iloc[:,0]\n",
    "set(y_train)"
   ]
  },
  {
   "cell_type": "code",
   "execution_count": 26,
   "id": "baa8fcc0",
   "metadata": {},
   "outputs": [],
   "source": [
    "x_train = x_train.to_numpy().reshape(-1,28,28)\n",
    "x_test = x_test.to_numpy().reshape(-1,28,28)\n",
    "y_train =  y_train.to_numpy()\n",
    "y_test = y_test.to_numpy()"
   ]
  },
  {
   "cell_type": "markdown",
   "id": "1afe52dc-277c-4549-a51c-c95c3c9bd46b",
   "metadata": {
    "tags": []
   },
   "source": [
    "# Data"
   ]
  },
  {
   "cell_type": "code",
   "execution_count": 27,
   "id": "50354c75-30f0-417c-9ab5-5dbd4f138484",
   "metadata": {
    "colab": {
     "base_uri": "https://localhost:8080/"
    },
    "id": "50354c75-30f0-417c-9ab5-5dbd4f138484",
    "outputId": "8b5e392c-ee35-40c0-8ab7-2c554e575b03"
   },
   "outputs": [
    {
     "data": {
      "text/plain": [
       "(239999, 28, 28)"
      ]
     },
     "execution_count": 27,
     "metadata": {},
     "output_type": "execute_result"
    }
   ],
   "source": [
    "x_train.shape"
   ]
  },
  {
   "cell_type": "code",
   "execution_count": 28,
   "id": "6135585f-98a4-4ac1-bdcf-219d3176b57f",
   "metadata": {
    "colab": {
     "base_uri": "https://localhost:8080/"
    },
    "id": "6135585f-98a4-4ac1-bdcf-219d3176b57f",
    "outputId": "a89cca4d-e212-4645-8154-6dd9be19d86b"
   },
   "outputs": [
    {
     "data": {
      "text/plain": [
       "(39999, 28, 28)"
      ]
     },
     "execution_count": 28,
     "metadata": {},
     "output_type": "execute_result"
    }
   ],
   "source": [
    "x_test.shape"
   ]
  },
  {
   "cell_type": "code",
   "execution_count": 29,
   "id": "ea5dc314-4bba-413a-adfb-41de5c97c02e",
   "metadata": {
    "colab": {
     "base_uri": "https://localhost:8080/"
    },
    "id": "ea5dc314-4bba-413a-adfb-41de5c97c02e",
    "outputId": "a342e736-09ce-47c1-bee8-3a41e9679009"
   },
   "outputs": [
    {
     "data": {
      "text/plain": [
       "dtype('int64')"
      ]
     },
     "execution_count": 29,
     "metadata": {},
     "output_type": "execute_result"
    }
   ],
   "source": [
    "x_train.dtype"
   ]
  },
  {
   "cell_type": "code",
   "execution_count": 30,
   "id": "30a90107-9e54-49b9-b076-92adba1e2c21",
   "metadata": {
    "colab": {
     "base_uri": "https://localhost:8080/"
    },
    "id": "30a90107-9e54-49b9-b076-92adba1e2c21",
    "outputId": "2936ca2f-9a65-4ec7-b78e-8c4e0c82aad3"
   },
   "outputs": [
    {
     "data": {
      "text/plain": [
       "0"
      ]
     },
     "execution_count": 30,
     "metadata": {},
     "output_type": "execute_result"
    }
   ],
   "source": [
    "x_train.min()"
   ]
  },
  {
   "cell_type": "code",
   "execution_count": 31,
   "id": "db60e990-88ac-409d-aeea-dc98044b1950",
   "metadata": {
    "colab": {
     "base_uri": "https://localhost:8080/"
    },
    "id": "db60e990-88ac-409d-aeea-dc98044b1950",
    "outputId": "72417cfc-ade1-4871-f1f5-0ce59030e623"
   },
   "outputs": [
    {
     "data": {
      "text/plain": [
       "255"
      ]
     },
     "execution_count": 31,
     "metadata": {},
     "output_type": "execute_result"
    }
   ],
   "source": [
    "x_train.max()"
   ]
  },
  {
   "cell_type": "code",
   "execution_count": 32,
   "id": "48c49ac9-e0a8-4607-89b0-24f646a3767f",
   "metadata": {
    "colab": {
     "base_uri": "https://localhost:8080/"
    },
    "id": "48c49ac9-e0a8-4607-89b0-24f646a3767f",
    "outputId": "4aeabadf-0000-4a58-9fc3-8825819e5e79"
   },
   "outputs": [
    {
     "data": {
      "text/plain": [
       "{0, 1, 2, 3, 4, 5, 6, 7, 8, 9}"
      ]
     },
     "execution_count": 32,
     "metadata": {},
     "output_type": "execute_result"
    }
   ],
   "source": [
    "set(y_train)"
   ]
  },
  {
   "cell_type": "code",
   "execution_count": 39,
   "id": "b5396596-e802-4243-9d48-6807e2465006",
   "metadata": {
    "colab": {
     "base_uri": "https://localhost:8080/",
     "height": 283
    },
    "id": "b5396596-e802-4243-9d48-6807e2465006",
    "outputId": "aed92728-60b1-478a-bb36-b74aac1a42ff"
   },
   "outputs": [
    {
     "data": {
      "image/png": "[encoded data removed]",
      "text/plain": [
       "<Figure size 432x288 with 1 Axes>"
      ]
     },
     "metadata": {
      "needs_background": "light"
     },
     "output_type": "display_data"
    }
   ],
   "source": [
    "import matplotlib.pyplot as plt\n",
    "\n",
    "image = x_train[0]\n",
    "plt.title('Label {}'.format(y_train[0]))\n",
    "plt.imshow(image, cmap='gray')\n",
    "plt.show()"
   ]
  },
  {
   "cell_type": "markdown",
   "id": "a43e5a3e-ee07-4251-a948-694437f77f4d",
   "metadata": {
    "id": "a43e5a3e-ee07-4251-a948-694437f77f4d"
   },
   "source": [
    "Here were are interested to study classes imbalance, so we are focusing our work on binary classes 0 and 1 "
   ]
  },
  {
   "cell_type": "code",
   "execution_count": 40,
   "id": "f601f0ea-adf6-4b54-9f0e-43d8cd84dea6",
   "metadata": {
    "id": "f601f0ea-adf6-4b54-9f0e-43d8cd84dea6"
   },
   "outputs": [],
   "source": [
    "train_index= y_train[:] <= 1"
   ]
  },
  {
   "cell_type": "code",
   "execution_count": 41,
   "id": "56214cf7-cce8-48e3-ae96-7124fdc7103a",
   "metadata": {
    "id": "56214cf7-cce8-48e3-ae96-7124fdc7103a"
   },
   "outputs": [],
   "source": [
    "x_train= x_train[train_index]"
   ]
  },
  {
   "cell_type": "code",
   "execution_count": 42,
   "id": "a3782604-a441-4481-b1af-498f3ebdd8ad",
   "metadata": {
    "id": "a3782604-a441-4481-b1af-498f3ebdd8ad"
   },
   "outputs": [],
   "source": [
    "y_train = y_train[train_index]"
   ]
  },
  {
   "cell_type": "code",
   "execution_count": null,
   "id": "2pNG1I8vt8az",
   "metadata": {
    "id": "2pNG1I8vt8az"
   },
   "outputs": [],
   "source": []
  },
  {
   "cell_type": "code",
   "execution_count": 43,
   "id": "e59955c1-5d8a-427f-a5bc-8f5541164645",
   "metadata": {
    "colab": {
     "base_uri": "https://localhost:8080/"
    },
    "id": "e59955c1-5d8a-427f-a5bc-8f5541164645",
    "outputId": "acff1060-40f4-4fa8-a060-3b991d259509"
   },
   "outputs": [
    {
     "data": {
      "text/plain": [
       "(48000, 28, 28)"
      ]
     },
     "execution_count": 43,
     "metadata": {},
     "output_type": "execute_result"
    }
   ],
   "source": [
    "x_train.shape"
   ]
  },
  {
   "cell_type": "code",
   "execution_count": 44,
   "id": "ad503f9d-17c8-4358-855b-0d6b00ecea05",
   "metadata": {
    "colab": {
     "base_uri": "https://localhost:8080/"
    },
    "id": "ad503f9d-17c8-4358-855b-0d6b00ecea05",
    "outputId": "2ef370ec-e4ac-4f98-f11f-3c6d48982d37"
   },
   "outputs": [
    {
     "data": {
      "text/plain": [
       "(48000,)"
      ]
     },
     "execution_count": 44,
     "metadata": {},
     "output_type": "execute_result"
    }
   ],
   "source": [
    "y_train.shape"
   ]
  },
  {
   "cell_type": "code",
   "execution_count": 45,
   "id": "896e207a-b972-4bce-b579-a637420e0dd1",
   "metadata": {
    "id": "896e207a-b972-4bce-b579-a637420e0dd1"
   },
   "outputs": [],
   "source": [
    "test_index = y_test[:] <= 1"
   ]
  },
  {
   "cell_type": "code",
   "execution_count": 46,
   "id": "8cd405aa-6140-4919-81e9-e30d5db0dd7b",
   "metadata": {
    "id": "8cd405aa-6140-4919-81e9-e30d5db0dd7b"
   },
   "outputs": [],
   "source": [
    "x_test = x_test[test_index]\n",
    "y_test = y_test[test_index]"
   ]
  },
  {
   "cell_type": "code",
   "execution_count": 47,
   "id": "ac9dd562-5f51-4904-b0ff-41340ef7dcfe",
   "metadata": {
    "colab": {
     "base_uri": "https://localhost:8080/"
    },
    "id": "ac9dd562-5f51-4904-b0ff-41340ef7dcfe",
    "outputId": "7753ad6f-ce24-452c-e8ca-ab51fb4f5f19"
   },
   "outputs": [
    {
     "data": {
      "text/plain": [
       "(7999, 28, 28)"
      ]
     },
     "execution_count": 47,
     "metadata": {},
     "output_type": "execute_result"
    }
   ],
   "source": [
    "x_test.shape"
   ]
  },
  {
   "cell_type": "code",
   "execution_count": 48,
   "id": "29fe0755-8a06-44a9-a134-5135950a8ca4",
   "metadata": {
    "colab": {
     "base_uri": "https://localhost:8080/"
    },
    "id": "29fe0755-8a06-44a9-a134-5135950a8ca4",
    "outputId": "1fbc2203-ade0-4686-fd14-0f6d73be4143"
   },
   "outputs": [
    {
     "data": {
      "text/plain": [
       "(7999,)"
      ]
     },
     "execution_count": 48,
     "metadata": {},
     "output_type": "execute_result"
    }
   ],
   "source": [
    "y_test.shape"
   ]
  },
  {
   "cell_type": "code",
   "execution_count": 49,
   "id": "79da1f21-8278-4436-a0da-bd45b444c257",
   "metadata": {
    "id": "79da1f21-8278-4436-a0da-bd45b444c257"
   },
   "outputs": [],
   "source": [
    "#normalize data \n",
    "x_train = x_train/255\n",
    "x_test = x_test/255"
   ]
  },
  {
   "cell_type": "markdown",
   "id": "h_ifNyLOKFs1",
   "metadata": {
    "id": "h_ifNyLOKFs1",
    "tags": []
   },
   "source": [
    "# Ploting"
   ]
  },
  {
   "cell_type": "code",
   "execution_count": 50,
   "id": "e6930249-8b38-4c4c-9054-f02c64c1cc6e",
   "metadata": {
    "colab": {
     "base_uri": "https://localhost:8080/",
     "height": 283
    },
    "id": "e6930249-8b38-4c4c-9054-f02c64c1cc6e",
    "outputId": "c9dc8b3d-6229-4f92-8d02-b44eb79e33dc"
   },
   "outputs": [
    {
     "data": {
      "image/png": "[encoded data removed]",
      "text/plain": [
       "<Figure size 432x288 with 1 Axes>"
      ]
     },
     "metadata": {
      "needs_background": "light"
     },
     "output_type": "display_data"
    }
   ],
   "source": [
    "import matplotlib.pyplot as plt\n",
    "\n",
    "image = x_train[0]\n",
    "plt.title('Label {}'.format(y_train[0]))\n",
    "plt.imshow(image, cmap='gray')\n",
    "plt.show()"
   ]
  },
  {
   "cell_type": "code",
   "execution_count": 51,
   "id": "c86b0443-6c5e-4560-9e77-a351d2484c4a",
   "metadata": {
    "colab": {
     "base_uri": "https://localhost:8080/",
     "height": 283
    },
    "id": "c86b0443-6c5e-4560-9e77-a351d2484c4a",
    "outputId": "4dcd687b-1f84-498e-a8e8-dc76dc366010"
   },
   "outputs": [
    {
     "data": {
      "image/png": "[encoded data removed]",
      "text/plain": [
       "<Figure size 432x288 with 1 Axes>"
      ]
     },
     "metadata": {
      "needs_background": "light"
     },
     "output_type": "display_data"
    }
   ],
   "source": [
    "import matplotlib.pyplot as plt\n",
    "\n",
    "image = x_train[1]\n",
    "plt.title('Label {}'.format(y_train[1]))\n",
    "plt.imshow(image, cmap='gray')\n",
    "plt.show()"
   ]
  },
  {
   "cell_type": "code",
   "execution_count": 54,
   "id": "94e2ce8c-b58f-423d-90cd-36bc0bc3cb88",
   "metadata": {
    "colab": {
     "base_uri": "https://localhost:8080/",
     "height": 285
    },
    "id": "94e2ce8c-b58f-423d-90cd-36bc0bc3cb88",
    "outputId": "78be5433-d649-4be7-f148-556822e99bb9"
   },
   "outputs": [
    {
     "data": {
      "image/png": "[encoded data removed]",
      "text/plain": [
       "<Figure size 432x288 with 1 Axes>"
      ]
     },
     "metadata": {
      "needs_background": "light"
     },
     "output_type": "display_data"
    }
   ],
   "source": [
    "sns.histplot(y_train)\n",
    "plt.title('Number of data by labels')\n",
    "plt.show()"
   ]
  },
  {
   "cell_type": "markdown",
   "id": "a6ab92fb",
   "metadata": {},
   "source": [
    "# Imbalance learn"
   ]
  },
  {
   "cell_type": "code",
   "execution_count": 25,
   "id": "7c8dcc61-bcd6-4bf5-b5d7-0196d823f839",
   "metadata": {
    "id": "7c8dcc61-bcd6-4bf5-b5d7-0196d823f839"
   },
   "outputs": [],
   "source": [
    "from imblearn.datasets import make_imbalance"
   ]
  },
  {
   "cell_type": "code",
   "execution_count": 26,
   "id": "4a842ebb-9fa9-4a80-8783-dfa506c89857",
   "metadata": {
    "id": "4a842ebb-9fa9-4a80-8783-dfa506c89857"
   },
   "outputs": [],
   "source": [
    "from collections import Counter\n",
    "def ratio_func(y, multiplier, minority_class):\n",
    "    target_stats = Counter(y)\n",
    "    return {minority_class: int(multiplier * target_stats[minority_class])}"
   ]
  },
  {
   "cell_type": "code",
   "execution_count": 27,
   "id": "G71ZpJtzLaD3",
   "metadata": {
    "id": "G71ZpJtzLaD3"
   },
   "outputs": [],
   "source": [
    "def unbalancing(x_train, y_train, M ,ratio):\n",
    "  x_unbal = x_train.reshape(-1, 784)\n",
    "  X = pd.DataFrame(x_unbal)\n",
    "  X_resampled, y_resampled = make_imbalance(X,\n",
    "        y_train,\n",
    "        sampling_strategy=ratio_func,\n",
    "        **{\"multiplier\": ratio, \"minority_class\": M},\n",
    "    )\n",
    "  plt.hist(y_resampled)\n",
    "  plt.title(\"Ratio \")\n",
    "  plt.show()\n",
    "  ### RATIO \n",
    "  x_train = X_resampled.to_numpy().reshape(-1,28,28)\n",
    "  y_train = y_resampled\n",
    "  return x_train, y_train"
   ]
  },
  {
   "cell_type": "code",
   "execution_count": 28,
   "id": "3079054c",
   "metadata": {},
   "outputs": [
    {
     "data": {
      "image/png": "[encoded data removed]",
      "text/plain": [
       "<Figure size 432x288 with 1 Axes>"
      ]
     },
     "metadata": {
      "needs_background": "light"
     },
     "output_type": "display_data"
    }
   ],
   "source": [
    "# Global unbalancing\n",
    "x_train, y_train = unbalancing(x_train, y_train, 0 ,1/10)"
   ]
  },
  {
   "cell_type": "markdown",
   "id": "0a9cff6d-47f7-4f16-aaea-f0999b7f9437",
   "metadata": {
    "tags": []
   },
   "source": [
    "# Spliting Data in validation and nodes"
   ]
  },
  {
   "cell_type": "code",
   "execution_count": 55,
   "id": "4c9ab580-52c8-45d2-a0ed-633ccb4d262a",
   "metadata": {},
   "outputs": [],
   "source": [
    "from sklearn.model_selection import train_test_split # Here we just use train test split to cut the dataset into 2 iid parts. \n",
    "X1, X2, y1, y2 = train_test_split(x_train, y_train, random_state=42,stratify= y_train, test_size=0.50  )"
   ]
  },
  {
   "cell_type": "code",
   "execution_count": 56,
   "id": "bd33d027",
   "metadata": {},
   "outputs": [
    {
     "data": {
      "text/plain": [
       "(24000, 28, 28)"
      ]
     },
     "execution_count": 56,
     "metadata": {},
     "output_type": "execute_result"
    }
   ],
   "source": [
    "X1.shape"
   ]
  },
  {
   "cell_type": "code",
   "execution_count": 57,
   "id": "f4ec9ca4",
   "metadata": {},
   "outputs": [
    {
     "ename": "NameError",
     "evalue": "name 'unbalancing' is not defined",
     "output_type": "error",
     "traceback": [
      "\u001b[1;31m---------------------------------------------------------------------------\u001b[0m",
      "\u001b[1;31mNameError\u001b[0m                                 Traceback (most recent call last)",
      "Input \u001b[1;32mIn [57]\u001b[0m, in \u001b[0;36m<cell line: 2>\u001b[1;34m()\u001b[0m\n\u001b[0;32m      1\u001b[0m \u001b[38;5;66;03m# local unbalancing\u001b[39;00m\n\u001b[1;32m----> 2\u001b[0m X1, y1 \u001b[38;5;241m=\u001b[39m \u001b[43munbalancing\u001b[49m(X1, y1, \u001b[38;5;241m0\u001b[39m, \u001b[38;5;241m1\u001b[39m\u001b[38;5;241m/\u001b[39m\u001b[38;5;241m100\u001b[39m)\n",
      "\u001b[1;31mNameError\u001b[0m: name 'unbalancing' is not defined"
     ]
    }
   ],
   "source": [
    "# local unbalancing\n",
    "X1, y1 = unbalancing(X1, y1, 0, 1/100)"
   ]
  },
  {
   "cell_type": "code",
   "execution_count": 519,
   "id": "66ca0b8e",
   "metadata": {},
   "outputs": [
    {
     "data": {
      "image/png": "[encoded data removed]",
      "text/plain": [
       "<Figure size 432x288 with 1 Axes>"
      ]
     },
     "metadata": {
      "needs_background": "light"
     },
     "output_type": "display_data"
    }
   ],
   "source": [
    "# local unbalancing\n",
    "X2, y2 = unbalancing(X2, y2, 1,1/100)"
   ]
  },
  {
   "cell_type": "code",
   "execution_count": 58,
   "id": "40031084-3069-4474-ad6b-018f2139667b",
   "metadata": {},
   "outputs": [],
   "source": [
    "X1_train, X1_valid, y1_train, y1_valid =  train_test_split(X1, y1, random_state=42,stratify= y1, test_size=0.20)\n",
    "X2_train, X2_valid, y2_train, y2_valid =  train_test_split(X2, y2, random_state=42,stratify= y2, test_size=0.20)\n"
   ]
  },
  {
   "cell_type": "code",
   "execution_count": 59,
   "id": "c2b8c09b-a217-4e0f-9ec9-51209eecbf4e",
   "metadata": {},
   "outputs": [
    {
     "data": {
      "image/png": "[encoded data removed]",
      "text/plain": [
       "<Figure size 432x288 with 1 Axes>"
      ]
     },
     "metadata": {
      "needs_background": "light"
     },
     "output_type": "display_data"
    }
   ],
   "source": [
    "import matplotlib.pyplot as plt\n",
    "\n",
    "image = X1_valid[55]\n",
    "plt.title('Label {}'.format(y1_valid[55]))\n",
    "plt.imshow(image, cmap='gray')\n",
    "plt.show()"
   ]
  },
  {
   "cell_type": "code",
   "execution_count": 60,
   "id": "a5a63c99-1153-40fe-85fc-54f9d336985c",
   "metadata": {},
   "outputs": [
    {
     "data": {
      "image/png": "[encoded data removed]",
      "text/plain": [
       "<Figure size 432x288 with 1 Axes>"
      ]
     },
     "metadata": {
      "needs_background": "light"
     },
     "output_type": "display_data"
    }
   ],
   "source": [
    "import matplotlib.pyplot as plt\n",
    "\n",
    "image = X2_valid[0]\n",
    "plt.title('{}'.format(y2_valid[0]))\n",
    "plt.imshow(image, cmap='gray')\n",
    "plt.show()"
   ]
  },
  {
   "cell_type": "code",
   "execution_count": 61,
   "id": "4bfd13c2-193e-410a-808f-b16d743f7a8b",
   "metadata": {},
   "outputs": [],
   "source": [
    "x_train_dict, y_train_dict = {'node0': X1_train , 'node1' : X2_train},{'node0': y1_train , 'node1' : y2_train}"
   ]
  },
  {
   "cell_type": "code",
   "execution_count": 62,
   "id": "1f479425-02d0-43ee-9e88-cbf4f5b9bb66",
   "metadata": {},
   "outputs": [],
   "source": [
    "x_valid_dict, y_valid_dict =  {'node0': X1_valid , 'node1' : X2_valid},{'node0': y1_valid , 'node1' : y2_valid}"
   ]
  },
  {
   "cell_type": "code",
   "execution_count": 63,
   "id": "bc83ce59-e62f-4b06-8416-8af883b5c242",
   "metadata": {},
   "outputs": [
    {
     "data": {
      "text/plain": [
       "(array([9600.,    0.,    0.,    0.,    0.,    0.,    0.,    0.,    0.,\n",
       "        9600.]),\n",
       " array([0. , 0.1, 0.2, 0.3, 0.4, 0.5, 0.6, 0.7, 0.8, 0.9, 1. ]),\n",
       " <BarContainer object of 10 artists>)"
      ]
     },
     "execution_count": 63,
     "metadata": {},
     "output_type": "execute_result"
    },
    {
     "data": {
      "image/png": "[encoded data removed]",
      "text/plain": [
       "<Figure size 432x288 with 1 Axes>"
      ]
     },
     "metadata": {
      "needs_background": "light"
     },
     "output_type": "display_data"
    }
   ],
   "source": [
    "import seaborn as sns\n",
    "plt.hist(y_train_dict['node0'])"
   ]
  },
  {
   "cell_type": "code",
   "execution_count": 64,
   "id": "ed9cc57d-bb59-403f-9a8a-fba5d282da68",
   "metadata": {},
   "outputs": [
    {
     "data": {
      "text/plain": [
       "(array([9600.,    0.,    0.,    0.,    0.,    0.,    0.,    0.,    0.,\n",
       "        9600.]),\n",
       " array([0. , 0.1, 0.2, 0.3, 0.4, 0.5, 0.6, 0.7, 0.8, 0.9, 1. ]),\n",
       " <BarContainer object of 10 artists>)"
      ]
     },
     "execution_count": 64,
     "metadata": {},
     "output_type": "execute_result"
    },
    {
     "data": {
      "image/png": "[encoded data removed]",
      "text/plain": [
       "<Figure size 432x288 with 1 Axes>"
      ]
     },
     "metadata": {
      "needs_background": "light"
     },
     "output_type": "display_data"
    }
   ],
   "source": [
    "import seaborn as sns\n",
    "plt.hist(y_train_dict['node1'])"
   ]
  },
  {
   "cell_type": "markdown",
   "id": "2902f698-0018-4bfa-adf3-5e6046d87f3c",
   "metadata": {},
   "source": [
    "# Model "
   ]
  },
  {
   "cell_type": "code",
   "execution_count": 65,
   "id": "c4d94660-2181-4b5a-82e2-96094a7e3ff3",
   "metadata": {},
   "outputs": [],
   "source": [
    "from __future__ import print_function, division\n",
    "\n",
    "import torch\n",
    "import torch.nn as nn\n",
    "import torch.optim as optim\n",
    "from torch.optim import lr_scheduler\n",
    "from torchvision import models, transforms\n",
    "import time\n",
    "import copy\n",
    "from torch.utils.data import DataLoader, Dataset"
   ]
  },
  {
   "cell_type": "code",
   "execution_count": 66,
   "id": "0648413c-5e6c-45ec-9f56-147d3f46b1b4",
   "metadata": {},
   "outputs": [],
   "source": [
    "class Mymodel(nn.Module):\n",
    "    def __init__(self):\n",
    "        super(Mymodel, self).__init__()\n",
    "        self.resnet = models.resnet18(weights='DEFAULT')\n",
    "        # change input layer\n",
    "        # the default number of input channel in the resnet is 3, but our images are 1 channel. So we have to change 3 to 1.\n",
    "        # nn.Conv2d(3, 64, kernel_size=(7, 7), stride=(2, 2), padding=(3, 3), bias=False) <- default\n",
    "        self.resnet.conv1 = nn.Conv2d(1, 64, kernel_size=(7, 7), stride=(2, 2), padding=(3, 3), bias=False)\n",
    "        # change fc layer\n",
    "        # the number of classes in our dataset is 2. default is 1000.\n",
    "        self.resnet.num_ftrs = self.resnet.fc.in_features\n",
    "        self.resnet.fc = nn.Linear(self.resnet.num_ftrs, 2)"
   ]
  },
  {
   "cell_type": "code",
   "execution_count": 67,
   "id": "dd003434-0896-4a17-a879-d83fe735e519",
   "metadata": {},
   "outputs": [],
   "source": [
    "from tqdm import tqdm\n",
    "from time import sleep\n",
    "from tqdm import trange"
   ]
  },
  {
   "cell_type": "code",
   "execution_count": 68,
   "id": "4b8951d5-03fd-4d5d-9481-2f21a0d8ba72",
   "metadata": {},
   "outputs": [],
   "source": [
    "X=Mymodel() # Model de depart"
   ]
  },
  {
   "cell_type": "code",
   "execution_count": 69,
   "id": "a043f3a1-a9f2-4c68-bfc5-475bfd12724e",
   "metadata": {},
   "outputs": [
    {
     "data": {
      "text/plain": [
       "Linear(in_features=512, out_features=2, bias=True)"
      ]
     },
     "execution_count": 69,
     "metadata": {},
     "output_type": "execute_result"
    }
   ],
   "source": [
    "X.resnet.fc"
   ]
  },
  {
   "cell_type": "code",
   "execution_count": 70,
   "id": "c15e04c2-7cbd-4669-ab51-02a1275632e8",
   "metadata": {},
   "outputs": [],
   "source": [
    "#To fit the model \n",
    "device = torch.device(\"cuda:0\" if torch.cuda.is_available() else \"cpu\")\n",
    "model_ft = X.resnet.to(device)"
   ]
  },
  {
   "cell_type": "code",
   "execution_count": 71,
   "id": "4d0647d9-f427-4dc0-81cd-47f5fcbab239",
   "metadata": {},
   "outputs": [],
   "source": [
    "main_model = model_ft\n",
    "learning_rate = 0.001\n",
    "numEpoch = 10"
   ]
  },
  {
   "cell_type": "code",
   "execution_count": 72,
   "id": "4698dcc4-9602-478c-aaaf-db3a46efa2cf",
   "metadata": {},
   "outputs": [
    {
     "data": {
      "text/plain": [
       "Linear(in_features=512, out_features=2, bias=True)"
      ]
     },
     "execution_count": 72,
     "metadata": {},
     "output_type": "execute_result"
    }
   ],
   "source": [
    "model_ft.fc"
   ]
  },
  {
   "cell_type": "code",
   "execution_count": 73,
   "id": "fb00a0aa-a649-494d-b216-bbde9ba9b1f1",
   "metadata": {},
   "outputs": [],
   "source": [
    "def create_model_dict(number_of_nodes):\n",
    "    model_dict = dict()\n",
    "    \n",
    "    for i in range(number_of_nodes):\n",
    "        model_name=\"node\"+str(i)\n",
    "        model_info= Mymodel().resnet\n",
    "        model_dict.update({model_name : model_info })\n",
    "        \n",
    "        \n",
    "    return model_dict"
   ]
  },
  {
   "cell_type": "code",
   "execution_count": 74,
   "id": "8e9a28ce-f686-47b1-8733-b8e3c2bf6115",
   "metadata": {},
   "outputs": [],
   "source": [
    "model_dict = create_model_dict(2)"
   ]
  },
  {
   "cell_type": "code",
   "execution_count": 75,
   "id": "74f857ae-2645-4efb-a9ee-72633c585e0a",
   "metadata": {},
   "outputs": [],
   "source": [
    "name_of_x_train_sets=list(x_train_dict.keys())\n",
    "name_of_y_train_sets=list(y_train_dict.keys())\n",
    "name_of_x_valid_sets=list(x_valid_dict.keys())\n",
    "name_of_y_valid_sets=list(y_valid_dict.keys())\n",
    "#name_of_x_test_sets=list(x_test_dict.keys())\n",
    "#name_of_y_test_sets=list(y_test_dict.keys())\n",
    "\n",
    "name_of_models=list(model_dict.keys())\n",
    "# print(name_of_x_train_sets)\n",
    "# print(name_of_y_train_sets)\n",
    "# print(name_of_x_valid_sets)\n",
    "# print(name_of_y_valid_sets)\n",
    "# print(name_of_x_test_sets)\n",
    "# print(name_of_y_test_sets)\n",
    "# print(\"\\n ------------\")\n",
    "# print(name_of_models)\n",
    "# print(name_of_optimizers)\n",
    "# print(name_of_criterions)"
   ]
  },
  {
   "cell_type": "code",
   "execution_count": 76,
   "id": "7fb28997-4975-412a-8611-2d36d0058a10",
   "metadata": {},
   "outputs": [
    {
     "name": "stdout",
     "output_type": "stream",
     "text": [
      "tensor([[-0.0124, -0.0264, -0.0316,  0.0188, -0.0078]],\n",
      "       grad_fn=<SliceBackward0>)\n",
      "tensor([[ 0.0243, -0.0129, -0.0402,  0.0385, -0.0192]],\n",
      "       grad_fn=<SliceBackward0>)\n",
      "tensor([[ 0.0055,  0.0415, -0.0163, -0.0029,  0.0097]],\n",
      "       grad_fn=<SliceBackward0>)\n"
     ]
    }
   ],
   "source": [
    "#before sending main model to nodes\n",
    "print(main_model.fc.weight[0:1,0:5])\n",
    "print(model_dict[\"node1\"].fc.weight[0:1,0:5])\n",
    "print(model_dict[\"node0\"].fc.weight[0:1,0:5])"
   ]
  },
  {
   "cell_type": "code",
   "execution_count": 77,
   "id": "b6c6f4c5-9507-42ae-9811-62a6e25a335b",
   "metadata": {},
   "outputs": [],
   "source": [
    "number_of_nodes = 2"
   ]
  },
  {
   "cell_type": "code",
   "execution_count": 78,
   "id": "48af35de-1ab7-45f8-8b4d-ffeb4fe7cbc8",
   "metadata": {},
   "outputs": [
    {
     "data": {
      "text/plain": [
       "ResNet(\n",
       "  (conv1): Conv2d(1, 64, kernel_size=(7, 7), stride=(2, 2), padding=(3, 3), bias=False)\n",
       "  (bn1): BatchNorm2d(64, eps=1e-05, momentum=0.1, affine=True, track_running_stats=True)\n",
       "  (relu): ReLU(inplace=True)\n",
       "  (maxpool): MaxPool2d(kernel_size=3, stride=2, padding=1, dilation=1, ceil_mode=False)\n",
       "  (layer1): Sequential(\n",
       "    (0): BasicBlock(\n",
       "      (conv1): Conv2d(64, 64, kernel_size=(3, 3), stride=(1, 1), padding=(1, 1), bias=False)\n",
       "      (bn1): BatchNorm2d(64, eps=1e-05, momentum=0.1, affine=True, track_running_stats=True)\n",
       "      (relu): ReLU(inplace=True)\n",
       "      (conv2): Conv2d(64, 64, kernel_size=(3, 3), stride=(1, 1), padding=(1, 1), bias=False)\n",
       "      (bn2): BatchNorm2d(64, eps=1e-05, momentum=0.1, affine=True, track_running_stats=True)\n",
       "    )\n",
       "    (1): BasicBlock(\n",
       "      (conv1): Conv2d(64, 64, kernel_size=(3, 3), stride=(1, 1), padding=(1, 1), bias=False)\n",
       "      (bn1): BatchNorm2d(64, eps=1e-05, momentum=0.1, affine=True, track_running_stats=True)\n",
       "      (relu): ReLU(inplace=True)\n",
       "      (conv2): Conv2d(64, 64, kernel_size=(3, 3), stride=(1, 1), padding=(1, 1), bias=False)\n",
       "      (bn2): BatchNorm2d(64, eps=1e-05, momentum=0.1, affine=True, track_running_stats=True)\n",
       "    )\n",
       "  )\n",
       "  (layer2): Sequential(\n",
       "    (0): BasicBlock(\n",
       "      (conv1): Conv2d(64, 128, kernel_size=(3, 3), stride=(2, 2), padding=(1, 1), bias=False)\n",
       "      (bn1): BatchNorm2d(128, eps=1e-05, momentum=0.1, affine=True, track_running_stats=True)\n",
       "      (relu): ReLU(inplace=True)\n",
       "      (conv2): Conv2d(128, 128, kernel_size=(3, 3), stride=(1, 1), padding=(1, 1), bias=False)\n",
       "      (bn2): BatchNorm2d(128, eps=1e-05, momentum=0.1, affine=True, track_running_stats=True)\n",
       "      (downsample): Sequential(\n",
       "        (0): Conv2d(64, 128, kernel_size=(1, 1), stride=(2, 2), bias=False)\n",
       "        (1): BatchNorm2d(128, eps=1e-05, momentum=0.1, affine=True, track_running_stats=True)\n",
       "      )\n",
       "    )\n",
       "    (1): BasicBlock(\n",
       "      (conv1): Conv2d(128, 128, kernel_size=(3, 3), stride=(1, 1), padding=(1, 1), bias=False)\n",
       "      (bn1): BatchNorm2d(128, eps=1e-05, momentum=0.1, affine=True, track_running_stats=True)\n",
       "      (relu): ReLU(inplace=True)\n",
       "      (conv2): Conv2d(128, 128, kernel_size=(3, 3), stride=(1, 1), padding=(1, 1), bias=False)\n",
       "      (bn2): BatchNorm2d(128, eps=1e-05, momentum=0.1, affine=True, track_running_stats=True)\n",
       "    )\n",
       "  )\n",
       "  (layer3): Sequential(\n",
       "    (0): BasicBlock(\n",
       "      (conv1): Conv2d(128, 256, kernel_size=(3, 3), stride=(2, 2), padding=(1, 1), bias=False)\n",
       "      (bn1): BatchNorm2d(256, eps=1e-05, momentum=0.1, affine=True, track_running_stats=True)\n",
       "      (relu): ReLU(inplace=True)\n",
       "      (conv2): Conv2d(256, 256, kernel_size=(3, 3), stride=(1, 1), padding=(1, 1), bias=False)\n",
       "      (bn2): BatchNorm2d(256, eps=1e-05, momentum=0.1, affine=True, track_running_stats=True)\n",
       "      (downsample): Sequential(\n",
       "        (0): Conv2d(128, 256, kernel_size=(1, 1), stride=(2, 2), bias=False)\n",
       "        (1): BatchNorm2d(256, eps=1e-05, momentum=0.1, affine=True, track_running_stats=True)\n",
       "      )\n",
       "    )\n",
       "    (1): BasicBlock(\n",
       "      (conv1): Conv2d(256, 256, kernel_size=(3, 3), stride=(1, 1), padding=(1, 1), bias=False)\n",
       "      (bn1): BatchNorm2d(256, eps=1e-05, momentum=0.1, affine=True, track_running_stats=True)\n",
       "      (relu): ReLU(inplace=True)\n",
       "      (conv2): Conv2d(256, 256, kernel_size=(3, 3), stride=(1, 1), padding=(1, 1), bias=False)\n",
       "      (bn2): BatchNorm2d(256, eps=1e-05, momentum=0.1, affine=True, track_running_stats=True)\n",
       "    )\n",
       "  )\n",
       "  (layer4): Sequential(\n",
       "    (0): BasicBlock(\n",
       "      (conv1): Conv2d(256, 512, kernel_size=(3, 3), stride=(2, 2), padding=(1, 1), bias=False)\n",
       "      (bn1): BatchNorm2d(512, eps=1e-05, momentum=0.1, affine=True, track_running_stats=True)\n",
       "      (relu): ReLU(inplace=True)\n",
       "      (conv2): Conv2d(512, 512, kernel_size=(3, 3), stride=(1, 1), padding=(1, 1), bias=False)\n",
       "      (bn2): BatchNorm2d(512, eps=1e-05, momentum=0.1, affine=True, track_running_stats=True)\n",
       "      (downsample): Sequential(\n",
       "        (0): Conv2d(256, 512, kernel_size=(1, 1), stride=(2, 2), bias=False)\n",
       "        (1): BatchNorm2d(512, eps=1e-05, momentum=0.1, affine=True, track_running_stats=True)\n",
       "      )\n",
       "    )\n",
       "    (1): BasicBlock(\n",
       "      (conv1): Conv2d(512, 512, kernel_size=(3, 3), stride=(1, 1), padding=(1, 1), bias=False)\n",
       "      (bn1): BatchNorm2d(512, eps=1e-05, momentum=0.1, affine=True, track_running_stats=True)\n",
       "      (relu): ReLU(inplace=True)\n",
       "      (conv2): Conv2d(512, 512, kernel_size=(3, 3), stride=(1, 1), padding=(1, 1), bias=False)\n",
       "      (bn2): BatchNorm2d(512, eps=1e-05, momentum=0.1, affine=True, track_running_stats=True)\n",
       "    )\n",
       "  )\n",
       "  (avgpool): AdaptiveAvgPool2d(output_size=(1, 1))\n",
       "  (fc): Linear(in_features=512, out_features=2, bias=True)\n",
       ")"
      ]
     },
     "execution_count": 78,
     "metadata": {},
     "output_type": "execute_result"
    }
   ],
   "source": [
    "model_dict['node0']"
   ]
  },
  {
   "cell_type": "code",
   "execution_count": 79,
   "id": "4a06194d-bcec-4d0d-8b3c-11ce5d537a3e",
   "metadata": {},
   "outputs": [
    {
     "name": "stdout",
     "output_type": "stream",
     "text": [
      "conv1.weight\n",
      "bn1.weight\n",
      "bn1.bias\n",
      "layer1.0.conv1.weight\n",
      "layer1.0.bn1.weight\n",
      "layer1.0.bn1.bias\n",
      "layer1.0.conv2.weight\n",
      "layer1.0.bn2.weight\n",
      "layer1.0.bn2.bias\n",
      "layer1.1.conv1.weight\n",
      "layer1.1.bn1.weight\n",
      "layer1.1.bn1.bias\n",
      "layer1.1.conv2.weight\n",
      "layer1.1.bn2.weight\n",
      "layer1.1.bn2.bias\n",
      "layer2.0.conv1.weight\n",
      "layer2.0.bn1.weight\n",
      "layer2.0.bn1.bias\n",
      "layer2.0.conv2.weight\n",
      "layer2.0.bn2.weight\n",
      "layer2.0.bn2.bias\n",
      "layer2.0.downsample.0.weight\n",
      "layer2.0.downsample.1.weight\n",
      "layer2.0.downsample.1.bias\n",
      "layer2.1.conv1.weight\n",
      "layer2.1.bn1.weight\n",
      "layer2.1.bn1.bias\n",
      "layer2.1.conv2.weight\n",
      "layer2.1.bn2.weight\n",
      "layer2.1.bn2.bias\n",
      "layer3.0.conv1.weight\n",
      "layer3.0.bn1.weight\n",
      "layer3.0.bn1.bias\n",
      "layer3.0.conv2.weight\n",
      "layer3.0.bn2.weight\n",
      "layer3.0.bn2.bias\n",
      "layer3.0.downsample.0.weight\n",
      "layer3.0.downsample.1.weight\n",
      "layer3.0.downsample.1.bias\n",
      "layer3.1.conv1.weight\n",
      "layer3.1.bn1.weight\n",
      "layer3.1.bn1.bias\n",
      "layer3.1.conv2.weight\n",
      "layer3.1.bn2.weight\n",
      "layer3.1.bn2.bias\n",
      "layer4.0.conv1.weight\n",
      "layer4.0.bn1.weight\n",
      "layer4.0.bn1.bias\n",
      "layer4.0.conv2.weight\n",
      "layer4.0.bn2.weight\n",
      "layer4.0.bn2.bias\n",
      "layer4.0.downsample.0.weight\n",
      "layer4.0.downsample.1.weight\n",
      "layer4.0.downsample.1.bias\n",
      "layer4.1.conv1.weight\n",
      "layer4.1.bn1.weight\n",
      "layer4.1.bn1.bias\n",
      "layer4.1.conv2.weight\n",
      "layer4.1.bn2.weight\n",
      "layer4.1.bn2.bias\n",
      "fc.weight\n",
      "fc.bias\n"
     ]
    }
   ],
   "source": [
    "for name, param  in main_model.named_parameters():\n",
    "    print(name)"
   ]
  },
  {
   "cell_type": "code",
   "execution_count": 80,
   "id": "351a308a-dd8d-49eb-9576-833a0e5065aa",
   "metadata": {},
   "outputs": [
    {
     "data": {
      "text/plain": [
       "['node0', 'node1']"
      ]
     },
     "execution_count": 80,
     "metadata": {},
     "output_type": "execute_result"
    }
   ],
   "source": [
    "name_of_models"
   ]
  },
  {
   "cell_type": "code",
   "execution_count": 81,
   "id": "4a39e738-edf5-4906-94a4-81fc62eb089b",
   "metadata": {},
   "outputs": [],
   "source": [
    "def send_main_model_to_nodes_and_update_model_dict(main_model, model_dict, number_of_nodes): \n",
    "    with torch.no_grad():\n",
    "        for i in range(number_of_nodes):\n",
    "            state_dict= copy.deepcopy(main_model.state_dict())\n",
    "            model_dict[name_of_models[i]].load_state_dict(state_dict)\n",
    "    return model_dict"
   ]
  },
  {
   "cell_type": "code",
   "execution_count": 82,
   "id": "30e2b70e-41b7-4ca5-a35f-8aa79faf22a1",
   "metadata": {},
   "outputs": [],
   "source": [
    "# We send the main model to the nodes. \n",
    "model_dict=send_main_model_to_nodes_and_update_model_dict(main_model, model_dict, number_of_nodes)"
   ]
  },
  {
   "cell_type": "code",
   "execution_count": 83,
   "id": "14f63533-da40-4902-95e3-c1db8731b16d",
   "metadata": {},
   "outputs": [
    {
     "name": "stdout",
     "output_type": "stream",
     "text": [
      "tensor([[-0.0124, -0.0264, -0.0316,  0.0188, -0.0078]],\n",
      "       grad_fn=<SliceBackward0>)\n",
      "tensor([[-0.0124, -0.0264, -0.0316,  0.0188, -0.0078]],\n",
      "       grad_fn=<SliceBackward0>)\n",
      "tensor([[-0.0124, -0.0264, -0.0316,  0.0188, -0.0078]],\n",
      "       grad_fn=<SliceBackward0>)\n"
     ]
    }
   ],
   "source": [
    "# We see here they have the same parameter on the randomly initialize layer. \n",
    "print(main_model.fc.weight[0:1,0:5])\n",
    "print(model_dict[\"node0\"].fc.weight[0:1,0:5])\n",
    "print(model_dict[\"node1\"].fc.weight[0:1,0:5])"
   ]
  },
  {
   "cell_type": "code",
   "execution_count": 84,
   "id": "915eb88b-999e-41ab-ae29-ab8d1f3838cb",
   "metadata": {},
   "outputs": [
    {
     "data": {
      "text/plain": [
       "2934699076528"
      ]
     },
     "execution_count": 84,
     "metadata": {},
     "output_type": "execute_result"
    }
   ],
   "source": [
    "id(main_model)"
   ]
  },
  {
   "cell_type": "code",
   "execution_count": 85,
   "id": "6bd215fc-7aff-43ef-a2e7-06b1146aff1a",
   "metadata": {},
   "outputs": [
    {
     "name": "stdout",
     "output_type": "stream",
     "text": [
      "2934699517408\n",
      "2934699544336\n"
     ]
    }
   ],
   "source": [
    "print(id(model_dict[\"node0\"]))\n",
    "print(id(model_dict[\"node1\"]))"
   ]
  },
  {
   "cell_type": "code",
   "execution_count": 86,
   "id": "f1ae1a3c-c524-4760-a172-77c3d2ba7444",
   "metadata": {},
   "outputs": [],
   "source": [
    "def fedavg(main_model, model_dict, number_of_nodes):  #with equality splited data\n",
    "    state_dict = model_dict[name_of_models[0]].state_dict()\n",
    "    for name, param in model_dict[name_of_models[0]].named_parameters():\n",
    "        for i in range(1, number_of_nodes):\n",
    "            state_dict[name]=  state_dict[name] + model_dict[name_of_models[i]].state_dict()[name]\n",
    "        state_dict[name] = state_dict[name]/number_of_nodes\n",
    "    new_model = Mymodel().resnet    \n",
    "    new_model.load_state_dict(state_dict)\n",
    "    return new_model"
   ]
  },
  {
   "cell_type": "code",
   "execution_count": 87,
   "id": "345be044-05da-4c5d-b2df-652fa44080ab",
   "metadata": {},
   "outputs": [
    {
     "name": "stdout",
     "output_type": "stream",
     "text": [
      "tensor([[-0.0124, -0.0264, -0.0316,  0.0188, -0.0078]],\n",
      "       grad_fn=<SliceBackward0>)\n",
      "tensor([[-0.0124, -0.0264, -0.0316,  0.0188, -0.0078]],\n",
      "       grad_fn=<SliceBackward0>)\n",
      "tensor([[-0.0124, -0.0264, -0.0316,  0.0188, -0.0078]],\n",
      "       grad_fn=<SliceBackward0>)\n"
     ]
    }
   ],
   "source": [
    "# We see here they have the same parameter\n",
    "print(main_model.fc.weight[0:1,0:5])\n",
    "print(model_dict[\"node0\"].fc.weight[0:1,0:5])\n",
    "print(model_dict[\"node1\"].fc.weight[0:1,0:5])\n",
    "new = fedavg(main_model, model_dict, number_of_nodes)"
   ]
  },
  {
   "cell_type": "code",
   "execution_count": 88,
   "id": "32684220-7330-42e1-a9e4-c1defc80f79d",
   "metadata": {},
   "outputs": [
    {
     "name": "stdout",
     "output_type": "stream",
     "text": [
      "tensor([[-0.0124, -0.0264, -0.0316,  0.0188, -0.0078]],\n",
      "       grad_fn=<SliceBackward0>)\n"
     ]
    }
   ],
   "source": [
    "print(new.fc.weight[0:1,0:5])"
   ]
  },
  {
   "cell_type": "code",
   "execution_count": 89,
   "id": "3f6d595e-d56e-4df7-88a3-8ddc8e9099fe",
   "metadata": {},
   "outputs": [
    {
     "name": "stdout",
     "output_type": "stream",
     "text": [
      "tensor([[ 0.0075,  0.0005,  0.0382, -0.0159, -0.0141]],\n",
      "       grad_fn=<SliceBackward0>)\n",
      "tensor([[-0.0399,  0.0138, -0.0145, -0.0004, -0.0391]],\n",
      "       grad_fn=<SliceBackward0>)\n"
     ]
    }
   ],
   "source": [
    "modelA = Mymodel().resnet\n",
    "modelB = Mymodel().resnet\n",
    "model_dict[\"node0\"] =modelA\n",
    "model_dict[\"node1\"] = modelB\n",
    "print(modelA.fc.weight[0:1,0:5])\n",
    "print(modelB.fc.weight[0:1,0:5])"
   ]
  },
  {
   "cell_type": "code",
   "execution_count": 90,
   "id": "f8a98405-bec0-4695-9c5b-4f7bb19d87c0",
   "metadata": {},
   "outputs": [
    {
     "name": "stdout",
     "output_type": "stream",
     "text": [
      "tensor([[-0.0124, -0.0264, -0.0316,  0.0188, -0.0078]],\n",
      "       grad_fn=<SliceBackward0>)\n",
      "tensor([[-0.0162,  0.0072,  0.0119, -0.0082, -0.0266]],\n",
      "       grad_fn=<SliceBackward0>)\n"
     ]
    }
   ],
   "source": [
    "new = fedavg(main_model, model_dict, number_of_nodes)\n",
    "print(main_model.fc.weight[0:1,0:5])\n",
    "print(new.fc.weight[0:1,0:5])"
   ]
  },
  {
   "cell_type": "code",
   "execution_count": null,
   "id": "3daae4c1-eacc-4719-9ede-94ad829cbb95",
   "metadata": {},
   "outputs": [],
   "source": []
  },
  {
   "cell_type": "code",
   "execution_count": null,
   "id": "c1ce1c40-eb83-4d80-9b32-30148d7c07fa",
   "metadata": {},
   "outputs": [],
   "source": []
  },
  {
   "cell_type": "markdown",
   "id": "f4aa3834-498d-45a7-b15b-90d03eedda37",
   "metadata": {
    "tags": []
   },
   "source": [
    "# Preprocessing"
   ]
  },
  {
   "cell_type": "code",
   "execution_count": 91,
   "id": "-TWqCRvH-j6k",
   "metadata": {
    "id": "-TWqCRvH-j6k"
   },
   "outputs": [
    {
     "data": {
      "image/png": "[encoded data removed]",
      "text/plain": [
       "<Figure size 432x288 with 1 Axes>"
      ]
     },
     "metadata": {
      "needs_background": "light"
     },
     "output_type": "display_data"
    }
   ],
   "source": [
    "import matplotlib.pyplot as plt\n",
    "i= 345\n",
    "image = x_valid_dict['node1'][i]\n",
    "plt.title('{}'.format( y_valid_dict['node1'][i]))\n",
    "plt.imshow(image, cmap='gray')\n",
    "plt.show()"
   ]
  },
  {
   "cell_type": "code",
   "execution_count": 92,
   "id": "408ffb01-f5fc-45ff-9f25-99fca500a904",
   "metadata": {},
   "outputs": [],
   "source": [
    "# define custom dataset\n",
    "class MyDataset(Dataset):\n",
    "    def __init__(self, feature, target=None, transform=None):\n",
    "\n",
    "        self.X = feature\n",
    "        self.Y = target\n",
    "        self.transform = transform\n",
    "\n",
    "    def __len__(self):\n",
    "        return len(self.X)\n",
    "\n",
    "    def __getitem__(self, idx):\n",
    "        if self.transform is not None:\n",
    "            return self.transform(self.X[idx]), self.Y[idx]\n",
    "        elif self.Y is None:\n",
    "            return [self.X[idx]]\n",
    "        return self.X[idx], self.Y[idx]"
   ]
  },
  {
   "cell_type": "code",
   "execution_count": 93,
   "id": "85de7f22-2cb0-4693-9c2f-cba7e4e24b2c",
   "metadata": {},
   "outputs": [],
   "source": [
    "# data reshape\n",
    "def data_reshape(train_split,train_labels_split,validation_split,validation_labels_split) :\n",
    "    # test_data = torch.from_numpy(test_split.reshape((-1,1,28,28)))\n",
    "    train_data = torch.from_numpy(train_split.reshape((-1,1,28,28)))\n",
    "    train_labels_data =  torch.from_numpy(train_labels_split)\n",
    "    validation_data = torch.from_numpy(validation_split.reshape((-1,1,28,28)))\n",
    "    validation_labels_data =  torch.from_numpy(validation_labels_split)\n",
    "    return train_data, validation_data, train_labels_data,  validation_labels_data"
   ]
  },
  {
   "cell_type": "code",
   "execution_count": 94,
   "id": "9423e17b-b00b-493a-aabc-84f754841ddc",
   "metadata": {},
   "outputs": [],
   "source": [
    "def data_loader(train_data, validation_data, train_labels_data,  validation_labels_data):\n",
    "    train_set = MyDataset(train_data.float(), train_labels_data)\n",
    "    valid_set = MyDataset(validation_data.float(), validation_labels_data)\n",
    "    # test_set = MyDataset(test_data.float())\n",
    "    batch_size = 32\n",
    "    train_loader = torch.utils.data.DataLoader(train_set, batch_size = batch_size, shuffle = True)\n",
    "    valid_loader = torch.utils.data.DataLoader(valid_set, batch_size = batch_size, shuffle = False)\n",
    "    # test_loader = torch.utils.data.DataLoader(test_set, batch_size = batch_size, shuffle = False)\n",
    "    return train_set, valid_set, train_loader, valid_loader"
   ]
  },
  {
   "cell_type": "code",
   "execution_count": 95,
   "id": "ab22c7cb-dfdc-416c-b692-f89ddc10599a",
   "metadata": {},
   "outputs": [],
   "source": [
    "def transform_load(train_data, train_labels_data, train_set, train_loader): # calculate mean and std of train_set for normalize\n",
    "    data = next(iter(train_loader))\n",
    "    mean = data[0].mean()\n",
    "    std = data[0].std()\n",
    "\n",
    "    # set transformation option\n",
    "    transform = transforms.Compose([\n",
    "            transforms.ToPILImage(),\n",
    "            transforms.RandomAffine(degrees = 30),\n",
    "            transforms.RandomPerspective(),\n",
    "            transforms.ToTensor(),\n",
    "            transforms.Normalize(mean, std)])\n",
    "\n",
    "    # augmented train_set\n",
    "    augmented_train_set = MyDataset(train_data.float(), train_labels_data, transform=transform)\n",
    "\n",
    "    # combine original set with augmented set\n",
    "    datasets = []\n",
    "    datasets.append(train_set)\n",
    "    datasets.append(augmented_train_set)\n",
    "    train_set = torch.utils.data.ConcatDataset(datasets)\n",
    "\n",
    "    # redefine train_loader\n",
    "    train_loader = torch.utils.data.DataLoader(train_set, batch_size = 32, shuffle = True)\n",
    "    return train_loader"
   ]
  },
  {
   "cell_type": "code",
   "execution_count": 96,
   "id": "8e672a86-4a94-48b9-a90f-819b1b5579b4",
   "metadata": {},
   "outputs": [],
   "source": [
    "def preprocessing(x_train_dict , y_train_dict, x_valid_dict , y_valid_dict):\n",
    "    data_resh, data_load,trans = {},{},{}\n",
    "    for i in x_train_dict.keys() :\n",
    "        data_resh[i]= data_reshape(x_train_dict[i] , y_train_dict[i], x_valid_dict[i] , y_valid_dict[i])\n",
    "        data_load[i]= data_loader(data_resh[i][0], data_resh[i][1],data_resh[i][2], data_resh[i][3])\n",
    "        trans[i] = transform_load(data_resh[i][0], data_resh[i][2], data_load[i][0], data_load[i][2])\n",
    "    return data_load , trans"
   ]
  },
  {
   "cell_type": "code",
   "execution_count": 97,
   "id": "6d7688b4-3065-43f6-855a-467fb0c08234",
   "metadata": {},
   "outputs": [],
   "source": [
    "data_load, trans = preprocessing(x_train_dict , y_train_dict, x_valid_dict , y_valid_dict)\n"
   ]
  },
  {
   "cell_type": "code",
   "execution_count": 98,
   "id": "1defa285-98bb-4a89-a6d0-5b8ff629caaf",
   "metadata": {},
   "outputs": [],
   "source": [
    "from tqdm import tqdm\n",
    "from time import sleep\n",
    "from tqdm import trange\n",
    "from __future__ import print_function, division\n",
    "\n",
    "import torch\n",
    "import torch.nn as nn\n",
    "import torch.optim as optim\n",
    "from torch.optim import lr_scheduler\n",
    "from torchvision import models, transforms\n",
    "import time\n",
    "import copy\n",
    "from torch.utils.data import DataLoader, Dataset\n",
    "\n",
    "def train_model(model, criterion, optimizer, scheduler,  train_loader, valid_loader, train_set, valid_set,num_epochs= 10 ):\n",
    "    dataloaders = {'train': train_loader, 'val': valid_loader} \n",
    "    dataset_sizes= {'train': len(train_set), 'val': len(valid_set)} \n",
    "    since = time.time()\n",
    "    best_model_wts = copy.deepcopy(model.state_dict())\n",
    "    best_acc = 0.0\n",
    "    pbar = trange(num_epochs, unit=\"Epoch\")\n",
    "    for epoch in pbar:\n",
    "        sleep(0.5)\n",
    "        #print('Epoch {}/{}'.format(epoch + 1, num_epochs))\n",
    "        #print('-' * 10)\n",
    "\n",
    "        # Each epoch has a training and validation phase\n",
    "        pbar.set_description(f\"Epoch {epoch}\")\n",
    "        for phase in ['train', 'val']:\n",
    "            if phase == 'train':\n",
    "                model.train()  # Set model to training mode\n",
    "            else:\n",
    "                model.eval()   # Set model to evaluate mode\n",
    "\n",
    "            running_loss = 0.0\n",
    "            running_corrects = 0\n",
    "\n",
    "            # Iterate over data.\n",
    "            for inputs, labels in dataloaders[phase]:\n",
    "                inputs = inputs.to(device)\n",
    "                labels = labels.to(device)\n",
    "\n",
    "                # zero the parameter gradients\n",
    "                optimizer.zero_grad()\n",
    "\n",
    "                # forward\n",
    "                # track history if only in train\n",
    "                with torch.set_grad_enabled(phase == 'train'):\n",
    "                    outputs = model(inputs)\n",
    "                    _, preds = torch.max(outputs, 1)\n",
    "                    loss = criterion(outputs, labels)\n",
    "\n",
    "                    # backward + optimize only if in training phase\n",
    "                    if phase == 'train':\n",
    "                        loss.backward()\n",
    "                        optimizer.step()\n",
    "\n",
    "                # statistics\n",
    "                running_loss += loss.item() * inputs.size(0)\n",
    "                running_corrects += torch.sum(preds == labels.data)\n",
    "            if phase == 'train':\n",
    "                scheduler.step()\n",
    "\n",
    "            epoch_loss = running_loss / dataset_sizes[phase]\n",
    "            epoch_acc = running_corrects.double() / dataset_sizes[phase]\n",
    "\n",
    "            #print('{} Loss: {:.4f} Acc: {:.4f}'.format(\n",
    "            #    phase, epoch_loss, epoch_acc))\n",
    "\n",
    "            # deep copy the model\n",
    "            if phase == 'val' and epoch_acc > best_acc:\n",
    "                best_acc = epoch_acc\n",
    "                best_model_wts = copy.deepcopy(model.state_dict())\n",
    "\n",
    "        #print()\n",
    "\n",
    "    time_elapsed = time.time() - since\n",
    "    print('Training complete in {:.0f}m {:.0f}s'.format(\n",
    "        time_elapsed // 60, time_elapsed % 60))\n",
    "    print('Best val Acc: {:4f}'.format(best_acc))\n",
    "\n",
    "    # load best model weights\n",
    "    model.load_state_dict(best_model_wts)\n",
    "    pbar.close()\n",
    "    return model"
   ]
  },
  {
   "cell_type": "code",
   "execution_count": 99,
   "id": "c85a81bf-7d14-43a2-9159-5db192aa9f33",
   "metadata": {},
   "outputs": [
    {
     "data": {
      "text/plain": [
       "(<__main__.MyDataset at 0x2ab499595b0>,\n",
       " <__main__.MyDataset at 0x2ab4a3c5220>,\n",
       " <torch.utils.data.dataloader.DataLoader at 0x2ab4a3c5b50>,\n",
       " <torch.utils.data.dataloader.DataLoader at 0x2ab4a3c5040>)"
      ]
     },
     "execution_count": 99,
     "metadata": {},
     "output_type": "execute_result"
    }
   ],
   "source": [
    "data_load['node0']"
   ]
  },
  {
   "cell_type": "code",
   "execution_count": 100,
   "id": "0c585003-cd7b-4b22-bb60-5478dc8b325d",
   "metadata": {},
   "outputs": [],
   "source": [
    "def format_test_data(test_data):\n",
    "    test_data = torch.from_numpy(test_data.reshape((-1,1,28,28)))\n",
    "    test_set = MyDataset(test_data.float())\n",
    "    test_loader = torch.utils.data.DataLoader(test_set, batch_size = 32, shuffle = False)\n",
    "    return test_loader\n"
   ]
  },
  {
   "cell_type": "code",
   "execution_count": 101,
   "id": "361fc8a2-baac-48b6-bf3c-16687871cc9b",
   "metadata": {},
   "outputs": [],
   "source": [
    "def predict(test_loader, model_ft):\n",
    "    test_pred = torch.LongTensor()\n",
    "    with torch.no_grad():\n",
    "        for images in test_loader:\n",
    "            images = torch.autograd.Variable(images[0])\n",
    "            if torch.cuda.is_available():\n",
    "                images = images.to(device)\n",
    "\n",
    "            outputs = model_ft(images)\n",
    "            predicted = outputs.cpu().data.max(1, keepdim=True)[1]\n",
    "            test_pred = torch.cat((test_pred, predicted), dim=0)\n",
    "    return test_pred"
   ]
  },
  {
   "cell_type": "code",
   "execution_count": 102,
   "id": "f1b6efdd-9562-4884-bd42-81f9e54324ff",
   "metadata": {},
   "outputs": [],
   "source": [
    "from sklearn.metrics import accuracy_score\n",
    "from sklearn import metrics\n",
    "def evaluation_met(test_pred, test_label_split, ratio = 'Balanced data'):  \n",
    "    filt0 = test_label_split == 0\n",
    "    filt1 = test_label_split == 1\n",
    "    fpr, tpr, thresholds = metrics.roc_curve(test_pred, test_label_split, pos_label=1)\n",
    "    acc = accuracy_score(test_pred,test_label_split)   \n",
    "    acc0 = accuracy_score(test_pred[filt0],test_label_split[filt0])\n",
    "    acc1 = accuracy_score(test_pred[filt1],test_label_split[filt1])\n",
    "    Auc = metrics.auc(fpr, tpr)\n",
    "    print('For {} :, acc : {}, acc0 : {} , acc1:{} , AUC : {} '.format(ratio,acc, acc0,acc1, Auc))\n",
    "    return {'ratio' : ratio, 'acc' :acc,'acc0':acc0, 'acc1':acc1, 'AUC':Auc}"
   ]
  },
  {
   "cell_type": "code",
   "execution_count": 103,
   "id": "e554c4cd-f68a-425f-9c1c-16d805fbba1f",
   "metadata": {},
   "outputs": [],
   "source": [
    "\n",
    "def training_plan(main_model,model_dict,data_load, Round=3, number_of_nodes=2):\n",
    "    device = torch.device(\"cuda:0\" if torch.cuda.is_available() else \"cpu\")\n",
    "    criterion = nn.CrossEntropyLoss()\n",
    "   \n",
    "    for i in range(Round):\n",
    "        print('Round '+ str(i+1))\n",
    "        print('Sending main model to nodes in round '+ str(i+1))\n",
    "        model_dict = send_main_model_to_nodes_and_update_model_dict(main_model, model_dict, number_of_nodes)\n",
    "        for j in model_dict.keys():\n",
    "            print('training {} for Round {} :'.format(j,i))\n",
    "            model = model_dict[j].to(device)\n",
    "            optimizer = optim.SGD(model.parameters(), lr=0.001)\n",
    "            scheduler = lr_scheduler.StepLR(optimizer, step_size=5, gamma=0.1)\n",
    "            train_loader = trans[j]\n",
    "            valid_loader =  data_load[j][3]\n",
    "            train_set =  data_load[j][0]\n",
    "            valid_set =  data_load[j][1]\n",
    "            model_dict[j] = train_model(model, criterion, optimizer, scheduler,  train_loader, valid_loader, train_set, valid_set)\n",
    "        print('Fedavg of main model in round '+ str(i+1))\n",
    "        main_model = fedavg(main_model, model_dict, number_of_nodes)    \n",
    "        \n",
    "    return model_dict, main_model"
   ]
  },
  {
   "cell_type": "markdown",
   "id": "7c4eceb1",
   "metadata": {},
   "source": [
    "# Balanced"
   ]
  },
  {
   "cell_type": "code",
   "execution_count": 104,
   "id": "7b8272ed",
   "metadata": {},
   "outputs": [
    {
     "name": "stdout",
     "output_type": "stream",
     "text": [
      "Round 1\n",
      "Sending main model to nodes in round 1\n",
      "training node0 for Round 0 :\n"
     ]
    },
    {
     "name": "stderr",
     "output_type": "stream",
     "text": [
      "Epoch 3:  30%|███       | 3/10 [38:49<1:30:35, 776.55s/Epoch]\n"
     ]
    },
    {
     "ename": "KeyboardInterrupt",
     "evalue": "",
     "output_type": "error",
     "traceback": [
      "\u001b[1;31m---------------------------------------------------------------------------\u001b[0m",
      "\u001b[1;31mKeyboardInterrupt\u001b[0m                         Traceback (most recent call last)",
      "Input \u001b[1;32mIn [104]\u001b[0m, in \u001b[0;36m<cell line: 1>\u001b[1;34m()\u001b[0m\n\u001b[1;32m----> 1\u001b[0m model_dict_B, model_B \u001b[38;5;241m=\u001b[39m \u001b[43mtraining_plan\u001b[49m\u001b[43m(\u001b[49m\u001b[43mmain_model\u001b[49m\u001b[43m,\u001b[49m\u001b[43mmodel_dict\u001b[49m\u001b[43m,\u001b[49m\u001b[43mdata_load\u001b[49m\u001b[43m)\u001b[49m\n",
      "Input \u001b[1;32mIn [103]\u001b[0m, in \u001b[0;36mtraining_plan\u001b[1;34m(main_model, model_dict, data_load, Round, number_of_nodes)\u001b[0m\n\u001b[0;32m     16\u001b[0m     train_set \u001b[38;5;241m=\u001b[39m  data_load[j][\u001b[38;5;241m0\u001b[39m]\n\u001b[0;32m     17\u001b[0m     valid_set \u001b[38;5;241m=\u001b[39m  data_load[j][\u001b[38;5;241m1\u001b[39m]\n\u001b[1;32m---> 18\u001b[0m     model_dict[j] \u001b[38;5;241m=\u001b[39m \u001b[43mtrain_model\u001b[49m\u001b[43m(\u001b[49m\u001b[43mmodel\u001b[49m\u001b[43m,\u001b[49m\u001b[43m \u001b[49m\u001b[43mcriterion\u001b[49m\u001b[43m,\u001b[49m\u001b[43m \u001b[49m\u001b[43moptimizer\u001b[49m\u001b[43m,\u001b[49m\u001b[43m \u001b[49m\u001b[43mscheduler\u001b[49m\u001b[43m,\u001b[49m\u001b[43m  \u001b[49m\u001b[43mtrain_loader\u001b[49m\u001b[43m,\u001b[49m\u001b[43m \u001b[49m\u001b[43mvalid_loader\u001b[49m\u001b[43m,\u001b[49m\u001b[43m \u001b[49m\u001b[43mtrain_set\u001b[49m\u001b[43m,\u001b[49m\u001b[43m \u001b[49m\u001b[43mvalid_set\u001b[49m\u001b[43m)\u001b[49m\n\u001b[0;32m     19\u001b[0m \u001b[38;5;28mprint\u001b[39m(\u001b[38;5;124m'\u001b[39m\u001b[38;5;124mFedavg of main model in round \u001b[39m\u001b[38;5;124m'\u001b[39m\u001b[38;5;241m+\u001b[39m \u001b[38;5;28mstr\u001b[39m(i\u001b[38;5;241m+\u001b[39m\u001b[38;5;241m1\u001b[39m))\n\u001b[0;32m     20\u001b[0m main_model \u001b[38;5;241m=\u001b[39m fedavg(main_model, model_dict, number_of_nodes)    \n",
      "Input \u001b[1;32mIn [98]\u001b[0m, in \u001b[0;36mtrain_model\u001b[1;34m(model, criterion, optimizer, scheduler, train_loader, valid_loader, train_set, valid_set, num_epochs)\u001b[0m\n\u001b[0;32m     36\u001b[0m running_corrects \u001b[38;5;241m=\u001b[39m \u001b[38;5;241m0\u001b[39m\n\u001b[0;32m     38\u001b[0m \u001b[38;5;66;03m# Iterate over data.\u001b[39;00m\n\u001b[1;32m---> 39\u001b[0m \u001b[38;5;28;01mfor\u001b[39;00m inputs, labels \u001b[38;5;129;01min\u001b[39;00m dataloaders[phase]:\n\u001b[0;32m     40\u001b[0m     inputs \u001b[38;5;241m=\u001b[39m inputs\u001b[38;5;241m.\u001b[39mto(device)\n\u001b[0;32m     41\u001b[0m     labels \u001b[38;5;241m=\u001b[39m labels\u001b[38;5;241m.\u001b[39mto(device)\n",
      "File \u001b[1;32m~\\anaconda3\\lib\\site-packages\\torch\\utils\\data\\dataloader.py:681\u001b[0m, in \u001b[0;36m_BaseDataLoaderIter.__next__\u001b[1;34m(self)\u001b[0m\n\u001b[0;32m    678\u001b[0m \u001b[38;5;28;01mif\u001b[39;00m \u001b[38;5;28mself\u001b[39m\u001b[38;5;241m.\u001b[39m_sampler_iter \u001b[38;5;129;01mis\u001b[39;00m \u001b[38;5;28;01mNone\u001b[39;00m:\n\u001b[0;32m    679\u001b[0m     \u001b[38;5;66;03m# TODO(https://github.com/pytorch/pytorch/issues/76750)\u001b[39;00m\n\u001b[0;32m    680\u001b[0m     \u001b[38;5;28mself\u001b[39m\u001b[38;5;241m.\u001b[39m_reset()  \u001b[38;5;66;03m# type: ignore[call-arg]\u001b[39;00m\n\u001b[1;32m--> 681\u001b[0m data \u001b[38;5;241m=\u001b[39m \u001b[38;5;28;43mself\u001b[39;49m\u001b[38;5;241;43m.\u001b[39;49m\u001b[43m_next_data\u001b[49m\u001b[43m(\u001b[49m\u001b[43m)\u001b[49m\n\u001b[0;32m    682\u001b[0m \u001b[38;5;28mself\u001b[39m\u001b[38;5;241m.\u001b[39m_num_yielded \u001b[38;5;241m+\u001b[39m\u001b[38;5;241m=\u001b[39m \u001b[38;5;241m1\u001b[39m\n\u001b[0;32m    683\u001b[0m \u001b[38;5;28;01mif\u001b[39;00m \u001b[38;5;28mself\u001b[39m\u001b[38;5;241m.\u001b[39m_dataset_kind \u001b[38;5;241m==\u001b[39m _DatasetKind\u001b[38;5;241m.\u001b[39mIterable \u001b[38;5;129;01mand\u001b[39;00m \\\n\u001b[0;32m    684\u001b[0m         \u001b[38;5;28mself\u001b[39m\u001b[38;5;241m.\u001b[39m_IterableDataset_len_called \u001b[38;5;129;01mis\u001b[39;00m \u001b[38;5;129;01mnot\u001b[39;00m \u001b[38;5;28;01mNone\u001b[39;00m \u001b[38;5;129;01mand\u001b[39;00m \\\n\u001b[0;32m    685\u001b[0m         \u001b[38;5;28mself\u001b[39m\u001b[38;5;241m.\u001b[39m_num_yielded \u001b[38;5;241m>\u001b[39m \u001b[38;5;28mself\u001b[39m\u001b[38;5;241m.\u001b[39m_IterableDataset_len_called:\n",
      "File \u001b[1;32m~\\anaconda3\\lib\\site-packages\\torch\\utils\\data\\dataloader.py:721\u001b[0m, in \u001b[0;36m_SingleProcessDataLoaderIter._next_data\u001b[1;34m(self)\u001b[0m\n\u001b[0;32m    719\u001b[0m \u001b[38;5;28;01mdef\u001b[39;00m \u001b[38;5;21m_next_data\u001b[39m(\u001b[38;5;28mself\u001b[39m):\n\u001b[0;32m    720\u001b[0m     index \u001b[38;5;241m=\u001b[39m \u001b[38;5;28mself\u001b[39m\u001b[38;5;241m.\u001b[39m_next_index()  \u001b[38;5;66;03m# may raise StopIteration\u001b[39;00m\n\u001b[1;32m--> 721\u001b[0m     data \u001b[38;5;241m=\u001b[39m \u001b[38;5;28;43mself\u001b[39;49m\u001b[38;5;241;43m.\u001b[39;49m\u001b[43m_dataset_fetcher\u001b[49m\u001b[38;5;241;43m.\u001b[39;49m\u001b[43mfetch\u001b[49m\u001b[43m(\u001b[49m\u001b[43mindex\u001b[49m\u001b[43m)\u001b[49m  \u001b[38;5;66;03m# may raise StopIteration\u001b[39;00m\n\u001b[0;32m    722\u001b[0m     \u001b[38;5;28;01mif\u001b[39;00m \u001b[38;5;28mself\u001b[39m\u001b[38;5;241m.\u001b[39m_pin_memory:\n\u001b[0;32m    723\u001b[0m         data \u001b[38;5;241m=\u001b[39m _utils\u001b[38;5;241m.\u001b[39mpin_memory\u001b[38;5;241m.\u001b[39mpin_memory(data, \u001b[38;5;28mself\u001b[39m\u001b[38;5;241m.\u001b[39m_pin_memory_device)\n",
      "File \u001b[1;32m~\\anaconda3\\lib\\site-packages\\torch\\utils\\data\\_utils\\fetch.py:49\u001b[0m, in \u001b[0;36m_MapDatasetFetcher.fetch\u001b[1;34m(self, possibly_batched_index)\u001b[0m\n\u001b[0;32m     47\u001b[0m \u001b[38;5;28;01mdef\u001b[39;00m \u001b[38;5;21mfetch\u001b[39m(\u001b[38;5;28mself\u001b[39m, possibly_batched_index):\n\u001b[0;32m     48\u001b[0m     \u001b[38;5;28;01mif\u001b[39;00m \u001b[38;5;28mself\u001b[39m\u001b[38;5;241m.\u001b[39mauto_collation:\n\u001b[1;32m---> 49\u001b[0m         data \u001b[38;5;241m=\u001b[39m [\u001b[38;5;28mself\u001b[39m\u001b[38;5;241m.\u001b[39mdataset[idx] \u001b[38;5;28;01mfor\u001b[39;00m idx \u001b[38;5;129;01min\u001b[39;00m possibly_batched_index]\n\u001b[0;32m     50\u001b[0m     \u001b[38;5;28;01melse\u001b[39;00m:\n\u001b[0;32m     51\u001b[0m         data \u001b[38;5;241m=\u001b[39m \u001b[38;5;28mself\u001b[39m\u001b[38;5;241m.\u001b[39mdataset[possibly_batched_index]\n",
      "File \u001b[1;32m~\\anaconda3\\lib\\site-packages\\torch\\utils\\data\\_utils\\fetch.py:49\u001b[0m, in \u001b[0;36m<listcomp>\u001b[1;34m(.0)\u001b[0m\n\u001b[0;32m     47\u001b[0m \u001b[38;5;28;01mdef\u001b[39;00m \u001b[38;5;21mfetch\u001b[39m(\u001b[38;5;28mself\u001b[39m, possibly_batched_index):\n\u001b[0;32m     48\u001b[0m     \u001b[38;5;28;01mif\u001b[39;00m \u001b[38;5;28mself\u001b[39m\u001b[38;5;241m.\u001b[39mauto_collation:\n\u001b[1;32m---> 49\u001b[0m         data \u001b[38;5;241m=\u001b[39m [\u001b[38;5;28;43mself\u001b[39;49m\u001b[38;5;241;43m.\u001b[39;49m\u001b[43mdataset\u001b[49m\u001b[43m[\u001b[49m\u001b[43midx\u001b[49m\u001b[43m]\u001b[49m \u001b[38;5;28;01mfor\u001b[39;00m idx \u001b[38;5;129;01min\u001b[39;00m possibly_batched_index]\n\u001b[0;32m     50\u001b[0m     \u001b[38;5;28;01melse\u001b[39;00m:\n\u001b[0;32m     51\u001b[0m         data \u001b[38;5;241m=\u001b[39m \u001b[38;5;28mself\u001b[39m\u001b[38;5;241m.\u001b[39mdataset[possibly_batched_index]\n",
      "File \u001b[1;32m~\\anaconda3\\lib\\site-packages\\torch\\utils\\data\\dataset.py:235\u001b[0m, in \u001b[0;36mConcatDataset.__getitem__\u001b[1;34m(self, idx)\u001b[0m\n\u001b[0;32m    233\u001b[0m \u001b[38;5;28;01melse\u001b[39;00m:\n\u001b[0;32m    234\u001b[0m     sample_idx \u001b[38;5;241m=\u001b[39m idx \u001b[38;5;241m-\u001b[39m \u001b[38;5;28mself\u001b[39m\u001b[38;5;241m.\u001b[39mcumulative_sizes[dataset_idx \u001b[38;5;241m-\u001b[39m \u001b[38;5;241m1\u001b[39m]\n\u001b[1;32m--> 235\u001b[0m \u001b[38;5;28;01mreturn\u001b[39;00m \u001b[38;5;28;43mself\u001b[39;49m\u001b[38;5;241;43m.\u001b[39;49m\u001b[43mdatasets\u001b[49m\u001b[43m[\u001b[49m\u001b[43mdataset_idx\u001b[49m\u001b[43m]\u001b[49m\u001b[43m[\u001b[49m\u001b[43msample_idx\u001b[49m\u001b[43m]\u001b[49m\n",
      "Input \u001b[1;32mIn [92]\u001b[0m, in \u001b[0;36mMyDataset.__getitem__\u001b[1;34m(self, idx)\u001b[0m\n\u001b[0;32m     12\u001b[0m \u001b[38;5;28;01mdef\u001b[39;00m \u001b[38;5;21m__getitem__\u001b[39m(\u001b[38;5;28mself\u001b[39m, idx):\n\u001b[0;32m     13\u001b[0m     \u001b[38;5;28;01mif\u001b[39;00m \u001b[38;5;28mself\u001b[39m\u001b[38;5;241m.\u001b[39mtransform \u001b[38;5;129;01mis\u001b[39;00m \u001b[38;5;129;01mnot\u001b[39;00m \u001b[38;5;28;01mNone\u001b[39;00m:\n\u001b[1;32m---> 14\u001b[0m         \u001b[38;5;28;01mreturn\u001b[39;00m \u001b[38;5;28;43mself\u001b[39;49m\u001b[38;5;241;43m.\u001b[39;49m\u001b[43mtransform\u001b[49m\u001b[43m(\u001b[49m\u001b[38;5;28;43mself\u001b[39;49m\u001b[38;5;241;43m.\u001b[39;49m\u001b[43mX\u001b[49m\u001b[43m[\u001b[49m\u001b[43midx\u001b[49m\u001b[43m]\u001b[49m\u001b[43m)\u001b[49m, \u001b[38;5;28mself\u001b[39m\u001b[38;5;241m.\u001b[39mY[idx]\n\u001b[0;32m     15\u001b[0m     \u001b[38;5;28;01melif\u001b[39;00m \u001b[38;5;28mself\u001b[39m\u001b[38;5;241m.\u001b[39mY \u001b[38;5;129;01mis\u001b[39;00m \u001b[38;5;28;01mNone\u001b[39;00m:\n\u001b[0;32m     16\u001b[0m         \u001b[38;5;28;01mreturn\u001b[39;00m [\u001b[38;5;28mself\u001b[39m\u001b[38;5;241m.\u001b[39mX[idx]]\n",
      "File \u001b[1;32m~\\anaconda3\\lib\\site-packages\\torchvision\\transforms\\transforms.py:94\u001b[0m, in \u001b[0;36mCompose.__call__\u001b[1;34m(self, img)\u001b[0m\n\u001b[0;32m     92\u001b[0m \u001b[38;5;28;01mdef\u001b[39;00m \u001b[38;5;21m__call__\u001b[39m(\u001b[38;5;28mself\u001b[39m, img):\n\u001b[0;32m     93\u001b[0m     \u001b[38;5;28;01mfor\u001b[39;00m t \u001b[38;5;129;01min\u001b[39;00m \u001b[38;5;28mself\u001b[39m\u001b[38;5;241m.\u001b[39mtransforms:\n\u001b[1;32m---> 94\u001b[0m         img \u001b[38;5;241m=\u001b[39m \u001b[43mt\u001b[49m\u001b[43m(\u001b[49m\u001b[43mimg\u001b[49m\u001b[43m)\u001b[49m\n\u001b[0;32m     95\u001b[0m     \u001b[38;5;28;01mreturn\u001b[39;00m img\n",
      "File \u001b[1;32m~\\anaconda3\\lib\\site-packages\\torch\\nn\\modules\\module.py:1130\u001b[0m, in \u001b[0;36mModule._call_impl\u001b[1;34m(self, *input, **kwargs)\u001b[0m\n\u001b[0;32m   1126\u001b[0m \u001b[38;5;66;03m# If we don't have any hooks, we want to skip the rest of the logic in\u001b[39;00m\n\u001b[0;32m   1127\u001b[0m \u001b[38;5;66;03m# this function, and just call forward.\u001b[39;00m\n\u001b[0;32m   1128\u001b[0m \u001b[38;5;28;01mif\u001b[39;00m \u001b[38;5;129;01mnot\u001b[39;00m (\u001b[38;5;28mself\u001b[39m\u001b[38;5;241m.\u001b[39m_backward_hooks \u001b[38;5;129;01mor\u001b[39;00m \u001b[38;5;28mself\u001b[39m\u001b[38;5;241m.\u001b[39m_forward_hooks \u001b[38;5;129;01mor\u001b[39;00m \u001b[38;5;28mself\u001b[39m\u001b[38;5;241m.\u001b[39m_forward_pre_hooks \u001b[38;5;129;01mor\u001b[39;00m _global_backward_hooks\n\u001b[0;32m   1129\u001b[0m         \u001b[38;5;129;01mor\u001b[39;00m _global_forward_hooks \u001b[38;5;129;01mor\u001b[39;00m _global_forward_pre_hooks):\n\u001b[1;32m-> 1130\u001b[0m     \u001b[38;5;28;01mreturn\u001b[39;00m forward_call(\u001b[38;5;241m*\u001b[39m\u001b[38;5;28minput\u001b[39m, \u001b[38;5;241m*\u001b[39m\u001b[38;5;241m*\u001b[39mkwargs)\n\u001b[0;32m   1131\u001b[0m \u001b[38;5;66;03m# Do not call functions when jit is used\u001b[39;00m\n\u001b[0;32m   1132\u001b[0m full_backward_hooks, non_full_backward_hooks \u001b[38;5;241m=\u001b[39m [], []\n",
      "File \u001b[1;32m~\\anaconda3\\lib\\site-packages\\torchvision\\transforms\\transforms.py:806\u001b[0m, in \u001b[0;36mRandomPerspective.forward\u001b[1;34m(self, img)\u001b[0m\n\u001b[0;32m    804\u001b[0m \u001b[38;5;28;01mif\u001b[39;00m torch\u001b[38;5;241m.\u001b[39mrand(\u001b[38;5;241m1\u001b[39m) \u001b[38;5;241m<\u001b[39m \u001b[38;5;28mself\u001b[39m\u001b[38;5;241m.\u001b[39mp:\n\u001b[0;32m    805\u001b[0m     startpoints, endpoints \u001b[38;5;241m=\u001b[39m \u001b[38;5;28mself\u001b[39m\u001b[38;5;241m.\u001b[39mget_params(width, height, \u001b[38;5;28mself\u001b[39m\u001b[38;5;241m.\u001b[39mdistortion_scale)\n\u001b[1;32m--> 806\u001b[0m     \u001b[38;5;28;01mreturn\u001b[39;00m \u001b[43mF\u001b[49m\u001b[38;5;241;43m.\u001b[39;49m\u001b[43mperspective\u001b[49m\u001b[43m(\u001b[49m\u001b[43mimg\u001b[49m\u001b[43m,\u001b[49m\u001b[43m \u001b[49m\u001b[43mstartpoints\u001b[49m\u001b[43m,\u001b[49m\u001b[43m \u001b[49m\u001b[43mendpoints\u001b[49m\u001b[43m,\u001b[49m\u001b[43m \u001b[49m\u001b[38;5;28;43mself\u001b[39;49m\u001b[38;5;241;43m.\u001b[39;49m\u001b[43minterpolation\u001b[49m\u001b[43m,\u001b[49m\u001b[43m \u001b[49m\u001b[43mfill\u001b[49m\u001b[43m)\u001b[49m\n\u001b[0;32m    807\u001b[0m \u001b[38;5;28;01mreturn\u001b[39;00m img\n",
      "File \u001b[1;32m~\\anaconda3\\lib\\site-packages\\torchvision\\transforms\\functional.py:671\u001b[0m, in \u001b[0;36mperspective\u001b[1;34m(img, startpoints, endpoints, interpolation, fill)\u001b[0m\n\u001b[0;32m    668\u001b[0m \u001b[38;5;28;01mif\u001b[39;00m \u001b[38;5;129;01mnot\u001b[39;00m torch\u001b[38;5;241m.\u001b[39mjit\u001b[38;5;241m.\u001b[39mis_scripting() \u001b[38;5;129;01mand\u001b[39;00m \u001b[38;5;129;01mnot\u001b[39;00m torch\u001b[38;5;241m.\u001b[39mjit\u001b[38;5;241m.\u001b[39mis_tracing():\n\u001b[0;32m    669\u001b[0m     _log_api_usage_once(perspective)\n\u001b[1;32m--> 671\u001b[0m coeffs \u001b[38;5;241m=\u001b[39m \u001b[43m_get_perspective_coeffs\u001b[49m\u001b[43m(\u001b[49m\u001b[43mstartpoints\u001b[49m\u001b[43m,\u001b[49m\u001b[43m \u001b[49m\u001b[43mendpoints\u001b[49m\u001b[43m)\u001b[49m\n\u001b[0;32m    673\u001b[0m \u001b[38;5;66;03m# Backward compatibility with integer value\u001b[39;00m\n\u001b[0;32m    674\u001b[0m \u001b[38;5;28;01mif\u001b[39;00m \u001b[38;5;28misinstance\u001b[39m(interpolation, \u001b[38;5;28mint\u001b[39m):\n",
      "File \u001b[1;32m~\\anaconda3\\lib\\site-packages\\torchvision\\transforms\\functional.py:627\u001b[0m, in \u001b[0;36m_get_perspective_coeffs\u001b[1;34m(startpoints, endpoints)\u001b[0m\n\u001b[0;32m    625\u001b[0m \u001b[38;5;28;01mfor\u001b[39;00m i, (p1, p2) \u001b[38;5;129;01min\u001b[39;00m \u001b[38;5;28menumerate\u001b[39m(\u001b[38;5;28mzip\u001b[39m(endpoints, startpoints)):\n\u001b[0;32m    626\u001b[0m     a_matrix[\u001b[38;5;241m2\u001b[39m \u001b[38;5;241m*\u001b[39m i, :] \u001b[38;5;241m=\u001b[39m torch\u001b[38;5;241m.\u001b[39mtensor([p1[\u001b[38;5;241m0\u001b[39m], p1[\u001b[38;5;241m1\u001b[39m], \u001b[38;5;241m1\u001b[39m, \u001b[38;5;241m0\u001b[39m, \u001b[38;5;241m0\u001b[39m, \u001b[38;5;241m0\u001b[39m, \u001b[38;5;241m-\u001b[39mp2[\u001b[38;5;241m0\u001b[39m] \u001b[38;5;241m*\u001b[39m p1[\u001b[38;5;241m0\u001b[39m], \u001b[38;5;241m-\u001b[39mp2[\u001b[38;5;241m0\u001b[39m] \u001b[38;5;241m*\u001b[39m p1[\u001b[38;5;241m1\u001b[39m]])\n\u001b[1;32m--> 627\u001b[0m     a_matrix[\u001b[38;5;241m2\u001b[39m \u001b[38;5;241m*\u001b[39m i \u001b[38;5;241m+\u001b[39m \u001b[38;5;241m1\u001b[39m, :] \u001b[38;5;241m=\u001b[39m torch\u001b[38;5;241m.\u001b[39mtensor([\u001b[38;5;241m0\u001b[39m, \u001b[38;5;241m0\u001b[39m, \u001b[38;5;241m0\u001b[39m, p1[\u001b[38;5;241m0\u001b[39m], p1[\u001b[38;5;241m1\u001b[39m], \u001b[38;5;241m1\u001b[39m, \u001b[38;5;241m-\u001b[39mp2[\u001b[38;5;241m1\u001b[39m] \u001b[38;5;241m*\u001b[39m p1[\u001b[38;5;241m0\u001b[39m], \u001b[38;5;241m-\u001b[39mp2[\u001b[38;5;241m1\u001b[39m] \u001b[38;5;241m*\u001b[39m p1[\u001b[38;5;241m1\u001b[39m]])\n\u001b[0;32m    629\u001b[0m b_matrix \u001b[38;5;241m=\u001b[39m torch\u001b[38;5;241m.\u001b[39mtensor(startpoints, dtype\u001b[38;5;241m=\u001b[39mtorch\u001b[38;5;241m.\u001b[39mfloat)\u001b[38;5;241m.\u001b[39mview(\u001b[38;5;241m8\u001b[39m)\n\u001b[0;32m    630\u001b[0m res \u001b[38;5;241m=\u001b[39m torch\u001b[38;5;241m.\u001b[39mlinalg\u001b[38;5;241m.\u001b[39mlstsq(a_matrix, b_matrix, driver\u001b[38;5;241m=\u001b[39m\u001b[38;5;124m\"\u001b[39m\u001b[38;5;124mgels\u001b[39m\u001b[38;5;124m\"\u001b[39m)\u001b[38;5;241m.\u001b[39msolution\n",
      "\u001b[1;31mKeyboardInterrupt\u001b[0m: "
     ]
    }
   ],
   "source": [
    "model_dict_B, model_B = training_plan(main_model,model_dict,data_load)"
   ]
  },
  {
   "cell_type": "code",
   "execution_count": null,
   "id": "4535e8ed",
   "metadata": {},
   "outputs": [],
   "source": [
    "test_loader = format_test_data(x_test)\n",
    "pred = predict(test_loader, model_B)\n",
    "evaluation_met(pred, y_test,ratio = 'Balanced data ')"
   ]
  },
  {
   "cell_type": "code",
   "execution_count": null,
   "id": "1f976de4",
   "metadata": {},
   "outputs": [],
   "source": [
    "test_loader = format_test_data(x_test)\n",
    "pred = predict(test_loader, model_dict_B['node0'])\n",
    "evaluation_met(pred, y_test,ratio = 'Balanced data node 0')"
   ]
  },
  {
   "cell_type": "code",
   "execution_count": 347,
   "id": "8c255ca5",
   "metadata": {},
   "outputs": [
    {
     "name": "stdout",
     "output_type": "stream",
     "text": [
      "For Balanced data node 1 :, acc : 0.9981087470449173, acc0 : 1.0 , acc1:0.9964757709251101 , AUC : 0.9979674796747968 \n"
     ]
    },
    {
     "data": {
      "text/plain": [
       "{'ratio': 'Balanced data node 1',\n",
       " 'acc': 0.9981087470449173,\n",
       " 'acc0': 1.0,\n",
       " 'acc1': 0.9964757709251101,\n",
       " 'AUC': 0.9979674796747968}"
      ]
     },
     "execution_count": 347,
     "metadata": {},
     "output_type": "execute_result"
    }
   ],
   "source": [
    "test_loader = format_test_data(x_test)\n",
    "pred = predict(test_loader, model_dict_B['node1'])\n",
    "evaluation_met(pred, y_test,ratio = 'Balanced data node 1')"
   ]
  },
  {
   "cell_type": "markdown",
   "id": "66b1a3f0",
   "metadata": {},
   "source": [
    "# Ratio 1:10 local Unbalance globally balanced"
   ]
  },
  {
   "cell_type": "code",
   "execution_count": 336,
   "id": "85bd1c2e",
   "metadata": {},
   "outputs": [
    {
     "name": "stdout",
     "output_type": "stream",
     "text": [
      "Round 1\n",
      "Sending main model to nodes in round 1\n",
      "training node0 for Round 0 :\n"
     ]
    },
    {
     "name": "stderr",
     "output_type": "stream",
     "text": [
      "Epoch 9: 100%|██████████| 10/10 [10:10<00:00, 61.04s/Epoch]\n"
     ]
    },
    {
     "name": "stdout",
     "output_type": "stream",
     "text": [
      "Training complete in 10m 10s\n",
      "Best val Acc: 0.998638\n",
      "training node1 for Round 0 :\n"
     ]
    },
    {
     "name": "stderr",
     "output_type": "stream",
     "text": [
      "Epoch 9: 100%|██████████| 10/10 [09:04<00:00, 54.45s/Epoch]\n"
     ]
    },
    {
     "name": "stdout",
     "output_type": "stream",
     "text": [
      "Training complete in 9m 5s\n",
      "Best val Acc: 0.998485\n",
      "Fedavg of main model in round 1\n",
      "Round 2\n",
      "Sending main model to nodes in round 2\n",
      "training node0 for Round 1 :\n"
     ]
    },
    {
     "name": "stderr",
     "output_type": "stream",
     "text": [
      "Epoch 9: 100%|██████████| 10/10 [10:11<00:00, 61.17s/Epoch]\n"
     ]
    },
    {
     "name": "stdout",
     "output_type": "stream",
     "text": [
      "Training complete in 10m 12s\n",
      "Best val Acc: 0.998638\n",
      "training node1 for Round 1 :\n"
     ]
    },
    {
     "name": "stderr",
     "output_type": "stream",
     "text": [
      "Epoch 9: 100%|██████████| 10/10 [09:06<00:00, 54.60s/Epoch]\n"
     ]
    },
    {
     "name": "stdout",
     "output_type": "stream",
     "text": [
      "Training complete in 9m 6s\n",
      "Best val Acc: 0.998485\n",
      "Fedavg of main model in round 2\n",
      "Round 3\n",
      "Sending main model to nodes in round 3\n",
      "training node0 for Round 2 :\n"
     ]
    },
    {
     "name": "stderr",
     "output_type": "stream",
     "text": [
      "Epoch 9: 100%|██████████| 10/10 [10:07<00:00, 60.76s/Epoch]\n"
     ]
    },
    {
     "name": "stdout",
     "output_type": "stream",
     "text": [
      "Training complete in 10m 8s\n",
      "Best val Acc: 0.998638\n",
      "training node1 for Round 2 :\n"
     ]
    },
    {
     "name": "stderr",
     "output_type": "stream",
     "text": [
      "Epoch 9: 100%|██████████| 10/10 [09:07<00:00, 54.76s/Epoch]\n"
     ]
    },
    {
     "name": "stdout",
     "output_type": "stream",
     "text": [
      "Training complete in 9m 8s\n",
      "Best val Acc: 0.998485\n",
      "Fedavg of main model in round 3\n"
     ]
    }
   ],
   "source": [
    "model_dict_10, model_10 = training_plan(main_model,model_dict,data_load)"
   ]
  },
  {
   "cell_type": "code",
   "execution_count": 348,
   "id": "854d1cdc",
   "metadata": {},
   "outputs": [
    {
     "name": "stdout",
     "output_type": "stream",
     "text": [
      "For 1:10 local with global Balanced data :, acc : 0.933806146572104, acc0 : 0.9683673469387755 , acc1:0.9039647577092511 , AUC : 0.9338235688621898 \n"
     ]
    },
    {
     "data": {
      "text/plain": [
       "{'ratio': '1:10 local with global Balanced data',\n",
       " 'acc': 0.933806146572104,\n",
       " 'acc0': 0.9683673469387755,\n",
       " 'acc1': 0.9039647577092511,\n",
       " 'AUC': 0.9338235688621898}"
      ]
     },
     "execution_count": 348,
     "metadata": {},
     "output_type": "execute_result"
    }
   ],
   "source": [
    "test_loader = format_test_data(x_test)\n",
    "pred = predict(test_loader, model_10)\n",
    "evaluation_met(pred, y_test,ratio = '1:10 local with global Balanced data')"
   ]
  },
  {
   "cell_type": "code",
   "execution_count": 349,
   "id": "8dbdd8c8",
   "metadata": {},
   "outputs": [
    {
     "name": "stdout",
     "output_type": "stream",
     "text": [
      "For 1:10 local with global Balanced data node 0 :, acc : 0.9895981087470449, acc0 : 0.9785714285714285 , acc1:0.9991189427312775 , AUC : 0.9903882575757575 \n"
     ]
    },
    {
     "data": {
      "text/plain": [
       "{'ratio': '1:10 local with global Balanced data node 0',\n",
       " 'acc': 0.9895981087470449,\n",
       " 'acc0': 0.9785714285714285,\n",
       " 'acc1': 0.9991189427312775,\n",
       " 'AUC': 0.9903882575757575}"
      ]
     },
     "execution_count": 349,
     "metadata": {},
     "output_type": "execute_result"
    }
   ],
   "source": [
    "test_loader = format_test_data(x_test)\n",
    "pred = predict(test_loader, model_dict_10['node0'])\n",
    "evaluation_met(pred, y_test,ratio = '1:10 local with global Balanced data node 0')"
   ]
  },
  {
   "cell_type": "code",
   "execution_count": 350,
   "id": "63cb52c4",
   "metadata": {},
   "outputs": [
    {
     "name": "stdout",
     "output_type": "stream",
     "text": [
      "For 1:10 local with global Balanced data node 1 :, acc : 0.9962174940898345, acc0 : 1.0 , acc1:0.9929515418502203 , AUC : 0.9959514170040487 \n"
     ]
    },
    {
     "data": {
      "text/plain": [
       "{'ratio': '1:10 local with global Balanced data node 1',\n",
       " 'acc': 0.9962174940898345,\n",
       " 'acc0': 1.0,\n",
       " 'acc1': 0.9929515418502203,\n",
       " 'AUC': 0.9959514170040487}"
      ]
     },
     "execution_count": 350,
     "metadata": {},
     "output_type": "execute_result"
    }
   ],
   "source": [
    "test_loader = format_test_data(x_test)\n",
    "pred = predict(test_loader, model_dict_10['node1'])\n",
    "evaluation_met(pred, y_test,ratio = '1:10 local with global Balanced data node 1')"
   ]
  },
  {
   "cell_type": "markdown",
   "id": "5d9a4de2",
   "metadata": {},
   "source": [
    "# Ratio 1:20 local Unbalance globally balanced"
   ]
  },
  {
   "cell_type": "code",
   "execution_count": 415,
   "id": "44e60ef9",
   "metadata": {},
   "outputs": [
    {
     "name": "stdout",
     "output_type": "stream",
     "text": [
      "Round 1\n",
      "Sending main model to nodes in round 1\n",
      "training node0 for Round 0 :\n"
     ]
    },
    {
     "name": "stderr",
     "output_type": "stream",
     "text": [
      "Epoch 9: 100%|██████████| 10/10 [10:11<00:00, 61.18s/Epoch]\n"
     ]
    },
    {
     "name": "stdout",
     "output_type": "stream",
     "text": [
      "Training complete in 10m 12s\n",
      "Best val Acc: 0.998638\n",
      "training node1 for Round 0 :\n"
     ]
    },
    {
     "name": "stderr",
     "output_type": "stream",
     "text": [
      "Epoch 9: 100%|██████████| 10/10 [09:09<00:00, 54.98s/Epoch]\n"
     ]
    },
    {
     "name": "stdout",
     "output_type": "stream",
     "text": [
      "Training complete in 9m 10s\n",
      "Best val Acc: 0.996970\n",
      "Fedavg of main model in round 1\n",
      "Round 2\n",
      "Sending main model to nodes in round 2\n",
      "training node0 for Round 1 :\n"
     ]
    },
    {
     "name": "stderr",
     "output_type": "stream",
     "text": [
      "Epoch 9: 100%|██████████| 10/10 [10:10<00:00, 61.09s/Epoch]\n"
     ]
    },
    {
     "name": "stdout",
     "output_type": "stream",
     "text": [
      "Training complete in 10m 11s\n",
      "Best val Acc: 0.998638\n",
      "training node1 for Round 1 :\n"
     ]
    },
    {
     "name": "stderr",
     "output_type": "stream",
     "text": [
      "Epoch 9: 100%|██████████| 10/10 [09:18<00:00, 55.87s/Epoch]\n"
     ]
    },
    {
     "name": "stdout",
     "output_type": "stream",
     "text": [
      "Training complete in 9m 19s\n",
      "Best val Acc: 0.996970\n",
      "Fedavg of main model in round 2\n",
      "Round 3\n",
      "Sending main model to nodes in round 3\n",
      "training node0 for Round 2 :\n"
     ]
    },
    {
     "name": "stderr",
     "output_type": "stream",
     "text": [
      "Epoch 9: 100%|██████████| 10/10 [10:22<00:00, 62.25s/Epoch]\n"
     ]
    },
    {
     "name": "stdout",
     "output_type": "stream",
     "text": [
      "Training complete in 10m 22s\n",
      "Best val Acc: 0.998638\n",
      "training node1 for Round 2 :\n"
     ]
    },
    {
     "name": "stderr",
     "output_type": "stream",
     "text": [
      "Epoch 9: 100%|██████████| 10/10 [09:19<00:00, 55.93s/Epoch]\n"
     ]
    },
    {
     "name": "stdout",
     "output_type": "stream",
     "text": [
      "Training complete in 9m 19s\n",
      "Best val Acc: 0.996970\n",
      "Fedavg of main model in round 3\n"
     ]
    }
   ],
   "source": [
    "model_dict_20, model_20 = training_plan(main_model,model_dict,data_load)"
   ]
  },
  {
   "cell_type": "code",
   "execution_count": 416,
   "id": "067dbd94",
   "metadata": {},
   "outputs": [
    {
     "name": "stdout",
     "output_type": "stream",
     "text": [
      "For 1:20 local with global Balanced data :, acc : 0.9276595744680851, acc0 : 0.8510204081632653 , acc1:0.9938325991189427 , AUC : 0.9385384447385468 \n"
     ]
    },
    {
     "data": {
      "text/plain": [
       "{'ratio': '1:20 local with global Balanced data',\n",
       " 'acc': 0.9276595744680851,\n",
       " 'acc0': 0.8510204081632653,\n",
       " 'acc1': 0.9938325991189427,\n",
       " 'AUC': 0.9385384447385468}"
      ]
     },
     "execution_count": 416,
     "metadata": {},
     "output_type": "execute_result"
    }
   ],
   "source": [
    "test_loader = format_test_data(x_test)\n",
    "pred = predict(test_loader, model_20)\n",
    "evaluation_met(pred, y_test,ratio = '1:20 local with global Balanced data')"
   ]
  },
  {
   "cell_type": "code",
   "execution_count": 417,
   "id": "d03da3c8",
   "metadata": {},
   "outputs": [
    {
     "name": "stdout",
     "output_type": "stream",
     "text": [
      "For 1:20 local with global Balanced data node 0 :, acc : 0.9957446808510638, acc0 : 0.9908163265306122 , acc1:1.0 , AUC : 0.9960664335664335 \n"
     ]
    },
    {
     "data": {
      "text/plain": [
       "{'ratio': '1:20 local with global Balanced data node 0',\n",
       " 'acc': 0.9957446808510638,\n",
       " 'acc0': 0.9908163265306122,\n",
       " 'acc1': 1.0,\n",
       " 'AUC': 0.9960664335664335}"
      ]
     },
     "execution_count": 417,
     "metadata": {},
     "output_type": "execute_result"
    }
   ],
   "source": [
    "test_loader = format_test_data(x_test)\n",
    "pred = predict(test_loader, model_dict_20['node0'])\n",
    "evaluation_met(pred, y_test,ratio = '1:20 local with global Balanced data node 0')"
   ]
  },
  {
   "cell_type": "code",
   "execution_count": 418,
   "id": "17f9daf1",
   "metadata": {},
   "outputs": [
    {
     "name": "stdout",
     "output_type": "stream",
     "text": [
      "For 1:20 local with global Balanced data node 1 :, acc : 0.9853427895981087, acc0 : 0.9989795918367347 , acc1:0.973568281938326 , AUC : 0.9846817162714592 \n"
     ]
    },
    {
     "data": {
      "text/plain": [
       "{'ratio': '1:20 local with global Balanced data node 1',\n",
       " 'acc': 0.9853427895981087,\n",
       " 'acc0': 0.9989795918367347,\n",
       " 'acc1': 0.973568281938326,\n",
       " 'AUC': 0.9846817162714592}"
      ]
     },
     "execution_count": 418,
     "metadata": {},
     "output_type": "execute_result"
    }
   ],
   "source": [
    "test_loader = format_test_data(x_test)\n",
    "pred = predict(test_loader, model_dict_20['node1'])\n",
    "evaluation_met(pred, y_test,ratio = '1:20 local with global Balanced data node 1')"
   ]
  },
  {
   "cell_type": "markdown",
   "id": "e7b5530d",
   "metadata": {},
   "source": [
    "# Ratio 1:50 local Unbalance globally balanced"
   ]
  },
  {
   "cell_type": "code",
   "execution_count": 467,
   "id": "f50d23cd",
   "metadata": {},
   "outputs": [
    {
     "name": "stdout",
     "output_type": "stream",
     "text": [
      "Round 1\n",
      "Sending main model to nodes in round 1\n",
      "training node0 for Round 0 :\n"
     ]
    },
    {
     "name": "stderr",
     "output_type": "stream",
     "text": [
      "Epoch 9: 100%|██████████| 10/10 [09:37<00:00, 57.75s/Epoch]\n"
     ]
    },
    {
     "name": "stdout",
     "output_type": "stream",
     "text": [
      "Training complete in 9m 38s\n",
      "Best val Acc: 0.997085\n",
      "training node1 for Round 0 :\n"
     ]
    },
    {
     "name": "stderr",
     "output_type": "stream",
     "text": [
      "Epoch 9: 100%|██████████| 10/10 [08:40<00:00, 52.00s/Epoch]\n"
     ]
    },
    {
     "name": "stdout",
     "output_type": "stream",
     "text": [
      "Training complete in 8m 40s\n",
      "Best val Acc: 1.000000\n",
      "Fedavg of main model in round 1\n",
      "Round 2\n",
      "Sending main model to nodes in round 2\n",
      "training node0 for Round 1 :\n"
     ]
    },
    {
     "name": "stderr",
     "output_type": "stream",
     "text": [
      "Epoch 9: 100%|██████████| 10/10 [09:50<00:00, 59.05s/Epoch]\n"
     ]
    },
    {
     "name": "stdout",
     "output_type": "stream",
     "text": [
      "Training complete in 9m 50s\n",
      "Best val Acc: 0.995627\n",
      "training node1 for Round 1 :\n"
     ]
    },
    {
     "name": "stderr",
     "output_type": "stream",
     "text": [
      "Epoch 9: 100%|██████████| 10/10 [08:38<00:00, 51.87s/Epoch]\n"
     ]
    },
    {
     "name": "stdout",
     "output_type": "stream",
     "text": [
      "Training complete in 8m 39s\n",
      "Best val Acc: 1.000000\n",
      "Fedavg of main model in round 2\n",
      "Round 3\n",
      "Sending main model to nodes in round 3\n",
      "training node0 for Round 2 :\n"
     ]
    },
    {
     "name": "stderr",
     "output_type": "stream",
     "text": [
      "Epoch 9: 100%|██████████| 10/10 [09:49<00:00, 58.91s/Epoch]\n"
     ]
    },
    {
     "name": "stdout",
     "output_type": "stream",
     "text": [
      "Training complete in 9m 49s\n",
      "Best val Acc: 0.998542\n",
      "training node1 for Round 2 :\n"
     ]
    },
    {
     "name": "stderr",
     "output_type": "stream",
     "text": [
      "Epoch 9: 100%|██████████| 10/10 [08:35<00:00, 51.56s/Epoch]\n"
     ]
    },
    {
     "name": "stdout",
     "output_type": "stream",
     "text": [
      "Training complete in 8m 36s\n",
      "Best val Acc: 1.000000\n",
      "Fedavg of main model in round 3\n"
     ]
    }
   ],
   "source": [
    "model_dict_50, model_50 = training_plan(main_model,model_dict,data_load)"
   ]
  },
  {
   "cell_type": "code",
   "execution_count": 468,
   "id": "39146930",
   "metadata": {},
   "outputs": [
    {
     "name": "stdout",
     "output_type": "stream",
     "text": [
      "For 1:50 local with global Balanced data :, acc : 0.7200945626477542, acc0 : 0.4153061224489796 , acc1:0.9832599118942731 , AUC : 0.808072532292631 \n"
     ]
    },
    {
     "data": {
      "text/plain": [
       "{'ratio': '1:50 local with global Balanced data',\n",
       " 'acc': 0.7200945626477542,\n",
       " 'acc0': 0.4153061224489796,\n",
       " 'acc1': 0.9832599118942731,\n",
       " 'AUC': 0.808072532292631}"
      ]
     },
     "execution_count": 468,
     "metadata": {},
     "output_type": "execute_result"
    }
   ],
   "source": [
    "test_loader = format_test_data(x_test)\n",
    "pred = predict(test_loader, model_50)\n",
    "evaluation_met(pred, y_test,ratio = '1:50 local with global Balanced data')"
   ]
  },
  {
   "cell_type": "code",
   "execution_count": 469,
   "id": "00be5396",
   "metadata": {},
   "outputs": [
    {
     "name": "stdout",
     "output_type": "stream",
     "text": [
      "For 1:50 local with global Balanced data node 0 :, acc : 0.9735224586288416, acc0 : 0.9428571428571428 , acc1:1.0 , AUC : 0.9764903442485307 \n"
     ]
    },
    {
     "data": {
      "text/plain": [
       "{'ratio': '1:50 local with global Balanced data node 0',\n",
       " 'acc': 0.9735224586288416,\n",
       " 'acc0': 0.9428571428571428,\n",
       " 'acc1': 1.0,\n",
       " 'AUC': 0.9764903442485307}"
      ]
     },
     "execution_count": 469,
     "metadata": {},
     "output_type": "execute_result"
    }
   ],
   "source": [
    "test_loader = format_test_data(x_test)\n",
    "pred = predict(test_loader, model_dict_50['node0'])\n",
    "evaluation_met(pred, y_test,ratio = '1:50 local with global Balanced data node 0')"
   ]
  },
  {
   "cell_type": "code",
   "execution_count": 470,
   "id": "ee3c57b5",
   "metadata": {},
   "outputs": [
    {
     "name": "stdout",
     "output_type": "stream",
     "text": [
      "For 1:50 local with global Balanced data node 1 :, acc : 0.9612293144208038, acc0 : 1.0 , acc1:0.9277533039647577 , AUC : 0.9613935969868173 \n"
     ]
    },
    {
     "data": {
      "text/plain": [
       "{'ratio': '1:50 local with global Balanced data node 1',\n",
       " 'acc': 0.9612293144208038,\n",
       " 'acc0': 1.0,\n",
       " 'acc1': 0.9277533039647577,\n",
       " 'AUC': 0.9613935969868173}"
      ]
     },
     "execution_count": 470,
     "metadata": {},
     "output_type": "execute_result"
    }
   ],
   "source": [
    "test_loader = format_test_data(x_test)\n",
    "pred = predict(test_loader, model_dict_50['node1'])\n",
    "evaluation_met(pred, y_test,ratio = '1:50 local with global Balanced data node 1')"
   ]
  },
  {
   "cell_type": "markdown",
   "id": "90140ee8",
   "metadata": {},
   "source": [
    "# Ratio 1:100 local Unbalance globally balanced"
   ]
  },
  {
   "cell_type": "code",
   "execution_count": 566,
   "id": "82a57422",
   "metadata": {},
   "outputs": [
    {
     "name": "stdout",
     "output_type": "stream",
     "text": [
      "Round 1\n",
      "Sending main model to nodes in round 1\n",
      "training node0 for Round 0 :\n"
     ]
    },
    {
     "name": "stderr",
     "output_type": "stream",
     "text": [
      "Epoch 9: 100%|██████████| 10/10 [09:52<00:00, 59.21s/Epoch]\n"
     ]
    },
    {
     "name": "stdout",
     "output_type": "stream",
     "text": [
      "Training complete in 9m 52s\n",
      "Best val Acc: 0.995588\n",
      "training node1 for Round 0 :\n"
     ]
    },
    {
     "name": "stderr",
     "output_type": "stream",
     "text": [
      "Epoch 9: 100%|██████████| 10/10 [08:34<00:00, 51.46s/Epoch]\n"
     ]
    },
    {
     "name": "stdout",
     "output_type": "stream",
     "text": [
      "Training complete in 8m 35s\n",
      "Best val Acc: 1.000000\n",
      "Fedavg of main model in round 1\n",
      "Round 2\n",
      "Sending main model to nodes in round 2\n",
      "training node0 for Round 1 :\n"
     ]
    },
    {
     "name": "stderr",
     "output_type": "stream",
     "text": [
      "Epoch 9: 100%|██████████| 10/10 [09:50<00:00, 59.00s/Epoch]\n"
     ]
    },
    {
     "name": "stdout",
     "output_type": "stream",
     "text": [
      "Training complete in 9m 50s\n",
      "Best val Acc: 0.997059\n",
      "training node1 for Round 1 :\n"
     ]
    },
    {
     "name": "stderr",
     "output_type": "stream",
     "text": [
      "Epoch 9: 100%|██████████| 10/10 [08:46<00:00, 52.68s/Epoch]\n"
     ]
    },
    {
     "name": "stdout",
     "output_type": "stream",
     "text": [
      "Training complete in 8m 47s\n",
      "Best val Acc: 1.000000\n",
      "Fedavg of main model in round 2\n",
      "Round 3\n",
      "Sending main model to nodes in round 3\n",
      "training node0 for Round 2 :\n"
     ]
    },
    {
     "name": "stderr",
     "output_type": "stream",
     "text": [
      "Epoch 9: 100%|██████████| 10/10 [09:52<00:00, 59.28s/Epoch]\n"
     ]
    },
    {
     "name": "stdout",
     "output_type": "stream",
     "text": [
      "Training complete in 9m 53s\n",
      "Best val Acc: 1.000000\n",
      "training node1 for Round 2 :\n"
     ]
    },
    {
     "name": "stderr",
     "output_type": "stream",
     "text": [
      "Epoch 9: 100%|██████████| 10/10 [08:50<00:00, 53.03s/Epoch]\n"
     ]
    },
    {
     "name": "stdout",
     "output_type": "stream",
     "text": [
      "Training complete in 8m 50s\n",
      "Best val Acc: 1.000000\n",
      "Fedavg of main model in round 3\n"
     ]
    }
   ],
   "source": [
    "model_dict_100, model_100 = training_plan(main_model,model_dict,data_load)"
   ]
  },
  {
   "cell_type": "code",
   "execution_count": 567,
   "id": "5164c89e",
   "metadata": {},
   "outputs": [
    {
     "name": "stdout",
     "output_type": "stream",
     "text": [
      "For 1:100 local with global Balanced data :, acc : 0.7366430260047281, acc0 : 0.4989795918367347 , acc1:0.9418502202643172 , AUC : 0.7831687456687456 \n"
     ]
    },
    {
     "data": {
      "text/plain": [
       "{'ratio': '1:100 local with global Balanced data',\n",
       " 'acc': 0.7366430260047281,\n",
       " 'acc0': 0.4989795918367347,\n",
       " 'acc1': 0.9418502202643172,\n",
       " 'AUC': 0.7831687456687456}"
      ]
     },
     "execution_count": 567,
     "metadata": {},
     "output_type": "execute_result"
    }
   ],
   "source": [
    "test_loader = format_test_data(x_test)\n",
    "pred = predict(test_loader, model_100)\n",
    "evaluation_met(pred, y_test,ratio = '1:100 local with global Balanced data')"
   ]
  },
  {
   "cell_type": "code",
   "execution_count": 568,
   "id": "9eaafc9d",
   "metadata": {},
   "outputs": [
    {
     "name": "stdout",
     "output_type": "stream",
     "text": [
      "For 1:100 local with global Balanced data node 0 :, acc : 0.9125295508274232, acc0 : 0.8112244897959183 , acc1:1.0 , AUC : 0.9299242424242424 \n"
     ]
    },
    {
     "data": {
      "text/plain": [
       "{'ratio': '1:100 local with global Balanced data node 0',\n",
       " 'acc': 0.9125295508274232,\n",
       " 'acc0': 0.8112244897959183,\n",
       " 'acc1': 1.0,\n",
       " 'AUC': 0.9299242424242424}"
      ]
     },
     "execution_count": 568,
     "metadata": {},
     "output_type": "execute_result"
    }
   ],
   "source": [
    "test_loader = format_test_data(x_test)\n",
    "pred = predict(test_loader, model_dict_100['node0'])\n",
    "evaluation_met(pred, y_test,ratio = '1:100 local with global Balanced data node 0')"
   ]
  },
  {
   "cell_type": "code",
   "execution_count": 569,
   "id": "e917ec12",
   "metadata": {},
   "outputs": [
    {
     "name": "stdout",
     "output_type": "stream",
     "text": [
      "For 1:100 local with global Balanced data node 0 :, acc : 0.9257683215130024, acc0 : 1.0 , acc1:0.8616740088105727 , AUC : 0.9309586631486367 \n"
     ]
    },
    {
     "data": {
      "text/plain": [
       "{'ratio': '1:100 local with global Balanced data node 0',\n",
       " 'acc': 0.9257683215130024,\n",
       " 'acc0': 1.0,\n",
       " 'acc1': 0.8616740088105727,\n",
       " 'AUC': 0.9309586631486367}"
      ]
     },
     "execution_count": 569,
     "metadata": {},
     "output_type": "execute_result"
    }
   ],
   "source": [
    "test_loader = format_test_data(x_test)\n",
    "pred = predict(test_loader, model_dict_100['node1'])\n",
    "evaluation_met(pred, y_test,ratio = '1:100 local with global Balanced data node 0')"
   ]
  },
  {
   "cell_type": "markdown",
   "id": "6e38611a",
   "metadata": {},
   "source": [
    "# 30 Rounds:  Ratio 1:100 local Unbalance globally balanced"
   ]
  },
  {
   "cell_type": "code",
   "execution_count": 570,
   "id": "899c3065",
   "metadata": {},
   "outputs": [
    {
     "name": "stdout",
     "output_type": "stream",
     "text": [
      "Round 1\n",
      "Sending main model to nodes in round 1\n",
      "training node0 for Round 0 :\n"
     ]
    },
    {
     "name": "stderr",
     "output_type": "stream",
     "text": [
      "Epoch 9: 100%|██████████| 10/10 [09:52<00:00, 59.28s/Epoch]\n"
     ]
    },
    {
     "name": "stdout",
     "output_type": "stream",
     "text": [
      "Training complete in 9m 53s\n",
      "Best val Acc: 1.000000\n",
      "training node1 for Round 0 :\n"
     ]
    },
    {
     "name": "stderr",
     "output_type": "stream",
     "text": [
      "Epoch 9: 100%|██████████| 10/10 [08:45<00:00, 52.52s/Epoch]\n"
     ]
    },
    {
     "name": "stdout",
     "output_type": "stream",
     "text": [
      "Training complete in 8m 45s\n",
      "Best val Acc: 1.000000\n",
      "Fedavg of main model in round 1\n",
      "Round 2\n",
      "Sending main model to nodes in round 2\n",
      "training node0 for Round 1 :\n"
     ]
    },
    {
     "name": "stderr",
     "output_type": "stream",
     "text": [
      "Epoch 9: 100%|██████████| 10/10 [10:00<00:00, 60.08s/Epoch]\n"
     ]
    },
    {
     "name": "stdout",
     "output_type": "stream",
     "text": [
      "Training complete in 10m 1s\n",
      "Best val Acc: 1.000000\n",
      "training node1 for Round 1 :\n"
     ]
    },
    {
     "name": "stderr",
     "output_type": "stream",
     "text": [
      "Epoch 9: 100%|██████████| 10/10 [08:50<00:00, 53.07s/Epoch]\n"
     ]
    },
    {
     "name": "stdout",
     "output_type": "stream",
     "text": [
      "Training complete in 8m 51s\n",
      "Best val Acc: 1.000000\n",
      "Fedavg of main model in round 2\n",
      "Round 3\n",
      "Sending main model to nodes in round 3\n",
      "training node0 for Round 2 :\n"
     ]
    },
    {
     "name": "stderr",
     "output_type": "stream",
     "text": [
      "Epoch 9: 100%|██████████| 10/10 [09:59<00:00, 59.92s/Epoch]\n"
     ]
    },
    {
     "name": "stdout",
     "output_type": "stream",
     "text": [
      "Training complete in 9m 59s\n",
      "Best val Acc: 1.000000\n",
      "training node1 for Round 2 :\n"
     ]
    },
    {
     "name": "stderr",
     "output_type": "stream",
     "text": [
      "Epoch 9: 100%|██████████| 10/10 [08:51<00:00, 53.13s/Epoch]\n"
     ]
    },
    {
     "name": "stdout",
     "output_type": "stream",
     "text": [
      "Training complete in 8m 51s\n",
      "Best val Acc: 1.000000\n",
      "Fedavg of main model in round 3\n",
      "Round 4\n",
      "Sending main model to nodes in round 4\n",
      "training node0 for Round 3 :\n"
     ]
    },
    {
     "name": "stderr",
     "output_type": "stream",
     "text": [
      "Epoch 9: 100%|██████████| 10/10 [10:00<00:00, 60.06s/Epoch]\n"
     ]
    },
    {
     "name": "stdout",
     "output_type": "stream",
     "text": [
      "Training complete in 10m 1s\n",
      "Best val Acc: 1.000000\n",
      "training node1 for Round 3 :\n"
     ]
    },
    {
     "name": "stderr",
     "output_type": "stream",
     "text": [
      "Epoch 9: 100%|██████████| 10/10 [08:46<00:00, 52.60s/Epoch]\n"
     ]
    },
    {
     "name": "stdout",
     "output_type": "stream",
     "text": [
      "Training complete in 8m 46s\n",
      "Best val Acc: 1.000000\n",
      "Fedavg of main model in round 4\n",
      "Round 5\n",
      "Sending main model to nodes in round 5\n",
      "training node0 for Round 4 :\n"
     ]
    },
    {
     "name": "stderr",
     "output_type": "stream",
     "text": [
      "Epoch 9: 100%|██████████| 10/10 [09:58<00:00, 59.87s/Epoch]\n"
     ]
    },
    {
     "name": "stdout",
     "output_type": "stream",
     "text": [
      "Training complete in 9m 59s\n",
      "Best val Acc: 1.000000\n",
      "training node1 for Round 4 :\n"
     ]
    },
    {
     "name": "stderr",
     "output_type": "stream",
     "text": [
      "Epoch 9: 100%|██████████| 10/10 [08:43<00:00, 52.33s/Epoch]\n"
     ]
    },
    {
     "name": "stdout",
     "output_type": "stream",
     "text": [
      "Training complete in 8m 43s\n",
      "Best val Acc: 1.000000\n",
      "Fedavg of main model in round 5\n",
      "Round 6\n",
      "Sending main model to nodes in round 6\n",
      "training node0 for Round 5 :\n"
     ]
    },
    {
     "name": "stderr",
     "output_type": "stream",
     "text": [
      "Epoch 9: 100%|██████████| 10/10 [09:57<00:00, 59.78s/Epoch]\n"
     ]
    },
    {
     "name": "stdout",
     "output_type": "stream",
     "text": [
      "Training complete in 9m 58s\n",
      "Best val Acc: 1.000000\n",
      "training node1 for Round 5 :\n"
     ]
    },
    {
     "name": "stderr",
     "output_type": "stream",
     "text": [
      "Epoch 9: 100%|██████████| 10/10 [08:51<00:00, 53.12s/Epoch]\n"
     ]
    },
    {
     "name": "stdout",
     "output_type": "stream",
     "text": [
      "Training complete in 8m 51s\n",
      "Best val Acc: 1.000000\n",
      "Fedavg of main model in round 6\n",
      "Round 7\n",
      "Sending main model to nodes in round 7\n",
      "training node0 for Round 6 :\n"
     ]
    },
    {
     "name": "stderr",
     "output_type": "stream",
     "text": [
      "Epoch 9: 100%|██████████| 10/10 [09:57<00:00, 59.73s/Epoch]\n"
     ]
    },
    {
     "name": "stdout",
     "output_type": "stream",
     "text": [
      "Training complete in 9m 57s\n",
      "Best val Acc: 1.000000\n",
      "training node1 for Round 6 :\n"
     ]
    },
    {
     "name": "stderr",
     "output_type": "stream",
     "text": [
      "Epoch 9: 100%|██████████| 10/10 [08:50<00:00, 53.01s/Epoch]\n"
     ]
    },
    {
     "name": "stdout",
     "output_type": "stream",
     "text": [
      "Training complete in 8m 50s\n",
      "Best val Acc: 1.000000\n",
      "Fedavg of main model in round 7\n",
      "Round 8\n",
      "Sending main model to nodes in round 8\n",
      "training node0 for Round 7 :\n"
     ]
    },
    {
     "name": "stderr",
     "output_type": "stream",
     "text": [
      "Epoch 9: 100%|██████████| 10/10 [09:58<00:00, 59.88s/Epoch]\n"
     ]
    },
    {
     "name": "stdout",
     "output_type": "stream",
     "text": [
      "Training complete in 9m 59s\n",
      "Best val Acc: 1.000000\n",
      "training node1 for Round 7 :\n"
     ]
    },
    {
     "name": "stderr",
     "output_type": "stream",
     "text": [
      "Epoch 9: 100%|██████████| 10/10 [08:50<00:00, 53.05s/Epoch]\n"
     ]
    },
    {
     "name": "stdout",
     "output_type": "stream",
     "text": [
      "Training complete in 8m 51s\n",
      "Best val Acc: 1.000000\n",
      "Fedavg of main model in round 8\n",
      "Round 9\n",
      "Sending main model to nodes in round 9\n",
      "training node0 for Round 8 :\n"
     ]
    },
    {
     "name": "stderr",
     "output_type": "stream",
     "text": [
      "Epoch 9: 100%|██████████| 10/10 [09:56<00:00, 59.63s/Epoch]\n"
     ]
    },
    {
     "name": "stdout",
     "output_type": "stream",
     "text": [
      "Training complete in 9m 56s\n",
      "Best val Acc: 1.000000\n",
      "training node1 for Round 8 :\n"
     ]
    },
    {
     "name": "stderr",
     "output_type": "stream",
     "text": [
      "Epoch 9: 100%|██████████| 10/10 [08:48<00:00, 52.86s/Epoch]\n"
     ]
    },
    {
     "name": "stdout",
     "output_type": "stream",
     "text": [
      "Training complete in 8m 49s\n",
      "Best val Acc: 1.000000\n",
      "Fedavg of main model in round 9\n",
      "Round 10\n",
      "Sending main model to nodes in round 10\n",
      "training node0 for Round 9 :\n"
     ]
    },
    {
     "name": "stderr",
     "output_type": "stream",
     "text": [
      "Epoch 9: 100%|██████████| 10/10 [10:00<00:00, 60.06s/Epoch]\n"
     ]
    },
    {
     "name": "stdout",
     "output_type": "stream",
     "text": [
      "Training complete in 10m 1s\n",
      "Best val Acc: 1.000000\n",
      "training node1 for Round 9 :\n"
     ]
    },
    {
     "name": "stderr",
     "output_type": "stream",
     "text": [
      "Epoch 9: 100%|██████████| 10/10 [08:52<00:00, 53.28s/Epoch]\n"
     ]
    },
    {
     "name": "stdout",
     "output_type": "stream",
     "text": [
      "Training complete in 8m 53s\n",
      "Best val Acc: 1.000000\n",
      "Fedavg of main model in round 10\n",
      "Round 11\n",
      "Sending main model to nodes in round 11\n",
      "training node0 for Round 10 :\n"
     ]
    },
    {
     "name": "stderr",
     "output_type": "stream",
     "text": [
      "Epoch 9: 100%|██████████| 10/10 [10:02<00:00, 60.26s/Epoch]\n"
     ]
    },
    {
     "name": "stdout",
     "output_type": "stream",
     "text": [
      "Training complete in 10m 3s\n",
      "Best val Acc: 1.000000\n",
      "training node1 for Round 10 :\n"
     ]
    },
    {
     "name": "stderr",
     "output_type": "stream",
     "text": [
      "Epoch 9: 100%|██████████| 10/10 [08:39<00:00, 51.97s/Epoch]\n"
     ]
    },
    {
     "name": "stdout",
     "output_type": "stream",
     "text": [
      "Training complete in 8m 40s\n",
      "Best val Acc: 1.000000\n",
      "Fedavg of main model in round 11\n",
      "Round 12\n",
      "Sending main model to nodes in round 12\n",
      "training node0 for Round 11 :\n"
     ]
    },
    {
     "name": "stderr",
     "output_type": "stream",
     "text": [
      "Epoch 9: 100%|██████████| 10/10 [09:40<00:00, 58.02s/Epoch]\n"
     ]
    },
    {
     "name": "stdout",
     "output_type": "stream",
     "text": [
      "Training complete in 9m 40s\n",
      "Best val Acc: 1.000000\n",
      "training node1 for Round 11 :\n"
     ]
    },
    {
     "name": "stderr",
     "output_type": "stream",
     "text": [
      "Epoch 9: 100%|██████████| 10/10 [08:35<00:00, 51.55s/Epoch]\n"
     ]
    },
    {
     "name": "stdout",
     "output_type": "stream",
     "text": [
      "Training complete in 8m 35s\n",
      "Best val Acc: 1.000000\n",
      "Fedavg of main model in round 12\n",
      "Round 13\n",
      "Sending main model to nodes in round 13\n",
      "training node0 for Round 12 :\n"
     ]
    },
    {
     "name": "stderr",
     "output_type": "stream",
     "text": [
      "Epoch 9: 100%|██████████| 10/10 [09:48<00:00, 58.89s/Epoch]\n"
     ]
    },
    {
     "name": "stdout",
     "output_type": "stream",
     "text": [
      "Training complete in 9m 49s\n",
      "Best val Acc: 1.000000\n",
      "training node1 for Round 12 :\n"
     ]
    },
    {
     "name": "stderr",
     "output_type": "stream",
     "text": [
      "Epoch 9: 100%|██████████| 10/10 [08:30<00:00, 51.04s/Epoch]\n"
     ]
    },
    {
     "name": "stdout",
     "output_type": "stream",
     "text": [
      "Training complete in 8m 30s\n",
      "Best val Acc: 1.000000\n",
      "Fedavg of main model in round 13\n",
      "Round 14\n",
      "Sending main model to nodes in round 14\n",
      "training node0 for Round 13 :\n"
     ]
    },
    {
     "name": "stderr",
     "output_type": "stream",
     "text": [
      "Epoch 9: 100%|██████████| 10/10 [09:39<00:00, 57.93s/Epoch]\n"
     ]
    },
    {
     "name": "stdout",
     "output_type": "stream",
     "text": [
      "Training complete in 9m 39s\n",
      "Best val Acc: 1.000000\n",
      "training node1 for Round 13 :\n"
     ]
    },
    {
     "name": "stderr",
     "output_type": "stream",
     "text": [
      "Epoch 9: 100%|██████████| 10/10 [08:32<00:00, 51.21s/Epoch]\n"
     ]
    },
    {
     "name": "stdout",
     "output_type": "stream",
     "text": [
      "Training complete in 8m 32s\n",
      "Best val Acc: 1.000000\n",
      "Fedavg of main model in round 14\n",
      "Round 15\n",
      "Sending main model to nodes in round 15\n",
      "training node0 for Round 14 :\n"
     ]
    },
    {
     "name": "stderr",
     "output_type": "stream",
     "text": [
      "Epoch 9: 100%|██████████| 10/10 [09:45<00:00, 58.53s/Epoch]\n"
     ]
    },
    {
     "name": "stdout",
     "output_type": "stream",
     "text": [
      "Training complete in 9m 45s\n",
      "Best val Acc: 1.000000\n",
      "training node1 for Round 14 :\n"
     ]
    },
    {
     "name": "stderr",
     "output_type": "stream",
     "text": [
      "Epoch 9: 100%|██████████| 10/10 [08:34<00:00, 51.48s/Epoch]\n"
     ]
    },
    {
     "name": "stdout",
     "output_type": "stream",
     "text": [
      "Training complete in 8m 35s\n",
      "Best val Acc: 1.000000\n",
      "Fedavg of main model in round 15\n",
      "Round 16\n",
      "Sending main model to nodes in round 16\n",
      "training node0 for Round 15 :\n"
     ]
    },
    {
     "name": "stderr",
     "output_type": "stream",
     "text": [
      "Epoch 9: 100%|██████████| 10/10 [10:02<00:00, 60.27s/Epoch]\n"
     ]
    },
    {
     "name": "stdout",
     "output_type": "stream",
     "text": [
      "Training complete in 10m 3s\n",
      "Best val Acc: 1.000000\n",
      "training node1 for Round 15 :\n"
     ]
    },
    {
     "name": "stderr",
     "output_type": "stream",
     "text": [
      "Epoch 9: 100%|██████████| 10/10 [08:33<00:00, 51.36s/Epoch]\n"
     ]
    },
    {
     "name": "stdout",
     "output_type": "stream",
     "text": [
      "Training complete in 8m 34s\n",
      "Best val Acc: 1.000000\n",
      "Fedavg of main model in round 16\n",
      "Round 17\n",
      "Sending main model to nodes in round 17\n",
      "training node0 for Round 16 :\n"
     ]
    },
    {
     "name": "stderr",
     "output_type": "stream",
     "text": [
      "Epoch 9: 100%|██████████| 10/10 [09:42<00:00, 58.25s/Epoch]\n"
     ]
    },
    {
     "name": "stdout",
     "output_type": "stream",
     "text": [
      "Training complete in 9m 42s\n",
      "Best val Acc: 1.000000\n",
      "training node1 for Round 16 :\n"
     ]
    },
    {
     "name": "stderr",
     "output_type": "stream",
     "text": [
      "Epoch 9: 100%|██████████| 10/10 [08:35<00:00, 51.54s/Epoch]\n"
     ]
    },
    {
     "name": "stdout",
     "output_type": "stream",
     "text": [
      "Training complete in 8m 35s\n",
      "Best val Acc: 1.000000\n",
      "Fedavg of main model in round 17\n",
      "Round 18\n",
      "Sending main model to nodes in round 18\n",
      "training node0 for Round 17 :\n"
     ]
    },
    {
     "name": "stderr",
     "output_type": "stream",
     "text": [
      "Epoch 9: 100%|██████████| 10/10 [09:45<00:00, 58.60s/Epoch]\n"
     ]
    },
    {
     "name": "stdout",
     "output_type": "stream",
     "text": [
      "Training complete in 9m 46s\n",
      "Best val Acc: 1.000000\n",
      "training node1 for Round 17 :\n"
     ]
    },
    {
     "name": "stderr",
     "output_type": "stream",
     "text": [
      "Epoch 9: 100%|██████████| 10/10 [08:33<00:00, 51.36s/Epoch]\n"
     ]
    },
    {
     "name": "stdout",
     "output_type": "stream",
     "text": [
      "Training complete in 8m 34s\n",
      "Best val Acc: 1.000000\n",
      "Fedavg of main model in round 18\n",
      "Round 19\n",
      "Sending main model to nodes in round 19\n",
      "training node0 for Round 18 :\n"
     ]
    },
    {
     "name": "stderr",
     "output_type": "stream",
     "text": [
      "Epoch 9: 100%|██████████| 10/10 [09:43<00:00, 58.36s/Epoch]\n"
     ]
    },
    {
     "name": "stdout",
     "output_type": "stream",
     "text": [
      "Training complete in 9m 44s\n",
      "Best val Acc: 1.000000\n",
      "training node1 for Round 18 :\n"
     ]
    },
    {
     "name": "stderr",
     "output_type": "stream",
     "text": [
      "Epoch 9: 100%|██████████| 10/10 [08:37<00:00, 51.75s/Epoch]\n"
     ]
    },
    {
     "name": "stdout",
     "output_type": "stream",
     "text": [
      "Training complete in 8m 37s\n",
      "Best val Acc: 1.000000\n",
      "Fedavg of main model in round 19\n",
      "Round 20\n",
      "Sending main model to nodes in round 20\n",
      "training node0 for Round 19 :\n"
     ]
    },
    {
     "name": "stderr",
     "output_type": "stream",
     "text": [
      "Epoch 9: 100%|██████████| 10/10 [09:48<00:00, 58.84s/Epoch]\n"
     ]
    },
    {
     "name": "stdout",
     "output_type": "stream",
     "text": [
      "Training complete in 9m 48s\n",
      "Best val Acc: 0.998529\n",
      "training node1 for Round 19 :\n"
     ]
    },
    {
     "name": "stderr",
     "output_type": "stream",
     "text": [
      "Epoch 9: 100%|██████████| 10/10 [08:44<00:00, 52.40s/Epoch]\n"
     ]
    },
    {
     "name": "stdout",
     "output_type": "stream",
     "text": [
      "Training complete in 8m 44s\n",
      "Best val Acc: 1.000000\n",
      "Fedavg of main model in round 20\n",
      "Round 21\n",
      "Sending main model to nodes in round 21\n",
      "training node0 for Round 20 :\n"
     ]
    },
    {
     "name": "stderr",
     "output_type": "stream",
     "text": [
      "Epoch 9: 100%|██████████| 10/10 [09:57<00:00, 59.71s/Epoch]\n"
     ]
    },
    {
     "name": "stdout",
     "output_type": "stream",
     "text": [
      "Training complete in 9m 57s\n",
      "Best val Acc: 1.000000\n",
      "training node1 for Round 20 :\n"
     ]
    },
    {
     "name": "stderr",
     "output_type": "stream",
     "text": [
      "Epoch 9: 100%|██████████| 10/10 [08:40<00:00, 52.06s/Epoch]\n"
     ]
    },
    {
     "name": "stdout",
     "output_type": "stream",
     "text": [
      "Training complete in 8m 41s\n",
      "Best val Acc: 1.000000\n",
      "Fedavg of main model in round 21\n",
      "Round 22\n",
      "Sending main model to nodes in round 22\n",
      "training node0 for Round 21 :\n"
     ]
    },
    {
     "name": "stderr",
     "output_type": "stream",
     "text": [
      "Epoch 9: 100%|██████████| 10/10 [09:53<00:00, 59.37s/Epoch]\n"
     ]
    },
    {
     "name": "stdout",
     "output_type": "stream",
     "text": [
      "Training complete in 9m 54s\n",
      "Best val Acc: 1.000000\n",
      "training node1 for Round 21 :\n"
     ]
    },
    {
     "name": "stderr",
     "output_type": "stream",
     "text": [
      "Epoch 9: 100%|██████████| 10/10 [08:49<00:00, 52.96s/Epoch]\n"
     ]
    },
    {
     "name": "stdout",
     "output_type": "stream",
     "text": [
      "Training complete in 8m 50s\n",
      "Best val Acc: 1.000000\n",
      "Fedavg of main model in round 22\n",
      "Round 23\n",
      "Sending main model to nodes in round 23\n",
      "training node0 for Round 22 :\n"
     ]
    },
    {
     "name": "stderr",
     "output_type": "stream",
     "text": [
      "Epoch 9: 100%|██████████| 10/10 [09:56<00:00, 59.67s/Epoch]\n"
     ]
    },
    {
     "name": "stdout",
     "output_type": "stream",
     "text": [
      "Training complete in 9m 57s\n",
      "Best val Acc: 1.000000\n",
      "training node1 for Round 22 :\n"
     ]
    },
    {
     "name": "stderr",
     "output_type": "stream",
     "text": [
      "Epoch 9: 100%|██████████| 10/10 [08:42<00:00, 52.26s/Epoch]\n"
     ]
    },
    {
     "name": "stdout",
     "output_type": "stream",
     "text": [
      "Training complete in 8m 43s\n",
      "Best val Acc: 1.000000\n",
      "Fedavg of main model in round 23\n",
      "Round 24\n",
      "Sending main model to nodes in round 24\n",
      "training node0 for Round 23 :\n"
     ]
    },
    {
     "name": "stderr",
     "output_type": "stream",
     "text": [
      "Epoch 9: 100%|██████████| 10/10 [09:55<00:00, 59.56s/Epoch]\n"
     ]
    },
    {
     "name": "stdout",
     "output_type": "stream",
     "text": [
      "Training complete in 9m 56s\n",
      "Best val Acc: 1.000000\n",
      "training node1 for Round 23 :\n"
     ]
    },
    {
     "name": "stderr",
     "output_type": "stream",
     "text": [
      "Epoch 9: 100%|██████████| 10/10 [08:44<00:00, 52.48s/Epoch]\n"
     ]
    },
    {
     "name": "stdout",
     "output_type": "stream",
     "text": [
      "Training complete in 8m 45s\n",
      "Best val Acc: 1.000000\n",
      "Fedavg of main model in round 24\n",
      "Round 25\n",
      "Sending main model to nodes in round 25\n",
      "training node0 for Round 24 :\n"
     ]
    },
    {
     "name": "stderr",
     "output_type": "stream",
     "text": [
      "Epoch 9: 100%|██████████| 10/10 [09:58<00:00, 59.89s/Epoch]\n"
     ]
    },
    {
     "name": "stdout",
     "output_type": "stream",
     "text": [
      "Training complete in 9m 59s\n",
      "Best val Acc: 1.000000\n",
      "training node1 for Round 24 :\n"
     ]
    },
    {
     "name": "stderr",
     "output_type": "stream",
     "text": [
      "Epoch 9: 100%|██████████| 10/10 [08:43<00:00, 52.32s/Epoch]\n"
     ]
    },
    {
     "name": "stdout",
     "output_type": "stream",
     "text": [
      "Training complete in 8m 43s\n",
      "Best val Acc: 1.000000\n",
      "Fedavg of main model in round 25\n",
      "Round 26\n",
      "Sending main model to nodes in round 26\n",
      "training node0 for Round 25 :\n"
     ]
    },
    {
     "name": "stderr",
     "output_type": "stream",
     "text": [
      "Epoch 9: 100%|██████████| 10/10 [09:57<00:00, 59.79s/Epoch]\n"
     ]
    },
    {
     "name": "stdout",
     "output_type": "stream",
     "text": [
      "Training complete in 9m 58s\n",
      "Best val Acc: 1.000000\n",
      "training node1 for Round 25 :\n"
     ]
    },
    {
     "name": "stderr",
     "output_type": "stream",
     "text": [
      "Epoch 9: 100%|██████████| 10/10 [08:44<00:00, 52.46s/Epoch]\n"
     ]
    },
    {
     "name": "stdout",
     "output_type": "stream",
     "text": [
      "Training complete in 8m 45s\n",
      "Best val Acc: 1.000000\n",
      "Fedavg of main model in round 26\n",
      "Round 27\n",
      "Sending main model to nodes in round 27\n",
      "training node0 for Round 26 :\n"
     ]
    },
    {
     "name": "stderr",
     "output_type": "stream",
     "text": [
      "Epoch 9: 100%|██████████| 10/10 [09:56<00:00, 59.67s/Epoch]\n"
     ]
    },
    {
     "name": "stdout",
     "output_type": "stream",
     "text": [
      "Training complete in 9m 57s\n",
      "Best val Acc: 1.000000\n",
      "training node1 for Round 26 :\n"
     ]
    },
    {
     "name": "stderr",
     "output_type": "stream",
     "text": [
      "Epoch 9: 100%|██████████| 10/10 [08:42<00:00, 52.27s/Epoch]\n"
     ]
    },
    {
     "name": "stdout",
     "output_type": "stream",
     "text": [
      "Training complete in 8m 43s\n",
      "Best val Acc: 1.000000\n",
      "Fedavg of main model in round 27\n",
      "Round 28\n",
      "Sending main model to nodes in round 28\n",
      "training node0 for Round 27 :\n"
     ]
    },
    {
     "name": "stderr",
     "output_type": "stream",
     "text": [
      "Epoch 9: 100%|██████████| 10/10 [09:56<00:00, 59.70s/Epoch]\n"
     ]
    },
    {
     "name": "stdout",
     "output_type": "stream",
     "text": [
      "Training complete in 9m 57s\n",
      "Best val Acc: 1.000000\n",
      "training node1 for Round 27 :\n"
     ]
    },
    {
     "name": "stderr",
     "output_type": "stream",
     "text": [
      "Epoch 9: 100%|██████████| 10/10 [08:42<00:00, 52.26s/Epoch]\n"
     ]
    },
    {
     "name": "stdout",
     "output_type": "stream",
     "text": [
      "Training complete in 8m 43s\n",
      "Best val Acc: 1.000000\n",
      "Fedavg of main model in round 28\n",
      "Round 29\n",
      "Sending main model to nodes in round 29\n",
      "training node0 for Round 28 :\n"
     ]
    },
    {
     "name": "stderr",
     "output_type": "stream",
     "text": [
      "Epoch 9: 100%|██████████| 10/10 [09:58<00:00, 59.82s/Epoch]\n"
     ]
    },
    {
     "name": "stdout",
     "output_type": "stream",
     "text": [
      "Training complete in 9m 58s\n",
      "Best val Acc: 1.000000\n",
      "training node1 for Round 28 :\n"
     ]
    },
    {
     "name": "stderr",
     "output_type": "stream",
     "text": [
      "Epoch 9: 100%|██████████| 10/10 [08:44<00:00, 52.44s/Epoch]\n"
     ]
    },
    {
     "name": "stdout",
     "output_type": "stream",
     "text": [
      "Training complete in 8m 44s\n",
      "Best val Acc: 1.000000\n",
      "Fedavg of main model in round 29\n",
      "Round 30\n",
      "Sending main model to nodes in round 30\n",
      "training node0 for Round 29 :\n"
     ]
    },
    {
     "name": "stderr",
     "output_type": "stream",
     "text": [
      "Epoch 9: 100%|██████████| 10/10 [09:56<00:00, 59.65s/Epoch]\n"
     ]
    },
    {
     "name": "stdout",
     "output_type": "stream",
     "text": [
      "Training complete in 9m 56s\n",
      "Best val Acc: 1.000000\n",
      "training node1 for Round 29 :\n"
     ]
    },
    {
     "name": "stderr",
     "output_type": "stream",
     "text": [
      "Epoch 9: 100%|██████████| 10/10 [08:48<00:00, 52.86s/Epoch]\n"
     ]
    },
    {
     "name": "stdout",
     "output_type": "stream",
     "text": [
      "Training complete in 8m 49s\n",
      "Best val Acc: 1.000000\n",
      "Fedavg of main model in round 30\n"
     ]
    }
   ],
   "source": [
    "model_dict_100, model_100 = training_plan(main_model,model_dict,data_load, Round =30)"
   ]
  },
  {
   "cell_type": "code",
   "execution_count": 571,
   "id": "9d1b0b5f",
   "metadata": {},
   "outputs": [
    {
     "name": "stdout",
     "output_type": "stream",
     "text": [
      "For 1:100 local with global Balanced data :, acc : 0.6434988179669031, acc0 : 0.286734693877551 , acc1:0.9515418502202643 , AUC : 0.7216960772504617 \n"
     ]
    },
    {
     "data": {
      "text/plain": [
       "{'ratio': '1:100 local with global Balanced data',\n",
       " 'acc': 0.6434988179669031,\n",
       " 'acc0': 0.286734693877551,\n",
       " 'acc1': 0.9515418502202643,\n",
       " 'AUC': 0.7216960772504617}"
      ]
     },
     "execution_count": 571,
     "metadata": {},
     "output_type": "execute_result"
    }
   ],
   "source": [
    "test_loader = format_test_data(x_test)\n",
    "pred = predict(test_loader, model_100)\n",
    "evaluation_met(pred, y_test,ratio = '1:100 local with global Balanced data')"
   ]
  },
  {
   "cell_type": "code",
   "execution_count": 572,
   "id": "f9359001",
   "metadata": {},
   "outputs": [
    {
     "name": "stdout",
     "output_type": "stream",
     "text": [
      "For 1:100 local with global Balanced data node 0 :, acc : 0.9763593380614657, acc0 : 0.9489795918367347 , acc1:1.0 , AUC : 0.9789029535864979 \n"
     ]
    },
    {
     "data": {
      "text/plain": [
       "{'ratio': '1:100 local with global Balanced data node 0',\n",
       " 'acc': 0.9763593380614657,\n",
       " 'acc0': 0.9489795918367347,\n",
       " 'acc1': 1.0,\n",
       " 'AUC': 0.9789029535864979}"
      ]
     },
     "execution_count": 572,
     "metadata": {},
     "output_type": "execute_result"
    }
   ],
   "source": [
    "test_loader = format_test_data(x_test)\n",
    "pred = predict(test_loader, model_dict_100['node0'])\n",
    "evaluation_met(pred, y_test,ratio = '1:100 local with global Balanced data node 0')"
   ]
  },
  {
   "cell_type": "code",
   "execution_count": 573,
   "id": "36f4c474",
   "metadata": {},
   "outputs": [
    {
     "name": "stdout",
     "output_type": "stream",
     "text": [
      "For 1:100 local with global Balanced data node 0 :, acc : 0.9711583924349881, acc0 : 1.0 , acc1:0.9462555066079296 , AUC : 0.9707012487992316 \n"
     ]
    },
    {
     "data": {
      "text/plain": [
       "{'ratio': '1:100 local with global Balanced data node 0',\n",
       " 'acc': 0.9711583924349881,\n",
       " 'acc0': 1.0,\n",
       " 'acc1': 0.9462555066079296,\n",
       " 'AUC': 0.9707012487992316}"
      ]
     },
     "execution_count": 573,
     "metadata": {},
     "output_type": "execute_result"
    }
   ],
   "source": [
    "test_loader = format_test_data(x_test)\n",
    "pred = predict(test_loader, model_dict_100['node1'])\n",
    "evaluation_met(pred, y_test,ratio = '1:100 local with global Balanced data node 0')"
   ]
  },
  {
   "cell_type": "markdown",
   "id": "e58e1c6b",
   "metadata": {},
   "source": [
    "# Globaly Unbalanced Ratio 1:10 with 3 rounds"
   ]
  },
  {
   "cell_type": "code",
   "execution_count": 77,
   "id": "56c93313",
   "metadata": {},
   "outputs": [
    {
     "name": "stdout",
     "output_type": "stream",
     "text": [
      "Round 1\n",
      "Sending main model to nodes in round 1\n",
      "training node0 for Round 0 :\n"
     ]
    },
    {
     "name": "stderr",
     "output_type": "stream",
     "text": [
      "Epoch 9: 100%|██████████| 10/10 [10:10<00:00, 61.04s/Epoch]\n"
     ]
    },
    {
     "name": "stdout",
     "output_type": "stream",
     "text": [
      "Training complete in 10m 10s\n",
      "Best val Acc: 0.997275\n",
      "training node1 for Round 0 :\n"
     ]
    },
    {
     "name": "stderr",
     "output_type": "stream",
     "text": [
      "Epoch 9: 100%|██████████| 10/10 [10:23<00:00, 62.32s/Epoch]\n"
     ]
    },
    {
     "name": "stdout",
     "output_type": "stream",
     "text": [
      "Training complete in 10m 23s\n",
      "Best val Acc: 0.998638\n",
      "Fedavg of main model in round 1\n",
      "Round 2\n",
      "Sending main model to nodes in round 2\n",
      "training node0 for Round 1 :\n"
     ]
    },
    {
     "name": "stderr",
     "output_type": "stream",
     "text": [
      "Epoch 9: 100%|██████████| 10/10 [10:34<00:00, 63.44s/Epoch]\n"
     ]
    },
    {
     "name": "stdout",
     "output_type": "stream",
     "text": [
      "Training complete in 10m 34s\n",
      "Best val Acc: 0.998638\n",
      "training node1 for Round 1 :\n"
     ]
    },
    {
     "name": "stderr",
     "output_type": "stream",
     "text": [
      "Epoch 9: 100%|██████████| 10/10 [10:27<00:00, 62.71s/Epoch]\n"
     ]
    },
    {
     "name": "stdout",
     "output_type": "stream",
     "text": [
      "Training complete in 10m 27s\n",
      "Best val Acc: 1.000000\n",
      "Fedavg of main model in round 2\n",
      "Round 3\n",
      "Sending main model to nodes in round 3\n",
      "training node0 for Round 2 :\n"
     ]
    },
    {
     "name": "stderr",
     "output_type": "stream",
     "text": [
      "Epoch 9: 100%|██████████| 10/10 [10:35<00:00, 63.50s/Epoch]\n"
     ]
    },
    {
     "name": "stdout",
     "output_type": "stream",
     "text": [
      "Training complete in 10m 35s\n",
      "Best val Acc: 0.997275\n",
      "training node1 for Round 2 :\n"
     ]
    },
    {
     "name": "stderr",
     "output_type": "stream",
     "text": [
      "Epoch 9: 100%|██████████| 10/10 [10:22<00:00, 62.23s/Epoch]\n"
     ]
    },
    {
     "name": "stdout",
     "output_type": "stream",
     "text": [
      "Training complete in 10m 22s\n",
      "Best val Acc: 1.000000\n",
      "Fedavg of main model in round 3\n"
     ]
    }
   ],
   "source": [
    "model_dict_U10, model_U10 = training_plan(main_model,model_dict,data_load,)"
   ]
  },
  {
   "cell_type": "code",
   "execution_count": 78,
   "id": "dfa07492",
   "metadata": {},
   "outputs": [
    {
     "name": "stdout",
     "output_type": "stream",
     "text": [
      "For 1:10 global Unbalance :, acc : 0.5829787234042553, acc0 : 0.1 , acc1:1.0 , AUC : 0.78135845314824 \n"
     ]
    },
    {
     "data": {
      "text/plain": [
       "{'ratio': '1:10 global Unbalance',\n",
       " 'acc': 0.5829787234042553,\n",
       " 'acc0': 0.1,\n",
       " 'acc1': 1.0,\n",
       " 'AUC': 0.78135845314824}"
      ]
     },
     "execution_count": 78,
     "metadata": {},
     "output_type": "execute_result"
    }
   ],
   "source": [
    "test_loader = format_test_data(x_test)\n",
    "pred = predict(test_loader, model_U10)\n",
    "evaluation_met(pred, y_test,ratio = '1:10 global Unbalance')"
   ]
  },
  {
   "cell_type": "code",
   "execution_count": 79,
   "id": "1192c280",
   "metadata": {},
   "outputs": [
    {
     "name": "stdout",
     "output_type": "stream",
     "text": [
      "For 1:10 global Unbalanced data node 0 :, acc : 0.9914893617021276, acc0 : 0.9836734693877551 , acc1:0.9982378854625551 , AUC : 0.9920022271594527 \n"
     ]
    },
    {
     "data": {
      "text/plain": [
       "{'ratio': '1:10 global Unbalanced data node 0',\n",
       " 'acc': 0.9914893617021276,\n",
       " 'acc0': 0.9836734693877551,\n",
       " 'acc1': 0.9982378854625551,\n",
       " 'AUC': 0.9920022271594527}"
      ]
     },
     "execution_count": 79,
     "metadata": {},
     "output_type": "execute_result"
    }
   ],
   "source": [
    "test_loader = format_test_data(x_test)\n",
    "pred = predict(test_loader, model_dict_U10['node0'])\n",
    "evaluation_met(pred, y_test,ratio = '1:10 global Unbalanced data node 0')"
   ]
  },
  {
   "cell_type": "code",
   "execution_count": 82,
   "id": "a714d63b",
   "metadata": {},
   "outputs": [
    {
     "name": "stdout",
     "output_type": "stream",
     "text": [
      "For 1:10 global Unbalanced data node 1 :, acc : 0.9947990543735225, acc0 : 0.9918367346938776 , acc1:0.9973568281938326 , AUC : 0.9949527665317138 \n"
     ]
    },
    {
     "data": {
      "text/plain": [
       "{'ratio': '1:10 global Unbalanced data node 1',\n",
       " 'acc': 0.9947990543735225,\n",
       " 'acc0': 0.9918367346938776,\n",
       " 'acc1': 0.9973568281938326,\n",
       " 'AUC': 0.9949527665317138}"
      ]
     },
     "execution_count": 82,
     "metadata": {},
     "output_type": "execute_result"
    }
   ],
   "source": [
    "test_loader = format_test_data(x_test)\n",
    "pred = predict(test_loader, model_dict_U10['node1'])\n",
    "evaluation_met(pred, y_test,ratio = '1:10 global Unbalanced data node 1')"
   ]
  },
  {
   "cell_type": "markdown",
   "id": "f70b0d26",
   "metadata": {},
   "source": [
    "# Globaly Unbalanced Ratio 1:10 with 10 rounds"
   ]
  },
  {
   "cell_type": "code",
   "execution_count": null,
   "id": "0057ff3d",
   "metadata": {},
   "outputs": [
    {
     "name": "stdout",
     "output_type": "stream",
     "text": [
      "Round 1\n",
      "Sending main model to nodes in round 1\n",
      "training node0 for Round 0 :\n"
     ]
    },
    {
     "name": "stderr",
     "output_type": "stream",
     "text": [
      "Epoch 9: 100%|██████████| 10/10 [12:33<00:00, 75.35s/Epoch]\n"
     ]
    },
    {
     "name": "stdout",
     "output_type": "stream",
     "text": [
      "Training complete in 12m 34s\n",
      "Best val Acc: 0.998638\n",
      "training node1 for Round 0 :\n"
     ]
    },
    {
     "name": "stderr",
     "output_type": "stream",
     "text": [
      "Epoch 9: 100%|██████████| 10/10 [12:10<00:00, 73.04s/Epoch]\n"
     ]
    },
    {
     "name": "stdout",
     "output_type": "stream",
     "text": [
      "Training complete in 12m 10s\n",
      "Best val Acc: 1.000000\n",
      "Fedavg of main model in round 1\n",
      "Round 2\n",
      "Sending main model to nodes in round 2\n",
      "training node0 for Round 1 :\n"
     ]
    },
    {
     "name": "stderr",
     "output_type": "stream",
     "text": [
      "Epoch 9: 100%|██████████| 10/10 [11:58<00:00, 71.90s/Epoch]\n"
     ]
    },
    {
     "name": "stdout",
     "output_type": "stream",
     "text": [
      "Training complete in 11m 59s\n",
      "Best val Acc: 0.998638\n",
      "training node1 for Round 1 :\n"
     ]
    },
    {
     "name": "stderr",
     "output_type": "stream",
     "text": [
      "Epoch 5:  50%|█████     | 5/10 [05:15<05:15, 63.13s/Epoch]"
     ]
    }
   ],
   "source": [
    "model_dict_U10_10r, model_U10_10r = training_plan(main_model,model_dict,data_load, Round = 10)"
   ]
  },
  {
   "cell_type": "code",
   "execution_count": null,
   "id": "7d89a70a",
   "metadata": {},
   "outputs": [],
   "source": [
    "test_loader = format_test_data(x_test)\n",
    "pred = predict(test_loader, model_U10_10r)\n",
    "evaluation_met(pred, y_test,ratio = '1:10 global Unbalance')"
   ]
  },
  {
   "cell_type": "code",
   "execution_count": null,
   "id": "665c043a",
   "metadata": {},
   "outputs": [],
   "source": [
    "test_loader = format_test_data(x_test)\n",
    "pred = predict(test_loader, model_dict_U10_10r['node0'])\n",
    "evaluation_met(pred, y_test,ratio = '1:10 global Unbalanced data node 0')"
   ]
  },
  {
   "cell_type": "code",
   "execution_count": null,
   "id": "30a8e353",
   "metadata": {},
   "outputs": [],
   "source": [
    "test_loader = format_test_data(x_test)\n",
    "pred = predict(test_loader, model_dict_U10_10r['node1'])\n",
    "evaluation_met(pred, y_test,ratio = '1:10 global Unbalanced data node 1')"
   ]
  },
  {
   "cell_type": "code",
   "execution_count": null,
   "id": "320f7d6c",
   "metadata": {},
   "outputs": [],
   "source": []
  }
 ],
 "metadata": {
  "colab": {
   "collapsed_sections": [],
   "provenance": []
  },
  "kernelspec": {
   "display_name": "Python 3 (ipykernel)",
   "language": "python",
   "name": "python3"
  },
  "language_info": {
   "codemirror_mode": {
    "name": "ipython",
    "version": 3
   },
   "file_extension": ".py",
   "mimetype": "text/x-python",
   "name": "python",
   "nbconvert_exporter": "python",
   "pygments_lexer": "ipython3",
   "version": "3.9.12"
  },
  "widgets": {
   "application/vnd.jupyter.widget-state+json": {
    "15a120659cca420cbc69ba4b0c2d0215": {
     "model_module": "@jupyter-widgets/controls",
     "model_module_version": "1.5.0",
     "model_name": "DescriptionStyleModel",
     "state": {
      "_model_module": "@jupyter-widgets/controls",
      "_model_module_version": "1.5.0",
      "_model_name": "DescriptionStyleModel",
      "_view_count": null,
      "_view_module": "@jupyter-widgets/base",
      "_view_module_version": "1.2.0",
      "_view_name": "StyleView",
      "description_width": ""
     }
    },
    "33e8baeb5a6f423c8956bf30ddfbf9c3": {
     "model_module": "@jupyter-widgets/controls",
     "model_module_version": "1.5.0",
     "model_name": "HTMLModel",
     "state": {
      "_dom_classes": [],
      "_model_module": "@jupyter-widgets/controls",
      "_model_module_version": "1.5.0",
      "_model_name": "HTMLModel",
      "_view_count": null,
      "_view_module": "@jupyter-widgets/controls",
      "_view_module_version": "1.5.0",
      "_view_name": "HTMLView",
      "description": "",
      "description_tooltip": null,
      "layout": "IPY_MODEL_7f9a50870f734c7998ea807a22017e6c",
      "placeholder": "​",
      "style": "IPY_MODEL_e0d01d7884924dae97402cbb372d6c1d",
      "value": "100%"
     }
    },
    "3a9b5087701d43f388feb9fc81072b5a": {
     "model_module": "@jupyter-widgets/controls",
     "model_module_version": "1.5.0",
     "model_name": "HTMLModel",
     "state": {
      "_dom_classes": [],
      "_model_module": "@jupyter-widgets/controls",
      "_model_module_version": "1.5.0",
      "_model_name": "HTMLModel",
      "_view_count": null,
      "_view_module": "@jupyter-widgets/controls",
      "_view_module_version": "1.5.0",
      "_view_name": "HTMLView",
      "description": "",
      "description_tooltip": null,
      "layout": "IPY_MODEL_c879a769b96342668753aba821f15bdf",
      "placeholder": "​",
      "style": "IPY_MODEL_15a120659cca420cbc69ba4b0c2d0215",
      "value": " 44.7M/44.7M [00:00&lt;00:00, 178MB/s]"
     }
    },
    "496b8f24e47d41ccbfb2cc761f479d7e": {
     "model_module": "@jupyter-widgets/controls",
     "model_module_version": "1.5.0",
     "model_name": "FloatProgressModel",
     "state": {
      "_dom_classes": [],
      "_model_module": "@jupyter-widgets/controls",
      "_model_module_version": "1.5.0",
      "_model_name": "FloatProgressModel",
      "_view_count": null,
      "_view_module": "@jupyter-widgets/controls",
      "_view_module_version": "1.5.0",
      "_view_name": "ProgressView",
      "bar_style": "success",
      "description": "",
      "description_tooltip": null,
      "layout": "IPY_MODEL_6c577713d21d4713b2d10b9314f8c5d6",
      "max": 46830571,
      "min": 0,
      "orientation": "horizontal",
      "style": "IPY_MODEL_b14b0838c5dc44998bc831200300113f",
      "value": 46830571
     }
    },
    "6c577713d21d4713b2d10b9314f8c5d6": {
     "model_module": "@jupyter-widgets/base",
     "model_module_version": "1.2.0",
     "model_name": "LayoutModel",
     "state": {
      "_model_module": "@jupyter-widgets/base",
      "_model_module_version": "1.2.0",
      "_model_name": "LayoutModel",
      "_view_count": null,
      "_view_module": "@jupyter-widgets/base",
      "_view_module_version": "1.2.0",
      "_view_name": "LayoutView",
      "align_content": null,
      "align_items": null,
      "align_self": null,
      "border": null,
      "bottom": null,
      "display": null,
      "flex": null,
      "flex_flow": null,
      "grid_area": null,
      "grid_auto_columns": null,
      "grid_auto_flow": null,
      "grid_auto_rows": null,
      "grid_column": null,
      "grid_gap": null,
      "grid_row": null,
      "grid_template_areas": null,
      "grid_template_columns": null,
      "grid_template_rows": null,
      "height": null,
      "justify_content": null,
      "justify_items": null,
      "left": null,
      "margin": null,
      "max_height": null,
      "max_width": null,
      "min_height": null,
      "min_width": null,
      "object_fit": null,
      "object_position": null,
      "order": null,
      "overflow": null,
      "overflow_x": null,
      "overflow_y": null,
      "padding": null,
      "right": null,
      "top": null,
      "visibility": null,
      "width": null
     }
    },
    "7f9a50870f734c7998ea807a22017e6c": {
     "model_module": "@jupyter-widgets/base",
     "model_module_version": "1.2.0",
     "model_name": "LayoutModel",
     "state": {
      "_model_module": "@jupyter-widgets/base",
      "_model_module_version": "1.2.0",
      "_model_name": "LayoutModel",
      "_view_count": null,
      "_view_module": "@jupyter-widgets/base",
      "_view_module_version": "1.2.0",
      "_view_name": "LayoutView",
      "align_content": null,
      "align_items": null,
      "align_self": null,
      "border": null,
      "bottom": null,
      "display": null,
      "flex": null,
      "flex_flow": null,
      "grid_area": null,
      "grid_auto_columns": null,
      "grid_auto_flow": null,
      "grid_auto_rows": null,
      "grid_column": null,
      "grid_gap": null,
      "grid_row": null,
      "grid_template_areas": null,
      "grid_template_columns": null,
      "grid_template_rows": null,
      "height": null,
      "justify_content": null,
      "justify_items": null,
      "left": null,
      "margin": null,
      "max_height": null,
      "max_width": null,
      "min_height": null,
      "min_width": null,
      "object_fit": null,
      "object_position": null,
      "order": null,
      "overflow": null,
      "overflow_x": null,
      "overflow_y": null,
      "padding": null,
      "right": null,
      "top": null,
      "visibility": null,
      "width": null
     }
    },
    "b14b0838c5dc44998bc831200300113f": {
     "model_module": "@jupyter-widgets/controls",
     "model_module_version": "1.5.0",
     "model_name": "ProgressStyleModel",
     "state": {
      "_model_module": "@jupyter-widgets/controls",
      "_model_module_version": "1.5.0",
      "_model_name": "ProgressStyleModel",
      "_view_count": null,
      "_view_module": "@jupyter-widgets/base",
      "_view_module_version": "1.2.0",
      "_view_name": "StyleView",
      "bar_color": null,
      "description_width": ""
     }
    },
    "c879a769b96342668753aba821f15bdf": {
     "model_module": "@jupyter-widgets/base",
     "model_module_version": "1.2.0",
     "model_name": "LayoutModel",
     "state": {
      "_model_module": "@jupyter-widgets/base",
      "_model_module_version": "1.2.0",
      "_model_name": "LayoutModel",
      "_view_count": null,
      "_view_module": "@jupyter-widgets/base",
      "_view_module_version": "1.2.0",
      "_view_name": "LayoutView",
      "align_content": null,
      "align_items": null,
      "align_self": null,
      "border": null,
      "bottom": null,
      "display": null,
      "flex": null,
      "flex_flow": null,
      "grid_area": null,
      "grid_auto_columns": null,
      "grid_auto_flow": null,
      "grid_auto_rows": null,
      "grid_column": null,
      "grid_gap": null,
      "grid_row": null,
      "grid_template_areas": null,
      "grid_template_columns": null,
      "grid_template_rows": null,
      "height": null,
      "justify_content": null,
      "justify_items": null,
      "left": null,
      "margin": null,
      "max_height": null,
      "max_width": null,
      "min_height": null,
      "min_width": null,
      "object_fit": null,
      "object_position": null,
      "order": null,
      "overflow": null,
      "overflow_x": null,
      "overflow_y": null,
      "padding": null,
      "right": null,
      "top": null,
      "visibility": null,
      "width": null
     }
    },
    "c9f60f63ba0c45909e7d9e8e66508b7c": {
     "model_module": "@jupyter-widgets/controls",
     "model_module_version": "1.5.0",
     "model_name": "HBoxModel",
     "state": {
      "_dom_classes": [],
      "_model_module": "@jupyter-widgets/controls",
      "_model_module_version": "1.5.0",
      "_model_name": "HBoxModel",
      "_view_count": null,
      "_view_module": "@jupyter-widgets/controls",
      "_view_module_version": "1.5.0",
      "_view_name": "HBoxView",
      "box_style": "",
      "children": [
       "IPY_MODEL_33e8baeb5a6f423c8956bf30ddfbf9c3",
       "IPY_MODEL_496b8f24e47d41ccbfb2cc761f479d7e",
       "IPY_MODEL_3a9b5087701d43f388feb9fc81072b5a"
      ],
      "layout": "IPY_MODEL_ea5e6a3dad31495e92862f959c5b51ef"
     }
    },
    "e0d01d7884924dae97402cbb372d6c1d": {
     "model_module": "@jupyter-widgets/controls",
     "model_module_version": "1.5.0",
     "model_name": "DescriptionStyleModel",
     "state": {
      "_model_module": "@jupyter-widgets/controls",
      "_model_module_version": "1.5.0",
      "_model_name": "DescriptionStyleModel",
      "_view_count": null,
      "_view_module": "@jupyter-widgets/base",
      "_view_module_version": "1.2.0",
      "_view_name": "StyleView",
      "description_width": ""
     }
    },
    "ea5e6a3dad31495e92862f959c5b51ef": {
     "model_module": "@jupyter-widgets/base",
     "model_module_version": "1.2.0",
     "model_name": "LayoutModel",
     "state": {
      "_model_module": "@jupyter-widgets/base",
      "_model_module_version": "1.2.0",
      "_model_name": "LayoutModel",
      "_view_count": null,
      "_view_module": "@jupyter-widgets/base",
      "_view_module_version": "1.2.0",
      "_view_name": "LayoutView",
      "align_content": null,
      "align_items": null,
      "align_self": null,
      "border": null,
      "bottom": null,
      "display": null,
      "flex": null,
      "flex_flow": null,
      "grid_area": null,
      "grid_auto_columns": null,
      "grid_auto_flow": null,
      "grid_auto_rows": null,
      "grid_column": null,
      "grid_gap": null,
      "grid_row": null,
      "grid_template_areas": null,
      "grid_template_columns": null,
      "grid_template_rows": null,
      "height": null,
      "justify_content": null,
      "justify_items": null,
      "left": null,
      "margin": null,
      "max_height": null,
      "max_width": null,
      "min_height": null,
      "min_width": null,
      "object_fit": null,
      "object_position": null,
      "order": null,
      "overflow": null,
      "overflow_x": null,
      "overflow_y": null,
      "padding": null,
      "right": null,
      "top": null,
      "visibility": null,
      "width": null
     }
    }
   }
  }
 },
 "nbformat": 4,
 "nbformat_minor": 5
}
